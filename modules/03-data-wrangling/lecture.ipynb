{
 "cells": [
  {
   "cell_type": "markdown",
   "id": "3b8f50b3-d46b-4212-93c1-966fdfcd27fe",
   "metadata": {},
   "source": [
    "# NumPy"
   ]
  },
  {
   "cell_type": "markdown",
   "id": "04eef29b-a21a-4f68-8153-453946ed417d",
   "metadata": {},
   "source": [
    "Pandas is heavily reliant on data structures from the NumPy library. So it's helpful to have a little understanding of NumPy before diving into Pandas. \n",
    "\n",
    "NumPy (short for numeric Python) is the cornerstone toolbox for scientific computing with Python. Most importantly, NumPy provides the `array` datatype."
   ]
  },
  {
   "cell_type": "markdown",
   "id": "64819758-fb5e-491d-b8a9-cfdd71445443",
   "metadata": {},
   "source": [
    "## Creating an Array"
   ]
  },
  {
   "cell_type": "markdown",
   "id": "10b05438-2276-42ff-b251-95b8646fbb67",
   "metadata": {},
   "source": [
    "Import the numpy library and call it `np` for short."
   ]
  },
  {
   "cell_type": "code",
   "execution_count": 1,
   "id": "9246cf68-76f3-4405-9318-d87241e0e100",
   "metadata": {},
   "outputs": [],
   "source": [
    "import numpy as np"
   ]
  },
  {
   "cell_type": "markdown",
   "id": "38bd07fe-4c47-4b4d-8432-da430f690f44",
   "metadata": {},
   "source": [
    "Create a list called `x` and another list `y`."
   ]
  },
  {
   "cell_type": "code",
   "execution_count": 2,
   "id": "84e9b3c8-0521-4376-8cd8-c27eb75ed4ee",
   "metadata": {},
   "outputs": [],
   "source": [
    "x = [10, 20, 30, 40]\n",
    "y = [100, 200, 300, 400]"
   ]
  },
  {
   "cell_type": "markdown",
   "id": "edbb91c5-3646-4cbf-b3f9-7dfe7b45415f",
   "metadata": {},
   "source": [
    "Let's say we want to sum the contents two lists. Using the addition operator does **not** return the desired result. We want to sum items element-wise, but using the addition operator on two lists concatenates them instead (even if they contain numbers!)."
   ]
  },
  {
   "cell_type": "code",
   "execution_count": 3,
   "id": "cf930d65-e485-4c69-ac80-27f7183784c0",
   "metadata": {},
   "outputs": [
    {
     "data": {
      "text/plain": [
       "[10, 20, 30, 40, 100, 200, 300, 400]"
      ]
     },
     "execution_count": 3,
     "metadata": {},
     "output_type": "execute_result"
    }
   ],
   "source": [
    "x + y"
   ]
  },
  {
   "cell_type": "markdown",
   "id": "bff4fd57-7f67-482b-82f4-22866db4ed76",
   "metadata": {},
   "source": [
    "Instead, let's convert these two lists into numpy arrays so we can work with them more easily."
   ]
  },
  {
   "cell_type": "code",
   "execution_count": 4,
   "id": "b794d8a6-e470-4efe-9917-0b3adb38e342",
   "metadata": {},
   "outputs": [],
   "source": [
    "x = np.array(x)"
   ]
  },
  {
   "cell_type": "code",
   "execution_count": 5,
   "id": "0e527007-b385-4d8f-b213-be6e2393f6bf",
   "metadata": {},
   "outputs": [],
   "source": [
    "y = np.array(y)"
   ]
  },
  {
   "cell_type": "markdown",
   "id": "20c3cd5b-ee46-4e29-8568-c82d70b4440c",
   "metadata": {},
   "source": [
    "Confirm the type."
   ]
  },
  {
   "cell_type": "code",
   "execution_count": 6,
   "id": "295cc3e5-fa08-43de-aaba-219605a607a3",
   "metadata": {},
   "outputs": [
    {
     "data": {
      "text/plain": [
       "numpy.ndarray"
      ]
     },
     "execution_count": 6,
     "metadata": {},
     "output_type": "execute_result"
    }
   ],
   "source": [
    "type(x)"
   ]
  },
  {
   "cell_type": "markdown",
   "id": "a35db8d0-c045-4732-b6f3-16dea6412375",
   "metadata": {},
   "source": [
    "## Arithmetic Operations"
   ]
  },
  {
   "cell_type": "markdown",
   "id": "b2bb6f82-5bed-46f3-bf63-19307f926330",
   "metadata": {},
   "source": [
    "Now we can sum them and produce the desired result, adding the arrays element-wise."
   ]
  },
  {
   "cell_type": "code",
   "execution_count": 7,
   "id": "54debc2e-0a3f-4ca2-9874-dc05bce39259",
   "metadata": {},
   "outputs": [
    {
     "data": {
      "text/plain": [
       "array([110, 220, 330, 440])"
      ]
     },
     "execution_count": 7,
     "metadata": {},
     "output_type": "execute_result"
    }
   ],
   "source": [
    "x + y"
   ]
  },
  {
   "cell_type": "markdown",
   "id": "920383dc-bfec-4132-834d-7ea371da62b1",
   "metadata": {},
   "source": [
    "We can also use other mathematical operators."
   ]
  },
  {
   "cell_type": "code",
   "execution_count": 8,
   "id": "58c4a9cf-aae1-49d1-a9fb-ace79d3ec7bc",
   "metadata": {},
   "outputs": [
    {
     "data": {
      "text/plain": [
       "array([ -90, -180, -270, -360])"
      ]
     },
     "execution_count": 8,
     "metadata": {},
     "output_type": "execute_result"
    }
   ],
   "source": [
    "x - y"
   ]
  },
  {
   "cell_type": "code",
   "execution_count": 9,
   "id": "956481eb-ee57-4648-9dda-2014d8ad7dcc",
   "metadata": {},
   "outputs": [
    {
     "data": {
      "text/plain": [
       "array([ 1000,  4000,  9000, 16000])"
      ]
     },
     "execution_count": 9,
     "metadata": {},
     "output_type": "execute_result"
    }
   ],
   "source": [
    "x * y"
   ]
  },
  {
   "cell_type": "code",
   "execution_count": 10,
   "id": "96a792da-3621-4e64-a2fa-b5bacaa71d4e",
   "metadata": {},
   "outputs": [
    {
     "data": {
      "text/plain": [
       "array([0.1, 0.1, 0.1, 0.1])"
      ]
     },
     "execution_count": 10,
     "metadata": {},
     "output_type": "execute_result"
    }
   ],
   "source": [
    "x / y"
   ]
  },
  {
   "cell_type": "markdown",
   "id": "68e4c428-845a-4cbb-a7e2-9b8612297817",
   "metadata": {},
   "source": [
    "## Indexing an Array"
   ]
  },
  {
   "cell_type": "markdown",
   "id": "85dbf9ac-2524-4799-a8a5-001507e90e0c",
   "metadata": {},
   "source": [
    "Indexing works the same with arrays is it does with lists. The $i^{th}$ value can be accessed by specifying the desired index in square brackets, just as with Python lists. Counting starts at zero with both arrays and lists."
   ]
  },
  {
   "cell_type": "code",
   "execution_count": 11,
   "id": "5b17d403-05ac-4ebd-95bf-25e8b3fc42c3",
   "metadata": {},
   "outputs": [
    {
     "data": {
      "text/plain": [
       "10"
      ]
     },
     "execution_count": 11,
     "metadata": {},
     "output_type": "execute_result"
    }
   ],
   "source": [
    "x[0]"
   ]
  },
  {
   "cell_type": "code",
   "execution_count": 12,
   "id": "28ffd006-21eb-4195-9529-dc498ebaf95b",
   "metadata": {},
   "outputs": [
    {
     "data": {
      "text/plain": [
       "array([200, 300])"
      ]
     },
     "execution_count": 12,
     "metadata": {},
     "output_type": "execute_result"
    }
   ],
   "source": [
    "y[1:3]"
   ]
  },
  {
   "cell_type": "code",
   "execution_count": 13,
   "id": "efac95b6-3946-4ef8-a28b-758fc9298b31",
   "metadata": {},
   "outputs": [
    {
     "data": {
      "text/plain": [
       "400"
      ]
     },
     "execution_count": 13,
     "metadata": {},
     "output_type": "execute_result"
    }
   ],
   "source": [
    "y[-1]"
   ]
  },
  {
   "cell_type": "markdown",
   "id": "664ee9ff-49c5-4f13-9976-4bac3145fc16",
   "metadata": {},
   "source": [
    "## Summary Statistics"
   ]
  },
  {
   "cell_type": "markdown",
   "id": "3a1fecdc-d0d4-4110-8041-500176205ace",
   "metadata": {},
   "source": [
    "Often when faced with a large amount of data, a first step is to compute summary statistics for the data in question. Perhaps the most common summary statistics are the mean and standard deviation, which allow you to summarize the \"typical\" values in a dataset, but other aggregates are useful as well (the sum, product, median, minimum and maximum, quantiles, etc.)."
   ]
  },
  {
   "cell_type": "code",
   "execution_count": 14,
   "id": "052c7e03-4225-42b5-b28f-c76a17ee4a88",
   "metadata": {},
   "outputs": [
    {
     "data": {
      "text/plain": [
       "100"
      ]
     },
     "execution_count": 14,
     "metadata": {},
     "output_type": "execute_result"
    }
   ],
   "source": [
    "# Calculate the sum of all elements in the array\n",
    "np.sum(x)"
   ]
  },
  {
   "cell_type": "code",
   "execution_count": 15,
   "id": "26c775d5-5204-460d-8ac9-1feea5f2a024",
   "metadata": {},
   "outputs": [
    {
     "data": {
      "text/plain": [
       "100"
      ]
     },
     "execution_count": 15,
     "metadata": {},
     "output_type": "execute_result"
    }
   ],
   "source": [
    "# Alternately, you can use\n",
    "x.sum()"
   ]
  },
  {
   "cell_type": "code",
   "execution_count": 16,
   "id": "d6339814-c7e7-4053-8fac-a03af4936f6f",
   "metadata": {},
   "outputs": [
    {
     "data": {
      "text/plain": [
       "10"
      ]
     },
     "execution_count": 16,
     "metadata": {},
     "output_type": "execute_result"
    }
   ],
   "source": [
    "np.min(x)"
   ]
  },
  {
   "cell_type": "code",
   "execution_count": 17,
   "id": "94bd4e17-8ba0-4a34-a535-26531e083733",
   "metadata": {},
   "outputs": [
    {
     "data": {
      "text/plain": [
       "40"
      ]
     },
     "execution_count": 17,
     "metadata": {},
     "output_type": "execute_result"
    }
   ],
   "source": [
    "np.max(x)"
   ]
  },
  {
   "cell_type": "code",
   "execution_count": 18,
   "id": "9ff43971-ea00-4144-8a45-a72c7be816ee",
   "metadata": {},
   "outputs": [
    {
     "data": {
      "text/plain": [
       "25.0"
      ]
     },
     "execution_count": 18,
     "metadata": {},
     "output_type": "execute_result"
    }
   ],
   "source": [
    "# Calculate the average, or mean\n",
    "np.mean(x)"
   ]
  },
  {
   "cell_type": "code",
   "execution_count": 19,
   "id": "dabdb3a4-51f0-43c0-9cfe-eacf0616bdc3",
   "metadata": {},
   "outputs": [
    {
     "data": {
      "text/plain": [
       "25.0"
      ]
     },
     "execution_count": 19,
     "metadata": {},
     "output_type": "execute_result"
    }
   ],
   "source": [
    "# Calculate the median\n",
    "np.median(x)"
   ]
  },
  {
   "cell_type": "code",
   "execution_count": 20,
   "id": "3f92ec92-69a1-4348-a0ac-68254f588fed",
   "metadata": {},
   "outputs": [
    {
     "data": {
      "text/plain": [
       "11.180339887498949"
      ]
     },
     "execution_count": 20,
     "metadata": {},
     "output_type": "execute_result"
    }
   ],
   "source": [
    "# Calculate the standard deviation\n",
    "np.std(x)"
   ]
  },
  {
   "cell_type": "markdown",
   "id": "21ff68ae-1015-444b-9ec3-a1df629ae4ab",
   "metadata": {},
   "source": [
    "## Reshaping an Array"
   ]
  },
  {
   "cell_type": "code",
   "execution_count": 21,
   "id": "7477b5fa-93e1-47f3-9b36-8147ef39fed3",
   "metadata": {},
   "outputs": [
    {
     "data": {
      "text/plain": [
       "array([[10, 20],\n",
       "       [30, 40]])"
      ]
     },
     "execution_count": 21,
     "metadata": {},
     "output_type": "execute_result"
    }
   ],
   "source": [
    "x.reshape(2,2)"
   ]
  },
  {
   "cell_type": "code",
   "execution_count": 22,
   "id": "80181de1-8e29-467f-b67c-3629446bd9ef",
   "metadata": {},
   "outputs": [
    {
     "data": {
      "text/plain": [
       "array([100, 200, 300, 400])"
      ]
     },
     "execution_count": 22,
     "metadata": {},
     "output_type": "execute_result"
    }
   ],
   "source": [
    "y.reshape(4,)"
   ]
  },
  {
   "cell_type": "code",
   "execution_count": 23,
   "id": "7133f4a4-f849-4c49-bfcc-5ce6fafffd21",
   "metadata": {},
   "outputs": [
    {
     "data": {
      "text/plain": [
       "array([[100],\n",
       "       [200],\n",
       "       [300],\n",
       "       [400]])"
      ]
     },
     "execution_count": 23,
     "metadata": {},
     "output_type": "execute_result"
    }
   ],
   "source": [
    "y.reshape(4,1)"
   ]
  },
  {
   "cell_type": "markdown",
   "id": "288ce6f4",
   "metadata": {},
   "source": [
    "# Pandas"
   ]
  },
  {
   "cell_type": "markdown",
   "id": "ad6120d0",
   "metadata": {},
   "source": [
    "Pandas is a Python library for data analysis. It provides two useful data structures: `Series` and `DataFrame`.\n",
    "\n",
    "Import the pandas library. It is customary to name it `pd` for short."
   ]
  },
  {
   "cell_type": "code",
   "execution_count": 24,
   "id": "ed561abd",
   "metadata": {},
   "outputs": [],
   "source": [
    "import pandas as pd"
   ]
  },
  {
   "cell_type": "markdown",
   "id": "39d56e57",
   "metadata": {},
   "source": [
    "## Series"
   ]
  },
  {
   "cell_type": "markdown",
   "id": "2b4a543f-6dcc-459b-b86a-4c4b5fc8cb3a",
   "metadata": {},
   "source": [
    "A Series is a one-dimensional array of indexed data. It is similar to and based on arrays. A Series can be created from a list or an array of values. It contains both a sequence of values and indices. Unlike arrays, the index is flexible, meaning it can take values other than just 0, 1, 2, etc."
   ]
  },
  {
   "cell_type": "markdown",
   "id": "d34ba34e",
   "metadata": {},
   "source": [
    "Create a Series."
   ]
  },
  {
   "cell_type": "code",
   "execution_count": 25,
   "id": "46b9269e-9900-41dd-a8d4-fcc0ff7035b3",
   "metadata": {},
   "outputs": [],
   "source": [
    "x = pd.Series([0.25, 0.5, 0.75, 1.0])"
   ]
  },
  {
   "cell_type": "code",
   "execution_count": 26,
   "id": "e014ec42-45d4-4866-bed4-58dacdbf7868",
   "metadata": {},
   "outputs": [
    {
     "data": {
      "text/plain": [
       "0    0.25\n",
       "1    0.50\n",
       "2    0.75\n",
       "3    1.00\n",
       "dtype: float64"
      ]
     },
     "execution_count": 26,
     "metadata": {},
     "output_type": "execute_result"
    }
   ],
   "source": [
    "x"
   ]
  },
  {
   "cell_type": "markdown",
   "id": "f969e6de-3510-4d10-ad54-1c7da334546c",
   "metadata": {},
   "source": [
    "### Indexing"
   ]
  },
  {
   "cell_type": "markdown",
   "id": "bc7dc4d9-a11b-48d3-9c93-f5727782e227",
   "metadata": {},
   "source": [
    "Notice how the index will automatically take on values of 0, 1, 2, etc."
   ]
  },
  {
   "cell_type": "markdown",
   "id": "c40cc8c0-57a3-4a1e-a581-ec0ba47d7086",
   "metadata": {},
   "source": [
    "The index is actually its own special data type. We can call it directly with: `.index`"
   ]
  },
  {
   "cell_type": "code",
   "execution_count": 27,
   "id": "f6ccce92-5563-4f9c-a177-75b13338eed3",
   "metadata": {},
   "outputs": [
    {
     "data": {
      "text/plain": [
       "RangeIndex(start=0, stop=4, step=1)"
      ]
     },
     "execution_count": 27,
     "metadata": {},
     "output_type": "execute_result"
    }
   ],
   "source": [
    "x.index"
   ]
  },
  {
   "cell_type": "code",
   "execution_count": 28,
   "id": "c47a6c63-1428-4278-aadc-e52d1da63b2f",
   "metadata": {},
   "outputs": [
    {
     "data": {
      "text/plain": [
       "[0, 1, 2, 3]"
      ]
     },
     "execution_count": 28,
     "metadata": {},
     "output_type": "execute_result"
    }
   ],
   "source": [
    "list(x.index)"
   ]
  },
  {
   "cell_type": "markdown",
   "id": "09d8b443-b5fe-478d-85ca-c127e6c6d748",
   "metadata": {},
   "source": [
    "We can select items by the index using square bracket notation."
   ]
  },
  {
   "cell_type": "code",
   "execution_count": 29,
   "id": "5099d6de-c3d9-4178-b7a8-d8ad5d3e92ac",
   "metadata": {},
   "outputs": [
    {
     "data": {
      "text/plain": [
       "0.25"
      ]
     },
     "execution_count": 29,
     "metadata": {},
     "output_type": "execute_result"
    }
   ],
   "source": [
    "x[0]"
   ]
  },
  {
   "cell_type": "code",
   "execution_count": 30,
   "id": "61efcd1e-d622-4845-b37d-70f4111a1836",
   "metadata": {},
   "outputs": [
    {
     "data": {
      "text/plain": [
       "0.5"
      ]
     },
     "execution_count": 30,
     "metadata": {},
     "output_type": "execute_result"
    }
   ],
   "source": [
    "x[1]"
   ]
  },
  {
   "cell_type": "markdown",
   "id": "40fff711-56f7-4e66-821a-2eed00980202",
   "metadata": {},
   "source": [
    "However, we are not limited to indices with just sequential numbers. With a `Series`, the index can be anything."
   ]
  },
  {
   "cell_type": "markdown",
   "id": "d0bc821e-b585-45df-9c19-c2b6dcd6a995",
   "metadata": {},
   "source": [
    "Create a Series with a non-numeric index."
   ]
  },
  {
   "cell_type": "code",
   "execution_count": 31,
   "id": "2319f974-506d-4e01-b84d-51d8dfdb84fe",
   "metadata": {},
   "outputs": [],
   "source": [
    "x = pd.Series([0.25, 0.5, 0.75, 1.0], index=['a', 'b', 'c', 'd'])"
   ]
  },
  {
   "cell_type": "code",
   "execution_count": 32,
   "id": "470f534e-8032-4987-a6b0-b1b14db8336c",
   "metadata": {},
   "outputs": [
    {
     "data": {
      "text/plain": [
       "a    0.25\n",
       "b    0.50\n",
       "c    0.75\n",
       "d    1.00\n",
       "dtype: float64"
      ]
     },
     "execution_count": 32,
     "metadata": {},
     "output_type": "execute_result"
    }
   ],
   "source": [
    "x"
   ]
  },
  {
   "cell_type": "code",
   "execution_count": 33,
   "id": "dc911629-1f52-4840-a66a-b23810843ae1",
   "metadata": {},
   "outputs": [
    {
     "data": {
      "text/plain": [
       "0.25"
      ]
     },
     "execution_count": 33,
     "metadata": {},
     "output_type": "execute_result"
    }
   ],
   "source": [
    "x['a']"
   ]
  },
  {
   "cell_type": "code",
   "execution_count": 34,
   "id": "47135561-fc12-497b-85e7-151073c96db2",
   "metadata": {},
   "outputs": [
    {
     "data": {
      "text/plain": [
       "0.5"
      ]
     },
     "execution_count": 34,
     "metadata": {},
     "output_type": "execute_result"
    }
   ],
   "source": [
    "x['b']"
   ]
  },
  {
   "cell_type": "code",
   "execution_count": 35,
   "id": "79e88a29-4d89-4efa-b95f-0857040b1125",
   "metadata": {},
   "outputs": [
    {
     "data": {
      "text/plain": [
       "a    0.25\n",
       "d    1.00\n",
       "dtype: float64"
      ]
     },
     "execution_count": 35,
     "metadata": {},
     "output_type": "execute_result"
    }
   ],
   "source": [
    "# fancy indexing\n",
    "x[['a', 'd']]"
   ]
  },
  {
   "cell_type": "markdown",
   "id": "ae4a7132-72fa-4fe7-a24d-1cc244467b75",
   "metadata": {},
   "source": [
    "In this sense, a `Series` can be used like a dictionary, in the sense that there are key-value pairs.\n",
    "\n",
    "We can use dictionary-like notation to check if an element exists within the index of a `Series`."
   ]
  },
  {
   "cell_type": "code",
   "execution_count": 36,
   "id": "2f128e52-6aac-4708-b9a4-48d2caa6b9cc",
   "metadata": {},
   "outputs": [
    {
     "data": {
      "text/plain": [
       "True"
      ]
     },
     "execution_count": 36,
     "metadata": {},
     "output_type": "execute_result"
    }
   ],
   "source": [
    "'a' in x"
   ]
  },
  {
   "cell_type": "code",
   "execution_count": 37,
   "id": "02520201-6cb6-45f9-a331-7e2a2ee9298f",
   "metadata": {},
   "outputs": [
    {
     "data": {
      "text/plain": [
       "Index(['a', 'b', 'c', 'd'], dtype='object')"
      ]
     },
     "execution_count": 37,
     "metadata": {},
     "output_type": "execute_result"
    }
   ],
   "source": [
    "x.keys()"
   ]
  },
  {
   "cell_type": "code",
   "execution_count": 38,
   "id": "a1db331f-1849-4c7a-9b71-dee6d401eccb",
   "metadata": {},
   "outputs": [
    {
     "data": {
      "text/plain": [
       "[('a', 0.25), ('b', 0.5), ('c', 0.75), ('d', 1.0)]"
      ]
     },
     "execution_count": 38,
     "metadata": {},
     "output_type": "execute_result"
    }
   ],
   "source": [
    "list(x.items())"
   ]
  },
  {
   "cell_type": "markdown",
   "id": "9a1a35b4-2651-4df1-8387-169cdf14f322",
   "metadata": {},
   "source": [
    "### Adding items to a Series"
   ]
  },
  {
   "cell_type": "markdown",
   "id": "7fc553ed-2974-4f3c-a9f9-26349188bbf6",
   "metadata": {},
   "source": [
    "Series objects can even be modified with a dictionary-like syntax. \n",
    "\n",
    "Just as you can extend a dictionary by assigning to a new key, you can extend a Series by assigning to a new index value:"
   ]
  },
  {
   "cell_type": "code",
   "execution_count": 39,
   "id": "54aa4ba0-c14f-402c-8afd-e590d1f1636f",
   "metadata": {},
   "outputs": [],
   "source": [
    "x['e'] = 1.25"
   ]
  },
  {
   "cell_type": "code",
   "execution_count": 40,
   "id": "adaca3c3-7583-411b-aace-00f3335808ee",
   "metadata": {},
   "outputs": [
    {
     "data": {
      "text/plain": [
       "a    0.25\n",
       "b    0.50\n",
       "c    0.75\n",
       "d    1.00\n",
       "e    1.25\n",
       "dtype: float64"
      ]
     },
     "execution_count": 40,
     "metadata": {},
     "output_type": "execute_result"
    }
   ],
   "source": [
    "x"
   ]
  },
  {
   "cell_type": "markdown",
   "id": "1fd99ea5-08a8-4700-add9-212add369a2d",
   "metadata": {},
   "source": [
    "### Slicing"
   ]
  },
  {
   "cell_type": "code",
   "execution_count": 41,
   "id": "2c3a3fec-111a-45eb-a45f-bcf271315442",
   "metadata": {},
   "outputs": [
    {
     "data": {
      "text/plain": [
       "a    0.25\n",
       "b    0.50\n",
       "c    0.75\n",
       "dtype: float64"
      ]
     },
     "execution_count": 41,
     "metadata": {},
     "output_type": "execute_result"
    }
   ],
   "source": [
    "# slicing by explicit index\n",
    "x['a':'c']"
   ]
  },
  {
   "cell_type": "code",
   "execution_count": 42,
   "id": "450f99db-22ad-4862-aada-cf630119e7c4",
   "metadata": {},
   "outputs": [
    {
     "data": {
      "text/plain": [
       "a    0.25\n",
       "b    0.50\n",
       "dtype: float64"
      ]
     },
     "execution_count": 42,
     "metadata": {},
     "output_type": "execute_result"
    }
   ],
   "source": [
    "# slicing by implicit integer index\n",
    "x[0:2]"
   ]
  },
  {
   "cell_type": "markdown",
   "id": "b045df6b-f78c-401c-8746-c33267ae6b40",
   "metadata": {},
   "source": [
    "### Booleans"
   ]
  },
  {
   "cell_type": "code",
   "execution_count": 43,
   "id": "880c0d89-41e8-4482-a9c3-773ee0b3c435",
   "metadata": {},
   "outputs": [
    {
     "data": {
      "text/plain": [
       "a    False\n",
       "b     True\n",
       "c     True\n",
       "d     True\n",
       "e     True\n",
       "dtype: bool"
      ]
     },
     "execution_count": 43,
     "metadata": {},
     "output_type": "execute_result"
    }
   ],
   "source": [
    "x > 0.3"
   ]
  },
  {
   "cell_type": "code",
   "execution_count": 44,
   "id": "7095586a-5086-4561-a07d-5969db8100de",
   "metadata": {},
   "outputs": [
    {
     "data": {
      "text/plain": [
       "a     True\n",
       "b     True\n",
       "c     True\n",
       "d    False\n",
       "e    False\n",
       "dtype: bool"
      ]
     },
     "execution_count": 44,
     "metadata": {},
     "output_type": "execute_result"
    }
   ],
   "source": [
    "x < 0.8"
   ]
  },
  {
   "cell_type": "markdown",
   "id": "b37d11f8-de09-4d4e-b598-a84a36929ddf",
   "metadata": {},
   "source": [
    "### Masking"
   ]
  },
  {
   "cell_type": "code",
   "execution_count": 45,
   "id": "4e849cdf-0d84-4ad6-b5ee-798ab2a796bc",
   "metadata": {},
   "outputs": [
    {
     "data": {
      "text/plain": [
       "b    0.50\n",
       "c    0.75\n",
       "dtype: float64"
      ]
     },
     "execution_count": 45,
     "metadata": {},
     "output_type": "execute_result"
    }
   ],
   "source": [
    "# masking\n",
    "x[(x > 0.3) & (x < 0.8)]"
   ]
  },
  {
   "cell_type": "markdown",
   "id": "894146bd-4131-44b4-86a6-048ee80c42ed",
   "metadata": {},
   "source": [
    "### `.loc` vs `.iloc`"
   ]
  },
  {
   "cell_type": "markdown",
   "id": "7c631a47-f070-403a-843c-af169632ed1d",
   "metadata": {},
   "source": [
    "The `.loc` attribute allows indexing and slicing that always references the explicit index."
   ]
  },
  {
   "cell_type": "code",
   "execution_count": 46,
   "id": "ff99127f-b0a4-476c-a030-545227758924",
   "metadata": {},
   "outputs": [
    {
     "data": {
      "text/plain": [
       "0.25"
      ]
     },
     "execution_count": 46,
     "metadata": {},
     "output_type": "execute_result"
    }
   ],
   "source": [
    "x.loc['a']"
   ]
  },
  {
   "cell_type": "markdown",
   "id": "a8359e7f-f2b5-4f12-9366-039e2437e246",
   "metadata": {},
   "source": [
    "The `.iloc` attribute allows indexing and slicing that always references the implicit Python-style index:"
   ]
  },
  {
   "cell_type": "code",
   "execution_count": 47,
   "id": "58966990-cd17-4de8-a7e0-60becc1226a3",
   "metadata": {},
   "outputs": [
    {
     "data": {
      "text/plain": [
       "0.25"
      ]
     },
     "execution_count": 47,
     "metadata": {},
     "output_type": "execute_result"
    }
   ],
   "source": [
    "x.iloc[0]"
   ]
  },
  {
   "cell_type": "code",
   "execution_count": 48,
   "id": "96010b45-084b-4888-b2d9-8e24ac975221",
   "metadata": {},
   "outputs": [
    {
     "data": {
      "text/plain": [
       "b    0.50\n",
       "c    0.75\n",
       "dtype: float64"
      ]
     },
     "execution_count": 48,
     "metadata": {},
     "output_type": "execute_result"
    }
   ],
   "source": [
    "x.iloc[1:3]"
   ]
  },
  {
   "cell_type": "markdown",
   "id": "1f7ed643",
   "metadata": {},
   "source": [
    "## DataFrame"
   ]
  },
  {
   "cell_type": "markdown",
   "id": "99b59127-cef7-4d78-9388-d06c48515803",
   "metadata": {},
   "source": [
    "A `DataFrame` acts like a two-dimensional or structured array, and in other ways like a dictionary of `Series` structures sharing the same index."
   ]
  },
  {
   "cell_type": "markdown",
   "id": "19349d05-c9cd-4802-b126-e51afdb79c72",
   "metadata": {},
   "source": [
    "### Creating a DataFrame"
   ]
  },
  {
   "cell_type": "markdown",
   "id": "e7384c7d-251d-462f-ab45-50a8bd414715",
   "metadata": {},
   "source": [
    "Let's construct a `DataFrame` from two `Series`."
   ]
  },
  {
   "cell_type": "code",
   "execution_count": 49,
   "id": "73a20c53-3831-4789-aa08-cbaea613c845",
   "metadata": {},
   "outputs": [],
   "source": [
    "# Contains the population of each state\n",
    "\n",
    "population_dict = {'California': 38332521,\n",
    "                   'Texas': 26448193,\n",
    "                   'New York': 19651127,\n",
    "                   'Florida': 19552860,\n",
    "                   'Illinois': 12882135}\n",
    "\n",
    "population = pd.Series(population_dict)"
   ]
  },
  {
   "cell_type": "code",
   "execution_count": 50,
   "id": "26793364-8f7b-47f9-ba87-1bf0039079a9",
   "metadata": {},
   "outputs": [
    {
     "data": {
      "text/plain": [
       "California    38332521\n",
       "Texas         26448193\n",
       "New York      19651127\n",
       "Florida       19552860\n",
       "Illinois      12882135\n",
       "dtype: int64"
      ]
     },
     "execution_count": 50,
     "metadata": {},
     "output_type": "execute_result"
    }
   ],
   "source": [
    "population"
   ]
  },
  {
   "cell_type": "code",
   "execution_count": 51,
   "id": "c07517dc-cf01-4d9f-90d6-b54962cd495a",
   "metadata": {},
   "outputs": [],
   "source": [
    "# Contains the area of each state in Square Kilometers\n",
    "\n",
    "area_dict = {'California': 423967, 'Texas': 695662, 'New York': 141297,\n",
    "             'Florida': 170312, 'Illinois': 149995}\n",
    "\n",
    "area = pd.Series(area_dict)"
   ]
  },
  {
   "cell_type": "code",
   "execution_count": 52,
   "id": "ae4d3d60-8cb9-4d13-97aa-49a57891b2c0",
   "metadata": {},
   "outputs": [
    {
     "data": {
      "text/plain": [
       "California    423967\n",
       "Texas         695662\n",
       "New York      141297\n",
       "Florida       170312\n",
       "Illinois      149995\n",
       "dtype: int64"
      ]
     },
     "execution_count": 52,
     "metadata": {},
     "output_type": "execute_result"
    }
   ],
   "source": [
    "area"
   ]
  },
  {
   "cell_type": "code",
   "execution_count": 53,
   "id": "1833f97d-5217-43a7-a098-c7db889c5c16",
   "metadata": {},
   "outputs": [],
   "source": [
    "# Create a DataFrame\n",
    "\n",
    "df = pd.DataFrame({'population': population, 'area': area})"
   ]
  },
  {
   "cell_type": "code",
   "execution_count": 54,
   "id": "5ab58357-635c-4175-9ede-ea175cf3575a",
   "metadata": {},
   "outputs": [
    {
     "data": {
      "text/html": [
       "<div>\n",
       "<style scoped>\n",
       "    .dataframe tbody tr th:only-of-type {\n",
       "        vertical-align: middle;\n",
       "    }\n",
       "\n",
       "    .dataframe tbody tr th {\n",
       "        vertical-align: top;\n",
       "    }\n",
       "\n",
       "    .dataframe thead th {\n",
       "        text-align: right;\n",
       "    }\n",
       "</style>\n",
       "<table border=\"1\" class=\"dataframe\">\n",
       "  <thead>\n",
       "    <tr style=\"text-align: right;\">\n",
       "      <th></th>\n",
       "      <th>population</th>\n",
       "      <th>area</th>\n",
       "    </tr>\n",
       "  </thead>\n",
       "  <tbody>\n",
       "    <tr>\n",
       "      <th>California</th>\n",
       "      <td>38332521</td>\n",
       "      <td>423967</td>\n",
       "    </tr>\n",
       "    <tr>\n",
       "      <th>Texas</th>\n",
       "      <td>26448193</td>\n",
       "      <td>695662</td>\n",
       "    </tr>\n",
       "    <tr>\n",
       "      <th>New York</th>\n",
       "      <td>19651127</td>\n",
       "      <td>141297</td>\n",
       "    </tr>\n",
       "    <tr>\n",
       "      <th>Florida</th>\n",
       "      <td>19552860</td>\n",
       "      <td>170312</td>\n",
       "    </tr>\n",
       "    <tr>\n",
       "      <th>Illinois</th>\n",
       "      <td>12882135</td>\n",
       "      <td>149995</td>\n",
       "    </tr>\n",
       "  </tbody>\n",
       "</table>\n",
       "</div>"
      ],
      "text/plain": [
       "            population    area\n",
       "California    38332521  423967\n",
       "Texas         26448193  695662\n",
       "New York      19651127  141297\n",
       "Florida       19552860  170312\n",
       "Illinois      12882135  149995"
      ]
     },
     "execution_count": 54,
     "metadata": {},
     "output_type": "execute_result"
    }
   ],
   "source": [
    "df"
   ]
  },
  {
   "cell_type": "markdown",
   "id": "10cf5e89-0773-48db-8dd1-17d2c2c3c3f4",
   "metadata": {},
   "source": [
    "### Indexing"
   ]
  },
  {
   "cell_type": "markdown",
   "id": "112f65f1-cb08-4b6a-898f-dad727aca6f8",
   "metadata": {},
   "source": [
    "Like the `Series` object, the `DataFrame` has an index attribute that gives access to the index labels:"
   ]
  },
  {
   "cell_type": "code",
   "execution_count": 55,
   "id": "7019c185-8636-4ce8-9ad5-5b6047860593",
   "metadata": {},
   "outputs": [
    {
     "data": {
      "text/plain": [
       "Index(['California', 'Texas', 'New York', 'Florida', 'Illinois'], dtype='object')"
      ]
     },
     "execution_count": 55,
     "metadata": {},
     "output_type": "execute_result"
    }
   ],
   "source": [
    "df.index"
   ]
  },
  {
   "cell_type": "markdown",
   "id": "485ea262-4ffe-4594-b631-0052e58662bc",
   "metadata": {},
   "source": [
    "Explicit-style indexing with `.loc`"
   ]
  },
  {
   "cell_type": "code",
   "execution_count": 56,
   "id": "fe08bde1-a88b-4b27-ae74-2da5c71838d1",
   "metadata": {},
   "outputs": [
    {
     "data": {
      "text/plain": [
       "population    38332521\n",
       "area            423967\n",
       "Name: California, dtype: int64"
      ]
     },
     "execution_count": 56,
     "metadata": {},
     "output_type": "execute_result"
    }
   ],
   "source": [
    "df.loc['California']"
   ]
  },
  {
   "cell_type": "markdown",
   "id": "c81adb21-73ab-4d3b-b577-cd3fe35150fc",
   "metadata": {},
   "source": [
    "Implicit-style indexing with `.iloc`"
   ]
  },
  {
   "cell_type": "code",
   "execution_count": 57,
   "id": "e2530f37-4766-481d-b4bc-c26cbc847b83",
   "metadata": {},
   "outputs": [
    {
     "data": {
      "text/plain": [
       "population    38332521\n",
       "area            423967\n",
       "Name: California, dtype: int64"
      ]
     },
     "execution_count": 57,
     "metadata": {},
     "output_type": "execute_result"
    }
   ],
   "source": [
    "df.iloc[0]"
   ]
  },
  {
   "cell_type": "markdown",
   "id": "17a31d4a-9673-487d-857c-a5dca9c4a65d",
   "metadata": {},
   "source": [
    "### Column Names"
   ]
  },
  {
   "cell_type": "markdown",
   "id": "b1baf37e-56cf-41f3-bfbc-7b0c602b417c",
   "metadata": {},
   "source": [
    "Additionally, the `DataFrame` has a columns attribute, which is an `Index` object holding the column labels:"
   ]
  },
  {
   "cell_type": "code",
   "execution_count": 58,
   "id": "40065475-d37d-452a-b787-8619541fdd45",
   "metadata": {},
   "outputs": [
    {
     "data": {
      "text/plain": [
       "Index(['population', 'area'], dtype='object')"
      ]
     },
     "execution_count": 58,
     "metadata": {},
     "output_type": "execute_result"
    }
   ],
   "source": [
    "df.columns"
   ]
  },
  {
   "cell_type": "markdown",
   "id": "c68f2b94-460a-41d9-a505-e2ffeaa5e22f",
   "metadata": {},
   "source": [
    "### Column Selection"
   ]
  },
  {
   "cell_type": "markdown",
   "id": "da7179b0-9204-4225-ac6b-f50586b72edc",
   "metadata": {},
   "source": [
    "We can select a particular column using the familiar square bracket notation."
   ]
  },
  {
   "cell_type": "code",
   "execution_count": 59,
   "id": "d17d62f0-9993-4a09-80d2-2fec1836fad9",
   "metadata": {},
   "outputs": [
    {
     "data": {
      "text/plain": [
       "California    38332521\n",
       "Texas         26448193\n",
       "New York      19651127\n",
       "Florida       19552860\n",
       "Illinois      12882135\n",
       "Name: population, dtype: int64"
      ]
     },
     "execution_count": 59,
     "metadata": {},
     "output_type": "execute_result"
    }
   ],
   "source": [
    "df['population']"
   ]
  },
  {
   "cell_type": "code",
   "execution_count": 60,
   "id": "df92ba8f-7ae6-46f3-a43b-cb7690428dec",
   "metadata": {},
   "outputs": [
    {
     "data": {
      "text/plain": [
       "California    423967\n",
       "Texas         695662\n",
       "New York      141297\n",
       "Florida       170312\n",
       "Illinois      149995\n",
       "Name: area, dtype: int64"
      ]
     },
     "execution_count": 60,
     "metadata": {},
     "output_type": "execute_result"
    }
   ],
   "source": [
    "df['area']"
   ]
  },
  {
   "cell_type": "markdown",
   "id": "c1828dcc-4eac-4289-9edb-8e5c10e23230",
   "metadata": {},
   "source": [
    "### Column Creation"
   ]
  },
  {
   "cell_type": "markdown",
   "id": "be6ce765-316a-4ae1-8a91-d450e3a02660",
   "metadata": {},
   "source": [
    "We can create a new column with square bracket notation and simple assignment, like such:"
   ]
  },
  {
   "cell_type": "code",
   "execution_count": 61,
   "id": "8bbfa121-aa06-4de8-a157-8ee636412ae5",
   "metadata": {},
   "outputs": [],
   "source": [
    "df['test'] = 0"
   ]
  },
  {
   "cell_type": "code",
   "execution_count": 62,
   "id": "d2779636-325a-45f0-b0b3-b9aaa10395b3",
   "metadata": {},
   "outputs": [
    {
     "data": {
      "text/html": [
       "<div>\n",
       "<style scoped>\n",
       "    .dataframe tbody tr th:only-of-type {\n",
       "        vertical-align: middle;\n",
       "    }\n",
       "\n",
       "    .dataframe tbody tr th {\n",
       "        vertical-align: top;\n",
       "    }\n",
       "\n",
       "    .dataframe thead th {\n",
       "        text-align: right;\n",
       "    }\n",
       "</style>\n",
       "<table border=\"1\" class=\"dataframe\">\n",
       "  <thead>\n",
       "    <tr style=\"text-align: right;\">\n",
       "      <th></th>\n",
       "      <th>population</th>\n",
       "      <th>area</th>\n",
       "      <th>test</th>\n",
       "    </tr>\n",
       "  </thead>\n",
       "  <tbody>\n",
       "    <tr>\n",
       "      <th>California</th>\n",
       "      <td>38332521</td>\n",
       "      <td>423967</td>\n",
       "      <td>0</td>\n",
       "    </tr>\n",
       "    <tr>\n",
       "      <th>Texas</th>\n",
       "      <td>26448193</td>\n",
       "      <td>695662</td>\n",
       "      <td>0</td>\n",
       "    </tr>\n",
       "    <tr>\n",
       "      <th>New York</th>\n",
       "      <td>19651127</td>\n",
       "      <td>141297</td>\n",
       "      <td>0</td>\n",
       "    </tr>\n",
       "    <tr>\n",
       "      <th>Florida</th>\n",
       "      <td>19552860</td>\n",
       "      <td>170312</td>\n",
       "      <td>0</td>\n",
       "    </tr>\n",
       "    <tr>\n",
       "      <th>Illinois</th>\n",
       "      <td>12882135</td>\n",
       "      <td>149995</td>\n",
       "      <td>0</td>\n",
       "    </tr>\n",
       "  </tbody>\n",
       "</table>\n",
       "</div>"
      ],
      "text/plain": [
       "            population    area  test\n",
       "California    38332521  423967     0\n",
       "Texas         26448193  695662     0\n",
       "New York      19651127  141297     0\n",
       "Florida       19552860  170312     0\n",
       "Illinois      12882135  149995     0"
      ]
     },
     "execution_count": 62,
     "metadata": {},
     "output_type": "execute_result"
    }
   ],
   "source": [
    "df"
   ]
  },
  {
   "cell_type": "markdown",
   "id": "a113b210-a62d-4bca-b8b0-1207a6dbd2b8",
   "metadata": {},
   "source": [
    "### Deleting a Column\n",
    "\n",
    "Let's delete the test column that we just created."
   ]
  },
  {
   "cell_type": "code",
   "execution_count": 63,
   "id": "57c047ea-3dd0-410a-b3eb-abcc68edee9c",
   "metadata": {},
   "outputs": [],
   "source": [
    "del df['test']"
   ]
  },
  {
   "cell_type": "code",
   "execution_count": 64,
   "id": "e9f2d42e-c9b3-47b7-b941-a2fcfe4b6afb",
   "metadata": {},
   "outputs": [
    {
     "data": {
      "text/html": [
       "<div>\n",
       "<style scoped>\n",
       "    .dataframe tbody tr th:only-of-type {\n",
       "        vertical-align: middle;\n",
       "    }\n",
       "\n",
       "    .dataframe tbody tr th {\n",
       "        vertical-align: top;\n",
       "    }\n",
       "\n",
       "    .dataframe thead th {\n",
       "        text-align: right;\n",
       "    }\n",
       "</style>\n",
       "<table border=\"1\" class=\"dataframe\">\n",
       "  <thead>\n",
       "    <tr style=\"text-align: right;\">\n",
       "      <th></th>\n",
       "      <th>population</th>\n",
       "      <th>area</th>\n",
       "    </tr>\n",
       "  </thead>\n",
       "  <tbody>\n",
       "    <tr>\n",
       "      <th>California</th>\n",
       "      <td>38332521</td>\n",
       "      <td>423967</td>\n",
       "    </tr>\n",
       "    <tr>\n",
       "      <th>Texas</th>\n",
       "      <td>26448193</td>\n",
       "      <td>695662</td>\n",
       "    </tr>\n",
       "    <tr>\n",
       "      <th>New York</th>\n",
       "      <td>19651127</td>\n",
       "      <td>141297</td>\n",
       "    </tr>\n",
       "    <tr>\n",
       "      <th>Florida</th>\n",
       "      <td>19552860</td>\n",
       "      <td>170312</td>\n",
       "    </tr>\n",
       "    <tr>\n",
       "      <th>Illinois</th>\n",
       "      <td>12882135</td>\n",
       "      <td>149995</td>\n",
       "    </tr>\n",
       "  </tbody>\n",
       "</table>\n",
       "</div>"
      ],
      "text/plain": [
       "            population    area\n",
       "California    38332521  423967\n",
       "Texas         26448193  695662\n",
       "New York      19651127  141297\n",
       "Florida       19552860  170312\n",
       "Illinois      12882135  149995"
      ]
     },
     "execution_count": 64,
     "metadata": {},
     "output_type": "execute_result"
    }
   ],
   "source": [
    "df"
   ]
  },
  {
   "cell_type": "markdown",
   "id": "5a013ff1-f70a-4580-a409-d0efe571f8e6",
   "metadata": {},
   "source": [
    "### Arithmetic Operations"
   ]
  },
  {
   "cell_type": "markdown",
   "id": "68f9bf4e-0098-4922-b80c-4e39f62d08e9",
   "metadata": {},
   "source": [
    "Since each column in a `DataFrame` is a `Series`, we can do the usual arithmetic operations on columns as we would on a series."
   ]
  },
  {
   "cell_type": "code",
   "execution_count": 65,
   "id": "97238f42-458e-42e2-9818-e8bcbe972b49",
   "metadata": {},
   "outputs": [
    {
     "data": {
      "text/plain": [
       "California    76665042\n",
       "Texas         52896386\n",
       "New York      39302254\n",
       "Florida       39105720\n",
       "Illinois      25764270\n",
       "Name: population, dtype: int64"
      ]
     },
     "execution_count": 65,
     "metadata": {},
     "output_type": "execute_result"
    }
   ],
   "source": [
    "# Addition\n",
    "df['population'] + df['population']"
   ]
  },
  {
   "cell_type": "code",
   "execution_count": 66,
   "id": "6013f56e-557f-4c2a-8356-044c53ed9d13",
   "metadata": {},
   "outputs": [
    {
     "data": {
      "text/plain": [
       "California    38332521000\n",
       "Texas         26448193000\n",
       "New York      19651127000\n",
       "Florida       19552860000\n",
       "Illinois      12882135000\n",
       "Name: population, dtype: int64"
      ]
     },
     "execution_count": 66,
     "metadata": {},
     "output_type": "execute_result"
    }
   ],
   "source": [
    "# Multiplication\n",
    "df['population'] * 1000"
   ]
  },
  {
   "cell_type": "markdown",
   "id": "4a7adcfe-6fc5-4f17-9172-933619a8ad89",
   "metadata": {},
   "source": [
    "Let's create a new column of population density, by dividing the population of each state by the area (in square kilometers)."
   ]
  },
  {
   "cell_type": "code",
   "execution_count": 67,
   "id": "c1cc3327-0ad1-46f6-bdd9-af3199c4266f",
   "metadata": {},
   "outputs": [],
   "source": [
    "# Create a new population density column\n",
    "df['pop_density'] = df['population'] / df['area']"
   ]
  },
  {
   "cell_type": "code",
   "execution_count": 68,
   "id": "4407dae2-a113-4335-b7d4-2dc835c4b9c8",
   "metadata": {},
   "outputs": [
    {
     "data": {
      "text/html": [
       "<div>\n",
       "<style scoped>\n",
       "    .dataframe tbody tr th:only-of-type {\n",
       "        vertical-align: middle;\n",
       "    }\n",
       "\n",
       "    .dataframe tbody tr th {\n",
       "        vertical-align: top;\n",
       "    }\n",
       "\n",
       "    .dataframe thead th {\n",
       "        text-align: right;\n",
       "    }\n",
       "</style>\n",
       "<table border=\"1\" class=\"dataframe\">\n",
       "  <thead>\n",
       "    <tr style=\"text-align: right;\">\n",
       "      <th></th>\n",
       "      <th>population</th>\n",
       "      <th>area</th>\n",
       "      <th>pop_density</th>\n",
       "    </tr>\n",
       "  </thead>\n",
       "  <tbody>\n",
       "    <tr>\n",
       "      <th>California</th>\n",
       "      <td>38332521</td>\n",
       "      <td>423967</td>\n",
       "      <td>90.413926</td>\n",
       "    </tr>\n",
       "    <tr>\n",
       "      <th>Texas</th>\n",
       "      <td>26448193</td>\n",
       "      <td>695662</td>\n",
       "      <td>38.018740</td>\n",
       "    </tr>\n",
       "    <tr>\n",
       "      <th>New York</th>\n",
       "      <td>19651127</td>\n",
       "      <td>141297</td>\n",
       "      <td>139.076746</td>\n",
       "    </tr>\n",
       "    <tr>\n",
       "      <th>Florida</th>\n",
       "      <td>19552860</td>\n",
       "      <td>170312</td>\n",
       "      <td>114.806121</td>\n",
       "    </tr>\n",
       "    <tr>\n",
       "      <th>Illinois</th>\n",
       "      <td>12882135</td>\n",
       "      <td>149995</td>\n",
       "      <td>85.883763</td>\n",
       "    </tr>\n",
       "  </tbody>\n",
       "</table>\n",
       "</div>"
      ],
      "text/plain": [
       "            population    area  pop_density\n",
       "California    38332521  423967    90.413926\n",
       "Texas         26448193  695662    38.018740\n",
       "New York      19651127  141297   139.076746\n",
       "Florida       19552860  170312   114.806121\n",
       "Illinois      12882135  149995    85.883763"
      ]
     },
     "execution_count": 68,
     "metadata": {},
     "output_type": "execute_result"
    }
   ],
   "source": [
    "df"
   ]
  },
  {
   "cell_type": "markdown",
   "id": "009865b6-b672-4561-81c9-30e57c62f404",
   "metadata": {},
   "source": [
    "### Sorting a DataFrame"
   ]
  },
  {
   "cell_type": "markdown",
   "id": "60d407b2-1756-4f97-b104-047925e9658b",
   "metadata": {},
   "source": [
    "Which state has the highest population density? Rank the table above by `pop_density` in descending order."
   ]
  },
  {
   "cell_type": "code",
   "execution_count": 69,
   "id": "a361f1a6-3f02-4436-b00b-166a8d511f96",
   "metadata": {},
   "outputs": [
    {
     "data": {
      "text/html": [
       "<div>\n",
       "<style scoped>\n",
       "    .dataframe tbody tr th:only-of-type {\n",
       "        vertical-align: middle;\n",
       "    }\n",
       "\n",
       "    .dataframe tbody tr th {\n",
       "        vertical-align: top;\n",
       "    }\n",
       "\n",
       "    .dataframe thead th {\n",
       "        text-align: right;\n",
       "    }\n",
       "</style>\n",
       "<table border=\"1\" class=\"dataframe\">\n",
       "  <thead>\n",
       "    <tr style=\"text-align: right;\">\n",
       "      <th></th>\n",
       "      <th>population</th>\n",
       "      <th>area</th>\n",
       "      <th>pop_density</th>\n",
       "    </tr>\n",
       "  </thead>\n",
       "  <tbody>\n",
       "    <tr>\n",
       "      <th>New York</th>\n",
       "      <td>19651127</td>\n",
       "      <td>141297</td>\n",
       "      <td>139.076746</td>\n",
       "    </tr>\n",
       "    <tr>\n",
       "      <th>Florida</th>\n",
       "      <td>19552860</td>\n",
       "      <td>170312</td>\n",
       "      <td>114.806121</td>\n",
       "    </tr>\n",
       "    <tr>\n",
       "      <th>California</th>\n",
       "      <td>38332521</td>\n",
       "      <td>423967</td>\n",
       "      <td>90.413926</td>\n",
       "    </tr>\n",
       "    <tr>\n",
       "      <th>Illinois</th>\n",
       "      <td>12882135</td>\n",
       "      <td>149995</td>\n",
       "      <td>85.883763</td>\n",
       "    </tr>\n",
       "    <tr>\n",
       "      <th>Texas</th>\n",
       "      <td>26448193</td>\n",
       "      <td>695662</td>\n",
       "      <td>38.018740</td>\n",
       "    </tr>\n",
       "  </tbody>\n",
       "</table>\n",
       "</div>"
      ],
      "text/plain": [
       "            population    area  pop_density\n",
       "New York      19651127  141297   139.076746\n",
       "Florida       19552860  170312   114.806121\n",
       "California    38332521  423967    90.413926\n",
       "Illinois      12882135  149995    85.883763\n",
       "Texas         26448193  695662    38.018740"
      ]
     },
     "execution_count": 69,
     "metadata": {},
     "output_type": "execute_result"
    }
   ],
   "source": [
    "df.sort_values(by='pop_density', ascending=False)"
   ]
  },
  {
   "cell_type": "markdown",
   "id": "7d5295fd-ecdd-49f7-b905-118e70816e31",
   "metadata": {},
   "source": [
    "We can even plot this directly from Pandas! We will come back to visualization next time."
   ]
  },
  {
   "cell_type": "code",
   "execution_count": 70,
   "id": "4609a938-fe58-413e-8cae-ef1b15845158",
   "metadata": {},
   "outputs": [],
   "source": [
    "# Importing seaborn for nicer looking charts\n",
    "import seaborn as sns\n",
    "\n",
    "# Setting default figure size\n",
    "sns.set(rc = {'figure.figsize':(12,6)})"
   ]
  },
  {
   "cell_type": "code",
   "execution_count": 71,
   "id": "f7238857-ba87-4ef8-878c-83432ff6d30c",
   "metadata": {},
   "outputs": [
    {
     "data": {
      "image/png": "[encoded data removed]",
      "text/plain": [
       "<Figure size 864x432 with 1 Axes>"
      ]
     },
     "metadata": {},
     "output_type": "display_data"
    }
   ],
   "source": [
    "df.sort_values(by='pop_density')['pop_density'].plot(kind='barh', title='Population Density (People per Sq. Kilometer)');"
   ]
  },
  {
   "cell_type": "markdown",
   "id": "bfac3b0e",
   "metadata": {},
   "source": [
    "## Reading Data"
   ]
  },
  {
   "cell_type": "markdown",
   "id": "d4452e23-5cb7-473b-bf63-8c92c690e6bc",
   "metadata": {},
   "source": [
    "Pandas offers a plethora of functions to read various data formats into a `DataFrame`. All of these functions start with `read_`."
   ]
  },
  {
   "cell_type": "markdown",
   "id": "d47f952d",
   "metadata": {},
   "source": [
    "### Read a CSV"
   ]
  },
  {
   "cell_type": "markdown",
   "id": "132f5059-cdb2-4c01-97e3-ae786fe74365",
   "metadata": {},
   "source": [
    "Read in a CSV that lives at a URL on the internet."
   ]
  },
  {
   "cell_type": "markdown",
   "id": "b4591634-440c-4ff0-91b6-f77d180b5988",
   "metadata": {},
   "source": [
    "Source: https://www1.nyc.gov/site/tlc/about/aggregated-reports.page"
   ]
  },
  {
   "cell_type": "code",
   "execution_count": 72,
   "id": "14438c6c-f3af-4264-b55b-7681d3325bbe",
   "metadata": {},
   "outputs": [],
   "source": [
    "url = \"https://www1.nyc.gov/assets/tlc/downloads/csv/data_reports_monthly.csv\""
   ]
  },
  {
   "cell_type": "code",
   "execution_count": 73,
   "id": "d0763c3c-9f3b-4d11-9a89-e5d3e66b24b3",
   "metadata": {},
   "outputs": [],
   "source": [
    "data = pd.read_csv(url)"
   ]
  },
  {
   "cell_type": "markdown",
   "id": "d639f4d1-377c-4087-92c0-3dbc02e85c6d",
   "metadata": {},
   "source": [
    "Use the `.head()` command to view the first five rows."
   ]
  },
  {
   "cell_type": "code",
   "execution_count": 74,
   "id": "0bd8dcd5-be28-487c-aaa8-8e352c88a429",
   "metadata": {},
   "outputs": [
    {
     "data": {
      "text/html": [
       "<div>\n",
       "<style scoped>\n",
       "    .dataframe tbody tr th:only-of-type {\n",
       "        vertical-align: middle;\n",
       "    }\n",
       "\n",
       "    .dataframe tbody tr th {\n",
       "        vertical-align: top;\n",
       "    }\n",
       "\n",
       "    .dataframe thead th {\n",
       "        text-align: right;\n",
       "    }\n",
       "</style>\n",
       "<table border=\"1\" class=\"dataframe\">\n",
       "  <thead>\n",
       "    <tr style=\"text-align: right;\">\n",
       "      <th></th>\n",
       "      <th>Month/Year</th>\n",
       "      <th>License Class</th>\n",
       "      <th>Trips Per Day</th>\n",
       "      <th>Farebox Per Day</th>\n",
       "      <th>Unique Drivers</th>\n",
       "      <th>Unique Vehicles</th>\n",
       "      <th>Vehicles Per Day</th>\n",
       "      <th>Avg Days Vehicles on Road</th>\n",
       "      <th>Avg Hours Per Day Per Vehicle</th>\n",
       "      <th>Avg Days Drivers on Road</th>\n",
       "      <th>Avg Hours Per Day Per Driver</th>\n",
       "      <th>Avg Minutes Per Trip</th>\n",
       "      <th>Percent of Trips Paid with Credit Card</th>\n",
       "      <th>Trips Per Day Shared</th>\n",
       "    </tr>\n",
       "  </thead>\n",
       "  <tbody>\n",
       "    <tr>\n",
       "      <th>0</th>\n",
       "      <td>2021-12</td>\n",
       "      <td>Yellow</td>\n",
       "      <td>103,585</td>\n",
       "      <td>1,903,870</td>\n",
       "      <td>9,552</td>\n",
       "      <td>6,908</td>\n",
       "      <td>5,657</td>\n",
       "      <td>25.4</td>\n",
       "      <td>9.0</td>\n",
       "      <td>21.5</td>\n",
       "      <td>7.7</td>\n",
       "      <td>15.2</td>\n",
       "      <td>77%</td>\n",
       "      <td>0</td>\n",
       "    </tr>\n",
       "    <tr>\n",
       "      <th>1</th>\n",
       "      <td>2021-12</td>\n",
       "      <td>FHV - High Volume</td>\n",
       "      <td>517,884</td>\n",
       "      <td>-</td>\n",
       "      <td>70,302</td>\n",
       "      <td>68,257</td>\n",
       "      <td>44,289</td>\n",
       "      <td>20.1</td>\n",
       "      <td>6.4</td>\n",
       "      <td>19.8</td>\n",
       "      <td>6.3</td>\n",
       "      <td>18.0</td>\n",
       "      <td>-</td>\n",
       "      <td>0</td>\n",
       "    </tr>\n",
       "    <tr>\n",
       "      <th>2</th>\n",
       "      <td>2021-12</td>\n",
       "      <td>Green</td>\n",
       "      <td>3,223</td>\n",
       "      <td>70,840</td>\n",
       "      <td>1,299</td>\n",
       "      <td>1,232</td>\n",
       "      <td>705</td>\n",
       "      <td>17.8</td>\n",
       "      <td>3.6</td>\n",
       "      <td>17.1</td>\n",
       "      <td>3.6</td>\n",
       "      <td>19.5</td>\n",
       "      <td>69%</td>\n",
       "      <td>0</td>\n",
       "    </tr>\n",
       "    <tr>\n",
       "      <th>3</th>\n",
       "      <td>2021-11</td>\n",
       "      <td>FHV - Black Car</td>\n",
       "      <td>11,915</td>\n",
       "      <td>-</td>\n",
       "      <td>5,048</td>\n",
       "      <td>4,917</td>\n",
       "      <td>2,260</td>\n",
       "      <td>13.8</td>\n",
       "      <td>4.0</td>\n",
       "      <td>13.7</td>\n",
       "      <td>4.0</td>\n",
       "      <td>27.0</td>\n",
       "      <td>-</td>\n",
       "      <td>-</td>\n",
       "    </tr>\n",
       "    <tr>\n",
       "      <th>4</th>\n",
       "      <td>2021-11</td>\n",
       "      <td>FHV - Livery</td>\n",
       "      <td>24,410</td>\n",
       "      <td>-</td>\n",
       "      <td>5,121</td>\n",
       "      <td>4,962</td>\n",
       "      <td>3,214</td>\n",
       "      <td>19.4</td>\n",
       "      <td>5.1</td>\n",
       "      <td>19.2</td>\n",
       "      <td>5.0</td>\n",
       "      <td>18.0</td>\n",
       "      <td>-</td>\n",
       "      <td>-</td>\n",
       "    </tr>\n",
       "  </tbody>\n",
       "</table>\n",
       "</div>"
      ],
      "text/plain": [
       "  Month/Year      License Class     Trips Per Day         Farebox Per Day      \\\n",
       "0    2021-12             Yellow              103,585               1,903,870    \n",
       "1    2021-12  FHV - High Volume              517,884                       -    \n",
       "2    2021-12              Green                3,223                  70,840    \n",
       "3    2021-11    FHV - Black Car               11,915                       -    \n",
       "4    2021-11       FHV - Livery               24,410                       -    \n",
       "\n",
       "      Unique Drivers         Unique Vehicles         Vehicles Per Day      \\\n",
       "0                 9,552                   6,908                    5,657    \n",
       "1                70,302                  68,257                   44,289    \n",
       "2                 1,299                   1,232                      705    \n",
       "3                 5,048                   4,917                    2,260    \n",
       "4                 5,121                   4,962                    3,214    \n",
       "\n",
       "       Avg Days Vehicles on Road          Avg Hours Per Day Per Vehicle      \\\n",
       "0                               25.4                                    9.0   \n",
       "1                               20.1                                    6.4   \n",
       "2                               17.8                                    3.6   \n",
       "3                               13.8                                    4.0   \n",
       "4                               19.4                                    5.1   \n",
       "\n",
       "       Avg Days Drivers on Road          Avg Hours Per Day Per Driver      \\\n",
       "0                              21.5                                   7.7   \n",
       "1                              19.8                                   6.3   \n",
       "2                              17.1                                   3.6   \n",
       "3                              13.7                                   4.0   \n",
       "4                              19.2                                   5.0   \n",
       "\n",
       "      Avg Minutes Per Trip     Percent of Trips Paid with Credit Card  \\\n",
       "0                        15.2                                     77%   \n",
       "1                        18.0                                       -   \n",
       "2                        19.5                                     69%   \n",
       "3                        27.0                                       -   \n",
       "4                        18.0                                       -   \n",
       "\n",
       "  Trips Per Day Shared  \n",
       "0                    0  \n",
       "1                    0  \n",
       "2                    0  \n",
       "3                    -  \n",
       "4                    -  "
      ]
     },
     "execution_count": 74,
     "metadata": {},
     "output_type": "execute_result"
    }
   ],
   "source": [
    "data.head()"
   ]
  },
  {
   "cell_type": "markdown",
   "id": "56ef0f8f-97cb-41e9-808d-8e106162dfeb",
   "metadata": {},
   "source": [
    "See the shape of this table with `.shape` which returns the number of rows and columns (num rows, num columns):"
   ]
  },
  {
   "cell_type": "code",
   "execution_count": 75,
   "id": "38661e55-82d2-40d4-a7af-d66f84ed6e90",
   "metadata": {},
   "outputs": [
    {
     "data": {
      "text/plain": [
       "(578, 14)"
      ]
     },
     "execution_count": 75,
     "metadata": {},
     "output_type": "execute_result"
    }
   ],
   "source": [
    "data.shape"
   ]
  },
  {
   "cell_type": "markdown",
   "id": "ec740393-9062-4425-b7db-f8a25b54b6c4",
   "metadata": {},
   "source": [
    "### Read an Excel file"
   ]
  },
  {
   "cell_type": "markdown",
   "id": "ad0fa477-2f1b-4070-aecf-ea7de53397a0",
   "metadata": {},
   "source": [
    "Source: https://github.com/bharathirajatut/sample-excel-dataset"
   ]
  },
  {
   "cell_type": "code",
   "execution_count": 76,
   "id": "eeef30e6-7831-4903-a77d-c7a02ffa9906",
   "metadata": {},
   "outputs": [],
   "source": [
    "url = \"https://github.com/bharathirajatut/sample-excel-dataset/blob/master/airline.xls?raw=true\""
   ]
  },
  {
   "cell_type": "code",
   "execution_count": 77,
   "id": "7903610d-4214-420d-aaf9-0183d97f53c0",
   "metadata": {},
   "outputs": [],
   "source": [
    "data = pd.read_excel(url, engine='xlrd')"
   ]
  },
  {
   "cell_type": "code",
   "execution_count": 78,
   "id": "9b571a4d-2c6a-4fbd-9d62-6a3bb0e62bd4",
   "metadata": {},
   "outputs": [
    {
     "data": {
      "text/html": [
       "<div>\n",
       "<style scoped>\n",
       "    .dataframe tbody tr th:only-of-type {\n",
       "        vertical-align: middle;\n",
       "    }\n",
       "\n",
       "    .dataframe tbody tr th {\n",
       "        vertical-align: top;\n",
       "    }\n",
       "\n",
       "    .dataframe thead th {\n",
       "        text-align: right;\n",
       "    }\n",
       "</style>\n",
       "<table border=\"1\" class=\"dataframe\">\n",
       "  <thead>\n",
       "    <tr style=\"text-align: right;\">\n",
       "      <th></th>\n",
       "      <th>YEAR</th>\n",
       "      <th>Y</th>\n",
       "      <th>W</th>\n",
       "      <th>R</th>\n",
       "      <th>L</th>\n",
       "      <th>K</th>\n",
       "    </tr>\n",
       "  </thead>\n",
       "  <tbody>\n",
       "    <tr>\n",
       "      <th>0</th>\n",
       "      <td>1948</td>\n",
       "      <td>1.214</td>\n",
       "      <td>0.243</td>\n",
       "      <td>0.1454</td>\n",
       "      <td>1.415</td>\n",
       "      <td>0.612</td>\n",
       "    </tr>\n",
       "    <tr>\n",
       "      <th>1</th>\n",
       "      <td>1949</td>\n",
       "      <td>1.354</td>\n",
       "      <td>0.260</td>\n",
       "      <td>0.2181</td>\n",
       "      <td>1.384</td>\n",
       "      <td>0.559</td>\n",
       "    </tr>\n",
       "    <tr>\n",
       "      <th>2</th>\n",
       "      <td>1950</td>\n",
       "      <td>1.569</td>\n",
       "      <td>0.278</td>\n",
       "      <td>0.3157</td>\n",
       "      <td>1.388</td>\n",
       "      <td>0.573</td>\n",
       "    </tr>\n",
       "    <tr>\n",
       "      <th>3</th>\n",
       "      <td>1951</td>\n",
       "      <td>1.948</td>\n",
       "      <td>0.297</td>\n",
       "      <td>0.3940</td>\n",
       "      <td>1.550</td>\n",
       "      <td>0.564</td>\n",
       "    </tr>\n",
       "    <tr>\n",
       "      <th>4</th>\n",
       "      <td>1952</td>\n",
       "      <td>2.265</td>\n",
       "      <td>0.310</td>\n",
       "      <td>0.3559</td>\n",
       "      <td>1.802</td>\n",
       "      <td>0.574</td>\n",
       "    </tr>\n",
       "  </tbody>\n",
       "</table>\n",
       "</div>"
      ],
      "text/plain": [
       "   YEAR      Y      W       R      L      K\n",
       "0  1948  1.214  0.243  0.1454  1.415  0.612\n",
       "1  1949  1.354  0.260  0.2181  1.384  0.559\n",
       "2  1950  1.569  0.278  0.3157  1.388  0.573\n",
       "3  1951  1.948  0.297  0.3940  1.550  0.564\n",
       "4  1952  2.265  0.310  0.3559  1.802  0.574"
      ]
     },
     "execution_count": 78,
     "metadata": {},
     "output_type": "execute_result"
    }
   ],
   "source": [
    "data.head()"
   ]
  },
  {
   "cell_type": "markdown",
   "id": "be3bfd16-58ba-4716-94b1-8465c30bc52a",
   "metadata": {},
   "source": [
    "### Read from Clipboard"
   ]
  },
  {
   "cell_type": "markdown",
   "id": "32630f11-7aa2-4721-88db-38d3da6be2f9",
   "metadata": {},
   "source": [
    "Practice reading data with `read_clipboard()`. Go to [here](https://geodacenter.github.io/data-and-lab/nyc/) and copy the table of variable definitions."
   ]
  },
  {
   "cell_type": "code",
   "execution_count": 80,
   "id": "d3e976dc-743b-4052-b3e3-38744e3ee6ca",
   "metadata": {},
   "outputs": [
    {
     "data": {
      "text/html": [
       "<div>\n",
       "<style scoped>\n",
       "    .dataframe tbody tr th:only-of-type {\n",
       "        vertical-align: middle;\n",
       "    }\n",
       "\n",
       "    .dataframe tbody tr th {\n",
       "        vertical-align: top;\n",
       "    }\n",
       "\n",
       "    .dataframe thead th {\n",
       "        text-align: right;\n",
       "    }\n",
       "</style>\n",
       "<table border=\"1\" class=\"dataframe\">\n",
       "  <thead>\n",
       "    <tr style=\"text-align: right;\">\n",
       "      <th></th>\n",
       "      <th>Variable</th>\n",
       "      <th>Description</th>\n",
       "      <th>Source</th>\n",
       "      <th></th>\n",
       "    </tr>\n",
       "  </thead>\n",
       "  <tbody>\n",
       "    <tr>\n",
       "      <th>0</th>\n",
       "      <td>code</td>\n",
       "      <td>NYC Sub-Borough Neighborhood unique ID</td>\n",
       "      <td></td>\n",
       "      <td></td>\n",
       "    </tr>\n",
       "    <tr>\n",
       "      <th>1</th>\n",
       "      <td>subborough</td>\n",
       "      <td>NYC Sub-Borough Neighborhood name</td>\n",
       "      <td></td>\n",
       "      <td></td>\n",
       "    </tr>\n",
       "    <tr>\n",
       "      <th>2</th>\n",
       "      <td>forhis06-09</td>\n",
       "      <td>Percentage of hispanic population, not born in US</td>\n",
       "      <td>New York City Neighborhood Information by Furm...</td>\n",
       "      <td></td>\n",
       "    </tr>\n",
       "    <tr>\n",
       "      <th>3</th>\n",
       "      <td>forwh06-09</td>\n",
       "      <td>Percentage of white population, not born in US</td>\n",
       "      <td>same as above</td>\n",
       "      <td></td>\n",
       "    </tr>\n",
       "    <tr>\n",
       "      <th>4</th>\n",
       "      <td>hhsiz1990</td>\n",
       "      <td>Average number of people per household</td>\n",
       "      <td>United States Census (2000), New York City Hou...</td>\n",
       "      <td></td>\n",
       "    </tr>\n",
       "    <tr>\n",
       "      <th>5</th>\n",
       "      <td>hhsiz00</td>\n",
       "      <td>Average number of people per household</td>\n",
       "      <td>see above</td>\n",
       "      <td></td>\n",
       "    </tr>\n",
       "    <tr>\n",
       "      <th>6</th>\n",
       "      <td>hhsiz02-05-08</td>\n",
       "      <td>Average number of people per household</td>\n",
       "      <td>see above</td>\n",
       "      <td></td>\n",
       "    </tr>\n",
       "    <tr>\n",
       "      <th>7</th>\n",
       "      <td>kids2000, kids2005-2009</td>\n",
       "      <td>Percentage households w kids under 18</td>\n",
       "      <td>United States Census (2000), American Communit...</td>\n",
       "      <td></td>\n",
       "    </tr>\n",
       "    <tr>\n",
       "      <th>8</th>\n",
       "      <td>rent2002,2005,2008</td>\n",
       "      <td>Median monthly contract rent</td>\n",
       "      <td>New York City Housing and Vacancy Survey</td>\n",
       "      <td></td>\n",
       "    </tr>\n",
       "    <tr>\n",
       "      <th>9</th>\n",
       "      <td>rentpct02,05,08</td>\n",
       "      <td>Percentage of housing stock that is market rat...</td>\n",
       "      <td>New York City Housing and Vacancy Survey.</td>\n",
       "      <td></td>\n",
       "    </tr>\n",
       "    <tr>\n",
       "      <th>10</th>\n",
       "      <td>pubast90,00</td>\n",
       "      <td>Percentage of households receiving public assi...</td>\n",
       "      <td>United States Census</td>\n",
       "      <td></td>\n",
       "    </tr>\n",
       "    <tr>\n",
       "      <th>11</th>\n",
       "      <td>yrhom02,05,08</td>\n",
       "      <td>Average number of years living in current resi...</td>\n",
       "      <td>New York City Housing and Vacancy Survey.</td>\n",
       "      <td></td>\n",
       "    </tr>\n",
       "  </tbody>\n",
       "</table>\n",
       "</div>"
      ],
      "text/plain": [
       "                   Variable  \\\n",
       "0                      code   \n",
       "1                subborough   \n",
       "2               forhis06-09   \n",
       "3                forwh06-09   \n",
       "4                 hhsiz1990   \n",
       "5                   hhsiz00   \n",
       "6             hhsiz02-05-08   \n",
       "7   kids2000, kids2005-2009   \n",
       "8        rent2002,2005,2008   \n",
       "9           rentpct02,05,08   \n",
       "10              pubast90,00   \n",
       "11            yrhom02,05,08   \n",
       "\n",
       "                                          Description  \\\n",
       "0              NYC Sub-Borough Neighborhood unique ID   \n",
       "1                   NYC Sub-Borough Neighborhood name   \n",
       "2   Percentage of hispanic population, not born in US   \n",
       "3      Percentage of white population, not born in US   \n",
       "4              Average number of people per household   \n",
       "5              Average number of people per household   \n",
       "6              Average number of people per household   \n",
       "7               Percentage households w kids under 18   \n",
       "8                        Median monthly contract rent   \n",
       "9   Percentage of housing stock that is market rat...   \n",
       "10  Percentage of households receiving public assi...   \n",
       "11  Average number of years living in current resi...   \n",
       "\n",
       "                                               Source     \n",
       "0                                                         \n",
       "1                                                         \n",
       "2   New York City Neighborhood Information by Furm...     \n",
       "3                                       same as above     \n",
       "4   United States Census (2000), New York City Hou...     \n",
       "5                                           see above     \n",
       "6                                           see above     \n",
       "7   United States Census (2000), American Communit...     \n",
       "8            New York City Housing and Vacancy Survey     \n",
       "9           New York City Housing and Vacancy Survey.     \n",
       "10                               United States Census     \n",
       "11          New York City Housing and Vacancy Survey.     "
      ]
     },
     "execution_count": 80,
     "metadata": {},
     "output_type": "execute_result"
    }
   ],
   "source": [
    "pd.read_clipboard()"
   ]
  },
  {
   "cell_type": "markdown",
   "id": "6a7ec5a1-fbcc-4360-adf7-07bc3cd47883",
   "metadata": {},
   "source": [
    "### Reading Zipped Data"
   ]
  },
  {
   "cell_type": "markdown",
   "id": "ee15ccd3-961e-4ae7-9971-4e832e324037",
   "metadata": {},
   "source": [
    "Sometimes, you will encounter compressed or zipped data and you may need to unzip it in order read it."
   ]
  },
  {
   "cell_type": "markdown",
   "id": "036754f7-d32c-4603-aac9-8c07a9f85d5a",
   "metadata": {},
   "source": [
    "#### Example: CitiBike Trip Data"
   ]
  },
  {
   "cell_type": "markdown",
   "id": "61d737c1-ace9-42ba-8247-5020f1e058b8",
   "metadata": {},
   "source": [
    "Source: https://ride.citibikenyc.com/system-data"
   ]
  },
  {
   "cell_type": "markdown",
   "id": "f0ec25ec-3bcc-4429-9391-a9409558e2fd",
   "metadata": {},
   "source": [
    "Here is a function to uncompress a zipped CSV, open it and read it into a `DataFrame`."
   ]
  },
  {
   "cell_type": "code",
   "execution_count": 82,
   "id": "584e01c8-0a02-4d08-83aa-e11f00aca67f",
   "metadata": {},
   "outputs": [],
   "source": [
    "# Function to read in a zipped file url and specified csv filename\n",
    "# It reads the url into a ZipFile, opens the file, reads it into a dataframe, and returns the dataframe\n",
    "\n",
    "def read_zipped_csv(url, filename=False):\n",
    "    from zipfile import ZipFile\n",
    "    from io import BytesIO\n",
    "    from urllib.request import urlopen\n",
    "\n",
    "    r = urlopen(url).read()\n",
    "    b = BytesIO(r)\n",
    "    file = ZipFile(b)\n",
    "    if not filename:        \n",
    "        filename = url.split(\"/\")[-1].replace(\".zip\",\"\")\n",
    "    data = file.open(filename)\n",
    "    df = pd.read_csv(data)\n",
    "    return df"
   ]
  },
  {
   "cell_type": "code",
   "execution_count": 83,
   "id": "3e2008b0-58ff-4cd4-94be-8dc183a343ee",
   "metadata": {},
   "outputs": [],
   "source": [
    "url = \"https://s3.amazonaws.com/tripdata/202112-citibike-tripdata.csv.zip\""
   ]
  },
  {
   "cell_type": "code",
   "execution_count": 84,
   "id": "de995ef8-cc04-40c0-a35e-b6a0a14b0994",
   "metadata": {},
   "outputs": [
    {
     "name": "stderr",
     "output_type": "stream",
     "text": [
      "/var/folders/0w/knjlywtd3_72xp9lvfjlmby80000gn/T/ipykernel_99586/609798831.py:15: DtypeWarning: Columns (5,7) have mixed types. Specify dtype option on import or set low_memory=False.\n",
      "  df = pd.read_csv(data)\n"
     ]
    }
   ],
   "source": [
    "df = read_zipped_csv(url)"
   ]
  },
  {
   "cell_type": "code",
   "execution_count": 85,
   "id": "3b0b5822-d7ab-4114-a8ca-862bfd7b57b7",
   "metadata": {},
   "outputs": [
    {
     "data": {
      "text/html": [
       "<div>\n",
       "<style scoped>\n",
       "    .dataframe tbody tr th:only-of-type {\n",
       "        vertical-align: middle;\n",
       "    }\n",
       "\n",
       "    .dataframe tbody tr th {\n",
       "        vertical-align: top;\n",
       "    }\n",
       "\n",
       "    .dataframe thead th {\n",
       "        text-align: right;\n",
       "    }\n",
       "</style>\n",
       "<table border=\"1\" class=\"dataframe\">\n",
       "  <thead>\n",
       "    <tr style=\"text-align: right;\">\n",
       "      <th></th>\n",
       "      <th>ride_id</th>\n",
       "      <th>rideable_type</th>\n",
       "      <th>started_at</th>\n",
       "      <th>ended_at</th>\n",
       "      <th>start_station_name</th>\n",
       "      <th>start_station_id</th>\n",
       "      <th>end_station_name</th>\n",
       "      <th>end_station_id</th>\n",
       "      <th>start_lat</th>\n",
       "      <th>start_lng</th>\n",
       "      <th>end_lat</th>\n",
       "      <th>end_lng</th>\n",
       "      <th>member_casual</th>\n",
       "    </tr>\n",
       "  </thead>\n",
       "  <tbody>\n",
       "    <tr>\n",
       "      <th>0</th>\n",
       "      <td>7AE6209F17967FF2</td>\n",
       "      <td>classic_bike</td>\n",
       "      <td>2021-12-07 08:54:24</td>\n",
       "      <td>2021-12-07 08:59:46</td>\n",
       "      <td>Broadway &amp; Hancock St</td>\n",
       "      <td>4441.06</td>\n",
       "      <td>Lewis Ave &amp; Madison St</td>\n",
       "      <td>4425.02</td>\n",
       "      <td>40.686630</td>\n",
       "      <td>-73.916800</td>\n",
       "      <td>40.686312</td>\n",
       "      <td>-73.935775</td>\n",
       "      <td>member</td>\n",
       "    </tr>\n",
       "    <tr>\n",
       "      <th>1</th>\n",
       "      <td>CCE209B6D683C96A</td>\n",
       "      <td>classic_bike</td>\n",
       "      <td>2021-12-13 21:22:35</td>\n",
       "      <td>2021-12-13 21:31:24</td>\n",
       "      <td>S 4 St &amp; Wythe Ave</td>\n",
       "      <td>5204.05</td>\n",
       "      <td>Metropolitan Ave &amp; Meeker Ave</td>\n",
       "      <td>5300.05</td>\n",
       "      <td>40.712859</td>\n",
       "      <td>-73.965903</td>\n",
       "      <td>40.714133</td>\n",
       "      <td>-73.952344</td>\n",
       "      <td>member</td>\n",
       "    </tr>\n",
       "    <tr>\n",
       "      <th>2</th>\n",
       "      <td>333961DE681551DA</td>\n",
       "      <td>classic_bike</td>\n",
       "      <td>2021-12-17 22:21:56</td>\n",
       "      <td>2021-12-17 22:30:41</td>\n",
       "      <td>6 Ave &amp; Canal St</td>\n",
       "      <td>5500.07</td>\n",
       "      <td>University Pl &amp; E 14 St</td>\n",
       "      <td>5905.14</td>\n",
       "      <td>40.722438</td>\n",
       "      <td>-74.005664</td>\n",
       "      <td>40.734814</td>\n",
       "      <td>-73.992085</td>\n",
       "      <td>member</td>\n",
       "    </tr>\n",
       "    <tr>\n",
       "      <th>3</th>\n",
       "      <td>E5F6240DEF91E399</td>\n",
       "      <td>classic_bike</td>\n",
       "      <td>2021-12-13 17:44:19</td>\n",
       "      <td>2021-12-13 17:51:35</td>\n",
       "      <td>E 2 St &amp; Avenue C</td>\n",
       "      <td>5476.03</td>\n",
       "      <td>E 11 St &amp; 3 Ave</td>\n",
       "      <td>5788.16</td>\n",
       "      <td>40.720874</td>\n",
       "      <td>-73.980858</td>\n",
       "      <td>40.731270</td>\n",
       "      <td>-73.988490</td>\n",
       "      <td>member</td>\n",
       "    </tr>\n",
       "    <tr>\n",
       "      <th>4</th>\n",
       "      <td>B93587D5FA305113</td>\n",
       "      <td>classic_bike</td>\n",
       "      <td>2021-12-04 16:03:04</td>\n",
       "      <td>2021-12-04 16:06:47</td>\n",
       "      <td>Columbia St &amp; Degraw St</td>\n",
       "      <td>4422.04</td>\n",
       "      <td>Atlantic Ave &amp; Furman St</td>\n",
       "      <td>4614.04</td>\n",
       "      <td>40.685930</td>\n",
       "      <td>-74.002424</td>\n",
       "      <td>40.691652</td>\n",
       "      <td>-73.999979</td>\n",
       "      <td>member</td>\n",
       "    </tr>\n",
       "  </tbody>\n",
       "</table>\n",
       "</div>"
      ],
      "text/plain": [
       "            ride_id rideable_type           started_at             ended_at  \\\n",
       "0  7AE6209F17967FF2  classic_bike  2021-12-07 08:54:24  2021-12-07 08:59:46   \n",
       "1  CCE209B6D683C96A  classic_bike  2021-12-13 21:22:35  2021-12-13 21:31:24   \n",
       "2  333961DE681551DA  classic_bike  2021-12-17 22:21:56  2021-12-17 22:30:41   \n",
       "3  E5F6240DEF91E399  classic_bike  2021-12-13 17:44:19  2021-12-13 17:51:35   \n",
       "4  B93587D5FA305113  classic_bike  2021-12-04 16:03:04  2021-12-04 16:06:47   \n",
       "\n",
       "        start_station_name start_station_id               end_station_name  \\\n",
       "0    Broadway & Hancock St          4441.06         Lewis Ave & Madison St   \n",
       "1       S 4 St & Wythe Ave          5204.05  Metropolitan Ave & Meeker Ave   \n",
       "2         6 Ave & Canal St          5500.07        University Pl & E 14 St   \n",
       "3        E 2 St & Avenue C          5476.03                E 11 St & 3 Ave   \n",
       "4  Columbia St & Degraw St          4422.04       Atlantic Ave & Furman St   \n",
       "\n",
       "  end_station_id  start_lat  start_lng    end_lat    end_lng member_casual  \n",
       "0        4425.02  40.686630 -73.916800  40.686312 -73.935775        member  \n",
       "1        5300.05  40.712859 -73.965903  40.714133 -73.952344        member  \n",
       "2        5905.14  40.722438 -74.005664  40.734814 -73.992085        member  \n",
       "3        5788.16  40.720874 -73.980858  40.731270 -73.988490        member  \n",
       "4        4614.04  40.685930 -74.002424  40.691652 -73.999979        member  "
      ]
     },
     "execution_count": 85,
     "metadata": {},
     "output_type": "execute_result"
    }
   ],
   "source": [
    "df.head()"
   ]
  },
  {
   "cell_type": "markdown",
   "id": "c3fd3e4f-d6e1-4025-88db-086218b551c0",
   "metadata": {},
   "source": [
    "## Selecting and slicing data from a DataFrame"
   ]
  },
  {
   "cell_type": "markdown",
   "id": "f5869798-e37b-43a0-831d-0c37522f9381",
   "metadata": {},
   "source": [
    "Let's work with the Citibike trip data to practice selecting data."
   ]
  },
  {
   "cell_type": "markdown",
   "id": "a54133da-6cf6-46c8-b6b2-8c4b2db10459",
   "metadata": {},
   "source": [
    "Read and unzip the data."
   ]
  },
  {
   "cell_type": "code",
   "execution_count": 86,
   "id": "5ac4bc5c-1064-4350-bab5-4e38b78302cd",
   "metadata": {},
   "outputs": [],
   "source": [
    "url = \"https://s3.amazonaws.com/tripdata/202010-citibike-tripdata.csv.zip\""
   ]
  },
  {
   "cell_type": "code",
   "execution_count": 87,
   "id": "766a3e92-355d-4acc-a04e-2871dfad0359",
   "metadata": {},
   "outputs": [],
   "source": [
    "trips = read_zipped_csv(url)"
   ]
  },
  {
   "cell_type": "markdown",
   "id": "8e201c2b-8f29-43c3-b818-d7bc516a6df5",
   "metadata": {},
   "source": [
    "View the first five rows."
   ]
  },
  {
   "cell_type": "code",
   "execution_count": 88,
   "id": "db69e568-bbbc-4176-b589-4fab449419f8",
   "metadata": {},
   "outputs": [
    {
     "data": {
      "text/html": [
       "<div>\n",
       "<style scoped>\n",
       "    .dataframe tbody tr th:only-of-type {\n",
       "        vertical-align: middle;\n",
       "    }\n",
       "\n",
       "    .dataframe tbody tr th {\n",
       "        vertical-align: top;\n",
       "    }\n",
       "\n",
       "    .dataframe thead th {\n",
       "        text-align: right;\n",
       "    }\n",
       "</style>\n",
       "<table border=\"1\" class=\"dataframe\">\n",
       "  <thead>\n",
       "    <tr style=\"text-align: right;\">\n",
       "      <th></th>\n",
       "      <th>tripduration</th>\n",
       "      <th>starttime</th>\n",
       "      <th>stoptime</th>\n",
       "      <th>start station id</th>\n",
       "      <th>start station name</th>\n",
       "      <th>start station latitude</th>\n",
       "      <th>start station longitude</th>\n",
       "      <th>end station id</th>\n",
       "      <th>end station name</th>\n",
       "      <th>end station latitude</th>\n",
       "      <th>end station longitude</th>\n",
       "      <th>bikeid</th>\n",
       "      <th>usertype</th>\n",
       "      <th>birth year</th>\n",
       "      <th>gender</th>\n",
       "    </tr>\n",
       "  </thead>\n",
       "  <tbody>\n",
       "    <tr>\n",
       "      <th>0</th>\n",
       "      <td>1403</td>\n",
       "      <td>2020-10-01 00:00:10.7870</td>\n",
       "      <td>2020-10-01 00:23:34.5400</td>\n",
       "      <td>224</td>\n",
       "      <td>Spruce St &amp; Nassau St</td>\n",
       "      <td>40.711464</td>\n",
       "      <td>-74.005524</td>\n",
       "      <td>3347</td>\n",
       "      <td>Van Brunt St &amp; Wolcott St</td>\n",
       "      <td>40.677343</td>\n",
       "      <td>-74.012751</td>\n",
       "      <td>39079</td>\n",
       "      <td>Subscriber</td>\n",
       "      <td>1995</td>\n",
       "      <td>1</td>\n",
       "    </tr>\n",
       "    <tr>\n",
       "      <th>1</th>\n",
       "      <td>462</td>\n",
       "      <td>2020-10-01 00:00:18.2390</td>\n",
       "      <td>2020-10-01 00:08:00.5710</td>\n",
       "      <td>3161</td>\n",
       "      <td>W 76 St &amp; Columbus Ave</td>\n",
       "      <td>40.780184</td>\n",
       "      <td>-73.977285</td>\n",
       "      <td>3158</td>\n",
       "      <td>W 63 St &amp; Broadway</td>\n",
       "      <td>40.771639</td>\n",
       "      <td>-73.982614</td>\n",
       "      <td>41267</td>\n",
       "      <td>Subscriber</td>\n",
       "      <td>1998</td>\n",
       "      <td>2</td>\n",
       "    </tr>\n",
       "    <tr>\n",
       "      <th>2</th>\n",
       "      <td>770</td>\n",
       "      <td>2020-10-01 00:00:21.3070</td>\n",
       "      <td>2020-10-01 00:13:12.0840</td>\n",
       "      <td>354</td>\n",
       "      <td>Emerson Pl &amp; Myrtle Ave</td>\n",
       "      <td>40.693631</td>\n",
       "      <td>-73.962236</td>\n",
       "      <td>3761</td>\n",
       "      <td>Cedar St &amp; Myrtle Ave</td>\n",
       "      <td>40.697842</td>\n",
       "      <td>-73.926241</td>\n",
       "      <td>47398</td>\n",
       "      <td>Customer</td>\n",
       "      <td>1996</td>\n",
       "      <td>1</td>\n",
       "    </tr>\n",
       "    <tr>\n",
       "      <th>3</th>\n",
       "      <td>233</td>\n",
       "      <td>2020-10-01 00:00:25.0080</td>\n",
       "      <td>2020-10-01 00:04:18.6410</td>\n",
       "      <td>3141</td>\n",
       "      <td>1 Ave &amp; E 68 St</td>\n",
       "      <td>40.765005</td>\n",
       "      <td>-73.958185</td>\n",
       "      <td>464</td>\n",
       "      <td>E 56 St &amp; 3 Ave</td>\n",
       "      <td>40.759345</td>\n",
       "      <td>-73.967597</td>\n",
       "      <td>36482</td>\n",
       "      <td>Subscriber</td>\n",
       "      <td>1993</td>\n",
       "      <td>1</td>\n",
       "    </tr>\n",
       "    <tr>\n",
       "      <th>4</th>\n",
       "      <td>126</td>\n",
       "      <td>2020-10-01 00:00:25.3100</td>\n",
       "      <td>2020-10-01 00:02:32.1330</td>\n",
       "      <td>335</td>\n",
       "      <td>Washington Pl &amp; Broadway</td>\n",
       "      <td>40.729039</td>\n",
       "      <td>-73.994046</td>\n",
       "      <td>229</td>\n",
       "      <td>Great Jones St</td>\n",
       "      <td>40.727434</td>\n",
       "      <td>-73.993790</td>\n",
       "      <td>45319</td>\n",
       "      <td>Subscriber</td>\n",
       "      <td>1989</td>\n",
       "      <td>1</td>\n",
       "    </tr>\n",
       "  </tbody>\n",
       "</table>\n",
       "</div>"
      ],
      "text/plain": [
       "   tripduration                 starttime                  stoptime  \\\n",
       "0          1403  2020-10-01 00:00:10.7870  2020-10-01 00:23:34.5400   \n",
       "1           462  2020-10-01 00:00:18.2390  2020-10-01 00:08:00.5710   \n",
       "2           770  2020-10-01 00:00:21.3070  2020-10-01 00:13:12.0840   \n",
       "3           233  2020-10-01 00:00:25.0080  2020-10-01 00:04:18.6410   \n",
       "4           126  2020-10-01 00:00:25.3100  2020-10-01 00:02:32.1330   \n",
       "\n",
       "   start station id        start station name  start station latitude  \\\n",
       "0               224     Spruce St & Nassau St               40.711464   \n",
       "1              3161    W 76 St & Columbus Ave               40.780184   \n",
       "2               354   Emerson Pl & Myrtle Ave               40.693631   \n",
       "3              3141           1 Ave & E 68 St               40.765005   \n",
       "4               335  Washington Pl & Broadway               40.729039   \n",
       "\n",
       "   start station longitude  end station id           end station name  \\\n",
       "0               -74.005524            3347  Van Brunt St & Wolcott St   \n",
       "1               -73.977285            3158         W 63 St & Broadway   \n",
       "2               -73.962236            3761      Cedar St & Myrtle Ave   \n",
       "3               -73.958185             464            E 56 St & 3 Ave   \n",
       "4               -73.994046             229             Great Jones St   \n",
       "\n",
       "   end station latitude  end station longitude  bikeid    usertype  \\\n",
       "0             40.677343             -74.012751   39079  Subscriber   \n",
       "1             40.771639             -73.982614   41267  Subscriber   \n",
       "2             40.697842             -73.926241   47398    Customer   \n",
       "3             40.759345             -73.967597   36482  Subscriber   \n",
       "4             40.727434             -73.993790   45319  Subscriber   \n",
       "\n",
       "   birth year  gender  \n",
       "0        1995       1  \n",
       "1        1998       2  \n",
       "2        1996       1  \n",
       "3        1993       1  \n",
       "4        1989       1  "
      ]
     },
     "execution_count": 88,
     "metadata": {},
     "output_type": "execute_result"
    }
   ],
   "source": [
    "trips.head()"
   ]
  },
  {
   "cell_type": "markdown",
   "id": "a72b4e5d-1e07-4dce-b572-02baa8a86db8",
   "metadata": {},
   "source": [
    "You can select a single column using single bracket notation:"
   ]
  },
  {
   "cell_type": "code",
   "execution_count": 89,
   "id": "5d04dd67-4870-4510-99af-7ebd3a9bf82e",
   "metadata": {},
   "outputs": [
    {
     "data": {
      "text/plain": [
       "0          2020-10-01 00:00:10.7870\n",
       "1          2020-10-01 00:00:18.2390\n",
       "2          2020-10-01 00:00:21.3070\n",
       "3          2020-10-01 00:00:25.0080\n",
       "4          2020-10-01 00:00:25.3100\n",
       "                     ...           \n",
       "2248864    2020-10-31 23:59:48.4470\n",
       "2248865    2020-10-31 23:59:49.3770\n",
       "2248866    2020-10-31 23:59:52.1040\n",
       "2248867    2020-10-31 23:59:53.0290\n",
       "2248868    2020-10-31 23:59:57.9770\n",
       "Name: starttime, Length: 2248869, dtype: object"
      ]
     },
     "execution_count": 89,
     "metadata": {},
     "output_type": "execute_result"
    }
   ],
   "source": [
    "# select a single column by column name\n",
    "# this is a pandas series\n",
    "trips['starttime']"
   ]
  },
  {
   "cell_type": "code",
   "execution_count": 90,
   "id": "94d48f23-02b7-43fd-ba9f-e5c6bf9801af",
   "metadata": {},
   "outputs": [
    {
     "data": {
      "text/html": [
       "<div>\n",
       "<style scoped>\n",
       "    .dataframe tbody tr th:only-of-type {\n",
       "        vertical-align: middle;\n",
       "    }\n",
       "\n",
       "    .dataframe tbody tr th {\n",
       "        vertical-align: top;\n",
       "    }\n",
       "\n",
       "    .dataframe thead th {\n",
       "        text-align: right;\n",
       "    }\n",
       "</style>\n",
       "<table border=\"1\" class=\"dataframe\">\n",
       "  <thead>\n",
       "    <tr style=\"text-align: right;\">\n",
       "      <th></th>\n",
       "      <th>usertype</th>\n",
       "      <th>tripduration</th>\n",
       "    </tr>\n",
       "  </thead>\n",
       "  <tbody>\n",
       "    <tr>\n",
       "      <th>0</th>\n",
       "      <td>Subscriber</td>\n",
       "      <td>1403</td>\n",
       "    </tr>\n",
       "    <tr>\n",
       "      <th>1</th>\n",
       "      <td>Subscriber</td>\n",
       "      <td>462</td>\n",
       "    </tr>\n",
       "    <tr>\n",
       "      <th>2</th>\n",
       "      <td>Customer</td>\n",
       "      <td>770</td>\n",
       "    </tr>\n",
       "    <tr>\n",
       "      <th>3</th>\n",
       "      <td>Subscriber</td>\n",
       "      <td>233</td>\n",
       "    </tr>\n",
       "    <tr>\n",
       "      <th>4</th>\n",
       "      <td>Subscriber</td>\n",
       "      <td>126</td>\n",
       "    </tr>\n",
       "    <tr>\n",
       "      <th>...</th>\n",
       "      <td>...</td>\n",
       "      <td>...</td>\n",
       "    </tr>\n",
       "    <tr>\n",
       "      <th>2248864</th>\n",
       "      <td>Customer</td>\n",
       "      <td>1120</td>\n",
       "    </tr>\n",
       "    <tr>\n",
       "      <th>2248865</th>\n",
       "      <td>Customer</td>\n",
       "      <td>859</td>\n",
       "    </tr>\n",
       "    <tr>\n",
       "      <th>2248866</th>\n",
       "      <td>Subscriber</td>\n",
       "      <td>546</td>\n",
       "    </tr>\n",
       "    <tr>\n",
       "      <th>2248867</th>\n",
       "      <td>Subscriber</td>\n",
       "      <td>748</td>\n",
       "    </tr>\n",
       "    <tr>\n",
       "      <th>2248868</th>\n",
       "      <td>Subscriber</td>\n",
       "      <td>1366</td>\n",
       "    </tr>\n",
       "  </tbody>\n",
       "</table>\n",
       "<p>2248869 rows × 2 columns</p>\n",
       "</div>"
      ],
      "text/plain": [
       "           usertype  tripduration\n",
       "0        Subscriber          1403\n",
       "1        Subscriber           462\n",
       "2          Customer           770\n",
       "3        Subscriber           233\n",
       "4        Subscriber           126\n",
       "...             ...           ...\n",
       "2248864    Customer          1120\n",
       "2248865    Customer           859\n",
       "2248866  Subscriber           546\n",
       "2248867  Subscriber           748\n",
       "2248868  Subscriber          1366\n",
       "\n",
       "[2248869 rows x 2 columns]"
      ]
     },
     "execution_count": 90,
     "metadata": {},
     "output_type": "execute_result"
    }
   ],
   "source": [
    "# select multiple columns by a list of column names\n",
    "# this is a pandas dataframe that is a subset of the original\n",
    "trips[['usertype', 'tripduration']]"
   ]
  },
  {
   "cell_type": "code",
   "execution_count": 91,
   "id": "0950db42-2302-4847-900a-2d581baf9c2d",
   "metadata": {},
   "outputs": [
    {
     "data": {
      "text/html": [
       "<div>\n",
       "<style scoped>\n",
       "    .dataframe tbody tr th:only-of-type {\n",
       "        vertical-align: middle;\n",
       "    }\n",
       "\n",
       "    .dataframe tbody tr th {\n",
       "        vertical-align: top;\n",
       "    }\n",
       "\n",
       "    .dataframe thead th {\n",
       "        text-align: right;\n",
       "    }\n",
       "</style>\n",
       "<table border=\"1\" class=\"dataframe\">\n",
       "  <thead>\n",
       "    <tr style=\"text-align: right;\">\n",
       "      <th></th>\n",
       "      <th>tripduration</th>\n",
       "      <th>starttime</th>\n",
       "      <th>stoptime</th>\n",
       "      <th>start station id</th>\n",
       "      <th>start station name</th>\n",
       "      <th>start station latitude</th>\n",
       "      <th>start station longitude</th>\n",
       "      <th>end station id</th>\n",
       "      <th>end station name</th>\n",
       "      <th>end station latitude</th>\n",
       "      <th>end station longitude</th>\n",
       "      <th>bikeid</th>\n",
       "      <th>usertype</th>\n",
       "      <th>birth year</th>\n",
       "      <th>gender</th>\n",
       "    </tr>\n",
       "  </thead>\n",
       "  <tbody>\n",
       "    <tr>\n",
       "      <th>0</th>\n",
       "      <td>1403</td>\n",
       "      <td>2020-10-01 00:00:10.7870</td>\n",
       "      <td>2020-10-01 00:23:34.5400</td>\n",
       "      <td>224</td>\n",
       "      <td>Spruce St &amp; Nassau St</td>\n",
       "      <td>40.711464</td>\n",
       "      <td>-74.005524</td>\n",
       "      <td>3347</td>\n",
       "      <td>Van Brunt St &amp; Wolcott St</td>\n",
       "      <td>40.677343</td>\n",
       "      <td>-74.012751</td>\n",
       "      <td>39079</td>\n",
       "      <td>Subscriber</td>\n",
       "      <td>1995</td>\n",
       "      <td>1</td>\n",
       "    </tr>\n",
       "    <tr>\n",
       "      <th>1</th>\n",
       "      <td>462</td>\n",
       "      <td>2020-10-01 00:00:18.2390</td>\n",
       "      <td>2020-10-01 00:08:00.5710</td>\n",
       "      <td>3161</td>\n",
       "      <td>W 76 St &amp; Columbus Ave</td>\n",
       "      <td>40.780184</td>\n",
       "      <td>-73.977285</td>\n",
       "      <td>3158</td>\n",
       "      <td>W 63 St &amp; Broadway</td>\n",
       "      <td>40.771639</td>\n",
       "      <td>-73.982614</td>\n",
       "      <td>41267</td>\n",
       "      <td>Subscriber</td>\n",
       "      <td>1998</td>\n",
       "      <td>2</td>\n",
       "    </tr>\n",
       "    <tr>\n",
       "      <th>2</th>\n",
       "      <td>770</td>\n",
       "      <td>2020-10-01 00:00:21.3070</td>\n",
       "      <td>2020-10-01 00:13:12.0840</td>\n",
       "      <td>354</td>\n",
       "      <td>Emerson Pl &amp; Myrtle Ave</td>\n",
       "      <td>40.693631</td>\n",
       "      <td>-73.962236</td>\n",
       "      <td>3761</td>\n",
       "      <td>Cedar St &amp; Myrtle Ave</td>\n",
       "      <td>40.697842</td>\n",
       "      <td>-73.926241</td>\n",
       "      <td>47398</td>\n",
       "      <td>Customer</td>\n",
       "      <td>1996</td>\n",
       "      <td>1</td>\n",
       "    </tr>\n",
       "    <tr>\n",
       "      <th>3</th>\n",
       "      <td>233</td>\n",
       "      <td>2020-10-01 00:00:25.0080</td>\n",
       "      <td>2020-10-01 00:04:18.6410</td>\n",
       "      <td>3141</td>\n",
       "      <td>1 Ave &amp; E 68 St</td>\n",
       "      <td>40.765005</td>\n",
       "      <td>-73.958185</td>\n",
       "      <td>464</td>\n",
       "      <td>E 56 St &amp; 3 Ave</td>\n",
       "      <td>40.759345</td>\n",
       "      <td>-73.967597</td>\n",
       "      <td>36482</td>\n",
       "      <td>Subscriber</td>\n",
       "      <td>1993</td>\n",
       "      <td>1</td>\n",
       "    </tr>\n",
       "    <tr>\n",
       "      <th>4</th>\n",
       "      <td>126</td>\n",
       "      <td>2020-10-01 00:00:25.3100</td>\n",
       "      <td>2020-10-01 00:02:32.1330</td>\n",
       "      <td>335</td>\n",
       "      <td>Washington Pl &amp; Broadway</td>\n",
       "      <td>40.729039</td>\n",
       "      <td>-73.994046</td>\n",
       "      <td>229</td>\n",
       "      <td>Great Jones St</td>\n",
       "      <td>40.727434</td>\n",
       "      <td>-73.993790</td>\n",
       "      <td>45319</td>\n",
       "      <td>Subscriber</td>\n",
       "      <td>1989</td>\n",
       "      <td>1</td>\n",
       "    </tr>\n",
       "  </tbody>\n",
       "</table>\n",
       "</div>"
      ],
      "text/plain": [
       "   tripduration                 starttime                  stoptime  \\\n",
       "0          1403  2020-10-01 00:00:10.7870  2020-10-01 00:23:34.5400   \n",
       "1           462  2020-10-01 00:00:18.2390  2020-10-01 00:08:00.5710   \n",
       "2           770  2020-10-01 00:00:21.3070  2020-10-01 00:13:12.0840   \n",
       "3           233  2020-10-01 00:00:25.0080  2020-10-01 00:04:18.6410   \n",
       "4           126  2020-10-01 00:00:25.3100  2020-10-01 00:02:32.1330   \n",
       "\n",
       "   start station id        start station name  start station latitude  \\\n",
       "0               224     Spruce St & Nassau St               40.711464   \n",
       "1              3161    W 76 St & Columbus Ave               40.780184   \n",
       "2               354   Emerson Pl & Myrtle Ave               40.693631   \n",
       "3              3141           1 Ave & E 68 St               40.765005   \n",
       "4               335  Washington Pl & Broadway               40.729039   \n",
       "\n",
       "   start station longitude  end station id           end station name  \\\n",
       "0               -74.005524            3347  Van Brunt St & Wolcott St   \n",
       "1               -73.977285            3158         W 63 St & Broadway   \n",
       "2               -73.962236            3761      Cedar St & Myrtle Ave   \n",
       "3               -73.958185             464            E 56 St & 3 Ave   \n",
       "4               -73.994046             229             Great Jones St   \n",
       "\n",
       "   end station latitude  end station longitude  bikeid    usertype  \\\n",
       "0             40.677343             -74.012751   39079  Subscriber   \n",
       "1             40.771639             -73.982614   41267  Subscriber   \n",
       "2             40.697842             -73.926241   47398    Customer   \n",
       "3             40.759345             -73.967597   36482  Subscriber   \n",
       "4             40.727434             -73.993790   45319  Subscriber   \n",
       "\n",
       "   birth year  gender  \n",
       "0        1995       1  \n",
       "1        1998       2  \n",
       "2        1996       1  \n",
       "3        1993       1  \n",
       "4        1989       1  "
      ]
     },
     "execution_count": 91,
     "metadata": {},
     "output_type": "execute_result"
    }
   ],
   "source": [
    "trips.head()"
   ]
  },
  {
   "cell_type": "code",
   "execution_count": 92,
   "id": "11448196-8b3a-441a-b30b-f9edbd650707",
   "metadata": {},
   "outputs": [],
   "source": [
    "# create a new column by assigning df['new_col'] to some set of values\n",
    "# you can do math operations on any numeric columns\n",
    "\n",
    "# trip duration is currentlty in seconds\n",
    "# lets create a new column containing duration in minutes\n",
    "trips[\"tripduration_mins\"] = trips[\"tripduration\"] / 60"
   ]
  },
  {
   "cell_type": "code",
   "execution_count": 93,
   "id": "fdf577c1-8825-4bae-9757-2de4818f7c64",
   "metadata": {},
   "outputs": [
    {
     "data": {
      "text/html": [
       "<div>\n",
       "<style scoped>\n",
       "    .dataframe tbody tr th:only-of-type {\n",
       "        vertical-align: middle;\n",
       "    }\n",
       "\n",
       "    .dataframe tbody tr th {\n",
       "        vertical-align: top;\n",
       "    }\n",
       "\n",
       "    .dataframe thead th {\n",
       "        text-align: right;\n",
       "    }\n",
       "</style>\n",
       "<table border=\"1\" class=\"dataframe\">\n",
       "  <thead>\n",
       "    <tr style=\"text-align: right;\">\n",
       "      <th></th>\n",
       "      <th>tripduration</th>\n",
       "      <th>tripduration_mins</th>\n",
       "    </tr>\n",
       "  </thead>\n",
       "  <tbody>\n",
       "    <tr>\n",
       "      <th>0</th>\n",
       "      <td>1403</td>\n",
       "      <td>23.383333</td>\n",
       "    </tr>\n",
       "    <tr>\n",
       "      <th>1</th>\n",
       "      <td>462</td>\n",
       "      <td>7.700000</td>\n",
       "    </tr>\n",
       "    <tr>\n",
       "      <th>2</th>\n",
       "      <td>770</td>\n",
       "      <td>12.833333</td>\n",
       "    </tr>\n",
       "    <tr>\n",
       "      <th>3</th>\n",
       "      <td>233</td>\n",
       "      <td>3.883333</td>\n",
       "    </tr>\n",
       "    <tr>\n",
       "      <th>4</th>\n",
       "      <td>126</td>\n",
       "      <td>2.100000</td>\n",
       "    </tr>\n",
       "  </tbody>\n",
       "</table>\n",
       "</div>"
      ],
      "text/plain": [
       "   tripduration  tripduration_mins\n",
       "0          1403          23.383333\n",
       "1           462           7.700000\n",
       "2           770          12.833333\n",
       "3           233           3.883333\n",
       "4           126           2.100000"
      ]
     },
     "execution_count": 93,
     "metadata": {},
     "output_type": "execute_result"
    }
   ],
   "source": [
    "# inspect the results\n",
    "trips[[\"tripduration\",\"tripduration_mins\"]].head()"
   ]
  },
  {
   "cell_type": "markdown",
   "id": "12ab40b7-b15e-4c24-8ad7-13552e0d2c19",
   "metadata": {},
   "source": [
    "You can select several columns by passing a list of columns into the square bracket notation:"
   ]
  },
  {
   "cell_type": "code",
   "execution_count": 94,
   "id": "9f2ef42b-16c3-4595-be50-c56173d854fc",
   "metadata": {},
   "outputs": [
    {
     "data": {
      "text/html": [
       "<div>\n",
       "<style scoped>\n",
       "    .dataframe tbody tr th:only-of-type {\n",
       "        vertical-align: middle;\n",
       "    }\n",
       "\n",
       "    .dataframe tbody tr th {\n",
       "        vertical-align: top;\n",
       "    }\n",
       "\n",
       "    .dataframe thead th {\n",
       "        text-align: right;\n",
       "    }\n",
       "</style>\n",
       "<table border=\"1\" class=\"dataframe\">\n",
       "  <thead>\n",
       "    <tr style=\"text-align: right;\">\n",
       "      <th></th>\n",
       "      <th>starttime</th>\n",
       "      <th>stoptime</th>\n",
       "      <th>usertype</th>\n",
       "    </tr>\n",
       "  </thead>\n",
       "  <tbody>\n",
       "    <tr>\n",
       "      <th>0</th>\n",
       "      <td>2020-10-01 00:00:10.7870</td>\n",
       "      <td>2020-10-01 00:23:34.5400</td>\n",
       "      <td>Subscriber</td>\n",
       "    </tr>\n",
       "    <tr>\n",
       "      <th>1</th>\n",
       "      <td>2020-10-01 00:00:18.2390</td>\n",
       "      <td>2020-10-01 00:08:00.5710</td>\n",
       "      <td>Subscriber</td>\n",
       "    </tr>\n",
       "    <tr>\n",
       "      <th>2</th>\n",
       "      <td>2020-10-01 00:00:21.3070</td>\n",
       "      <td>2020-10-01 00:13:12.0840</td>\n",
       "      <td>Customer</td>\n",
       "    </tr>\n",
       "    <tr>\n",
       "      <th>3</th>\n",
       "      <td>2020-10-01 00:00:25.0080</td>\n",
       "      <td>2020-10-01 00:04:18.6410</td>\n",
       "      <td>Subscriber</td>\n",
       "    </tr>\n",
       "    <tr>\n",
       "      <th>4</th>\n",
       "      <td>2020-10-01 00:00:25.3100</td>\n",
       "      <td>2020-10-01 00:02:32.1330</td>\n",
       "      <td>Subscriber</td>\n",
       "    </tr>\n",
       "    <tr>\n",
       "      <th>...</th>\n",
       "      <td>...</td>\n",
       "      <td>...</td>\n",
       "      <td>...</td>\n",
       "    </tr>\n",
       "    <tr>\n",
       "      <th>2248864</th>\n",
       "      <td>2020-10-31 23:59:48.4470</td>\n",
       "      <td>2020-11-01 00:18:29.3280</td>\n",
       "      <td>Customer</td>\n",
       "    </tr>\n",
       "    <tr>\n",
       "      <th>2248865</th>\n",
       "      <td>2020-10-31 23:59:49.3770</td>\n",
       "      <td>2020-11-01 00:14:09.1920</td>\n",
       "      <td>Customer</td>\n",
       "    </tr>\n",
       "    <tr>\n",
       "      <th>2248866</th>\n",
       "      <td>2020-10-31 23:59:52.1040</td>\n",
       "      <td>2020-11-01 00:08:59.0710</td>\n",
       "      <td>Subscriber</td>\n",
       "    </tr>\n",
       "    <tr>\n",
       "      <th>2248867</th>\n",
       "      <td>2020-10-31 23:59:53.0290</td>\n",
       "      <td>2020-11-01 00:12:21.7830</td>\n",
       "      <td>Subscriber</td>\n",
       "    </tr>\n",
       "    <tr>\n",
       "      <th>2248868</th>\n",
       "      <td>2020-10-31 23:59:57.9770</td>\n",
       "      <td>2020-11-01 00:22:44.1290</td>\n",
       "      <td>Subscriber</td>\n",
       "    </tr>\n",
       "  </tbody>\n",
       "</table>\n",
       "<p>2248869 rows × 3 columns</p>\n",
       "</div>"
      ],
      "text/plain": [
       "                        starttime                  stoptime    usertype\n",
       "0        2020-10-01 00:00:10.7870  2020-10-01 00:23:34.5400  Subscriber\n",
       "1        2020-10-01 00:00:18.2390  2020-10-01 00:08:00.5710  Subscriber\n",
       "2        2020-10-01 00:00:21.3070  2020-10-01 00:13:12.0840    Customer\n",
       "3        2020-10-01 00:00:25.0080  2020-10-01 00:04:18.6410  Subscriber\n",
       "4        2020-10-01 00:00:25.3100  2020-10-01 00:02:32.1330  Subscriber\n",
       "...                           ...                       ...         ...\n",
       "2248864  2020-10-31 23:59:48.4470  2020-11-01 00:18:29.3280    Customer\n",
       "2248865  2020-10-31 23:59:49.3770  2020-11-01 00:14:09.1920    Customer\n",
       "2248866  2020-10-31 23:59:52.1040  2020-11-01 00:08:59.0710  Subscriber\n",
       "2248867  2020-10-31 23:59:53.0290  2020-11-01 00:12:21.7830  Subscriber\n",
       "2248868  2020-10-31 23:59:57.9770  2020-11-01 00:22:44.1290  Subscriber\n",
       "\n",
       "[2248869 rows x 3 columns]"
      ]
     },
     "execution_count": 94,
     "metadata": {},
     "output_type": "execute_result"
    }
   ],
   "source": [
    "trips[['starttime', 'stoptime', 'usertype']]"
   ]
  },
  {
   "cell_type": "markdown",
   "id": "675d38de-0488-437b-af39-ce09f6a20578",
   "metadata": {},
   "source": [
    "What are the user type categories?"
   ]
  },
  {
   "cell_type": "code",
   "execution_count": 95,
   "id": "46cca778-898d-4f56-a74c-532c6db8985d",
   "metadata": {},
   "outputs": [
    {
     "data": {
      "text/plain": [
       "array(['Subscriber', 'Customer'], dtype=object)"
      ]
     },
     "execution_count": 95,
     "metadata": {},
     "output_type": "execute_result"
    }
   ],
   "source": [
    "trips['usertype'].unique()"
   ]
  },
  {
   "cell_type": "markdown",
   "id": "7a644021-a38b-48df-a193-9776bd916398",
   "metadata": {},
   "source": [
    "How many trips for each user type category?"
   ]
  },
  {
   "cell_type": "code",
   "execution_count": 96,
   "id": "e9ba285c-735b-41b9-9bf4-b599aee24181",
   "metadata": {},
   "outputs": [
    {
     "data": {
      "text/plain": [
       "Subscriber    1702115\n",
       "Customer       546754\n",
       "Name: usertype, dtype: int64"
      ]
     },
     "execution_count": 96,
     "metadata": {},
     "output_type": "execute_result"
    }
   ],
   "source": [
    "trips['usertype'].value_counts()"
   ]
  },
  {
   "cell_type": "markdown",
   "id": "a152acc6-2745-4767-9de6-4d6279f0c6cf",
   "metadata": {},
   "source": [
    "### Select (Filter) by Value"
   ]
  },
  {
   "cell_type": "markdown",
   "id": "804dfea1-71fc-4468-b840-2ab7f8520b52",
   "metadata": {},
   "source": [
    "We can use square bracket notation to select the rows in `trips` where `trips['usertype'] == 'Subscriber'`."
   ]
  },
  {
   "cell_type": "code",
   "execution_count": 97,
   "id": "1b8b50c6-8b31-40ff-b4f4-e91abb810981",
   "metadata": {},
   "outputs": [],
   "source": [
    "subscriber_trips = trips[trips['usertype'] == 'Subscriber']"
   ]
  },
  {
   "cell_type": "code",
   "execution_count": 98,
   "id": "0fd08bfe-f07f-4e18-a6f6-98077246ac33",
   "metadata": {},
   "outputs": [
    {
     "data": {
      "text/html": [
       "<div>\n",
       "<style scoped>\n",
       "    .dataframe tbody tr th:only-of-type {\n",
       "        vertical-align: middle;\n",
       "    }\n",
       "\n",
       "    .dataframe tbody tr th {\n",
       "        vertical-align: top;\n",
       "    }\n",
       "\n",
       "    .dataframe thead th {\n",
       "        text-align: right;\n",
       "    }\n",
       "</style>\n",
       "<table border=\"1\" class=\"dataframe\">\n",
       "  <thead>\n",
       "    <tr style=\"text-align: right;\">\n",
       "      <th></th>\n",
       "      <th>tripduration</th>\n",
       "      <th>starttime</th>\n",
       "      <th>stoptime</th>\n",
       "      <th>start station id</th>\n",
       "      <th>start station name</th>\n",
       "      <th>start station latitude</th>\n",
       "      <th>start station longitude</th>\n",
       "      <th>end station id</th>\n",
       "      <th>end station name</th>\n",
       "      <th>end station latitude</th>\n",
       "      <th>end station longitude</th>\n",
       "      <th>bikeid</th>\n",
       "      <th>usertype</th>\n",
       "      <th>birth year</th>\n",
       "      <th>gender</th>\n",
       "      <th>tripduration_mins</th>\n",
       "    </tr>\n",
       "  </thead>\n",
       "  <tbody>\n",
       "    <tr>\n",
       "      <th>0</th>\n",
       "      <td>1403</td>\n",
       "      <td>2020-10-01 00:00:10.7870</td>\n",
       "      <td>2020-10-01 00:23:34.5400</td>\n",
       "      <td>224</td>\n",
       "      <td>Spruce St &amp; Nassau St</td>\n",
       "      <td>40.711464</td>\n",
       "      <td>-74.005524</td>\n",
       "      <td>3347</td>\n",
       "      <td>Van Brunt St &amp; Wolcott St</td>\n",
       "      <td>40.677343</td>\n",
       "      <td>-74.012751</td>\n",
       "      <td>39079</td>\n",
       "      <td>Subscriber</td>\n",
       "      <td>1995</td>\n",
       "      <td>1</td>\n",
       "      <td>23.383333</td>\n",
       "    </tr>\n",
       "    <tr>\n",
       "      <th>1</th>\n",
       "      <td>462</td>\n",
       "      <td>2020-10-01 00:00:18.2390</td>\n",
       "      <td>2020-10-01 00:08:00.5710</td>\n",
       "      <td>3161</td>\n",
       "      <td>W 76 St &amp; Columbus Ave</td>\n",
       "      <td>40.780184</td>\n",
       "      <td>-73.977285</td>\n",
       "      <td>3158</td>\n",
       "      <td>W 63 St &amp; Broadway</td>\n",
       "      <td>40.771639</td>\n",
       "      <td>-73.982614</td>\n",
       "      <td>41267</td>\n",
       "      <td>Subscriber</td>\n",
       "      <td>1998</td>\n",
       "      <td>2</td>\n",
       "      <td>7.700000</td>\n",
       "    </tr>\n",
       "    <tr>\n",
       "      <th>3</th>\n",
       "      <td>233</td>\n",
       "      <td>2020-10-01 00:00:25.0080</td>\n",
       "      <td>2020-10-01 00:04:18.6410</td>\n",
       "      <td>3141</td>\n",
       "      <td>1 Ave &amp; E 68 St</td>\n",
       "      <td>40.765005</td>\n",
       "      <td>-73.958185</td>\n",
       "      <td>464</td>\n",
       "      <td>E 56 St &amp; 3 Ave</td>\n",
       "      <td>40.759345</td>\n",
       "      <td>-73.967597</td>\n",
       "      <td>36482</td>\n",
       "      <td>Subscriber</td>\n",
       "      <td>1993</td>\n",
       "      <td>1</td>\n",
       "      <td>3.883333</td>\n",
       "    </tr>\n",
       "    <tr>\n",
       "      <th>4</th>\n",
       "      <td>126</td>\n",
       "      <td>2020-10-01 00:00:25.3100</td>\n",
       "      <td>2020-10-01 00:02:32.1330</td>\n",
       "      <td>335</td>\n",
       "      <td>Washington Pl &amp; Broadway</td>\n",
       "      <td>40.729039</td>\n",
       "      <td>-73.994046</td>\n",
       "      <td>229</td>\n",
       "      <td>Great Jones St</td>\n",
       "      <td>40.727434</td>\n",
       "      <td>-73.993790</td>\n",
       "      <td>45319</td>\n",
       "      <td>Subscriber</td>\n",
       "      <td>1989</td>\n",
       "      <td>1</td>\n",
       "      <td>2.100000</td>\n",
       "    </tr>\n",
       "    <tr>\n",
       "      <th>7</th>\n",
       "      <td>523</td>\n",
       "      <td>2020-10-01 00:00:41.0760</td>\n",
       "      <td>2020-10-01 00:09:24.7550</td>\n",
       "      <td>3435</td>\n",
       "      <td>Grand St &amp; Elizabeth St</td>\n",
       "      <td>40.718822</td>\n",
       "      <td>-73.995960</td>\n",
       "      <td>3435</td>\n",
       "      <td>Grand St &amp; Elizabeth St</td>\n",
       "      <td>40.718822</td>\n",
       "      <td>-73.995960</td>\n",
       "      <td>45297</td>\n",
       "      <td>Subscriber</td>\n",
       "      <td>1980</td>\n",
       "      <td>1</td>\n",
       "      <td>8.716667</td>\n",
       "    </tr>\n",
       "  </tbody>\n",
       "</table>\n",
       "</div>"
      ],
      "text/plain": [
       "   tripduration                 starttime                  stoptime  \\\n",
       "0          1403  2020-10-01 00:00:10.7870  2020-10-01 00:23:34.5400   \n",
       "1           462  2020-10-01 00:00:18.2390  2020-10-01 00:08:00.5710   \n",
       "3           233  2020-10-01 00:00:25.0080  2020-10-01 00:04:18.6410   \n",
       "4           126  2020-10-01 00:00:25.3100  2020-10-01 00:02:32.1330   \n",
       "7           523  2020-10-01 00:00:41.0760  2020-10-01 00:09:24.7550   \n",
       "\n",
       "   start station id        start station name  start station latitude  \\\n",
       "0               224     Spruce St & Nassau St               40.711464   \n",
       "1              3161    W 76 St & Columbus Ave               40.780184   \n",
       "3              3141           1 Ave & E 68 St               40.765005   \n",
       "4               335  Washington Pl & Broadway               40.729039   \n",
       "7              3435   Grand St & Elizabeth St               40.718822   \n",
       "\n",
       "   start station longitude  end station id           end station name  \\\n",
       "0               -74.005524            3347  Van Brunt St & Wolcott St   \n",
       "1               -73.977285            3158         W 63 St & Broadway   \n",
       "3               -73.958185             464            E 56 St & 3 Ave   \n",
       "4               -73.994046             229             Great Jones St   \n",
       "7               -73.995960            3435    Grand St & Elizabeth St   \n",
       "\n",
       "   end station latitude  end station longitude  bikeid    usertype  \\\n",
       "0             40.677343             -74.012751   39079  Subscriber   \n",
       "1             40.771639             -73.982614   41267  Subscriber   \n",
       "3             40.759345             -73.967597   36482  Subscriber   \n",
       "4             40.727434             -73.993790   45319  Subscriber   \n",
       "7             40.718822             -73.995960   45297  Subscriber   \n",
       "\n",
       "   birth year  gender  tripduration_mins  \n",
       "0        1995       1          23.383333  \n",
       "1        1998       2           7.700000  \n",
       "3        1993       1           3.883333  \n",
       "4        1989       1           2.100000  \n",
       "7        1980       1           8.716667  "
      ]
     },
     "execution_count": 98,
     "metadata": {},
     "output_type": "execute_result"
    }
   ],
   "source": [
    "subscriber_trips.head()"
   ]
  },
  {
   "cell_type": "markdown",
   "id": "4330eaf6-8a94-48c3-bf45-e8bad84eceac",
   "metadata": {},
   "source": [
    "Alternately, you can use `query()` function to select a subset of rows:"
   ]
  },
  {
   "cell_type": "code",
   "execution_count": 99,
   "id": "50a6e18d-813c-4c3a-820c-0ec26367b698",
   "metadata": {},
   "outputs": [],
   "source": [
    "subscriber_trips = trips.query(\"usertype == 'Subscriber'\")"
   ]
  },
  {
   "cell_type": "code",
   "execution_count": 100,
   "id": "6934a915-8d69-4fcf-ad47-c75fdc2fb772",
   "metadata": {},
   "outputs": [
    {
     "data": {
      "text/html": [
       "<div>\n",
       "<style scoped>\n",
       "    .dataframe tbody tr th:only-of-type {\n",
       "        vertical-align: middle;\n",
       "    }\n",
       "\n",
       "    .dataframe tbody tr th {\n",
       "        vertical-align: top;\n",
       "    }\n",
       "\n",
       "    .dataframe thead th {\n",
       "        text-align: right;\n",
       "    }\n",
       "</style>\n",
       "<table border=\"1\" class=\"dataframe\">\n",
       "  <thead>\n",
       "    <tr style=\"text-align: right;\">\n",
       "      <th></th>\n",
       "      <th>tripduration</th>\n",
       "      <th>starttime</th>\n",
       "      <th>stoptime</th>\n",
       "      <th>start station id</th>\n",
       "      <th>start station name</th>\n",
       "      <th>start station latitude</th>\n",
       "      <th>start station longitude</th>\n",
       "      <th>end station id</th>\n",
       "      <th>end station name</th>\n",
       "      <th>end station latitude</th>\n",
       "      <th>end station longitude</th>\n",
       "      <th>bikeid</th>\n",
       "      <th>usertype</th>\n",
       "      <th>birth year</th>\n",
       "      <th>gender</th>\n",
       "      <th>tripduration_mins</th>\n",
       "    </tr>\n",
       "  </thead>\n",
       "  <tbody>\n",
       "    <tr>\n",
       "      <th>0</th>\n",
       "      <td>1403</td>\n",
       "      <td>2020-10-01 00:00:10.7870</td>\n",
       "      <td>2020-10-01 00:23:34.5400</td>\n",
       "      <td>224</td>\n",
       "      <td>Spruce St &amp; Nassau St</td>\n",
       "      <td>40.711464</td>\n",
       "      <td>-74.005524</td>\n",
       "      <td>3347</td>\n",
       "      <td>Van Brunt St &amp; Wolcott St</td>\n",
       "      <td>40.677343</td>\n",
       "      <td>-74.012751</td>\n",
       "      <td>39079</td>\n",
       "      <td>Subscriber</td>\n",
       "      <td>1995</td>\n",
       "      <td>1</td>\n",
       "      <td>23.383333</td>\n",
       "    </tr>\n",
       "    <tr>\n",
       "      <th>1</th>\n",
       "      <td>462</td>\n",
       "      <td>2020-10-01 00:00:18.2390</td>\n",
       "      <td>2020-10-01 00:08:00.5710</td>\n",
       "      <td>3161</td>\n",
       "      <td>W 76 St &amp; Columbus Ave</td>\n",
       "      <td>40.780184</td>\n",
       "      <td>-73.977285</td>\n",
       "      <td>3158</td>\n",
       "      <td>W 63 St &amp; Broadway</td>\n",
       "      <td>40.771639</td>\n",
       "      <td>-73.982614</td>\n",
       "      <td>41267</td>\n",
       "      <td>Subscriber</td>\n",
       "      <td>1998</td>\n",
       "      <td>2</td>\n",
       "      <td>7.700000</td>\n",
       "    </tr>\n",
       "    <tr>\n",
       "      <th>3</th>\n",
       "      <td>233</td>\n",
       "      <td>2020-10-01 00:00:25.0080</td>\n",
       "      <td>2020-10-01 00:04:18.6410</td>\n",
       "      <td>3141</td>\n",
       "      <td>1 Ave &amp; E 68 St</td>\n",
       "      <td>40.765005</td>\n",
       "      <td>-73.958185</td>\n",
       "      <td>464</td>\n",
       "      <td>E 56 St &amp; 3 Ave</td>\n",
       "      <td>40.759345</td>\n",
       "      <td>-73.967597</td>\n",
       "      <td>36482</td>\n",
       "      <td>Subscriber</td>\n",
       "      <td>1993</td>\n",
       "      <td>1</td>\n",
       "      <td>3.883333</td>\n",
       "    </tr>\n",
       "    <tr>\n",
       "      <th>4</th>\n",
       "      <td>126</td>\n",
       "      <td>2020-10-01 00:00:25.3100</td>\n",
       "      <td>2020-10-01 00:02:32.1330</td>\n",
       "      <td>335</td>\n",
       "      <td>Washington Pl &amp; Broadway</td>\n",
       "      <td>40.729039</td>\n",
       "      <td>-73.994046</td>\n",
       "      <td>229</td>\n",
       "      <td>Great Jones St</td>\n",
       "      <td>40.727434</td>\n",
       "      <td>-73.993790</td>\n",
       "      <td>45319</td>\n",
       "      <td>Subscriber</td>\n",
       "      <td>1989</td>\n",
       "      <td>1</td>\n",
       "      <td>2.100000</td>\n",
       "    </tr>\n",
       "    <tr>\n",
       "      <th>7</th>\n",
       "      <td>523</td>\n",
       "      <td>2020-10-01 00:00:41.0760</td>\n",
       "      <td>2020-10-01 00:09:24.7550</td>\n",
       "      <td>3435</td>\n",
       "      <td>Grand St &amp; Elizabeth St</td>\n",
       "      <td>40.718822</td>\n",
       "      <td>-73.995960</td>\n",
       "      <td>3435</td>\n",
       "      <td>Grand St &amp; Elizabeth St</td>\n",
       "      <td>40.718822</td>\n",
       "      <td>-73.995960</td>\n",
       "      <td>45297</td>\n",
       "      <td>Subscriber</td>\n",
       "      <td>1980</td>\n",
       "      <td>1</td>\n",
       "      <td>8.716667</td>\n",
       "    </tr>\n",
       "  </tbody>\n",
       "</table>\n",
       "</div>"
      ],
      "text/plain": [
       "   tripduration                 starttime                  stoptime  \\\n",
       "0          1403  2020-10-01 00:00:10.7870  2020-10-01 00:23:34.5400   \n",
       "1           462  2020-10-01 00:00:18.2390  2020-10-01 00:08:00.5710   \n",
       "3           233  2020-10-01 00:00:25.0080  2020-10-01 00:04:18.6410   \n",
       "4           126  2020-10-01 00:00:25.3100  2020-10-01 00:02:32.1330   \n",
       "7           523  2020-10-01 00:00:41.0760  2020-10-01 00:09:24.7550   \n",
       "\n",
       "   start station id        start station name  start station latitude  \\\n",
       "0               224     Spruce St & Nassau St               40.711464   \n",
       "1              3161    W 76 St & Columbus Ave               40.780184   \n",
       "3              3141           1 Ave & E 68 St               40.765005   \n",
       "4               335  Washington Pl & Broadway               40.729039   \n",
       "7              3435   Grand St & Elizabeth St               40.718822   \n",
       "\n",
       "   start station longitude  end station id           end station name  \\\n",
       "0               -74.005524            3347  Van Brunt St & Wolcott St   \n",
       "1               -73.977285            3158         W 63 St & Broadway   \n",
       "3               -73.958185             464            E 56 St & 3 Ave   \n",
       "4               -73.994046             229             Great Jones St   \n",
       "7               -73.995960            3435    Grand St & Elizabeth St   \n",
       "\n",
       "   end station latitude  end station longitude  bikeid    usertype  \\\n",
       "0             40.677343             -74.012751   39079  Subscriber   \n",
       "1             40.771639             -73.982614   41267  Subscriber   \n",
       "3             40.759345             -73.967597   36482  Subscriber   \n",
       "4             40.727434             -73.993790   45319  Subscriber   \n",
       "7             40.718822             -73.995960   45297  Subscriber   \n",
       "\n",
       "   birth year  gender  tripduration_mins  \n",
       "0        1995       1          23.383333  \n",
       "1        1998       2           7.700000  \n",
       "3        1993       1           3.883333  \n",
       "4        1989       1           2.100000  \n",
       "7        1980       1           8.716667  "
      ]
     },
     "execution_count": 100,
     "metadata": {},
     "output_type": "execute_result"
    }
   ],
   "source": [
    "subscriber_trips.head()"
   ]
  },
  {
   "cell_type": "markdown",
   "id": "8f321ffa-4f2f-4144-8e76-48761fccd0d8",
   "metadata": {},
   "source": [
    "### Masks"
   ]
  },
  {
   "cell_type": "markdown",
   "id": "6a9542d3-1706-47a9-a07e-6b8bf2e0282c",
   "metadata": {},
   "source": [
    "You can think of conditions like \"masks\" containing boolean values resulting from a comparison operator."
   ]
  },
  {
   "cell_type": "code",
   "execution_count": 101,
   "id": "f6912d96-34a6-4952-b6b9-2226595493ba",
   "metadata": {},
   "outputs": [],
   "source": [
    "mask = (trips[\"usertype\"] == 'Subscriber')"
   ]
  },
  {
   "cell_type": "code",
   "execution_count": 102,
   "id": "1eaa7d3d-0cca-4776-b87d-07c739f516ce",
   "metadata": {},
   "outputs": [
    {
     "data": {
      "text/plain": [
       "0           True\n",
       "1           True\n",
       "2          False\n",
       "3           True\n",
       "4           True\n",
       "           ...  \n",
       "2248864    False\n",
       "2248865    False\n",
       "2248866     True\n",
       "2248867     True\n",
       "2248868     True\n",
       "Name: usertype, Length: 2248869, dtype: bool"
      ]
     },
     "execution_count": 102,
     "metadata": {},
     "output_type": "execute_result"
    }
   ],
   "source": [
    "mask"
   ]
  },
  {
   "cell_type": "markdown",
   "id": "c18ca0d8-ef76-425e-a0b2-1d8be3d7f51a",
   "metadata": {},
   "source": [
    "You can use masks to select a subset of rows from a `DataFrame` where the masked value is `True`."
   ]
  },
  {
   "cell_type": "code",
   "execution_count": 103,
   "id": "1e78158c-23e9-48d1-b87a-62c5aed07b3b",
   "metadata": {},
   "outputs": [
    {
     "name": "stdout",
     "output_type": "stream",
     "text": [
      "1702115 Subscriber Trips\n"
     ]
    }
   ],
   "source": [
    "print(len(trips[mask]), \"Subscriber Trips\")"
   ]
  },
  {
   "cell_type": "markdown",
   "id": "41fe055f-f089-4b11-a4d5-12245e4bfe59",
   "metadata": {},
   "source": [
    "You can select the inverse of a mask using the `~` tilde operator to negate the mask."
   ]
  },
  {
   "cell_type": "code",
   "execution_count": 104,
   "id": "b29baa72-02ea-4ade-8c2a-d68a90fb8b9a",
   "metadata": {},
   "outputs": [
    {
     "name": "stdout",
     "output_type": "stream",
     "text": [
      "546754 Not Subscriber Trips\n"
     ]
    }
   ],
   "source": [
    "print(len(trips[~mask]), \"Not Subscriber Trips\")"
   ]
  },
  {
   "cell_type": "markdown",
   "id": "0d2baec1-cbe8-4c05-ad9b-573636aa9620",
   "metadata": {},
   "source": [
    "## Cleaning Data"
   ]
  },
  {
   "cell_type": "markdown",
   "id": "2491d0bc-374b-4e37-af1a-82b0bcc099d5",
   "metadata": {},
   "source": [
    "Do the trip durations seem reasonable?"
   ]
  },
  {
   "cell_type": "markdown",
   "id": "1a439c3f-ddb5-48f7-9966-4a2d4761e547",
   "metadata": {},
   "source": [
    "The trip duration values are in seconds; let's make them easier to read by converting them to minutes."
   ]
  },
  {
   "cell_type": "code",
   "execution_count": 105,
   "id": "c53feed5-e338-4873-b8e8-53a524c2b99a",
   "metadata": {},
   "outputs": [],
   "source": [
    "trips['tripduration_mins'] = trips['tripduration'] / 60"
   ]
  },
  {
   "cell_type": "code",
   "execution_count": 106,
   "id": "f785f1a7-ed78-4ed2-ada1-c7111e05705f",
   "metadata": {},
   "outputs": [
    {
     "data": {
      "text/plain": [
       "count    2248869\n",
       "mean          20\n",
       "std          200\n",
       "min            1\n",
       "25%            7\n",
       "50%           12\n",
       "75%           21\n",
       "max        37428\n",
       "Name: tripduration_mins, dtype: int64"
      ]
     },
     "execution_count": 106,
     "metadata": {},
     "output_type": "execute_result"
    }
   ],
   "source": [
    "trips['tripduration_mins'].describe().astype(int)"
   ]
  },
  {
   "cell_type": "markdown",
   "id": "1d780e4c-ff4a-4614-9efa-cf97ee64193b",
   "metadata": {},
   "source": [
    "The mean trip duration is 20 minutes, and the median is 12 minutes. This is noteable that the mean is almost twice is long as the median, implying that there must be some large outliers that are bringing up the average. Looking at the maximum value of 37,000+ minutes, we see that this is clearly an outlier."
   ]
  },
  {
   "cell_type": "markdown",
   "id": "c7cf92e2-dd83-46fd-a701-225a35b3b93e",
   "metadata": {},
   "source": [
    "Let's find the 90th, 95th and 99th percentile for the trip durations column using `quantile()`."
   ]
  },
  {
   "cell_type": "code",
   "execution_count": 107,
   "id": "4871c347-be51-4da9-b040-05f2530a74f9",
   "metadata": {},
   "outputs": [
    {
     "data": {
      "text/plain": [
       "33.55"
      ]
     },
     "execution_count": 107,
     "metadata": {},
     "output_type": "execute_result"
    }
   ],
   "source": [
    "trips['tripduration_mins'].quantile(0.9)"
   ]
  },
  {
   "cell_type": "code",
   "execution_count": 108,
   "id": "ff320ef8-3f34-42a7-859a-dd7ac7a338ec",
   "metadata": {},
   "outputs": [
    {
     "data": {
      "text/plain": [
       "42.233333333333334"
      ]
     },
     "execution_count": 108,
     "metadata": {},
     "output_type": "execute_result"
    }
   ],
   "source": [
    "trips['tripduration_mins'].quantile(0.95)"
   ]
  },
  {
   "cell_type": "code",
   "execution_count": 109,
   "id": "675528e3-04e0-4d20-b547-acc05ba6e081",
   "metadata": {},
   "outputs": [
    {
     "data": {
      "text/plain": [
       "78.6"
      ]
     },
     "execution_count": 109,
     "metadata": {},
     "output_type": "execute_result"
    }
   ],
   "source": [
    "trips['tripduration_mins'].quantile(0.99)"
   ]
  },
  {
   "cell_type": "code",
   "execution_count": 110,
   "id": "345178ac-9dcd-474a-9445-bc4ad88cd11c",
   "metadata": {},
   "outputs": [
    {
     "data": {
      "text/plain": [
       "399.0078000001764"
      ]
     },
     "execution_count": 110,
     "metadata": {},
     "output_type": "execute_result"
    }
   ],
   "source": [
    "trips['tripduration_mins'].quantile(0.999)"
   ]
  },
  {
   "cell_type": "markdown",
   "id": "b4b3949a-3918-4eff-89d6-3a4e314245b4",
   "metadata": {},
   "source": [
    "Let's only keep the trips which are longer than 5 minutes and shorter than 3 hours."
   ]
  },
  {
   "cell_type": "code",
   "execution_count": 111,
   "id": "c5294f68-185e-4185-ad44-254e08e6efab",
   "metadata": {},
   "outputs": [],
   "source": [
    "trips = trips.query(\"tripduration_mins >= 5 and tripduration_mins <= 180\")"
   ]
  },
  {
   "cell_type": "code",
   "execution_count": 112,
   "id": "44d072b8-7b00-45c3-9528-1bf69859cfbc",
   "metadata": {},
   "outputs": [
    {
     "data": {
      "text/plain": [
       "count    1924868\n",
       "mean          18\n",
       "std           14\n",
       "min            5\n",
       "25%            9\n",
       "50%           14\n",
       "75%           23\n",
       "max          179\n",
       "Name: tripduration_mins, dtype: int64"
      ]
     },
     "execution_count": 112,
     "metadata": {},
     "output_type": "execute_result"
    }
   ],
   "source": [
    "trips['tripduration_mins'].describe().astype(int)"
   ]
  },
  {
   "cell_type": "markdown",
   "id": "b5fbb63d-5b38-4022-95dc-6f184945b319",
   "metadata": {},
   "source": [
    "Do the birth years make sense?"
   ]
  },
  {
   "cell_type": "code",
   "execution_count": 113,
   "id": "6115ecfe-212f-4de2-b5e7-c8b64118f9bd",
   "metadata": {},
   "outputs": [
    {
     "data": {
      "text/plain": [
       "count    1924868\n",
       "mean        1981\n",
       "std           12\n",
       "min         1885\n",
       "25%         1969\n",
       "50%         1985\n",
       "75%         1992\n",
       "max         2004\n",
       "Name: birth year, dtype: int64"
      ]
     },
     "execution_count": 113,
     "metadata": {},
     "output_type": "execute_result"
    }
   ],
   "source": [
    "trips['birth year'].describe().astype(int)"
   ]
  },
  {
   "cell_type": "markdown",
   "id": "45ad7adb-1d4b-4fe1-aa12-2a9cc7fca75f",
   "metadata": {},
   "source": [
    "Make a histogram of birth years."
   ]
  },
  {
   "cell_type": "code",
   "execution_count": 114,
   "id": "08bbb950-4bdd-4a8e-a47b-934f24633827",
   "metadata": {},
   "outputs": [
    {
     "data": {
      "image/png": "[encoded data removed]",
      "text/plain": [
       "<Figure size 864x432 with 1 Axes>"
      ]
     },
     "metadata": {},
     "output_type": "display_data"
    }
   ],
   "source": [
    "trips['birth year'].hist();"
   ]
  },
  {
   "cell_type": "markdown",
   "id": "129c7623-3c60-43ac-8695-9f0dcdd11388",
   "metadata": {},
   "source": [
    "You can see there are some users with stated birth year in 1880, 1900, 1920, etc. We will handle this shortly."
   ]
  },
  {
   "cell_type": "markdown",
   "id": "ffc8cd21-4eaa-43b5-835f-8f5bf8453700",
   "metadata": {},
   "source": [
    "There is also an issue that becomes apparent when you view the same data on a histogram with smaller bins..."
   ]
  },
  {
   "cell_type": "code",
   "execution_count": 115,
   "id": "2ed713a7-ec73-48aa-a292-361e01c6d343",
   "metadata": {},
   "outputs": [
    {
     "data": {
      "image/png": "[encoded data removed]",
      "text/plain": [
       "<Figure size 864x432 with 1 Axes>"
      ]
     },
     "metadata": {},
     "output_type": "display_data"
    }
   ],
   "source": [
    "trips['birth year'].hist(bins=120);"
   ]
  },
  {
   "cell_type": "markdown",
   "id": "cb2d5265-8054-4ffb-977e-8721a977fae0",
   "metadata": {},
   "source": [
    "## Wrangle the Data"
   ]
  },
  {
   "cell_type": "markdown",
   "id": "4191210c-17c4-40c6-88b4-678a9cd3c5a0",
   "metadata": {},
   "source": [
    "View the data types."
   ]
  },
  {
   "cell_type": "code",
   "execution_count": 116,
   "id": "ed7f6e7d-0aea-4354-9f03-68831caefbf3",
   "metadata": {},
   "outputs": [
    {
     "data": {
      "text/plain": [
       "tripduration                 int64\n",
       "starttime                   object\n",
       "stoptime                    object\n",
       "start station id             int64\n",
       "start station name          object\n",
       "start station latitude     float64\n",
       "start station longitude    float64\n",
       "end station id               int64\n",
       "end station name            object\n",
       "end station latitude       float64\n",
       "end station longitude      float64\n",
       "bikeid                       int64\n",
       "usertype                    object\n",
       "birth year                   int64\n",
       "gender                       int64\n",
       "tripduration_mins          float64\n",
       "dtype: object"
      ]
     },
     "execution_count": 116,
     "metadata": {},
     "output_type": "execute_result"
    }
   ],
   "source": [
    "trips.dtypes"
   ]
  },
  {
   "cell_type": "markdown",
   "id": "cf8a53e8-d5ee-4190-b744-19c352b85028",
   "metadata": {},
   "source": [
    "Convert `starttime` and `stoptime` into DateTime values."
   ]
  },
  {
   "cell_type": "code",
   "execution_count": 117,
   "id": "f7ab18ac-9f12-4df6-b9eb-bac8c0f84039",
   "metadata": {},
   "outputs": [],
   "source": [
    "trips['starttime'] = pd.to_datetime(trips['starttime'])\n",
    "trips['stoptime'] = pd.to_datetime(trips['stoptime'])"
   ]
  },
  {
   "cell_type": "markdown",
   "id": "bcc3880d-0e23-42f5-bb82-ecf507b3e780",
   "metadata": {},
   "source": [
    "Create `dayname` columns for both the `starttime` and `stoptime`.\n",
    "\n",
    "We will use a [lambda](https://www.w3schools.com/python/python_lambda.asp) function, which is a small anonymous function that is defined on the fly and can be applied simultaneously to all rows in a column."
   ]
  },
  {
   "cell_type": "code",
   "execution_count": 118,
   "id": "b64df8f0-dd58-46c4-8ad8-64f48764252d",
   "metadata": {},
   "outputs": [],
   "source": [
    "trips['starttime_dayname'] = trips['starttime'].apply(lambda x: x.day_name())"
   ]
  },
  {
   "cell_type": "code",
   "execution_count": 119,
   "id": "40fc263d-bbea-471a-9739-58226cbc4c76",
   "metadata": {},
   "outputs": [],
   "source": [
    "trips['stoptime_dayname'] = trips['stoptime'].apply(lambda x: x.day_name())"
   ]
  },
  {
   "cell_type": "markdown",
   "id": "1e3b31f2-b7e4-4d5c-9f74-b0409fe15a8c",
   "metadata": {},
   "source": [
    "Create `hour` columns for both the `starttime` and `stoptime`."
   ]
  },
  {
   "cell_type": "code",
   "execution_count": 120,
   "id": "385253f2-160f-431f-a723-b34c80c9a95d",
   "metadata": {},
   "outputs": [],
   "source": [
    "trips['starttime_hour'] = trips['starttime'].apply(lambda x: x.hour)"
   ]
  },
  {
   "cell_type": "code",
   "execution_count": 121,
   "id": "d7dbed39-5c9c-4409-9c61-f0bb0d9faf0e",
   "metadata": {},
   "outputs": [],
   "source": [
    "trips['stoptime_hour'] = trips['stoptime'].apply(lambda x: x.hour)"
   ]
  },
  {
   "cell_type": "markdown",
   "id": "9a8a1a51-2871-449f-a4fd-338807993a5b",
   "metadata": {},
   "source": [
    "Replace the values in the `gender` column with their labels. `Zero=unknown; 1=male; 2=female`"
   ]
  },
  {
   "cell_type": "code",
   "execution_count": 122,
   "id": "801601b7-726a-422d-b103-c0d8041cca34",
   "metadata": {},
   "outputs": [],
   "source": [
    "gender_labels = {0: \"unknown\", 1: \"male\", 2: \"female\"}"
   ]
  },
  {
   "cell_type": "code",
   "execution_count": 123,
   "id": "1ac55cfa-1a2f-498d-ab21-11e70614fcfd",
   "metadata": {},
   "outputs": [],
   "source": [
    "trips['gender'] = trips['gender'].apply(lambda x: gender_labels[x])"
   ]
  },
  {
   "cell_type": "code",
   "execution_count": 124,
   "id": "7d9d9949-9598-4735-aedc-137dc67cacf1",
   "metadata": {},
   "outputs": [
    {
     "data": {
      "image/png": "[encoded data removed]",
      "text/plain": [
       "<Figure size 864x432 with 1 Axes>"
      ]
     },
     "metadata": {},
     "output_type": "display_data"
    }
   ],
   "source": [
    "trips['gender'].hist();"
   ]
  },
  {
   "cell_type": "markdown",
   "id": "b0af2e03-6fbf-45db-bb02-40f7c9c2e62c",
   "metadata": {},
   "source": [
    "Create an `age` column."
   ]
  },
  {
   "cell_type": "code",
   "execution_count": 125,
   "id": "9e9b7f62-3e9c-454a-bca8-d9d82fb94a0e",
   "metadata": {},
   "outputs": [],
   "source": [
    "current_year = trips['starttime'].min().year"
   ]
  },
  {
   "cell_type": "code",
   "execution_count": 126,
   "id": "22b9fcd8-963b-4d6d-93d2-595528702d14",
   "metadata": {},
   "outputs": [],
   "source": [
    "trips['age'] = current_year - trips['birth year']"
   ]
  },
  {
   "cell_type": "code",
   "execution_count": 127,
   "id": "3bb9bbf2-3acd-40d3-93d5-9001d55232b6",
   "metadata": {},
   "outputs": [
    {
     "data": {
      "image/png": "[encoded data removed]",
      "text/plain": [
       "<Figure size 864x432 with 1 Axes>"
      ]
     },
     "metadata": {},
     "output_type": "display_data"
    }
   ],
   "source": [
    "trips['age'].hist();"
   ]
  },
  {
   "cell_type": "markdown",
   "id": "82f0cd16-46e8-45df-8fb9-de466c765952",
   "metadata": {},
   "source": [
    "Only keep trips from users with age between 16 years and 100 years."
   ]
  },
  {
   "cell_type": "code",
   "execution_count": 128,
   "id": "72201bfa-9e24-4fe3-b34d-9604ee92fb95",
   "metadata": {},
   "outputs": [],
   "source": [
    "trips = trips.query(\"age >= 16 and age <= 100\")"
   ]
  },
  {
   "cell_type": "code",
   "execution_count": 129,
   "id": "993ec10f-2e86-4134-bcea-52ae14544ace",
   "metadata": {},
   "outputs": [
    {
     "data": {
      "text/html": [
       "<div>\n",
       "<style scoped>\n",
       "    .dataframe tbody tr th:only-of-type {\n",
       "        vertical-align: middle;\n",
       "    }\n",
       "\n",
       "    .dataframe tbody tr th {\n",
       "        vertical-align: top;\n",
       "    }\n",
       "\n",
       "    .dataframe thead th {\n",
       "        text-align: right;\n",
       "    }\n",
       "</style>\n",
       "<table border=\"1\" class=\"dataframe\">\n",
       "  <thead>\n",
       "    <tr style=\"text-align: right;\">\n",
       "      <th></th>\n",
       "      <th>tripduration</th>\n",
       "      <th>starttime</th>\n",
       "      <th>stoptime</th>\n",
       "      <th>start station id</th>\n",
       "      <th>start station name</th>\n",
       "      <th>start station latitude</th>\n",
       "      <th>start station longitude</th>\n",
       "      <th>end station id</th>\n",
       "      <th>end station name</th>\n",
       "      <th>end station latitude</th>\n",
       "      <th>...</th>\n",
       "      <th>bikeid</th>\n",
       "      <th>usertype</th>\n",
       "      <th>birth year</th>\n",
       "      <th>gender</th>\n",
       "      <th>tripduration_mins</th>\n",
       "      <th>starttime_dayname</th>\n",
       "      <th>stoptime_dayname</th>\n",
       "      <th>starttime_hour</th>\n",
       "      <th>stoptime_hour</th>\n",
       "      <th>age</th>\n",
       "    </tr>\n",
       "  </thead>\n",
       "  <tbody>\n",
       "    <tr>\n",
       "      <th>0</th>\n",
       "      <td>1403</td>\n",
       "      <td>2020-10-01 00:00:10.787</td>\n",
       "      <td>2020-10-01 00:23:34.540</td>\n",
       "      <td>224</td>\n",
       "      <td>Spruce St &amp; Nassau St</td>\n",
       "      <td>40.711464</td>\n",
       "      <td>-74.005524</td>\n",
       "      <td>3347</td>\n",
       "      <td>Van Brunt St &amp; Wolcott St</td>\n",
       "      <td>40.677343</td>\n",
       "      <td>...</td>\n",
       "      <td>39079</td>\n",
       "      <td>Subscriber</td>\n",
       "      <td>1995</td>\n",
       "      <td>male</td>\n",
       "      <td>23.383333</td>\n",
       "      <td>Thursday</td>\n",
       "      <td>Thursday</td>\n",
       "      <td>0</td>\n",
       "      <td>0</td>\n",
       "      <td>25</td>\n",
       "    </tr>\n",
       "    <tr>\n",
       "      <th>1</th>\n",
       "      <td>462</td>\n",
       "      <td>2020-10-01 00:00:18.239</td>\n",
       "      <td>2020-10-01 00:08:00.571</td>\n",
       "      <td>3161</td>\n",
       "      <td>W 76 St &amp; Columbus Ave</td>\n",
       "      <td>40.780184</td>\n",
       "      <td>-73.977285</td>\n",
       "      <td>3158</td>\n",
       "      <td>W 63 St &amp; Broadway</td>\n",
       "      <td>40.771639</td>\n",
       "      <td>...</td>\n",
       "      <td>41267</td>\n",
       "      <td>Subscriber</td>\n",
       "      <td>1998</td>\n",
       "      <td>female</td>\n",
       "      <td>7.700000</td>\n",
       "      <td>Thursday</td>\n",
       "      <td>Thursday</td>\n",
       "      <td>0</td>\n",
       "      <td>0</td>\n",
       "      <td>22</td>\n",
       "    </tr>\n",
       "    <tr>\n",
       "      <th>2</th>\n",
       "      <td>770</td>\n",
       "      <td>2020-10-01 00:00:21.307</td>\n",
       "      <td>2020-10-01 00:13:12.084</td>\n",
       "      <td>354</td>\n",
       "      <td>Emerson Pl &amp; Myrtle Ave</td>\n",
       "      <td>40.693631</td>\n",
       "      <td>-73.962236</td>\n",
       "      <td>3761</td>\n",
       "      <td>Cedar St &amp; Myrtle Ave</td>\n",
       "      <td>40.697842</td>\n",
       "      <td>...</td>\n",
       "      <td>47398</td>\n",
       "      <td>Customer</td>\n",
       "      <td>1996</td>\n",
       "      <td>male</td>\n",
       "      <td>12.833333</td>\n",
       "      <td>Thursday</td>\n",
       "      <td>Thursday</td>\n",
       "      <td>0</td>\n",
       "      <td>0</td>\n",
       "      <td>24</td>\n",
       "    </tr>\n",
       "    <tr>\n",
       "      <th>5</th>\n",
       "      <td>1632</td>\n",
       "      <td>2020-10-01 00:00:32.659</td>\n",
       "      <td>2020-10-01 00:27:45.243</td>\n",
       "      <td>502</td>\n",
       "      <td>Henry St &amp; Grand St</td>\n",
       "      <td>40.714211</td>\n",
       "      <td>-73.981095</td>\n",
       "      <td>502</td>\n",
       "      <td>Henry St &amp; Grand St</td>\n",
       "      <td>40.714211</td>\n",
       "      <td>...</td>\n",
       "      <td>36602</td>\n",
       "      <td>Customer</td>\n",
       "      <td>1969</td>\n",
       "      <td>unknown</td>\n",
       "      <td>27.200000</td>\n",
       "      <td>Thursday</td>\n",
       "      <td>Thursday</td>\n",
       "      <td>0</td>\n",
       "      <td>0</td>\n",
       "      <td>51</td>\n",
       "    </tr>\n",
       "    <tr>\n",
       "      <th>7</th>\n",
       "      <td>523</td>\n",
       "      <td>2020-10-01 00:00:41.076</td>\n",
       "      <td>2020-10-01 00:09:24.755</td>\n",
       "      <td>3435</td>\n",
       "      <td>Grand St &amp; Elizabeth St</td>\n",
       "      <td>40.718822</td>\n",
       "      <td>-73.995960</td>\n",
       "      <td>3435</td>\n",
       "      <td>Grand St &amp; Elizabeth St</td>\n",
       "      <td>40.718822</td>\n",
       "      <td>...</td>\n",
       "      <td>45297</td>\n",
       "      <td>Subscriber</td>\n",
       "      <td>1980</td>\n",
       "      <td>male</td>\n",
       "      <td>8.716667</td>\n",
       "      <td>Thursday</td>\n",
       "      <td>Thursday</td>\n",
       "      <td>0</td>\n",
       "      <td>0</td>\n",
       "      <td>40</td>\n",
       "    </tr>\n",
       "  </tbody>\n",
       "</table>\n",
       "<p>5 rows × 21 columns</p>\n",
       "</div>"
      ],
      "text/plain": [
       "   tripduration               starttime                stoptime  \\\n",
       "0          1403 2020-10-01 00:00:10.787 2020-10-01 00:23:34.540   \n",
       "1           462 2020-10-01 00:00:18.239 2020-10-01 00:08:00.571   \n",
       "2           770 2020-10-01 00:00:21.307 2020-10-01 00:13:12.084   \n",
       "5          1632 2020-10-01 00:00:32.659 2020-10-01 00:27:45.243   \n",
       "7           523 2020-10-01 00:00:41.076 2020-10-01 00:09:24.755   \n",
       "\n",
       "   start station id       start station name  start station latitude  \\\n",
       "0               224    Spruce St & Nassau St               40.711464   \n",
       "1              3161   W 76 St & Columbus Ave               40.780184   \n",
       "2               354  Emerson Pl & Myrtle Ave               40.693631   \n",
       "5               502      Henry St & Grand St               40.714211   \n",
       "7              3435  Grand St & Elizabeth St               40.718822   \n",
       "\n",
       "   start station longitude  end station id           end station name  \\\n",
       "0               -74.005524            3347  Van Brunt St & Wolcott St   \n",
       "1               -73.977285            3158         W 63 St & Broadway   \n",
       "2               -73.962236            3761      Cedar St & Myrtle Ave   \n",
       "5               -73.981095             502        Henry St & Grand St   \n",
       "7               -73.995960            3435    Grand St & Elizabeth St   \n",
       "\n",
       "   end station latitude  ...  bikeid    usertype birth year   gender  \\\n",
       "0             40.677343  ...   39079  Subscriber       1995     male   \n",
       "1             40.771639  ...   41267  Subscriber       1998   female   \n",
       "2             40.697842  ...   47398    Customer       1996     male   \n",
       "5             40.714211  ...   36602    Customer       1969  unknown   \n",
       "7             40.718822  ...   45297  Subscriber       1980     male   \n",
       "\n",
       "  tripduration_mins  starttime_dayname stoptime_dayname starttime_hour  \\\n",
       "0         23.383333           Thursday         Thursday              0   \n",
       "1          7.700000           Thursday         Thursday              0   \n",
       "2         12.833333           Thursday         Thursday              0   \n",
       "5         27.200000           Thursday         Thursday              0   \n",
       "7          8.716667           Thursday         Thursday              0   \n",
       "\n",
       "   stoptime_hour  age  \n",
       "0              0   25  \n",
       "1              0   22  \n",
       "2              0   24  \n",
       "5              0   51  \n",
       "7              0   40  \n",
       "\n",
       "[5 rows x 21 columns]"
      ]
     },
     "execution_count": 129,
     "metadata": {},
     "output_type": "execute_result"
    }
   ],
   "source": [
    "trips.head()"
   ]
  },
  {
   "cell_type": "markdown",
   "id": "eb3dcbd3-207d-4547-afbe-b5fd5c562aed",
   "metadata": {},
   "source": [
    "Reset the index."
   ]
  },
  {
   "cell_type": "code",
   "execution_count": 130,
   "id": "22d399bf-e10b-4013-a626-693a1a85f049",
   "metadata": {},
   "outputs": [],
   "source": [
    "trips = trips.reset_index()"
   ]
  },
  {
   "cell_type": "code",
   "execution_count": 131,
   "id": "790fb933-6ffe-4bcc-8b8c-782880b5c4d6",
   "metadata": {},
   "outputs": [
    {
     "data": {
      "text/html": [
       "<div>\n",
       "<style scoped>\n",
       "    .dataframe tbody tr th:only-of-type {\n",
       "        vertical-align: middle;\n",
       "    }\n",
       "\n",
       "    .dataframe tbody tr th {\n",
       "        vertical-align: top;\n",
       "    }\n",
       "\n",
       "    .dataframe thead th {\n",
       "        text-align: right;\n",
       "    }\n",
       "</style>\n",
       "<table border=\"1\" class=\"dataframe\">\n",
       "  <thead>\n",
       "    <tr style=\"text-align: right;\">\n",
       "      <th></th>\n",
       "      <th>index</th>\n",
       "      <th>tripduration</th>\n",
       "      <th>starttime</th>\n",
       "      <th>stoptime</th>\n",
       "      <th>start station id</th>\n",
       "      <th>start station name</th>\n",
       "      <th>start station latitude</th>\n",
       "      <th>start station longitude</th>\n",
       "      <th>end station id</th>\n",
       "      <th>end station name</th>\n",
       "      <th>...</th>\n",
       "      <th>bikeid</th>\n",
       "      <th>usertype</th>\n",
       "      <th>birth year</th>\n",
       "      <th>gender</th>\n",
       "      <th>tripduration_mins</th>\n",
       "      <th>starttime_dayname</th>\n",
       "      <th>stoptime_dayname</th>\n",
       "      <th>starttime_hour</th>\n",
       "      <th>stoptime_hour</th>\n",
       "      <th>age</th>\n",
       "    </tr>\n",
       "  </thead>\n",
       "  <tbody>\n",
       "    <tr>\n",
       "      <th>0</th>\n",
       "      <td>0</td>\n",
       "      <td>1403</td>\n",
       "      <td>2020-10-01 00:00:10.787</td>\n",
       "      <td>2020-10-01 00:23:34.540</td>\n",
       "      <td>224</td>\n",
       "      <td>Spruce St &amp; Nassau St</td>\n",
       "      <td>40.711464</td>\n",
       "      <td>-74.005524</td>\n",
       "      <td>3347</td>\n",
       "      <td>Van Brunt St &amp; Wolcott St</td>\n",
       "      <td>...</td>\n",
       "      <td>39079</td>\n",
       "      <td>Subscriber</td>\n",
       "      <td>1995</td>\n",
       "      <td>male</td>\n",
       "      <td>23.383333</td>\n",
       "      <td>Thursday</td>\n",
       "      <td>Thursday</td>\n",
       "      <td>0</td>\n",
       "      <td>0</td>\n",
       "      <td>25</td>\n",
       "    </tr>\n",
       "    <tr>\n",
       "      <th>1</th>\n",
       "      <td>1</td>\n",
       "      <td>462</td>\n",
       "      <td>2020-10-01 00:00:18.239</td>\n",
       "      <td>2020-10-01 00:08:00.571</td>\n",
       "      <td>3161</td>\n",
       "      <td>W 76 St &amp; Columbus Ave</td>\n",
       "      <td>40.780184</td>\n",
       "      <td>-73.977285</td>\n",
       "      <td>3158</td>\n",
       "      <td>W 63 St &amp; Broadway</td>\n",
       "      <td>...</td>\n",
       "      <td>41267</td>\n",
       "      <td>Subscriber</td>\n",
       "      <td>1998</td>\n",
       "      <td>female</td>\n",
       "      <td>7.700000</td>\n",
       "      <td>Thursday</td>\n",
       "      <td>Thursday</td>\n",
       "      <td>0</td>\n",
       "      <td>0</td>\n",
       "      <td>22</td>\n",
       "    </tr>\n",
       "    <tr>\n",
       "      <th>2</th>\n",
       "      <td>2</td>\n",
       "      <td>770</td>\n",
       "      <td>2020-10-01 00:00:21.307</td>\n",
       "      <td>2020-10-01 00:13:12.084</td>\n",
       "      <td>354</td>\n",
       "      <td>Emerson Pl &amp; Myrtle Ave</td>\n",
       "      <td>40.693631</td>\n",
       "      <td>-73.962236</td>\n",
       "      <td>3761</td>\n",
       "      <td>Cedar St &amp; Myrtle Ave</td>\n",
       "      <td>...</td>\n",
       "      <td>47398</td>\n",
       "      <td>Customer</td>\n",
       "      <td>1996</td>\n",
       "      <td>male</td>\n",
       "      <td>12.833333</td>\n",
       "      <td>Thursday</td>\n",
       "      <td>Thursday</td>\n",
       "      <td>0</td>\n",
       "      <td>0</td>\n",
       "      <td>24</td>\n",
       "    </tr>\n",
       "    <tr>\n",
       "      <th>3</th>\n",
       "      <td>5</td>\n",
       "      <td>1632</td>\n",
       "      <td>2020-10-01 00:00:32.659</td>\n",
       "      <td>2020-10-01 00:27:45.243</td>\n",
       "      <td>502</td>\n",
       "      <td>Henry St &amp; Grand St</td>\n",
       "      <td>40.714211</td>\n",
       "      <td>-73.981095</td>\n",
       "      <td>502</td>\n",
       "      <td>Henry St &amp; Grand St</td>\n",
       "      <td>...</td>\n",
       "      <td>36602</td>\n",
       "      <td>Customer</td>\n",
       "      <td>1969</td>\n",
       "      <td>unknown</td>\n",
       "      <td>27.200000</td>\n",
       "      <td>Thursday</td>\n",
       "      <td>Thursday</td>\n",
       "      <td>0</td>\n",
       "      <td>0</td>\n",
       "      <td>51</td>\n",
       "    </tr>\n",
       "    <tr>\n",
       "      <th>4</th>\n",
       "      <td>7</td>\n",
       "      <td>523</td>\n",
       "      <td>2020-10-01 00:00:41.076</td>\n",
       "      <td>2020-10-01 00:09:24.755</td>\n",
       "      <td>3435</td>\n",
       "      <td>Grand St &amp; Elizabeth St</td>\n",
       "      <td>40.718822</td>\n",
       "      <td>-73.995960</td>\n",
       "      <td>3435</td>\n",
       "      <td>Grand St &amp; Elizabeth St</td>\n",
       "      <td>...</td>\n",
       "      <td>45297</td>\n",
       "      <td>Subscriber</td>\n",
       "      <td>1980</td>\n",
       "      <td>male</td>\n",
       "      <td>8.716667</td>\n",
       "      <td>Thursday</td>\n",
       "      <td>Thursday</td>\n",
       "      <td>0</td>\n",
       "      <td>0</td>\n",
       "      <td>40</td>\n",
       "    </tr>\n",
       "  </tbody>\n",
       "</table>\n",
       "<p>5 rows × 22 columns</p>\n",
       "</div>"
      ],
      "text/plain": [
       "   index  tripduration               starttime                stoptime  \\\n",
       "0      0          1403 2020-10-01 00:00:10.787 2020-10-01 00:23:34.540   \n",
       "1      1           462 2020-10-01 00:00:18.239 2020-10-01 00:08:00.571   \n",
       "2      2           770 2020-10-01 00:00:21.307 2020-10-01 00:13:12.084   \n",
       "3      5          1632 2020-10-01 00:00:32.659 2020-10-01 00:27:45.243   \n",
       "4      7           523 2020-10-01 00:00:41.076 2020-10-01 00:09:24.755   \n",
       "\n",
       "   start station id       start station name  start station latitude  \\\n",
       "0               224    Spruce St & Nassau St               40.711464   \n",
       "1              3161   W 76 St & Columbus Ave               40.780184   \n",
       "2               354  Emerson Pl & Myrtle Ave               40.693631   \n",
       "3               502      Henry St & Grand St               40.714211   \n",
       "4              3435  Grand St & Elizabeth St               40.718822   \n",
       "\n",
       "   start station longitude  end station id           end station name  ...  \\\n",
       "0               -74.005524            3347  Van Brunt St & Wolcott St  ...   \n",
       "1               -73.977285            3158         W 63 St & Broadway  ...   \n",
       "2               -73.962236            3761      Cedar St & Myrtle Ave  ...   \n",
       "3               -73.981095             502        Henry St & Grand St  ...   \n",
       "4               -73.995960            3435    Grand St & Elizabeth St  ...   \n",
       "\n",
       "   bikeid    usertype  birth year   gender  tripduration_mins  \\\n",
       "0   39079  Subscriber        1995     male          23.383333   \n",
       "1   41267  Subscriber        1998   female           7.700000   \n",
       "2   47398    Customer        1996     male          12.833333   \n",
       "3   36602    Customer        1969  unknown          27.200000   \n",
       "4   45297  Subscriber        1980     male           8.716667   \n",
       "\n",
       "  starttime_dayname  stoptime_dayname starttime_hour stoptime_hour  age  \n",
       "0          Thursday          Thursday              0             0   25  \n",
       "1          Thursday          Thursday              0             0   22  \n",
       "2          Thursday          Thursday              0             0   24  \n",
       "3          Thursday          Thursday              0             0   51  \n",
       "4          Thursday          Thursday              0             0   40  \n",
       "\n",
       "[5 rows x 22 columns]"
      ]
     },
     "execution_count": 131,
     "metadata": {},
     "output_type": "execute_result"
    }
   ],
   "source": [
    "trips.head()"
   ]
  },
  {
   "cell_type": "markdown",
   "id": "30ac6e55-a37e-4fe4-ad7e-5a436a254c2a",
   "metadata": {},
   "source": [
    "## Grouping Data"
   ]
  },
  {
   "cell_type": "markdown",
   "id": "72d45fce-eeaa-46a7-83fb-9c790bc1792f",
   "metadata": {},
   "source": [
    "How many trips are from Subscribers vs. Customers?\n",
    "\n",
    "Group the trips by `usertype` and count how many trips are in each category using `groupby()` and `size()`. We can chain these functions together."
   ]
  },
  {
   "cell_type": "code",
   "execution_count": 132,
   "id": "d4322638-94fe-49d6-b865-c3fd5b119cc8",
   "metadata": {},
   "outputs": [
    {
     "data": {
      "text/plain": [
       "usertype\n",
       "Customer       513826\n",
       "Subscriber    1410235\n",
       "dtype: int64"
      ]
     },
     "execution_count": 132,
     "metadata": {},
     "output_type": "execute_result"
    }
   ],
   "source": [
    "trips.groupby('usertype').size()"
   ]
  },
  {
   "cell_type": "markdown",
   "id": "79baf5a1-9480-4e5a-84a6-489a7dfd082c",
   "metadata": {},
   "source": [
    "What percentage of total trips come from Subscribers vs. Customers?"
   ]
  },
  {
   "cell_type": "code",
   "execution_count": 133,
   "id": "0455be8b-f3c9-43ed-b437-4d356995fd82",
   "metadata": {},
   "outputs": [
    {
     "data": {
      "text/plain": [
       "usertype\n",
       "Customer      0.267053\n",
       "Subscriber    0.732947\n",
       "dtype: float64"
      ]
     },
     "execution_count": 133,
     "metadata": {},
     "output_type": "execute_result"
    }
   ],
   "source": [
    "trips.groupby('usertype').size() / len(trips)"
   ]
  },
  {
   "cell_type": "markdown",
   "id": "9458377e-629b-4bcc-817e-15ed2e53c8db",
   "metadata": {},
   "source": [
    "What is the average trip duration by gender?"
   ]
  },
  {
   "cell_type": "code",
   "execution_count": 134,
   "id": "b83b2578-327e-40b4-bfe1-63d9b7b773ea",
   "metadata": {},
   "outputs": [
    {
     "data": {
      "text/plain": [
       "gender\n",
       "female     1160.720358\n",
       "male       1053.711042\n",
       "unknown    1384.207972\n",
       "Name: tripduration, dtype: float64"
      ]
     },
     "execution_count": 134,
     "metadata": {},
     "output_type": "execute_result"
    }
   ],
   "source": [
    "trips.groupby('gender').mean()['tripduration']"
   ]
  },
  {
   "cell_type": "markdown",
   "id": "dd37642d-495e-438e-8dc2-77436eaeac8e",
   "metadata": {},
   "source": [
    "The following table summarizes the built-in Pandas aggregations:"
   ]
  },
  {
   "cell_type": "markdown",
   "id": "e4f15e19-9d27-407d-8d86-f39a9b6499f4",
   "metadata": {},
   "source": [
    "\n",
    "| Aggregation              | Description                     |\n",
    "|--------------------------|---------------------------------|\n",
    "| ``count()``              | Total number of items           |\n",
    "| ``first()``, ``last()``  | First and last item             |\n",
    "| ``mean()``, ``median()`` | Mean and median                 |\n",
    "| ``min()``, ``max()``     | Minimum and maximum             |\n",
    "| ``std()``, ``var()``     | Standard deviation and variance |\n",
    "| ``mad()``                | Mean absolute deviation         |\n",
    "| ``prod()``               | Product of all items            |\n",
    "| ``sum()``                | Sum of all items                |\n",
    "\n",
    "These are all methods of ``DataFrame`` and ``Series`` objects.\""
   ]
  },
  {
   "cell_type": "markdown",
   "id": "b3084092-2134-4d5f-8202-b9afd5cc055c",
   "metadata": {},
   "source": [
    "## Merging Data"
   ]
  },
  {
   "cell_type": "markdown",
   "id": "71da3319-c48e-46d2-abaa-bce79e4ac251",
   "metadata": {},
   "source": [
    "Practice merges using examples from [Python Data Science Handbook](https://github.com/jakevdp/PythonDataScienceHandbook/blob/master/notebooks/03.07-Merge-and-Join.ipynb)."
   ]
  },
  {
   "cell_type": "code",
   "execution_count": 135,
   "id": "442070e6-3030-4e1b-9884-685661e9175a",
   "metadata": {},
   "outputs": [],
   "source": [
    "df1 = pd.DataFrame({'employee': ['Bob', 'Jake', 'Lisa', 'Sue'],\n",
    "                    'group': ['Accounting', 'Engineering', 'Engineering', 'HR']})\n",
    "df2 = pd.DataFrame({'employee': ['Lisa', 'Bob', 'Jake', 'Sue'],\n",
    "                    'hire_date': [2004, 2008, 2012, 2014]})"
   ]
  },
  {
   "cell_type": "code",
   "execution_count": 136,
   "id": "c1e355d8-c6ab-4ebc-a9b4-b84da88ef7e6",
   "metadata": {},
   "outputs": [
    {
     "data": {
      "text/html": [
       "<div>\n",
       "<style scoped>\n",
       "    .dataframe tbody tr th:only-of-type {\n",
       "        vertical-align: middle;\n",
       "    }\n",
       "\n",
       "    .dataframe tbody tr th {\n",
       "        vertical-align: top;\n",
       "    }\n",
       "\n",
       "    .dataframe thead th {\n",
       "        text-align: right;\n",
       "    }\n",
       "</style>\n",
       "<table border=\"1\" class=\"dataframe\">\n",
       "  <thead>\n",
       "    <tr style=\"text-align: right;\">\n",
       "      <th></th>\n",
       "      <th>employee</th>\n",
       "      <th>group</th>\n",
       "    </tr>\n",
       "  </thead>\n",
       "  <tbody>\n",
       "    <tr>\n",
       "      <th>0</th>\n",
       "      <td>Bob</td>\n",
       "      <td>Accounting</td>\n",
       "    </tr>\n",
       "    <tr>\n",
       "      <th>1</th>\n",
       "      <td>Jake</td>\n",
       "      <td>Engineering</td>\n",
       "    </tr>\n",
       "    <tr>\n",
       "      <th>2</th>\n",
       "      <td>Lisa</td>\n",
       "      <td>Engineering</td>\n",
       "    </tr>\n",
       "    <tr>\n",
       "      <th>3</th>\n",
       "      <td>Sue</td>\n",
       "      <td>HR</td>\n",
       "    </tr>\n",
       "  </tbody>\n",
       "</table>\n",
       "</div>"
      ],
      "text/plain": [
       "  employee        group\n",
       "0      Bob   Accounting\n",
       "1     Jake  Engineering\n",
       "2     Lisa  Engineering\n",
       "3      Sue           HR"
      ]
     },
     "execution_count": 136,
     "metadata": {},
     "output_type": "execute_result"
    }
   ],
   "source": [
    "df1"
   ]
  },
  {
   "cell_type": "code",
   "execution_count": 137,
   "id": "eeceaa21-fd6f-498c-b52c-86e366cce77e",
   "metadata": {},
   "outputs": [
    {
     "data": {
      "text/html": [
       "<div>\n",
       "<style scoped>\n",
       "    .dataframe tbody tr th:only-of-type {\n",
       "        vertical-align: middle;\n",
       "    }\n",
       "\n",
       "    .dataframe tbody tr th {\n",
       "        vertical-align: top;\n",
       "    }\n",
       "\n",
       "    .dataframe thead th {\n",
       "        text-align: right;\n",
       "    }\n",
       "</style>\n",
       "<table border=\"1\" class=\"dataframe\">\n",
       "  <thead>\n",
       "    <tr style=\"text-align: right;\">\n",
       "      <th></th>\n",
       "      <th>employee</th>\n",
       "      <th>hire_date</th>\n",
       "    </tr>\n",
       "  </thead>\n",
       "  <tbody>\n",
       "    <tr>\n",
       "      <th>0</th>\n",
       "      <td>Lisa</td>\n",
       "      <td>2004</td>\n",
       "    </tr>\n",
       "    <tr>\n",
       "      <th>1</th>\n",
       "      <td>Bob</td>\n",
       "      <td>2008</td>\n",
       "    </tr>\n",
       "    <tr>\n",
       "      <th>2</th>\n",
       "      <td>Jake</td>\n",
       "      <td>2012</td>\n",
       "    </tr>\n",
       "    <tr>\n",
       "      <th>3</th>\n",
       "      <td>Sue</td>\n",
       "      <td>2014</td>\n",
       "    </tr>\n",
       "  </tbody>\n",
       "</table>\n",
       "</div>"
      ],
      "text/plain": [
       "  employee  hire_date\n",
       "0     Lisa       2004\n",
       "1      Bob       2008\n",
       "2     Jake       2012\n",
       "3      Sue       2014"
      ]
     },
     "execution_count": 137,
     "metadata": {},
     "output_type": "execute_result"
    }
   ],
   "source": [
    "df2"
   ]
  },
  {
   "cell_type": "markdown",
   "id": "ffe951ee-0fb8-4732-8146-6a2e6bf40944",
   "metadata": {},
   "source": [
    "### One to One joins\n",
    "\n",
    "In one-to-one joins, the key column in both datasets is unique."
   ]
  },
  {
   "cell_type": "code",
   "execution_count": 138,
   "id": "87c1c256-6e90-4fb7-a5e8-5a5f5425f93e",
   "metadata": {},
   "outputs": [],
   "source": [
    "df3 = pd.merge(df1, df2, how='left', on='employee')"
   ]
  },
  {
   "cell_type": "code",
   "execution_count": 139,
   "id": "a140ff64-c94e-4da4-957f-6488f38ef46f",
   "metadata": {},
   "outputs": [
    {
     "data": {
      "text/html": [
       "<div>\n",
       "<style scoped>\n",
       "    .dataframe tbody tr th:only-of-type {\n",
       "        vertical-align: middle;\n",
       "    }\n",
       "\n",
       "    .dataframe tbody tr th {\n",
       "        vertical-align: top;\n",
       "    }\n",
       "\n",
       "    .dataframe thead th {\n",
       "        text-align: right;\n",
       "    }\n",
       "</style>\n",
       "<table border=\"1\" class=\"dataframe\">\n",
       "  <thead>\n",
       "    <tr style=\"text-align: right;\">\n",
       "      <th></th>\n",
       "      <th>employee</th>\n",
       "      <th>group</th>\n",
       "      <th>hire_date</th>\n",
       "    </tr>\n",
       "  </thead>\n",
       "  <tbody>\n",
       "    <tr>\n",
       "      <th>0</th>\n",
       "      <td>Bob</td>\n",
       "      <td>Accounting</td>\n",
       "      <td>2008</td>\n",
       "    </tr>\n",
       "    <tr>\n",
       "      <th>1</th>\n",
       "      <td>Jake</td>\n",
       "      <td>Engineering</td>\n",
       "      <td>2012</td>\n",
       "    </tr>\n",
       "    <tr>\n",
       "      <th>2</th>\n",
       "      <td>Lisa</td>\n",
       "      <td>Engineering</td>\n",
       "      <td>2004</td>\n",
       "    </tr>\n",
       "    <tr>\n",
       "      <th>3</th>\n",
       "      <td>Sue</td>\n",
       "      <td>HR</td>\n",
       "      <td>2014</td>\n",
       "    </tr>\n",
       "  </tbody>\n",
       "</table>\n",
       "</div>"
      ],
      "text/plain": [
       "  employee        group  hire_date\n",
       "0      Bob   Accounting       2008\n",
       "1     Jake  Engineering       2012\n",
       "2     Lisa  Engineering       2004\n",
       "3      Sue           HR       2014"
      ]
     },
     "execution_count": 139,
     "metadata": {},
     "output_type": "execute_result"
    }
   ],
   "source": [
    "df3"
   ]
  },
  {
   "cell_type": "markdown",
   "id": "6337058b-37bc-47cb-898a-006c393f7046",
   "metadata": {},
   "source": [
    "### One to Many Joins"
   ]
  },
  {
   "cell_type": "markdown",
   "id": "ca643e36-c347-4423-b0d2-12765f6d0338",
   "metadata": {},
   "source": [
    "In one-to-many joins, one of the key columns contains duplicate entries."
   ]
  },
  {
   "cell_type": "code",
   "execution_count": 140,
   "id": "215ab133-f3f4-4b21-9b31-054a19bbaec3",
   "metadata": {},
   "outputs": [
    {
     "data": {
      "text/html": [
       "<div>\n",
       "<style scoped>\n",
       "    .dataframe tbody tr th:only-of-type {\n",
       "        vertical-align: middle;\n",
       "    }\n",
       "\n",
       "    .dataframe tbody tr th {\n",
       "        vertical-align: top;\n",
       "    }\n",
       "\n",
       "    .dataframe thead th {\n",
       "        text-align: right;\n",
       "    }\n",
       "</style>\n",
       "<table border=\"1\" class=\"dataframe\">\n",
       "  <thead>\n",
       "    <tr style=\"text-align: right;\">\n",
       "      <th></th>\n",
       "      <th>employee</th>\n",
       "      <th>group</th>\n",
       "      <th>hire_date</th>\n",
       "    </tr>\n",
       "  </thead>\n",
       "  <tbody>\n",
       "    <tr>\n",
       "      <th>0</th>\n",
       "      <td>Bob</td>\n",
       "      <td>Accounting</td>\n",
       "      <td>2008</td>\n",
       "    </tr>\n",
       "    <tr>\n",
       "      <th>1</th>\n",
       "      <td>Jake</td>\n",
       "      <td>Engineering</td>\n",
       "      <td>2012</td>\n",
       "    </tr>\n",
       "    <tr>\n",
       "      <th>2</th>\n",
       "      <td>Lisa</td>\n",
       "      <td>Engineering</td>\n",
       "      <td>2004</td>\n",
       "    </tr>\n",
       "    <tr>\n",
       "      <th>3</th>\n",
       "      <td>Sue</td>\n",
       "      <td>HR</td>\n",
       "      <td>2014</td>\n",
       "    </tr>\n",
       "  </tbody>\n",
       "</table>\n",
       "</div>"
      ],
      "text/plain": [
       "  employee        group  hire_date\n",
       "0      Bob   Accounting       2008\n",
       "1     Jake  Engineering       2012\n",
       "2     Lisa  Engineering       2004\n",
       "3      Sue           HR       2014"
      ]
     },
     "execution_count": 140,
     "metadata": {},
     "output_type": "execute_result"
    }
   ],
   "source": [
    "df3"
   ]
  },
  {
   "cell_type": "code",
   "execution_count": 141,
   "id": "6de8bf83-a897-454a-9983-bb5b8ccb38f2",
   "metadata": {},
   "outputs": [],
   "source": [
    "df4 = pd.DataFrame({'group': ['Accounting', 'Engineering', 'HR'],\n",
    "                    'supervisor': ['Carly', 'Guido', 'Steve']})"
   ]
  },
  {
   "cell_type": "code",
   "execution_count": 142,
   "id": "5185e86b-9843-43e3-a893-4924971d8db5",
   "metadata": {},
   "outputs": [
    {
     "data": {
      "text/html": [
       "<div>\n",
       "<style scoped>\n",
       "    .dataframe tbody tr th:only-of-type {\n",
       "        vertical-align: middle;\n",
       "    }\n",
       "\n",
       "    .dataframe tbody tr th {\n",
       "        vertical-align: top;\n",
       "    }\n",
       "\n",
       "    .dataframe thead th {\n",
       "        text-align: right;\n",
       "    }\n",
       "</style>\n",
       "<table border=\"1\" class=\"dataframe\">\n",
       "  <thead>\n",
       "    <tr style=\"text-align: right;\">\n",
       "      <th></th>\n",
       "      <th>group</th>\n",
       "      <th>supervisor</th>\n",
       "    </tr>\n",
       "  </thead>\n",
       "  <tbody>\n",
       "    <tr>\n",
       "      <th>0</th>\n",
       "      <td>Accounting</td>\n",
       "      <td>Carly</td>\n",
       "    </tr>\n",
       "    <tr>\n",
       "      <th>1</th>\n",
       "      <td>Engineering</td>\n",
       "      <td>Guido</td>\n",
       "    </tr>\n",
       "    <tr>\n",
       "      <th>2</th>\n",
       "      <td>HR</td>\n",
       "      <td>Steve</td>\n",
       "    </tr>\n",
       "  </tbody>\n",
       "</table>\n",
       "</div>"
      ],
      "text/plain": [
       "         group supervisor\n",
       "0   Accounting      Carly\n",
       "1  Engineering      Guido\n",
       "2           HR      Steve"
      ]
     },
     "execution_count": 142,
     "metadata": {},
     "output_type": "execute_result"
    }
   ],
   "source": [
    "df4"
   ]
  },
  {
   "cell_type": "markdown",
   "id": "54e9d7d4-3d1b-4bdb-8329-b29613877333",
   "metadata": {},
   "source": [
    "Join `df3` and `df4` on and the `group` column. Notice that `group` contains duplicate entries in `df3`."
   ]
  },
  {
   "cell_type": "code",
   "execution_count": 143,
   "id": "86f9878a-5fee-43cf-aeb2-42d71c1c630d",
   "metadata": {},
   "outputs": [
    {
     "data": {
      "text/html": [
       "<div>\n",
       "<style scoped>\n",
       "    .dataframe tbody tr th:only-of-type {\n",
       "        vertical-align: middle;\n",
       "    }\n",
       "\n",
       "    .dataframe tbody tr th {\n",
       "        vertical-align: top;\n",
       "    }\n",
       "\n",
       "    .dataframe thead th {\n",
       "        text-align: right;\n",
       "    }\n",
       "</style>\n",
       "<table border=\"1\" class=\"dataframe\">\n",
       "  <thead>\n",
       "    <tr style=\"text-align: right;\">\n",
       "      <th></th>\n",
       "      <th>employee</th>\n",
       "      <th>group</th>\n",
       "      <th>hire_date</th>\n",
       "      <th>supervisor</th>\n",
       "    </tr>\n",
       "  </thead>\n",
       "  <tbody>\n",
       "    <tr>\n",
       "      <th>0</th>\n",
       "      <td>Bob</td>\n",
       "      <td>Accounting</td>\n",
       "      <td>2008</td>\n",
       "      <td>Carly</td>\n",
       "    </tr>\n",
       "    <tr>\n",
       "      <th>1</th>\n",
       "      <td>Jake</td>\n",
       "      <td>Engineering</td>\n",
       "      <td>2012</td>\n",
       "      <td>Guido</td>\n",
       "    </tr>\n",
       "    <tr>\n",
       "      <th>2</th>\n",
       "      <td>Lisa</td>\n",
       "      <td>Engineering</td>\n",
       "      <td>2004</td>\n",
       "      <td>Guido</td>\n",
       "    </tr>\n",
       "    <tr>\n",
       "      <th>3</th>\n",
       "      <td>Sue</td>\n",
       "      <td>HR</td>\n",
       "      <td>2014</td>\n",
       "      <td>Steve</td>\n",
       "    </tr>\n",
       "  </tbody>\n",
       "</table>\n",
       "</div>"
      ],
      "text/plain": [
       "  employee        group  hire_date supervisor\n",
       "0      Bob   Accounting       2008      Carly\n",
       "1     Jake  Engineering       2012      Guido\n",
       "2     Lisa  Engineering       2004      Guido\n",
       "3      Sue           HR       2014      Steve"
      ]
     },
     "execution_count": 143,
     "metadata": {},
     "output_type": "execute_result"
    }
   ],
   "source": [
    "pd.merge(df3, df4, how='left', on='group')"
   ]
  },
  {
   "cell_type": "markdown",
   "id": "b2a0d071-13d2-45e6-810c-3c84797ef22e",
   "metadata": {},
   "source": [
    "### Many to Many Joins"
   ]
  },
  {
   "cell_type": "markdown",
   "id": "dc52ea07-597d-4a5b-abc4-da19343bbdb6",
   "metadata": {},
   "source": [
    "In many-to-many joins, both of the key columns contains duplicate entries."
   ]
  },
  {
   "cell_type": "code",
   "execution_count": 144,
   "id": "f7ba12ce-1958-4455-bd2a-e85f33ca80bd",
   "metadata": {},
   "outputs": [
    {
     "data": {
      "text/html": [
       "<div>\n",
       "<style scoped>\n",
       "    .dataframe tbody tr th:only-of-type {\n",
       "        vertical-align: middle;\n",
       "    }\n",
       "\n",
       "    .dataframe tbody tr th {\n",
       "        vertical-align: top;\n",
       "    }\n",
       "\n",
       "    .dataframe thead th {\n",
       "        text-align: right;\n",
       "    }\n",
       "</style>\n",
       "<table border=\"1\" class=\"dataframe\">\n",
       "  <thead>\n",
       "    <tr style=\"text-align: right;\">\n",
       "      <th></th>\n",
       "      <th>employee</th>\n",
       "      <th>group</th>\n",
       "    </tr>\n",
       "  </thead>\n",
       "  <tbody>\n",
       "    <tr>\n",
       "      <th>0</th>\n",
       "      <td>Bob</td>\n",
       "      <td>Accounting</td>\n",
       "    </tr>\n",
       "    <tr>\n",
       "      <th>1</th>\n",
       "      <td>Jake</td>\n",
       "      <td>Engineering</td>\n",
       "    </tr>\n",
       "    <tr>\n",
       "      <th>2</th>\n",
       "      <td>Lisa</td>\n",
       "      <td>Engineering</td>\n",
       "    </tr>\n",
       "    <tr>\n",
       "      <th>3</th>\n",
       "      <td>Sue</td>\n",
       "      <td>HR</td>\n",
       "    </tr>\n",
       "  </tbody>\n",
       "</table>\n",
       "</div>"
      ],
      "text/plain": [
       "  employee        group\n",
       "0      Bob   Accounting\n",
       "1     Jake  Engineering\n",
       "2     Lisa  Engineering\n",
       "3      Sue           HR"
      ]
     },
     "execution_count": 144,
     "metadata": {},
     "output_type": "execute_result"
    }
   ],
   "source": [
    "df1"
   ]
  },
  {
   "cell_type": "code",
   "execution_count": 145,
   "id": "5c0cbb09-275a-4d06-a202-18de361e0918",
   "metadata": {},
   "outputs": [],
   "source": [
    "df5 = pd.DataFrame({'group': ['Accounting', 'Accounting',\n",
    "                              'Engineering', 'Engineering', 'HR', 'HR'],\n",
    "                    'skills': ['math', 'spreadsheets', 'coding', 'linux',\n",
    "                               'spreadsheets', 'organization']})"
   ]
  },
  {
   "cell_type": "code",
   "execution_count": 146,
   "id": "5b0dea94-7236-41bf-b389-1ee0926b98e3",
   "metadata": {},
   "outputs": [
    {
     "data": {
      "text/html": [
       "<div>\n",
       "<style scoped>\n",
       "    .dataframe tbody tr th:only-of-type {\n",
       "        vertical-align: middle;\n",
       "    }\n",
       "\n",
       "    .dataframe tbody tr th {\n",
       "        vertical-align: top;\n",
       "    }\n",
       "\n",
       "    .dataframe thead th {\n",
       "        text-align: right;\n",
       "    }\n",
       "</style>\n",
       "<table border=\"1\" class=\"dataframe\">\n",
       "  <thead>\n",
       "    <tr style=\"text-align: right;\">\n",
       "      <th></th>\n",
       "      <th>group</th>\n",
       "      <th>skills</th>\n",
       "    </tr>\n",
       "  </thead>\n",
       "  <tbody>\n",
       "    <tr>\n",
       "      <th>0</th>\n",
       "      <td>Accounting</td>\n",
       "      <td>math</td>\n",
       "    </tr>\n",
       "    <tr>\n",
       "      <th>1</th>\n",
       "      <td>Accounting</td>\n",
       "      <td>spreadsheets</td>\n",
       "    </tr>\n",
       "    <tr>\n",
       "      <th>2</th>\n",
       "      <td>Engineering</td>\n",
       "      <td>coding</td>\n",
       "    </tr>\n",
       "    <tr>\n",
       "      <th>3</th>\n",
       "      <td>Engineering</td>\n",
       "      <td>linux</td>\n",
       "    </tr>\n",
       "    <tr>\n",
       "      <th>4</th>\n",
       "      <td>HR</td>\n",
       "      <td>spreadsheets</td>\n",
       "    </tr>\n",
       "    <tr>\n",
       "      <th>5</th>\n",
       "      <td>HR</td>\n",
       "      <td>organization</td>\n",
       "    </tr>\n",
       "  </tbody>\n",
       "</table>\n",
       "</div>"
      ],
      "text/plain": [
       "         group        skills\n",
       "0   Accounting          math\n",
       "1   Accounting  spreadsheets\n",
       "2  Engineering        coding\n",
       "3  Engineering         linux\n",
       "4           HR  spreadsheets\n",
       "5           HR  organization"
      ]
     },
     "execution_count": 146,
     "metadata": {},
     "output_type": "execute_result"
    }
   ],
   "source": [
    "df5"
   ]
  },
  {
   "cell_type": "markdown",
   "id": "fdeb5d2a-07f3-4fb9-8e65-d4858d6bbf44",
   "metadata": {},
   "source": [
    "Join `df1` and `df5` based on `group`. Note that `group` contains duplicates on both sides."
   ]
  },
  {
   "cell_type": "code",
   "execution_count": 147,
   "id": "7f8a9953-1223-47af-b2ef-a5177246fb3a",
   "metadata": {},
   "outputs": [
    {
     "data": {
      "text/html": [
       "<div>\n",
       "<style scoped>\n",
       "    .dataframe tbody tr th:only-of-type {\n",
       "        vertical-align: middle;\n",
       "    }\n",
       "\n",
       "    .dataframe tbody tr th {\n",
       "        vertical-align: top;\n",
       "    }\n",
       "\n",
       "    .dataframe thead th {\n",
       "        text-align: right;\n",
       "    }\n",
       "</style>\n",
       "<table border=\"1\" class=\"dataframe\">\n",
       "  <thead>\n",
       "    <tr style=\"text-align: right;\">\n",
       "      <th></th>\n",
       "      <th>employee</th>\n",
       "      <th>group</th>\n",
       "      <th>skills</th>\n",
       "    </tr>\n",
       "  </thead>\n",
       "  <tbody>\n",
       "    <tr>\n",
       "      <th>0</th>\n",
       "      <td>Bob</td>\n",
       "      <td>Accounting</td>\n",
       "      <td>math</td>\n",
       "    </tr>\n",
       "    <tr>\n",
       "      <th>1</th>\n",
       "      <td>Bob</td>\n",
       "      <td>Accounting</td>\n",
       "      <td>spreadsheets</td>\n",
       "    </tr>\n",
       "    <tr>\n",
       "      <th>2</th>\n",
       "      <td>Jake</td>\n",
       "      <td>Engineering</td>\n",
       "      <td>coding</td>\n",
       "    </tr>\n",
       "    <tr>\n",
       "      <th>3</th>\n",
       "      <td>Jake</td>\n",
       "      <td>Engineering</td>\n",
       "      <td>linux</td>\n",
       "    </tr>\n",
       "    <tr>\n",
       "      <th>4</th>\n",
       "      <td>Lisa</td>\n",
       "      <td>Engineering</td>\n",
       "      <td>coding</td>\n",
       "    </tr>\n",
       "    <tr>\n",
       "      <th>5</th>\n",
       "      <td>Lisa</td>\n",
       "      <td>Engineering</td>\n",
       "      <td>linux</td>\n",
       "    </tr>\n",
       "    <tr>\n",
       "      <th>6</th>\n",
       "      <td>Sue</td>\n",
       "      <td>HR</td>\n",
       "      <td>spreadsheets</td>\n",
       "    </tr>\n",
       "    <tr>\n",
       "      <th>7</th>\n",
       "      <td>Sue</td>\n",
       "      <td>HR</td>\n",
       "      <td>organization</td>\n",
       "    </tr>\n",
       "  </tbody>\n",
       "</table>\n",
       "</div>"
      ],
      "text/plain": [
       "  employee        group        skills\n",
       "0      Bob   Accounting          math\n",
       "1      Bob   Accounting  spreadsheets\n",
       "2     Jake  Engineering        coding\n",
       "3     Jake  Engineering         linux\n",
       "4     Lisa  Engineering        coding\n",
       "5     Lisa  Engineering         linux\n",
       "6      Sue           HR  spreadsheets\n",
       "7      Sue           HR  organization"
      ]
     },
     "execution_count": 147,
     "metadata": {},
     "output_type": "execute_result"
    }
   ],
   "source": [
    "pd.merge(df1, df5, how='left', on='group')"
   ]
  }
 ],
 "metadata": {
  "kernelspec": {
   "display_name": "info615",
   "language": "python",
   "name": "info615"
  },
  "language_info": {
   "codemirror_mode": {
    "name": "ipython",
    "version": 3
   },
   "file_extension": ".py",
   "mimetype": "text/x-python",
   "name": "python",
   "nbconvert_exporter": "python",
   "pygments_lexer": "ipython3",
   "version": "3.9.9"
  }
 },
 "nbformat": 4,
 "nbformat_minor": 5
}
