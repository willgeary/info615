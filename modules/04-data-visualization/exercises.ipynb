{
 "cells": [
  {
   "cell_type": "markdown",
   "id": "b438581c-51f9-41af-92ac-3635d3ec4061",
   "metadata": {},
   "source": [
    "# Exploratory Data Analysis and Visualization"
   ]
  },
  {
   "cell_type": "markdown",
   "id": "10586795-235a-4531-a08b-d9f06c3a1e85",
   "metadata": {},
   "source": [
    "Demonstrating univariate analysis of the Citibike trips dataset."
   ]
  },
  {
   "cell_type": "markdown",
   "id": "9eea10aa-d84b-40e8-b220-648b7e675c7b",
   "metadata": {},
   "source": [
    "# Import libraries"
   ]
  },
  {
   "cell_type": "code",
   "execution_count": 1,
   "id": "01a6d30c-3fc1-49be-a976-fcf13835b50b",
   "metadata": {},
   "outputs": [],
   "source": [
    "import pandas as pd\n",
    "import numpy as np\n",
    "import seaborn as sns\n",
    "import matplotlib.pyplot as plt\n",
    "from IPython.core.pylabtools import figsize\n",
    "\n",
    "# Setting some defaults\n",
    "sns.set(rc = {'figure.figsize':(12,8)})\n",
    "sns.set(font_scale = 0.5)\n",
    "sns.set_context(\"poster\")"
   ]
  },
  {
   "cell_type": "markdown",
   "id": "5db76cde-ee0b-4df6-b3f1-f06a9647fe3f",
   "metadata": {},
   "source": [
    "# Read the data"
   ]
  },
  {
   "cell_type": "code",
   "execution_count": 2,
   "id": "b0e89201-be95-4fa5-bf29-8bf1ad16abdb",
   "metadata": {},
   "outputs": [],
   "source": [
    "df = pd.read_csv(\"../../data/citibike_sample.csv.zip\")"
   ]
  },
  {
   "cell_type": "code",
   "execution_count": 3,
   "id": "e1884924-33bf-49ef-bb62-65fb2069e14a",
   "metadata": {},
   "outputs": [],
   "source": [
    "# Need to convert the timestamp columns to datetimes\n",
    "# Because this is lost when a dataframe is written to a CSV\n",
    "# Everything in a CSV becomes text and loses its Python data type\n",
    "df['starttime'] = pd.to_datetime(df['starttime'])\n",
    "df['stoptime'] = pd.to_datetime(df['stoptime'])"
   ]
  },
  {
   "cell_type": "markdown",
   "id": "b8d79130-e05b-474f-a9d8-00fce0190420",
   "metadata": {},
   "source": [
    "View the first few rows."
   ]
  },
  {
   "cell_type": "code",
   "execution_count": 4,
   "id": "b960788a-39a1-4c01-83c6-d567c93487c7",
   "metadata": {},
   "outputs": [
    {
     "data": {
      "text/html": [
       "<div>\n",
       "<style scoped>\n",
       "    .dataframe tbody tr th:only-of-type {\n",
       "        vertical-align: middle;\n",
       "    }\n",
       "\n",
       "    .dataframe tbody tr th {\n",
       "        vertical-align: top;\n",
       "    }\n",
       "\n",
       "    .dataframe thead th {\n",
       "        text-align: right;\n",
       "    }\n",
       "</style>\n",
       "<table border=\"1\" class=\"dataframe\">\n",
       "  <thead>\n",
       "    <tr style=\"text-align: right;\">\n",
       "      <th></th>\n",
       "      <th>tripduration</th>\n",
       "      <th>starttime</th>\n",
       "      <th>stoptime</th>\n",
       "      <th>start station id</th>\n",
       "      <th>start station name</th>\n",
       "      <th>start station latitude</th>\n",
       "      <th>start station longitude</th>\n",
       "      <th>end station id</th>\n",
       "      <th>end station name</th>\n",
       "      <th>end station latitude</th>\n",
       "      <th>...</th>\n",
       "      <th>usertype</th>\n",
       "      <th>birth year</th>\n",
       "      <th>gender</th>\n",
       "      <th>tripduration_minutes</th>\n",
       "      <th>starttime_dayname</th>\n",
       "      <th>stoptime_dayname</th>\n",
       "      <th>starttime_hour</th>\n",
       "      <th>stoptime_hour</th>\n",
       "      <th>age</th>\n",
       "      <th>distance_miles</th>\n",
       "    </tr>\n",
       "  </thead>\n",
       "  <tbody>\n",
       "    <tr>\n",
       "      <th>0</th>\n",
       "      <td>1309</td>\n",
       "      <td>2020-10-27 16:51:37.994</td>\n",
       "      <td>2020-10-27 17:13:27.103</td>\n",
       "      <td>3457</td>\n",
       "      <td>E 58 St &amp; Madison Ave</td>\n",
       "      <td>40.763026</td>\n",
       "      <td>-73.972095</td>\n",
       "      <td>3534</td>\n",
       "      <td>Frederick Douglass Blvd &amp; W 117 St</td>\n",
       "      <td>40.805159</td>\n",
       "      <td>...</td>\n",
       "      <td>Subscriber</td>\n",
       "      <td>1983</td>\n",
       "      <td>male</td>\n",
       "      <td>21.816667</td>\n",
       "      <td>Tuesday</td>\n",
       "      <td>Tuesday</td>\n",
       "      <td>16</td>\n",
       "      <td>17</td>\n",
       "      <td>37</td>\n",
       "      <td>3.047236</td>\n",
       "    </tr>\n",
       "    <tr>\n",
       "      <th>1</th>\n",
       "      <td>1553</td>\n",
       "      <td>2020-10-09 19:46:12.616</td>\n",
       "      <td>2020-10-09 20:12:06.366</td>\n",
       "      <td>3815</td>\n",
       "      <td>E 51 St &amp; 2 Ave</td>\n",
       "      <td>40.755293</td>\n",
       "      <td>-73.967641</td>\n",
       "      <td>3641</td>\n",
       "      <td>Broadway &amp; W 25 St</td>\n",
       "      <td>40.742869</td>\n",
       "      <td>...</td>\n",
       "      <td>Subscriber</td>\n",
       "      <td>1996</td>\n",
       "      <td>male</td>\n",
       "      <td>25.883333</td>\n",
       "      <td>Friday</td>\n",
       "      <td>Friday</td>\n",
       "      <td>19</td>\n",
       "      <td>20</td>\n",
       "      <td>24</td>\n",
       "      <td>1.418907</td>\n",
       "    </tr>\n",
       "    <tr>\n",
       "      <th>2</th>\n",
       "      <td>437</td>\n",
       "      <td>2020-10-10 15:19:17.455</td>\n",
       "      <td>2020-10-10 15:26:34.470</td>\n",
       "      <td>3096</td>\n",
       "      <td>Union Ave &amp; N 12 St</td>\n",
       "      <td>40.719240</td>\n",
       "      <td>-73.952420</td>\n",
       "      <td>3086</td>\n",
       "      <td>Graham Ave &amp; Conselyea St</td>\n",
       "      <td>40.715143</td>\n",
       "      <td>...</td>\n",
       "      <td>Subscriber</td>\n",
       "      <td>1984</td>\n",
       "      <td>female</td>\n",
       "      <td>7.283333</td>\n",
       "      <td>Saturday</td>\n",
       "      <td>Saturday</td>\n",
       "      <td>15</td>\n",
       "      <td>15</td>\n",
       "      <td>36</td>\n",
       "      <td>0.502512</td>\n",
       "    </tr>\n",
       "    <tr>\n",
       "      <th>3</th>\n",
       "      <td>1490</td>\n",
       "      <td>2020-10-28 01:30:42.644</td>\n",
       "      <td>2020-10-28 01:55:33.210</td>\n",
       "      <td>3821</td>\n",
       "      <td>Evergreen Ave &amp; Noll St</td>\n",
       "      <td>40.701060</td>\n",
       "      <td>-73.933180</td>\n",
       "      <td>3058</td>\n",
       "      <td>Lewis Ave &amp; Kosciuszko St</td>\n",
       "      <td>40.692371</td>\n",
       "      <td>...</td>\n",
       "      <td>Subscriber</td>\n",
       "      <td>1989</td>\n",
       "      <td>male</td>\n",
       "      <td>24.833333</td>\n",
       "      <td>Wednesday</td>\n",
       "      <td>Wednesday</td>\n",
       "      <td>1</td>\n",
       "      <td>1</td>\n",
       "      <td>31</td>\n",
       "      <td>0.633161</td>\n",
       "    </tr>\n",
       "    <tr>\n",
       "      <th>4</th>\n",
       "      <td>1178</td>\n",
       "      <td>2020-10-11 16:48:46.773</td>\n",
       "      <td>2020-10-11 17:08:24.976</td>\n",
       "      <td>3417</td>\n",
       "      <td>Baltic St &amp; 5 Ave</td>\n",
       "      <td>40.679577</td>\n",
       "      <td>-73.978550</td>\n",
       "      <td>3300</td>\n",
       "      <td>Prospect Park West &amp; 8 St</td>\n",
       "      <td>40.665147</td>\n",
       "      <td>...</td>\n",
       "      <td>Subscriber</td>\n",
       "      <td>1978</td>\n",
       "      <td>male</td>\n",
       "      <td>19.633333</td>\n",
       "      <td>Sunday</td>\n",
       "      <td>Sunday</td>\n",
       "      <td>16</td>\n",
       "      <td>17</td>\n",
       "      <td>42</td>\n",
       "      <td>1.002208</td>\n",
       "    </tr>\n",
       "  </tbody>\n",
       "</table>\n",
       "<p>5 rows × 22 columns</p>\n",
       "</div>"
      ],
      "text/plain": [
       "   tripduration               starttime                stoptime  \\\n",
       "0          1309 2020-10-27 16:51:37.994 2020-10-27 17:13:27.103   \n",
       "1          1553 2020-10-09 19:46:12.616 2020-10-09 20:12:06.366   \n",
       "2           437 2020-10-10 15:19:17.455 2020-10-10 15:26:34.470   \n",
       "3          1490 2020-10-28 01:30:42.644 2020-10-28 01:55:33.210   \n",
       "4          1178 2020-10-11 16:48:46.773 2020-10-11 17:08:24.976   \n",
       "\n",
       "   start station id       start station name  start station latitude  \\\n",
       "0              3457    E 58 St & Madison Ave               40.763026   \n",
       "1              3815          E 51 St & 2 Ave               40.755293   \n",
       "2              3096      Union Ave & N 12 St               40.719240   \n",
       "3              3821  Evergreen Ave & Noll St               40.701060   \n",
       "4              3417        Baltic St & 5 Ave               40.679577   \n",
       "\n",
       "   start station longitude  end station id  \\\n",
       "0               -73.972095            3534   \n",
       "1               -73.967641            3641   \n",
       "2               -73.952420            3086   \n",
       "3               -73.933180            3058   \n",
       "4               -73.978550            3300   \n",
       "\n",
       "                     end station name  end station latitude  ...    usertype  \\\n",
       "0  Frederick Douglass Blvd & W 117 St             40.805159  ...  Subscriber   \n",
       "1                  Broadway & W 25 St             40.742869  ...  Subscriber   \n",
       "2           Graham Ave & Conselyea St             40.715143  ...  Subscriber   \n",
       "3           Lewis Ave & Kosciuszko St             40.692371  ...  Subscriber   \n",
       "4           Prospect Park West & 8 St             40.665147  ...  Subscriber   \n",
       "\n",
       "   birth year  gender  tripduration_minutes starttime_dayname  \\\n",
       "0        1983    male             21.816667           Tuesday   \n",
       "1        1996    male             25.883333            Friday   \n",
       "2        1984  female              7.283333          Saturday   \n",
       "3        1989    male             24.833333         Wednesday   \n",
       "4        1978    male             19.633333            Sunday   \n",
       "\n",
       "   stoptime_dayname starttime_hour stoptime_hour  age  distance_miles  \n",
       "0           Tuesday             16            17   37        3.047236  \n",
       "1            Friday             19            20   24        1.418907  \n",
       "2          Saturday             15            15   36        0.502512  \n",
       "3         Wednesday              1             1   31        0.633161  \n",
       "4            Sunday             16            17   42        1.002208  \n",
       "\n",
       "[5 rows x 22 columns]"
      ]
     },
     "execution_count": 4,
     "metadata": {},
     "output_type": "execute_result"
    }
   ],
   "source": [
    "df.head()"
   ]
  },
  {
   "cell_type": "markdown",
   "id": "7df7dc72-ab4e-4942-ac1a-d4364623cabf",
   "metadata": {},
   "source": [
    "View a description of all numeric columns."
   ]
  },
  {
   "cell_type": "code",
   "execution_count": 5,
   "id": "c47b6290-828e-4640-994e-21866cbe6079",
   "metadata": {},
   "outputs": [
    {
     "data": {
      "text/html": [
       "<div>\n",
       "<style scoped>\n",
       "    .dataframe tbody tr th:only-of-type {\n",
       "        vertical-align: middle;\n",
       "    }\n",
       "\n",
       "    .dataframe tbody tr th {\n",
       "        vertical-align: top;\n",
       "    }\n",
       "\n",
       "    .dataframe thead th {\n",
       "        text-align: right;\n",
       "    }\n",
       "</style>\n",
       "<table border=\"1\" class=\"dataframe\">\n",
       "  <thead>\n",
       "    <tr style=\"text-align: right;\">\n",
       "      <th></th>\n",
       "      <th>tripduration</th>\n",
       "      <th>start station id</th>\n",
       "      <th>start station latitude</th>\n",
       "      <th>start station longitude</th>\n",
       "      <th>end station id</th>\n",
       "      <th>end station latitude</th>\n",
       "      <th>end station longitude</th>\n",
       "      <th>bikeid</th>\n",
       "      <th>birth year</th>\n",
       "      <th>tripduration_minutes</th>\n",
       "      <th>starttime_hour</th>\n",
       "      <th>stoptime_hour</th>\n",
       "      <th>age</th>\n",
       "      <th>distance_miles</th>\n",
       "    </tr>\n",
       "  </thead>\n",
       "  <tbody>\n",
       "    <tr>\n",
       "      <th>count</th>\n",
       "      <td>500000.000000</td>\n",
       "      <td>500000.000000</td>\n",
       "      <td>500000.000000</td>\n",
       "      <td>500000.000000</td>\n",
       "      <td>500000.000000</td>\n",
       "      <td>500000.000000</td>\n",
       "      <td>500000.000000</td>\n",
       "      <td>500000.000000</td>\n",
       "      <td>500000.000000</td>\n",
       "      <td>500000.000000</td>\n",
       "      <td>500000.000000</td>\n",
       "      <td>500000.000000</td>\n",
       "      <td>500000.000000</td>\n",
       "      <td>500000.000000</td>\n",
       "    </tr>\n",
       "    <tr>\n",
       "      <th>mean</th>\n",
       "      <td>1039.446310</td>\n",
       "      <td>2114.457440</td>\n",
       "      <td>40.741888</td>\n",
       "      <td>-73.976341</td>\n",
       "      <td>2111.629844</td>\n",
       "      <td>40.741490</td>\n",
       "      <td>-73.976464</td>\n",
       "      <td>37653.471902</td>\n",
       "      <td>1981.862754</td>\n",
       "      <td>17.324105</td>\n",
       "      <td>14.233238</td>\n",
       "      <td>14.412120</td>\n",
       "      <td>38.137246</td>\n",
       "      <td>1.367531</td>\n",
       "    </tr>\n",
       "    <tr>\n",
       "      <th>std</th>\n",
       "      <td>875.726452</td>\n",
       "      <td>1555.662785</td>\n",
       "      <td>0.036212</td>\n",
       "      <td>0.023660</td>\n",
       "      <td>1556.525668</td>\n",
       "      <td>0.036103</td>\n",
       "      <td>0.023743</td>\n",
       "      <td>9111.587283</td>\n",
       "      <td>12.243732</td>\n",
       "      <td>14.595441</td>\n",
       "      <td>4.667270</td>\n",
       "      <td>4.745886</td>\n",
       "      <td>12.243732</td>\n",
       "      <td>1.097055</td>\n",
       "    </tr>\n",
       "    <tr>\n",
       "      <th>min</th>\n",
       "      <td>180.000000</td>\n",
       "      <td>72.000000</td>\n",
       "      <td>40.655400</td>\n",
       "      <td>-74.025353</td>\n",
       "      <td>72.000000</td>\n",
       "      <td>40.655400</td>\n",
       "      <td>-74.063913</td>\n",
       "      <td>14529.000000</td>\n",
       "      <td>1921.000000</td>\n",
       "      <td>3.000000</td>\n",
       "      <td>0.000000</td>\n",
       "      <td>0.000000</td>\n",
       "      <td>16.000000</td>\n",
       "      <td>0.000000</td>\n",
       "    </tr>\n",
       "    <tr>\n",
       "      <th>25%</th>\n",
       "      <td>464.000000</td>\n",
       "      <td>435.000000</td>\n",
       "      <td>40.717548</td>\n",
       "      <td>-73.993836</td>\n",
       "      <td>434.000000</td>\n",
       "      <td>40.717488</td>\n",
       "      <td>-73.993929</td>\n",
       "      <td>32940.000000</td>\n",
       "      <td>1970.000000</td>\n",
       "      <td>7.733333</td>\n",
       "      <td>11.000000</td>\n",
       "      <td>11.000000</td>\n",
       "      <td>28.000000</td>\n",
       "      <td>0.610297</td>\n",
       "    </tr>\n",
       "    <tr>\n",
       "      <th>50%</th>\n",
       "      <td>792.000000</td>\n",
       "      <td>3115.000000</td>\n",
       "      <td>40.741444</td>\n",
       "      <td>-73.981281</td>\n",
       "      <td>3112.000000</td>\n",
       "      <td>40.739448</td>\n",
       "      <td>-73.981420</td>\n",
       "      <td>39491.000000</td>\n",
       "      <td>1985.000000</td>\n",
       "      <td>13.200000</td>\n",
       "      <td>15.000000</td>\n",
       "      <td>15.000000</td>\n",
       "      <td>35.000000</td>\n",
       "      <td>1.057515</td>\n",
       "    </tr>\n",
       "    <tr>\n",
       "      <th>75%</th>\n",
       "      <td>1350.000000</td>\n",
       "      <td>3524.000000</td>\n",
       "      <td>40.765005</td>\n",
       "      <td>-73.960241</td>\n",
       "      <td>3522.000000</td>\n",
       "      <td>40.765005</td>\n",
       "      <td>-73.960241</td>\n",
       "      <td>45318.000000</td>\n",
       "      <td>1992.000000</td>\n",
       "      <td>22.500000</td>\n",
       "      <td>18.000000</td>\n",
       "      <td>18.000000</td>\n",
       "      <td>50.000000</td>\n",
       "      <td>1.814084</td>\n",
       "    </tr>\n",
       "    <tr>\n",
       "      <th>max</th>\n",
       "      <td>10792.000000</td>\n",
       "      <td>4229.000000</td>\n",
       "      <td>40.852252</td>\n",
       "      <td>-73.884308</td>\n",
       "      <td>4229.000000</td>\n",
       "      <td>40.852252</td>\n",
       "      <td>-73.884308</td>\n",
       "      <td>48702.000000</td>\n",
       "      <td>2004.000000</td>\n",
       "      <td>179.866667</td>\n",
       "      <td>23.000000</td>\n",
       "      <td>23.000000</td>\n",
       "      <td>99.000000</td>\n",
       "      <td>13.152597</td>\n",
       "    </tr>\n",
       "  </tbody>\n",
       "</table>\n",
       "</div>"
      ],
      "text/plain": [
       "        tripduration  start station id  start station latitude  \\\n",
       "count  500000.000000     500000.000000           500000.000000   \n",
       "mean     1039.446310       2114.457440               40.741888   \n",
       "std       875.726452       1555.662785                0.036212   \n",
       "min       180.000000         72.000000               40.655400   \n",
       "25%       464.000000        435.000000               40.717548   \n",
       "50%       792.000000       3115.000000               40.741444   \n",
       "75%      1350.000000       3524.000000               40.765005   \n",
       "max     10792.000000       4229.000000               40.852252   \n",
       "\n",
       "       start station longitude  end station id  end station latitude  \\\n",
       "count            500000.000000   500000.000000         500000.000000   \n",
       "mean                -73.976341     2111.629844             40.741490   \n",
       "std                   0.023660     1556.525668              0.036103   \n",
       "min                 -74.025353       72.000000             40.655400   \n",
       "25%                 -73.993836      434.000000             40.717488   \n",
       "50%                 -73.981281     3112.000000             40.739448   \n",
       "75%                 -73.960241     3522.000000             40.765005   \n",
       "max                 -73.884308     4229.000000             40.852252   \n",
       "\n",
       "       end station longitude         bikeid     birth year  \\\n",
       "count          500000.000000  500000.000000  500000.000000   \n",
       "mean              -73.976464   37653.471902    1981.862754   \n",
       "std                 0.023743    9111.587283      12.243732   \n",
       "min               -74.063913   14529.000000    1921.000000   \n",
       "25%               -73.993929   32940.000000    1970.000000   \n",
       "50%               -73.981420   39491.000000    1985.000000   \n",
       "75%               -73.960241   45318.000000    1992.000000   \n",
       "max               -73.884308   48702.000000    2004.000000   \n",
       "\n",
       "       tripduration_minutes  starttime_hour  stoptime_hour            age  \\\n",
       "count         500000.000000   500000.000000  500000.000000  500000.000000   \n",
       "mean              17.324105       14.233238      14.412120      38.137246   \n",
       "std               14.595441        4.667270       4.745886      12.243732   \n",
       "min                3.000000        0.000000       0.000000      16.000000   \n",
       "25%                7.733333       11.000000      11.000000      28.000000   \n",
       "50%               13.200000       15.000000      15.000000      35.000000   \n",
       "75%               22.500000       18.000000      18.000000      50.000000   \n",
       "max              179.866667       23.000000      23.000000      99.000000   \n",
       "\n",
       "       distance_miles  \n",
       "count   500000.000000  \n",
       "mean         1.367531  \n",
       "std          1.097055  \n",
       "min          0.000000  \n",
       "25%          0.610297  \n",
       "50%          1.057515  \n",
       "75%          1.814084  \n",
       "max         13.152597  "
      ]
     },
     "execution_count": 5,
     "metadata": {},
     "output_type": "execute_result"
    }
   ],
   "source": [
    "df.describe()"
   ]
  },
  {
   "cell_type": "markdown",
   "id": "dfc770d5-e4ec-4e34-9827-070da0de2117",
   "metadata": {},
   "source": [
    "# Categorical Variables"
   ]
  },
  {
   "cell_type": "markdown",
   "id": "1b470f3e-bfe6-43da-b92b-a4b7acb85cab",
   "metadata": {},
   "source": [
    "First, let's visualize the distrutions of two categorial variables in this dataset: `usertype`, `gender`."
   ]
  },
  {
   "cell_type": "markdown",
   "id": "85ad3b0f-970d-462e-bbcf-272f971e970b",
   "metadata": {},
   "source": [
    "## User Type"
   ]
  },
  {
   "cell_type": "markdown",
   "id": "8f010fe8-f9e7-4e78-8432-e7984ca68518",
   "metadata": {},
   "source": [
    "`usertype` is a categorical variable containing two categories: Subscribers and Customers.\n",
    "\n",
    "Subcribers are members who have an annual Citi Bike subscription. Customers are those who purchase single ride or day passes."
   ]
  },
  {
   "cell_type": "markdown",
   "id": "1321424f-758e-4bb2-9a09-395f708ae5a0",
   "metadata": {},
   "source": [
    "### Histogram (Counts)\n",
    "\n",
    "Make a histogram showing the total number of trips contained in the dataset, segmented by `usertype`."
   ]
  },
  {
   "cell_type": "code",
   "execution_count": 6,
   "id": "3703cc12-f819-4d17-8436-f667ae2560d5",
   "metadata": {},
   "outputs": [],
   "source": [
    "# your code here\n"
   ]
  },
  {
   "cell_type": "markdown",
   "id": "a76af4f6-47f7-487c-bf42-285ba2d5d39a",
   "metadata": {},
   "source": [
    "### Histogram (Percentage)\n",
    "\n",
    "Make a histogram showing the *percentage* of trips contained in the dataset, segmented by `usertype`."
   ]
  },
  {
   "cell_type": "code",
   "execution_count": 7,
   "id": "0c236b0b-5e90-4d36-a58f-e91983a30167",
   "metadata": {},
   "outputs": [],
   "source": [
    "# your code here\n"
   ]
  },
  {
   "cell_type": "markdown",
   "id": "647fce33-e5c7-4295-acc6-60bd3952459a",
   "metadata": {},
   "source": [
    "## Gender"
   ]
  },
  {
   "cell_type": "markdown",
   "id": "83a574a4-837d-47a0-944b-6c2913823298",
   "metadata": {},
   "source": [
    "`gender` is a categorical variable containing three categories as defined by Citi Bike: Zero=unknown; 1=male; 2=female."
   ]
  },
  {
   "cell_type": "markdown",
   "id": "17aedfe7-d523-487e-9c5b-621ed4ac870a",
   "metadata": {},
   "source": [
    "### Histogram (Counts)\n",
    "\n",
    "Make a histogram showing the total number of trips contained in the dataset, segmented by `gender`."
   ]
  },
  {
   "cell_type": "code",
   "execution_count": 8,
   "id": "7b4f85d4-4901-4811-b22a-6a58ae0c5661",
   "metadata": {},
   "outputs": [],
   "source": [
    "# your code here\n"
   ]
  },
  {
   "cell_type": "markdown",
   "id": "4508bcd3-d16e-41ab-8d5a-f3a679ba7cc8",
   "metadata": {},
   "source": [
    "### Histogram (Percentage)\n",
    "\n",
    "Make a histogram showing the percentage of trips contained in the dataset, segmented by `gender`."
   ]
  },
  {
   "cell_type": "code",
   "execution_count": 9,
   "id": "eb1ed0f8-e0d7-416f-a85f-ed8de78fcd80",
   "metadata": {},
   "outputs": [],
   "source": [
    "# your code here\n"
   ]
  },
  {
   "cell_type": "markdown",
   "id": "9bd56672-5518-45c0-910b-c0f08a08a4f8",
   "metadata": {},
   "source": [
    "# Numerical Variables"
   ]
  },
  {
   "cell_type": "markdown",
   "id": "67958f90-d4a5-4ab7-a302-0d55d330ad44",
   "metadata": {},
   "source": [
    "Next, let's visualize the distributions of three numerical variables in this dataset: `tripduration_minutes`, `distance_miles`, and `age`.\n",
    "\n",
    "For now, we will analyze just a single variable at a time."
   ]
  },
  {
   "cell_type": "markdown",
   "id": "0f488d14-696c-4462-a486-0ee0a407f8bf",
   "metadata": {},
   "source": [
    "## Trip Duration\n",
    "\n",
    "`tripduration_minutes` is a continuous numeric variable that contains the duration of each trip in minutes."
   ]
  },
  {
   "cell_type": "markdown",
   "id": "31c313d6-c07c-473c-98d7-c5f293056630",
   "metadata": {},
   "source": [
    "### Histogram"
   ]
  },
  {
   "cell_type": "markdown",
   "id": "bf95f78c-3f9a-478e-8862-db693b398135",
   "metadata": {},
   "source": [
    "Make a histogram representing trip duration. Use percentage rather than counts, and set the histogram's bin width to be 1 minute."
   ]
  },
  {
   "cell_type": "code",
   "execution_count": 10,
   "id": "54fe6a59-1479-4a9b-a557-430b1cb87223",
   "metadata": {},
   "outputs": [],
   "source": [
    "# your code here\n"
   ]
  },
  {
   "cell_type": "markdown",
   "id": "9bca718f-9c11-4954-b1c3-9ac7b0565044",
   "metadata": {},
   "source": [
    "Make another histogram representing trip duration, similar to above but with a bin width of 5 minutes."
   ]
  },
  {
   "cell_type": "code",
   "execution_count": 11,
   "id": "0a4cac57-13a3-4677-ae08-cd34e6f486d4",
   "metadata": {},
   "outputs": [],
   "source": [
    "# your code here\n"
   ]
  },
  {
   "cell_type": "markdown",
   "id": "4552b013-2057-476d-910a-0767be49e03c",
   "metadata": {},
   "source": [
    "Make yet another histogram representing trip duration, but this time with a bin width of 30 minutes."
   ]
  },
  {
   "cell_type": "code",
   "execution_count": 12,
   "id": "7a75e84a-7154-4070-8ecf-cb11941e5a1d",
   "metadata": {},
   "outputs": [],
   "source": [
    "# your code here\n"
   ]
  },
  {
   "cell_type": "markdown",
   "id": "e65cefa4-9746-4e60-8d5e-736584c4e7cc",
   "metadata": {},
   "source": [
    "Make a fourth and final histogram representing trip duration, but this time use Doane's formula to set the bin width automatically."
   ]
  },
  {
   "cell_type": "code",
   "execution_count": 13,
   "id": "36ce3775-bea5-4fd7-b499-5fd9bfa76d95",
   "metadata": {},
   "outputs": [],
   "source": [
    "# your code here\n"
   ]
  },
  {
   "cell_type": "markdown",
   "id": "ec9cf549-33f2-4a11-b097-29b4bdcaf5a4",
   "metadata": {},
   "source": [
    "Which bin width do you think is the best for visualizing trip duration?"
   ]
  },
  {
   "cell_type": "markdown",
   "id": "acc774c0-a41a-472e-bfa0-6ab205efb966",
   "metadata": {},
   "source": [
    "### Density Plot"
   ]
  },
  {
   "cell_type": "markdown",
   "id": "23991318-8d7b-4a85-8686-247a5f2c26f5",
   "metadata": {},
   "source": [
    "Make a combined histogram and density plot representing trip duration, using the `kde=True` parameter. Set bin width to be 5 minutes."
   ]
  },
  {
   "cell_type": "code",
   "execution_count": 14,
   "id": "e401ec36-5db2-4ee9-a8c9-cefb5c071b36",
   "metadata": {},
   "outputs": [],
   "source": [
    "# your code here\n"
   ]
  },
  {
   "cell_type": "markdown",
   "id": "48940894-951b-4753-9b32-fba5d4b5c7fc",
   "metadata": {},
   "source": [
    "Make a density plot representing trip duration, grouped by `usertype`."
   ]
  },
  {
   "cell_type": "code",
   "execution_count": 15,
   "id": "71a538e7-58ed-4fa9-ae5c-dd7a312b3265",
   "metadata": {},
   "outputs": [],
   "source": [
    "# your code here\n"
   ]
  },
  {
   "cell_type": "markdown",
   "id": "4a6047df-791a-4416-95d0-2d9cba82fa09",
   "metadata": {},
   "source": [
    "Make a density plot representing trip duration, grouped by `gender`."
   ]
  },
  {
   "cell_type": "code",
   "execution_count": 16,
   "id": "863eacba-497b-427e-9093-07b591d6dc30",
   "metadata": {},
   "outputs": [],
   "source": [
    "# your code here\n"
   ]
  },
  {
   "cell_type": "markdown",
   "id": "349c4a56-f6c3-400b-b2db-73e2a247b358",
   "metadata": {},
   "source": [
    "What do you think is a better choice for visualizing trip duration? Histogram or density plot?"
   ]
  },
  {
   "cell_type": "markdown",
   "id": "9a30101f-14c6-40eb-be9d-86863a55a259",
   "metadata": {},
   "source": [
    "### Box Plot"
   ]
  },
  {
   "cell_type": "markdown",
   "id": "4ce9517f-2cba-4a3e-855d-0ab342185f90",
   "metadata": {},
   "source": [
    "Make a boxplot with the upper fence and lower fence (i.e. \"whiskers\"). You can leave the default paramaters as they are for now."
   ]
  },
  {
   "cell_type": "code",
   "execution_count": 17,
   "id": "36626460-fd61-4995-8c0e-8a40b4d04e82",
   "metadata": {},
   "outputs": [],
   "source": [
    "# your code here\n"
   ]
  },
  {
   "cell_type": "markdown",
   "id": "0a9ea0cb-6b08-47dc-9ac2-75d5ac64468d",
   "metadata": {},
   "source": [
    "Do you see any potential outliers?"
   ]
  },
  {
   "cell_type": "markdown",
   "id": "fb2c244c-c89c-4c78-b065-6d583f8ab16a",
   "metadata": {},
   "source": [
    "### Strip Plot"
   ]
  },
  {
   "cell_type": "markdown",
   "id": "a70184be-355f-4833-889a-6fed8c004a66",
   "metadata": {},
   "source": [
    "Make a stripplot representing trip duration. Set alpha to 0.1 and size = 5."
   ]
  },
  {
   "cell_type": "code",
   "execution_count": 18,
   "id": "cc7143ff-e221-4164-8f0b-98d1b6357002",
   "metadata": {},
   "outputs": [],
   "source": [
    "# your code here\n"
   ]
  },
  {
   "cell_type": "markdown",
   "id": "df9c5681-65bf-467b-9025-b78b5d99d2d6",
   "metadata": {},
   "source": [
    "Make another stripplot representing trip duration, grouped by usertype."
   ]
  },
  {
   "cell_type": "code",
   "execution_count": 19,
   "id": "c9e9619f-befc-4a55-b287-f551221d791f",
   "metadata": {},
   "outputs": [],
   "source": [
    "# your code here\n"
   ]
  },
  {
   "cell_type": "markdown",
   "id": "ea393740-ae9f-4bd2-89f5-7b3367bbe69d",
   "metadata": {},
   "source": [
    "Make another stripplot representing trip duration, grouped by gender."
   ]
  },
  {
   "cell_type": "code",
   "execution_count": 20,
   "id": "356a48c4-73f4-4d01-b4e0-b83e197f71a4",
   "metadata": {},
   "outputs": [],
   "source": [
    "# your code here\n"
   ]
  },
  {
   "cell_type": "markdown",
   "id": "c5ce5146-29c2-42d9-8170-d26eb21c99e7",
   "metadata": {},
   "source": [
    "### Swarm Plot"
   ]
  },
  {
   "cell_type": "markdown",
   "id": "ade48700-9585-4e33-869b-bd621ffb011b",
   "metadata": {},
   "source": [
    "Make a swarmplot representing trip duration. Only use a sample of 2,000 trips, since the swarm plot cannot handle all 500K at once."
   ]
  },
  {
   "cell_type": "code",
   "execution_count": 21,
   "id": "38248062-3985-4075-a517-062e91644fa4",
   "metadata": {},
   "outputs": [],
   "source": [
    "# your code here\n"
   ]
  },
  {
   "cell_type": "markdown",
   "id": "bf65686d-5021-4227-83e7-a83a805f1042",
   "metadata": {},
   "source": [
    "Make a swarmplot representing trip duration, grouped by usertype."
   ]
  },
  {
   "cell_type": "code",
   "execution_count": 22,
   "id": "4a2bfa49-7f0d-4e96-8483-c983a9ce3ff3",
   "metadata": {},
   "outputs": [],
   "source": [
    "# your code here\n"
   ]
  },
  {
   "cell_type": "markdown",
   "id": "501ef2d7-42c6-439e-b9e9-c324d04e31c2",
   "metadata": {},
   "source": [
    "Make a swarmplot representing trip duration, grouped by gender."
   ]
  },
  {
   "cell_type": "code",
   "execution_count": 23,
   "id": "6eed88c2-b034-4565-9fe0-40f2cc14d078",
   "metadata": {},
   "outputs": [],
   "source": [
    "# your code here\n"
   ]
  },
  {
   "cell_type": "markdown",
   "id": "382602b7-a260-4f28-988c-e83e55254e2b",
   "metadata": {},
   "source": [
    "### Violin Plot"
   ]
  },
  {
   "cell_type": "markdown",
   "id": "3934f9a2-ece6-4d9d-a81e-7a2603a6b9f7",
   "metadata": {},
   "source": [
    "Make a violin plot representing trip duration."
   ]
  },
  {
   "cell_type": "code",
   "execution_count": 24,
   "id": "39b51707-548e-49cf-918c-24e54a6922d7",
   "metadata": {},
   "outputs": [],
   "source": [
    "# your code here\n"
   ]
  },
  {
   "cell_type": "markdown",
   "id": "fa67f664-3c8e-4754-807a-94340edbb1d1",
   "metadata": {},
   "source": [
    "Make a violin plot representing trip duration, grouped by gender and further split by user type."
   ]
  },
  {
   "cell_type": "code",
   "execution_count": 25,
   "id": "01f28170-1b4c-48fc-b3d7-f0857a1bcd89",
   "metadata": {},
   "outputs": [],
   "source": [
    "# your code here\n"
   ]
  }
 ],
 "metadata": {
  "kernelspec": {
   "display_name": "info615",
   "language": "python",
   "name": "info615"
  },
  "language_info": {
   "codemirror_mode": {
    "name": "ipython",
    "version": 3
   },
   "file_extension": ".py",
   "mimetype": "text/x-python",
   "name": "python",
   "nbconvert_exporter": "python",
   "pygments_lexer": "ipython3",
   "version": "3.9.9"
  }
 },
 "nbformat": 4,
 "nbformat_minor": 5
}
