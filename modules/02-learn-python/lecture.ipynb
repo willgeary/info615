{
 "cells": [
  {
   "cell_type": "markdown",
   "id": "4f787769-cb7a-488a-84f7-88136a0ed537",
   "metadata": {},
   "source": [
    "# Introduction to Python"
   ]
  },
  {
   "cell_type": "markdown",
   "id": "ad8ca05b",
   "metadata": {},
   "source": [
    "\n",
    "Today we will cover the basics of Python and get familiar with interactive computing in a *Jupyter notebook*.\n",
    "\n",
    "Notebooks allow text and graphics to be combined with code that can be run interactively, with the results appearing inline.\n",
    "\n",
    "This is a notebook that you are looking at right now.\n",
    "\n",
    "Some of the content in this tutorial was adapted from Geoff Boeing's [Coding Bootcamp](https://github.com/gboeing/ppd430/blob/main/modules/03-coding-bootcamp-i/lecture.ipynb) lecture as part of his Urban Informatics course."
   ]
  },
  {
   "cell_type": "markdown",
   "id": "8dcab373",
   "metadata": {},
   "source": [
    "## First Line of Code"
   ]
  },
  {
   "cell_type": "markdown",
   "id": "10b30226",
   "metadata": {},
   "source": [
    "The first bit of code that is usually demonstrated when you are learning a programming language is usually to make the computer print \"Hello world!\"\n",
    "\n",
    "In Python, we can do this using the `print` command. Click into the cell bellow and hit `Shift + Enter` to run the cell."
   ]
  },
  {
   "cell_type": "code",
   "execution_count": 1,
   "id": "a0058839",
   "metadata": {},
   "outputs": [
    {
     "name": "stdout",
     "output_type": "stream",
     "text": [
      "Hello world!\n"
     ]
    }
   ],
   "source": [
    "print(\"Hello world!\")"
   ]
  },
  {
   "cell_type": "markdown",
   "id": "034ca746",
   "metadata": {},
   "source": [
    "Congrats, you just wrote your first line of Python code!"
   ]
  },
  {
   "cell_type": "markdown",
   "id": "a624cbf2",
   "metadata": {},
   "source": [
    "Note how a `[1]` appears to the left of the code cell. This number indicates the order in which cells have been executed. \n",
    "\n",
    "Try running the above cell again and see what happens."
   ]
  },
  {
   "cell_type": "markdown",
   "id": "860de1ac",
   "metadata": {},
   "source": [
    "## Writing Comments"
   ]
  },
  {
   "cell_type": "markdown",
   "id": "a1b6a8bf",
   "metadata": {},
   "source": [
    "It is a good practice to write comments in your code documenting what the code does. This is helpful so that someone else can more easily follow your code, and also for yourself to remember what you were doing (this can be surprisingly helpful!).\n",
    "\n",
    "In Python, comments are preceded by the `#` symbol."
   ]
  },
  {
   "cell_type": "code",
   "execution_count": 2,
   "id": "7e175f46",
   "metadata": {},
   "outputs": [
    {
     "name": "stdout",
     "output_type": "stream",
     "text": [
      "Hello again!\n"
     ]
    }
   ],
   "source": [
    "# This is a comment\n",
    "# It is readable by humans\n",
    "# But ignored by the computer\n",
    "print(\"Hello again!\")"
   ]
  },
  {
   "cell_type": "markdown",
   "id": "8f71bbd8",
   "metadata": {},
   "source": [
    "Before we learn any more Python, let's get familiar with the Jupyter Notebook that we are currently using."
   ]
  },
  {
   "cell_type": "markdown",
   "id": "29166eed",
   "metadata": {},
   "source": [
    "## Jupyter Notebook Interface"
   ]
  },
  {
   "cell_type": "markdown",
   "id": "20c8357f",
   "metadata": {},
   "source": [
    "### Cells\n",
    "\n",
    "A cell is a container for text to be displayed in the notebook or code to be executed by the notebook’s kernel.\n",
    "\n",
    "There are two types of cells:\n",
    "\n",
    "1) **Code cell**: contains code to be executed in the kernel. When the code is run, the notebook displays the output below the code cell that generated it.\n",
    "\n",
    "2) **Markdown cell**: contains text formatted using Markdown and displays its output in-place when the Markdown cell is run\n",
    "\n",
    "There is always one **active** cell highlighted by a blue bar on the left. This indicates your current location in the notebook.\n",
    "\n",
    "Any selected cell can exist in two modes:\n",
    "\n",
    "1) **Edit mode**: when the cell is ready for us to type something into the cell. This is indicated by the cursor blinking.\n",
    "\n",
    "2) **Command mode**: when the cell is ready for us to perform a command, like running the cell or inserting a new one.\n",
    "\n",
    "In order to enter edit mode, simply click into a cell or hit `Enter` on the currently selected cell.\n",
    "\n",
    "In order to enter command mode, hit the `esc` key. You will see that the cursor stops blinking upon entering command mode."
   ]
  },
  {
   "cell_type": "markdown",
   "id": "6034f27f",
   "metadata": {},
   "source": [
    "### Jupyter Keyboard Shortcuts\n",
    "\n",
    "When you are in command mode, you can use keyboard shortcuts to run commands. Below is a list of some of Jupyter's keyboard shortcuts. You don't need to memorize them immediately, but this should give you a good idea of what's possible.\n",
    "\n",
    "- Toggle between edit and command mode with `Esc` and `Enter`, respectively\n",
    "- Once in command mode:\n",
    "    - Scroll up and down your cells with your `Up` and `Down` arrows\n",
    "    - `Shift + Enter` to run a cell and move to the next cell\n",
    "    - `Control + Enter` to run a cell and remain on that cell\n",
    "    - Press `A` or `B` to insert a new cell above or below the active cell\n",
    "    - Press `M` to transform the active cell to a Markdown cell\n",
    "    - Press `Y` to transform the active cell to a code cell\n",
    "    - Press `D + D` (`D` twice) to delete the active cell\n",
    "    - Press `Z` to undo cell deletion\n",
    "    - Hold `Shift` and press `Up` or `Down` to select multiple cells at once\n",
    "    - With multiple cells selected, `Shift + M` will merge your selection\n",
    "    - `Ctrl + Shift + -` will split the active cell at the cursor"
   ]
  },
  {
   "cell_type": "markdown",
   "id": "9113eb2c-da0f-4073-b201-747031b61ae2",
   "metadata": {},
   "source": [
    "### Practice"
   ]
  },
  {
   "cell_type": "markdown",
   "id": "cbbca3e3-ce9b-433d-8231-b78b732e3b64",
   "metadata": {},
   "source": [
    "Let's do some exercises to get used keyboard shortcuts in Jupyter."
   ]
  },
  {
   "cell_type": "code",
   "execution_count": 3,
   "id": "c79d86dc-8fcd-4872-8f2d-dc178f36170d",
   "metadata": {},
   "outputs": [],
   "source": [
    "# Practice adding a cell above this one using the A shortcut"
   ]
  },
  {
   "cell_type": "code",
   "execution_count": 4,
   "id": "039a4c1b-8e54-42f4-830e-b124f940ed51",
   "metadata": {},
   "outputs": [],
   "source": [
    "# Practice adding a cell below this one using the B shortcut"
   ]
  },
  {
   "cell_type": "code",
   "execution_count": 5,
   "id": "b0a8538e-b251-4337-9fcf-a6ca92343bd7",
   "metadata": {},
   "outputs": [],
   "source": [
    "# Practice converting this cell to a Markdown cell"
   ]
  },
  {
   "cell_type": "markdown",
   "id": "2724f238-b436-42bc-abf9-cd90aca5e48f",
   "metadata": {},
   "source": [
    "Practice converting this cell to a code cell"
   ]
  },
  {
   "cell_type": "code",
   "execution_count": 6,
   "id": "85a7fad8-120e-461e-a062-527b535a4f9b",
   "metadata": {},
   "outputs": [],
   "source": [
    "# Practice deleting this cell with D + D"
   ]
  },
  {
   "cell_type": "code",
   "execution_count": 7,
   "id": "a705eba7-c77b-439b-a4eb-0f4adf0f1c8b",
   "metadata": {},
   "outputs": [],
   "source": [
    "# Practice undoing a cell deletion with Z"
   ]
  },
  {
   "cell_type": "code",
   "execution_count": 8,
   "id": "5731ff7c-0986-4c97-8f89-5f180403082f",
   "metadata": {},
   "outputs": [],
   "source": [
    "# Practice selecting multiple cells at once with Shift + Up or Shift + Down"
   ]
  },
  {
   "cell_type": "code",
   "execution_count": 9,
   "id": "7bef27c7-639f-4bf5-82a8-c9cc0cede053",
   "metadata": {},
   "outputs": [],
   "source": [
    "# Practice merging multiple selected cells with Shift + M"
   ]
  },
  {
   "cell_type": "code",
   "execution_count": 10,
   "id": "4de02e6f-3e4a-4e86-ae84-73d897b3d3ca",
   "metadata": {},
   "outputs": [],
   "source": [
    "# Practice splitting the below code into two cells with Ctrl + Shift + -\n",
    "x = 1\n",
    "y = 2"
   ]
  },
  {
   "cell_type": "markdown",
   "id": "ebd006ea",
   "metadata": {},
   "source": [
    "## Markdown\n",
    "\n",
    "Markdown is a lightweight, easy to learn language for formatting plain text.\n"
   ]
  },
  {
   "cell_type": "markdown",
   "id": "20375117",
   "metadata": {},
   "source": [
    "Below is some example markdown text. Select the cell and enter into edit mode to see the raw markdown."
   ]
  },
  {
   "cell_type": "markdown",
   "id": "e5e4f89b",
   "metadata": {},
   "source": [
    "This is some plain text that forms a paragraph. You can add emphasis via **bold** and __bold__, or *italic* and _italic_. \n",
    "\n",
    "Paragraphs must be separated by an empty line. \n",
    "\n",
    "* Sometimes we want to include lists. \n",
    "* Which can be bulleted using asterisks. \n",
    "\n",
    "1. Lists can also be numbered. \n",
    "2. If we want an ordered list.\n",
    "\n",
    "We can embed hyperlinks like [this](https://google.com/)."
   ]
  },
  {
   "cell_type": "markdown",
   "id": "a6ec0630-2269-49af-8dc2-cddc2685d2d3",
   "metadata": {},
   "source": [
    "# Variables"
   ]
  },
  {
   "cell_type": "markdown",
   "id": "df7918b6-f131-4e80-b042-5bdb5a09f705",
   "metadata": {},
   "source": [
    "Variables are containers for storing data values. A variable is created the moment you first assign a value to it."
   ]
  },
  {
   "cell_type": "markdown",
   "id": "dec1a1f1-77f6-43c7-b369-f48c212b9690",
   "metadata": {},
   "source": [
    "Create a variable called x and populate it with the number 5:"
   ]
  },
  {
   "cell_type": "code",
   "execution_count": 11,
   "id": "ea45c297-fbee-4f99-b31a-86ed55b0dc41",
   "metadata": {},
   "outputs": [],
   "source": [
    "x = 5"
   ]
  },
  {
   "cell_type": "code",
   "execution_count": 12,
   "id": "434fd9c1-460f-45dc-8a93-3d904fff1823",
   "metadata": {},
   "outputs": [
    {
     "data": {
      "text/plain": [
       "10"
      ]
     },
     "execution_count": 12,
     "metadata": {},
     "output_type": "execute_result"
    }
   ],
   "source": [
    "x * 2"
   ]
  },
  {
   "cell_type": "markdown",
   "id": "3b65ccac-9abd-4652-a16e-7670aa564674",
   "metadata": {},
   "source": [
    "You can store text in a variable, too. In Python, text (or `strings`) must be enclosed by quotation marks (single and double are both fine)."
   ]
  },
  {
   "cell_type": "markdown",
   "id": "2f6b4532-3846-43af-80bf-a02c18ce9362",
   "metadata": {},
   "source": [
    "Overwrite that variable x and populate it with a string."
   ]
  },
  {
   "cell_type": "code",
   "execution_count": 13,
   "id": "3d602180-4b9c-4b83-907d-9724ce1ca41b",
   "metadata": {},
   "outputs": [],
   "source": [
    "x = 'hello'"
   ]
  },
  {
   "cell_type": "code",
   "execution_count": 14,
   "id": "2fbe6573-86a6-41bf-815f-0527f06f14a8",
   "metadata": {},
   "outputs": [
    {
     "data": {
      "text/plain": [
       "'hello'"
      ]
     },
     "execution_count": 14,
     "metadata": {},
     "output_type": "execute_result"
    }
   ],
   "source": [
    "x"
   ]
  },
  {
   "cell_type": "code",
   "execution_count": 15,
   "id": "c1f90c4b-4153-467f-acec-b0b6c9c5448b",
   "metadata": {},
   "outputs": [
    {
     "data": {
      "text/plain": [
       "'hellohello'"
      ]
     },
     "execution_count": 15,
     "metadata": {},
     "output_type": "execute_result"
    }
   ],
   "source": [
    "x * 2"
   ]
  },
  {
   "cell_type": "markdown",
   "id": "f4fd587d-5455-4d3f-be80-7c8bc4e77918",
   "metadata": {},
   "source": [
    "Notice how the multiplication operator performs a different function when used on a string, versus a number."
   ]
  },
  {
   "cell_type": "markdown",
   "id": "d4afbdbe-98e3-4cbc-a0f9-dfd6d11a397f",
   "metadata": {},
   "source": [
    "Clearly, variables can store data of different types. And different data types do different things."
   ]
  },
  {
   "cell_type": "markdown",
   "id": "205a1308-0c50-466b-8656-f27763d1c8f3",
   "metadata": {},
   "source": [
    "## Numeric Variables"
   ]
  },
  {
   "cell_type": "code",
   "execution_count": 16,
   "id": "79612f6b",
   "metadata": {},
   "outputs": [],
   "source": [
    "# variables contain values and those values can vary\n",
    "x = 5"
   ]
  },
  {
   "cell_type": "code",
   "execution_count": 17,
   "id": "aadbc3d0",
   "metadata": {},
   "outputs": [
    {
     "data": {
      "text/plain": [
       "5"
      ]
     },
     "execution_count": 17,
     "metadata": {},
     "output_type": "execute_result"
    }
   ],
   "source": [
    "# what is the value of x?\n",
    "x"
   ]
  },
  {
   "cell_type": "code",
   "execution_count": 18,
   "id": "21d575b0",
   "metadata": {},
   "outputs": [
    {
     "data": {
      "text/plain": [
       "8"
      ]
     },
     "execution_count": 18,
     "metadata": {},
     "output_type": "execute_result"
    }
   ],
   "source": [
    "# you can perform operations on variables, just like you can with numbers\n",
    "x + 3"
   ]
  },
  {
   "cell_type": "code",
   "execution_count": 19,
   "id": "8e1a42be",
   "metadata": {},
   "outputs": [
    {
     "data": {
      "text/plain": [
       "5"
      ]
     },
     "execution_count": 19,
     "metadata": {},
     "output_type": "execute_result"
    }
   ],
   "source": [
    "# what is the value of x, now?\n",
    "x"
   ]
  },
  {
   "cell_type": "code",
   "execution_count": 20,
   "id": "6c7cb685",
   "metadata": {},
   "outputs": [],
   "source": [
    "# create a new variable y from an operation on x\n",
    "y = x * 2"
   ]
  },
  {
   "cell_type": "code",
   "execution_count": 21,
   "id": "bac0bb95",
   "metadata": {},
   "outputs": [
    {
     "data": {
      "text/plain": [
       "10"
      ]
     },
     "execution_count": 21,
     "metadata": {},
     "output_type": "execute_result"
    }
   ],
   "source": [
    "# what is the value of y?\n",
    "y"
   ]
  },
  {
   "cell_type": "code",
   "execution_count": 22,
   "id": "c23e806b",
   "metadata": {},
   "outputs": [
    {
     "data": {
      "text/plain": [
       "10"
      ]
     },
     "execution_count": 22,
     "metadata": {},
     "output_type": "execute_result"
    }
   ],
   "source": [
    "# outputting values only displays the last thing output\n",
    "# this is different from printing! it is kinda confusing!\n",
    "x\n",
    "y"
   ]
  },
  {
   "cell_type": "code",
   "execution_count": 23,
   "id": "9918f7e9",
   "metadata": {},
   "outputs": [
    {
     "name": "stdout",
     "output_type": "stream",
     "text": [
      "5\n",
      "10\n"
     ]
    }
   ],
   "source": [
    "# use print to write multiple value(s) to the \"console\"\n",
    "print(x)\n",
    "print(y)"
   ]
  },
  {
   "cell_type": "code",
   "execution_count": 24,
   "id": "4aa480a8",
   "metadata": {},
   "outputs": [
    {
     "name": "stdout",
     "output_type": "stream",
     "text": [
      "5 10\n"
     ]
    }
   ],
   "source": [
    "# you can comma-separate values to print multiple values to the console on one line\n",
    "print(x, y)"
   ]
  },
  {
   "cell_type": "code",
   "execution_count": 25,
   "id": "107e5882",
   "metadata": {},
   "outputs": [
    {
     "name": "stdout",
     "output_type": "stream",
     "text": [
      "50\n"
     ]
    }
   ],
   "source": [
    "# you can also print the result of an expression\n",
    "print(x * y)"
   ]
  },
  {
   "cell_type": "code",
   "execution_count": 26,
   "id": "317bc947",
   "metadata": {},
   "outputs": [],
   "source": [
    "# now it's your turn\n",
    "# in a single line, create a new variable z and set it equal to x divided the sum of x plus y\n"
   ]
  },
  {
   "cell_type": "markdown",
   "id": "a0e2947c-3401-4f6c-89b3-387742f0fc74",
   "metadata": {},
   "source": [
    "## String Variables"
   ]
  },
  {
   "cell_type": "markdown",
   "id": "6f755d5e-c424-4ee1-ab9b-4a9c1d2e6b82",
   "metadata": {},
   "source": [
    "We can also do operations on text. Pieces of text are called `strings` in Python (and in programming generally).\n",
    "\n",
    "Strings must be contained within quotation marks (single `'` or double`\"` both work)."
   ]
  },
  {
   "cell_type": "markdown",
   "id": "0f8fe83c-479c-4082-ae0e-8565ca6c8559",
   "metadata": {},
   "source": [
    "Create a variable called `name` and populate it with your name. Be sure to wrap your name in quotation marks."
   ]
  },
  {
   "cell_type": "code",
   "execution_count": 27,
   "id": "f538d6f1",
   "metadata": {},
   "outputs": [],
   "source": [
    "name = \"Will\""
   ]
  },
  {
   "cell_type": "code",
   "execution_count": 28,
   "id": "105a84f7",
   "metadata": {},
   "outputs": [
    {
     "name": "stdout",
     "output_type": "stream",
     "text": [
      "Hello world! My name is Will\n"
     ]
    }
   ],
   "source": [
    "print(\"Hello world! My name is\", name)"
   ]
  },
  {
   "cell_type": "markdown",
   "id": "8a46334e-ff17-4a98-b88d-96cf8e81184d",
   "metadata": {},
   "source": [
    "We can use some numeric functions on strings."
   ]
  },
  {
   "cell_type": "code",
   "execution_count": 29,
   "id": "6340199f",
   "metadata": {},
   "outputs": [
    {
     "name": "stdout",
     "output_type": "stream",
     "text": [
      "Hello world! My name is WillGeary\n"
     ]
    }
   ],
   "source": [
    "first_name = \"Will\"\n",
    "last_name = \"Geary\"\n",
    "\n",
    "# you can \"concatenate\" strings with the + operator\n",
    "print(\"Hello world! My name is\", first_name + last_name)"
   ]
  },
  {
   "cell_type": "markdown",
   "id": "7bba67fc-237b-4dfe-b3a3-be2d2aa6b3c8",
   "metadata": {},
   "source": [
    "Let's format this output by add a space between the first and last name."
   ]
  },
  {
   "cell_type": "code",
   "execution_count": 30,
   "id": "1ee5c519",
   "metadata": {},
   "outputs": [
    {
     "name": "stdout",
     "output_type": "stream",
     "text": [
      "Hello world! My name is Will Geary\n"
     ]
    }
   ],
   "source": [
    "print(\"Hello world! My name is\", first_name + \" \" + last_name)"
   ]
  },
  {
   "cell_type": "markdown",
   "id": "d75cc92c-441e-4d40-8276-791761d89166",
   "metadata": {},
   "source": [
    "We can even multiply string by a number, though we may never need to do this."
   ]
  },
  {
   "cell_type": "code",
   "execution_count": 31,
   "id": "305cc655",
   "metadata": {},
   "outputs": [
    {
     "data": {
      "text/plain": [
       "'WillWillWillWillWillWillWillWillWillWillWillWillWillWillWillWillWillWillWillWillWillWillWillWillWillWillWillWillWillWillWillWillWillWillWillWillWillWillWillWillWillWillWillWillWillWillWillWillWillWillWillWillWillWillWillWillWillWillWillWillWillWillWillWillWillWillWillWillWillWillWillWillWillWillWillWillWillWillWillWillWillWillWillWillWillWillWillWillWillWillWillWillWillWillWillWillWillWillWillWill'"
      ]
     },
     "execution_count": 31,
     "metadata": {},
     "output_type": "execute_result"
    }
   ],
   "source": [
    "# Multiple a string and a number\n",
    "name * 100"
   ]
  },
  {
   "cell_type": "markdown",
   "id": "3d33f3fd-0c74-4252-a107-446c27644021",
   "metadata": {},
   "source": [
    "We cannot divide a string by a number though, and doing so will throw a `TypeError`. We will discuss `types` and `Error`s later in this tutorial."
   ]
  },
  {
   "cell_type": "code",
   "execution_count": 32,
   "id": "df59b964",
   "metadata": {},
   "outputs": [
    {
     "ename": "TypeError",
     "evalue": "unsupported operand type(s) for /: 'str' and 'int'",
     "output_type": "error",
     "traceback": [
      "\u001b[0;31m---------------------------------------------------------------------------\u001b[0m",
      "\u001b[0;31mTypeError\u001b[0m                                 Traceback (most recent call last)",
      "Input \u001b[0;32mIn [32]\u001b[0m, in \u001b[0;36m<module>\u001b[0;34m\u001b[0m\n\u001b[1;32m      1\u001b[0m \u001b[38;5;66;03m# Try to divide a string by a number\u001b[39;00m\n\u001b[1;32m      2\u001b[0m \u001b[38;5;66;03m# Throws an error\u001b[39;00m\n\u001b[0;32m----> 3\u001b[0m \u001b[43mname\u001b[49m\u001b[43m \u001b[49m\u001b[38;5;241;43m/\u001b[39;49m\u001b[43m \u001b[49m\u001b[38;5;241;43m2\u001b[39;49m\n",
      "\u001b[0;31mTypeError\u001b[0m: unsupported operand type(s) for /: 'str' and 'int'"
     ]
    }
   ],
   "source": [
    "# Try to divide a string by a number\n",
    "# Throws an error\n",
    "name / 2"
   ]
  },
  {
   "cell_type": "code",
   "execution_count": 35,
   "id": "07a629a3",
   "metadata": {},
   "outputs": [
    {
     "name": "stdout",
     "output_type": "stream",
     "text": [
      "Brooklyn, NY 11225\n"
     ]
    }
   ],
   "source": [
    "# let's try concatenating multiple strings\n",
    "city = \"Brooklyn\"\n",
    "sep = \", \"\n",
    "state = \"NY\"\n",
    "zip_code = \"11225\"\n",
    "\n",
    "# you can \"concatenate\" strings with the + operator\n",
    "location = city + sep + state + \" \" + zip_code\n",
    "print(location)"
   ]
  },
  {
   "cell_type": "markdown",
   "id": "b9eb169f-8a8f-466d-a903-9b74d6e17eba",
   "metadata": {},
   "source": [
    "Let's investigate some more things we can do with lists."
   ]
  },
  {
   "cell_type": "code",
   "execution_count": 36,
   "id": "0d938cc0-dd04-4d8b-8353-4d9c456863f9",
   "metadata": {},
   "outputs": [],
   "source": [
    "# create a new string to work with\n",
    "sentence = \"This is INFO-615.\""
   ]
  },
  {
   "cell_type": "code",
   "execution_count": 37,
   "id": "50b3d04b-ef66-4e19-8a94-56913b59b1be",
   "metadata": {},
   "outputs": [
    {
     "data": {
      "text/plain": [
       "'This is INFO-615.'"
      ]
     },
     "execution_count": 37,
     "metadata": {},
     "output_type": "execute_result"
    }
   ],
   "source": [
    "sentence"
   ]
  },
  {
   "cell_type": "markdown",
   "id": "ad223573-1db4-4ba4-8337-992a9d6d77e8",
   "metadata": {},
   "source": [
    "### `len()` function"
   ]
  },
  {
   "cell_type": "markdown",
   "id": "ac2c92fa-9d12-48bb-9f14-334ab9f9533e",
   "metadata": {},
   "source": [
    "`len` is a built-in Python function that tells us the length of an object.\n",
    "\n",
    "When you use `len` with a `string`, it tells you how many characters are in that string."
   ]
  },
  {
   "cell_type": "code",
   "execution_count": 38,
   "id": "7135ac43",
   "metadata": {},
   "outputs": [
    {
     "data": {
      "text/plain": [
       "4"
      ]
     },
     "execution_count": 38,
     "metadata": {},
     "output_type": "execute_result"
    }
   ],
   "source": [
    "# how many characters are in your name? use len function\n",
    "len(name)"
   ]
  },
  {
   "cell_type": "code",
   "execution_count": 39,
   "id": "6639e823-d1c3-4c88-b787-381a5a8dd0ba",
   "metadata": {},
   "outputs": [
    {
     "data": {
      "text/plain": [
       "17"
      ]
     },
     "execution_count": 39,
     "metadata": {},
     "output_type": "execute_result"
    }
   ],
   "source": [
    "# what is the length of the string?\n",
    "len(sentence)"
   ]
  },
  {
   "cell_type": "markdown",
   "id": "43b3fb53-1e41-4c2b-a0ba-af0e44af8b3d",
   "metadata": {},
   "source": [
    "### `strip()` method"
   ]
  },
  {
   "cell_type": "markdown",
   "id": "33510599-cc69-47ff-97f1-e3a1a68cfe39",
   "metadata": {},
   "source": [
    "Use the strip method to remove characters from the beginning and end of a string."
   ]
  },
  {
   "cell_type": "code",
   "execution_count": 40,
   "id": "3bf8b0e4-2bca-4b36-a682-1ef64e0eb69a",
   "metadata": {},
   "outputs": [
    {
     "data": {
      "text/plain": [
       "'This is INFO-615'"
      ]
     },
     "execution_count": 40,
     "metadata": {},
     "output_type": "execute_result"
    }
   ],
   "source": [
    "sentence.strip(\".\")"
   ]
  },
  {
   "cell_type": "code",
   "execution_count": 41,
   "id": "a6540007-a5b6-4e46-81c4-74a74bd27241",
   "metadata": {},
   "outputs": [
    {
     "data": {
      "text/plain": [
       "'INFO-615.'"
      ]
     },
     "execution_count": 41,
     "metadata": {},
     "output_type": "execute_result"
    }
   ],
   "source": [
    "sentence.strip(\"This is \")"
   ]
  },
  {
   "cell_type": "markdown",
   "id": "8695e3ef-6ec2-417a-87bb-f30632e44f23",
   "metadata": {},
   "source": [
    "Notice, `strip()` only for removing characters at the beginning or end of a string. It does not work with characters in the middle."
   ]
  },
  {
   "cell_type": "code",
   "execution_count": 42,
   "id": "2e419e42-669e-4a85-bffe-56f1ff304919",
   "metadata": {},
   "outputs": [
    {
     "data": {
      "text/plain": [
       "'This is INFO-615.'"
      ]
     },
     "execution_count": 42,
     "metadata": {},
     "output_type": "execute_result"
    }
   ],
   "source": [
    "sentence.strip(\"is\")"
   ]
  },
  {
   "cell_type": "code",
   "execution_count": 43,
   "id": "8d0c5378-4908-4f66-a043-fbaae0fafd97",
   "metadata": {},
   "outputs": [
    {
     "data": {
      "text/plain": [
       "'This is INFO-615.'"
      ]
     },
     "execution_count": 43,
     "metadata": {},
     "output_type": "execute_result"
    }
   ],
   "source": [
    "sentence"
   ]
  },
  {
   "cell_type": "code",
   "execution_count": 44,
   "id": "7903ffa4-6b09-45a3-9b33-671dfdb1be69",
   "metadata": {},
   "outputs": [],
   "source": [
    "# create a new string to contain the stripped version of our string\n",
    "new_sentence = sentence.strip(\".\")"
   ]
  },
  {
   "cell_type": "code",
   "execution_count": 45,
   "id": "095d5d2f-6ae7-49e7-9422-447af0d7d11d",
   "metadata": {},
   "outputs": [
    {
     "data": {
      "text/plain": [
       "'This is INFO-615'"
      ]
     },
     "execution_count": 45,
     "metadata": {},
     "output_type": "execute_result"
    }
   ],
   "source": [
    "new_sentence"
   ]
  },
  {
   "cell_type": "code",
   "execution_count": 46,
   "id": "b7abbb51-bb24-4d03-a0ca-0108a8763ddb",
   "metadata": {},
   "outputs": [
    {
     "data": {
      "text/plain": [
       "'This is '"
      ]
     },
     "execution_count": 46,
     "metadata": {},
     "output_type": "execute_result"
    }
   ],
   "source": [
    "# you can create a string variable and pass it into the strip method as an argument\n",
    "to_strip = \"INFO-615.\"\n",
    "sentence.strip(to_strip)"
   ]
  },
  {
   "cell_type": "markdown",
   "id": "4058fc3e-6252-4bda-943e-10b66d786fec",
   "metadata": {},
   "source": [
    "### `replace()` method"
   ]
  },
  {
   "cell_type": "markdown",
   "id": "81242551-c594-4771-98fa-5626e24da502",
   "metadata": {},
   "source": [
    "`replace()` returns a string where a specified value is replaced with a specified value"
   ]
  },
  {
   "cell_type": "code",
   "execution_count": 47,
   "id": "2f6f126f-7fe5-4579-9c0a-616385dfb80a",
   "metadata": {},
   "outputs": [
    {
     "data": {
      "text/plain": [
       "'ThXX XX INFO-615.'"
      ]
     },
     "execution_count": 47,
     "metadata": {},
     "output_type": "execute_result"
    }
   ],
   "source": [
    "sentence.replace(\"is\", \"XX\")"
   ]
  },
  {
   "cell_type": "markdown",
   "id": "20459810-76c3-4898-9a07-815e787f3f93",
   "metadata": {},
   "source": [
    "If there are multple matching values, they will all be replaced."
   ]
  },
  {
   "cell_type": "code",
   "execution_count": 48,
   "id": "04acfe99-bb3d-4236-9291-6f579a71d096",
   "metadata": {},
   "outputs": [
    {
     "data": {
      "text/plain": [
       "'Thi$$ i$$ INFO-615.'"
      ]
     },
     "execution_count": 48,
     "metadata": {},
     "output_type": "execute_result"
    }
   ],
   "source": [
    "sentence.replace(\"s\", \"$$\")"
   ]
  },
  {
   "cell_type": "markdown",
   "id": "09a9fb71-668b-473a-90b7-145193748eee",
   "metadata": {},
   "source": [
    "### `split()` method"
   ]
  },
  {
   "cell_type": "markdown",
   "id": "cb594037-dd5a-496e-9b01-501d2554453d",
   "metadata": {},
   "source": [
    "Use `split()` to break a string into chunks (sometimes called \"tokens\")."
   ]
  },
  {
   "cell_type": "code",
   "execution_count": 49,
   "id": "e64e0295-d898-48d0-8903-43d3580ec049",
   "metadata": {},
   "outputs": [
    {
     "data": {
      "text/plain": [
       "['This', 'is', 'INFO-615.']"
      ]
     },
     "execution_count": 49,
     "metadata": {},
     "output_type": "execute_result"
    }
   ],
   "source": [
    "sentence.split()"
   ]
  },
  {
   "cell_type": "markdown",
   "id": "4ab199ce-4db0-4732-8670-f3e8b4e81326",
   "metadata": {},
   "source": [
    "By default, `split()` breaks up a string based on spaces, but you can pass other substrings to split on."
   ]
  },
  {
   "cell_type": "code",
   "execution_count": 50,
   "id": "47b0485f-57c0-4cb7-af9c-02012cf6b143",
   "metadata": {},
   "outputs": [
    {
     "data": {
      "text/plain": [
       "['Th', 's ', 's INFO-615.']"
      ]
     },
     "execution_count": 50,
     "metadata": {},
     "output_type": "execute_result"
    }
   ],
   "source": [
    "sentence.split(\"i\")"
   ]
  },
  {
   "cell_type": "code",
   "execution_count": 51,
   "id": "71b6270c-1a1f-4320-9d8d-e7a2a252c6f5",
   "metadata": {},
   "outputs": [
    {
     "data": {
      "text/plain": [
       "['This is INFO', '615.']"
      ]
     },
     "execution_count": 51,
     "metadata": {},
     "output_type": "execute_result"
    }
   ],
   "source": [
    "sentence.split(\"-\")"
   ]
  },
  {
   "cell_type": "markdown",
   "id": "88646315-f7db-493c-8c33-29ed12de3ec3",
   "metadata": {},
   "source": [
    "### `join()` method"
   ]
  },
  {
   "cell_type": "markdown",
   "id": "55ade17c-c191-4ad5-9e8e-606314a692de",
   "metadata": {},
   "source": [
    "Use the string join method to turn a list into a string."
   ]
  },
  {
   "cell_type": "code",
   "execution_count": 52,
   "id": "bb8c429d-7222-4b92-8926-5b9ee5ae381e",
   "metadata": {},
   "outputs": [
    {
     "data": {
      "text/plain": [
       "'This-is-INFO-615.'"
      ]
     },
     "execution_count": 52,
     "metadata": {},
     "output_type": "execute_result"
    }
   ],
   "source": [
    "\"-\".join(sentence.split())"
   ]
  },
  {
   "cell_type": "markdown",
   "id": "779619e2-92b7-4be8-bb02-56c330b02cfb",
   "metadata": {},
   "source": [
    "### `find()` method"
   ]
  },
  {
   "cell_type": "markdown",
   "id": "f4e006a5-b743-4fde-9655-5c87f1af14aa",
   "metadata": {},
   "source": [
    "Use the find method to return the index of the first instance of some substring within another string."
   ]
  },
  {
   "cell_type": "code",
   "execution_count": 53,
   "id": "40418e00-d664-463d-94a9-9aa650493727",
   "metadata": {},
   "outputs": [
    {
     "data": {
      "text/plain": [
       "8"
      ]
     },
     "execution_count": 53,
     "metadata": {},
     "output_type": "execute_result"
    }
   ],
   "source": [
    "sentence.find(\"INFO\")"
   ]
  },
  {
   "cell_type": "markdown",
   "id": "7717cf43-de00-4c69-a8e1-535226b0789d",
   "metadata": {},
   "source": [
    "# Data Types"
   ]
  },
  {
   "cell_type": "markdown",
   "id": "b883d57d-4378-4336-b61b-aebd33b38071",
   "metadata": {},
   "source": [
    "There are four basic types of data in Python:\n",
    "\n",
    "- Numeric\n",
    "    - Integers (`int`)\n",
    "    - Decimals (`float`)\n",
    "- Text\n",
    "    - Strings (`str`)\n",
    "    - Must be surrounded by either single quotes or double quotes, i.e. “hello”\n",
    "- Boolean (`bool`)\n",
    "    - Booleans represent one of two values: True or False\n",
    "\n",
    "There are other data types in Python, but we will focus on these three first."
   ]
  },
  {
   "cell_type": "markdown",
   "id": "67a19689-8692-4adb-a914-5e73c4a24047",
   "metadata": {},
   "source": [
    "## `Type()` Function"
   ]
  },
  {
   "cell_type": "markdown",
   "id": "23dafb57-63f3-4d5d-8fc6-b4e0051e6aa2",
   "metadata": {},
   "source": [
    "You can see what data type a variable is by using the `type()` function."
   ]
  },
  {
   "cell_type": "code",
   "execution_count": 54,
   "id": "7516d9d0-626a-464b-9cfc-4bb855663c1a",
   "metadata": {},
   "outputs": [
    {
     "data": {
      "text/plain": [
       "int"
      ]
     },
     "execution_count": 54,
     "metadata": {},
     "output_type": "execute_result"
    }
   ],
   "source": [
    "type(3)"
   ]
  },
  {
   "cell_type": "code",
   "execution_count": 55,
   "id": "77ca2e4d-ddc5-4a5d-b558-758aa347a90c",
   "metadata": {},
   "outputs": [
    {
     "data": {
      "text/plain": [
       "float"
      ]
     },
     "execution_count": 55,
     "metadata": {},
     "output_type": "execute_result"
    }
   ],
   "source": [
    "type(3.0)"
   ]
  },
  {
   "cell_type": "code",
   "execution_count": 56,
   "id": "ae30f028-05a8-4d11-9487-3bd4734cb759",
   "metadata": {},
   "outputs": [
    {
     "data": {
      "text/plain": [
       "str"
      ]
     },
     "execution_count": 56,
     "metadata": {},
     "output_type": "execute_result"
    }
   ],
   "source": [
    "type(\"3.0\")"
   ]
  },
  {
   "cell_type": "code",
   "execution_count": 57,
   "id": "a9017330-c537-4c9b-9f81-d5da7625c07f",
   "metadata": {},
   "outputs": [
    {
     "data": {
      "text/plain": [
       "bool"
      ]
     },
     "execution_count": 57,
     "metadata": {},
     "output_type": "execute_result"
    }
   ],
   "source": [
    "type(True)"
   ]
  },
  {
   "cell_type": "markdown",
   "id": "692392b8-ee61-4922-82c5-4e5c361c0f8e",
   "metadata": {},
   "source": [
    "## Casting"
   ]
  },
  {
   "cell_type": "markdown",
   "id": "e763fb2f-a8dc-4fb5-9263-49e0c1838508",
   "metadata": {},
   "source": [
    "Sometimes you will need to convert a variable from one type to another. This is called ✨ casting ✨"
   ]
  },
  {
   "cell_type": "markdown",
   "id": "cc513868-cfba-4504-8bae-d4595aabe559",
   "metadata": {},
   "source": [
    "Casting in python is done using constructor functions:\n",
    "\n",
    "- `int()` constructs an integer number from an integer, a float (by removing all decimals), or a string (providing the string represents an integer number)\n",
    "- `float()` constructs a float number from an integer, a float, or a string (if the string represents a float or an integer)\n",
    "- `str()` constructs a string from a variety of data types, including strings, integers and floats\n",
    "\n"
   ]
  },
  {
   "cell_type": "markdown",
   "id": "d892ddaf-8316-4b5d-aff5-c5b89c911413",
   "metadata": {},
   "source": [
    "Cast a `float` to an `int`."
   ]
  },
  {
   "cell_type": "code",
   "execution_count": 58,
   "id": "d86e0046-b097-43dc-9ba0-88e4f03c1380",
   "metadata": {},
   "outputs": [],
   "source": [
    "x = int(2.8)"
   ]
  },
  {
   "cell_type": "code",
   "execution_count": 59,
   "id": "a25d22eb-7a02-4073-9351-25f2fce24c8f",
   "metadata": {},
   "outputs": [
    {
     "data": {
      "text/plain": [
       "2"
      ]
     },
     "execution_count": 59,
     "metadata": {},
     "output_type": "execute_result"
    }
   ],
   "source": [
    "x"
   ]
  },
  {
   "cell_type": "markdown",
   "id": "f450040d-1c6d-4d48-b512-89563eb518ec",
   "metadata": {},
   "source": [
    "Cast a `str` to an `int`."
   ]
  },
  {
   "cell_type": "code",
   "execution_count": 60,
   "id": "471a83aa-8a84-4546-9137-38669b8a6994",
   "metadata": {},
   "outputs": [],
   "source": [
    "x = int(\"3\")"
   ]
  },
  {
   "cell_type": "code",
   "execution_count": 61,
   "id": "dd8b31d8-22a6-4826-a5d5-7a52ba5444af",
   "metadata": {},
   "outputs": [
    {
     "data": {
      "text/plain": [
       "3"
      ]
     },
     "execution_count": 61,
     "metadata": {},
     "output_type": "execute_result"
    }
   ],
   "source": [
    "x"
   ]
  },
  {
   "cell_type": "markdown",
   "id": "129ab009-38f1-439a-a05b-6ccd548931ff",
   "metadata": {},
   "source": [
    "Cast an `int` to a `float`."
   ]
  },
  {
   "cell_type": "code",
   "execution_count": 62,
   "id": "40ce82c2-7c88-4c2d-b41c-585e266b94eb",
   "metadata": {},
   "outputs": [],
   "source": [
    "x = float(3)"
   ]
  },
  {
   "cell_type": "code",
   "execution_count": 63,
   "id": "8baa0940-64a0-4f85-a692-05a0e0aa2b23",
   "metadata": {},
   "outputs": [
    {
     "data": {
      "text/plain": [
       "3.0"
      ]
     },
     "execution_count": 63,
     "metadata": {},
     "output_type": "execute_result"
    }
   ],
   "source": [
    "x"
   ]
  },
  {
   "cell_type": "markdown",
   "id": "bb84fb00",
   "metadata": {},
   "source": [
    "# Arithmetic Operators\n",
    "\n",
    "Let's review the basic mathematical operations that we can perform with Python."
   ]
  },
  {
   "cell_type": "code",
   "execution_count": 64,
   "id": "9f6b428d",
   "metadata": {},
   "outputs": [
    {
     "data": {
      "text/plain": [
       "4"
      ]
     },
     "execution_count": 64,
     "metadata": {},
     "output_type": "execute_result"
    }
   ],
   "source": [
    "# Add two integers\n",
    "2 + 2"
   ]
  },
  {
   "cell_type": "code",
   "execution_count": 65,
   "id": "9da57e53",
   "metadata": {},
   "outputs": [
    {
     "data": {
      "text/plain": [
       "6"
      ]
     },
     "execution_count": 65,
     "metadata": {},
     "output_type": "execute_result"
    }
   ],
   "source": [
    "# Multiply two integers\n",
    "2 * 3"
   ]
  },
  {
   "cell_type": "code",
   "execution_count": 66,
   "id": "40915779",
   "metadata": {},
   "outputs": [
    {
     "data": {
      "text/plain": [
       "2.0"
      ]
     },
     "execution_count": 66,
     "metadata": {},
     "output_type": "execute_result"
    }
   ],
   "source": [
    "# Divide two integers\n",
    "10 / 5"
   ]
  },
  {
   "cell_type": "code",
   "execution_count": 67,
   "id": "a2f8eb06",
   "metadata": {},
   "outputs": [
    {
     "data": {
      "text/plain": [
       "16"
      ]
     },
     "execution_count": 67,
     "metadata": {},
     "output_type": "execute_result"
    }
   ],
   "source": [
    "# Raise 2 to the 4th power\n",
    "2 ** 4"
   ]
  },
  {
   "cell_type": "code",
   "execution_count": 68,
   "id": "b6348dd9",
   "metadata": {},
   "outputs": [
    {
     "data": {
      "text/plain": [
       "3.0"
      ]
     },
     "execution_count": 68,
     "metadata": {},
     "output_type": "execute_result"
    }
   ],
   "source": [
    "# take the square root of 9 (by raising it to the power of 1/2)\n",
    "9 ** (1 / 2)"
   ]
  },
  {
   "cell_type": "markdown",
   "id": "070c31b7-10a7-4d6a-850e-f5b30617d1cf",
   "metadata": {},
   "source": [
    "## Incrementation"
   ]
  },
  {
   "cell_type": "markdown",
   "id": "a40f3a0f-815c-4f91-a0c7-1852b4c76899",
   "metadata": {},
   "source": [
    "We can increment a variable using the + operator."
   ]
  },
  {
   "cell_type": "code",
   "execution_count": 69,
   "id": "bf548257-35ab-48e5-ae23-d26a028559f9",
   "metadata": {},
   "outputs": [],
   "source": [
    "x = 4\n",
    "x = x + 1"
   ]
  },
  {
   "cell_type": "code",
   "execution_count": 70,
   "id": "086a8a4b-bf52-4e18-b852-be3e1fbac78d",
   "metadata": {},
   "outputs": [
    {
     "data": {
      "text/plain": [
       "5"
      ]
     },
     "execution_count": 70,
     "metadata": {},
     "output_type": "execute_result"
    }
   ],
   "source": [
    "x"
   ]
  },
  {
   "cell_type": "code",
   "execution_count": 71,
   "id": "25b2ab28-5edf-443f-bce4-614eecc013bc",
   "metadata": {},
   "outputs": [],
   "source": [
    "x = x + 1"
   ]
  },
  {
   "cell_type": "code",
   "execution_count": 72,
   "id": "7c8ce107-761d-419d-9704-9cdd33e21b8d",
   "metadata": {},
   "outputs": [
    {
     "data": {
      "text/plain": [
       "6"
      ]
     },
     "execution_count": 72,
     "metadata": {},
     "output_type": "execute_result"
    }
   ],
   "source": [
    "x"
   ]
  },
  {
   "cell_type": "markdown",
   "id": "76510d6e-856e-47dd-a0c9-154051711d01",
   "metadata": {},
   "source": [
    "We can accomplish the same thing (incrementation) using `+=` operator, which is a bit cleaner."
   ]
  },
  {
   "cell_type": "code",
   "execution_count": 73,
   "id": "181f9837-e415-4e2e-b7d7-f7de30124ba8",
   "metadata": {},
   "outputs": [],
   "source": [
    "x = 4\n",
    "x += 1"
   ]
  },
  {
   "cell_type": "code",
   "execution_count": 74,
   "id": "a301cf59-371e-448f-a281-2d747b9c7255",
   "metadata": {},
   "outputs": [
    {
     "data": {
      "text/plain": [
       "5"
      ]
     },
     "execution_count": 74,
     "metadata": {},
     "output_type": "execute_result"
    }
   ],
   "source": [
    "x"
   ]
  },
  {
   "cell_type": "code",
   "execution_count": 75,
   "id": "314f3f67-6ffb-41b5-92f9-0239ba12c2a9",
   "metadata": {},
   "outputs": [],
   "source": [
    "x += 1"
   ]
  },
  {
   "cell_type": "code",
   "execution_count": 76,
   "id": "aedc15e8-defe-4162-a684-1373c1537a27",
   "metadata": {},
   "outputs": [
    {
     "data": {
      "text/plain": [
       "6"
      ]
     },
     "execution_count": 76,
     "metadata": {},
     "output_type": "execute_result"
    }
   ],
   "source": [
    "x"
   ]
  },
  {
   "cell_type": "markdown",
   "id": "658ca8e8-aecf-4763-bc4b-4033a54b36c9",
   "metadata": {},
   "source": [
    "## Modulo Operator"
   ]
  },
  {
   "cell_type": "markdown",
   "id": "3599ed0a-e678-4236-a95f-e0fd1075f4fb",
   "metadata": {},
   "source": [
    "The `%` symbol in Python is called the Modulo Operator. The Modulo returns the remainder of a division problem"
   ]
  },
  {
   "cell_type": "markdown",
   "id": "11a4aeb3-a2c1-4443-b905-a440864f9127",
   "metadata": {},
   "source": [
    "Let's try it. 12 is evenly divisible by 3, so 12 % 3 equals zero."
   ]
  },
  {
   "cell_type": "code",
   "execution_count": 77,
   "id": "673d2a41-3b55-4579-9091-a8f37ae6703b",
   "metadata": {},
   "outputs": [
    {
     "data": {
      "text/plain": [
       "0"
      ]
     },
     "execution_count": 77,
     "metadata": {},
     "output_type": "execute_result"
    }
   ],
   "source": [
    "12 % 3"
   ]
  },
  {
   "cell_type": "markdown",
   "id": "584df9ad-8e45-4526-a792-ff06fb95ff61",
   "metadata": {},
   "source": [
    "10, on the other hand, is not evenly divisible by 3. 9 is evenly divisible by 3, and then there is 1 remaining to get to 10. This is why 10 % 3 returns a value of 1."
   ]
  },
  {
   "cell_type": "code",
   "execution_count": 78,
   "id": "ea5b4f93-66fb-4c2f-907c-378454cfa9ae",
   "metadata": {},
   "outputs": [
    {
     "data": {
      "text/plain": [
       "1"
      ]
     },
     "execution_count": 78,
     "metadata": {},
     "output_type": "execute_result"
    }
   ],
   "source": [
    "10 % 3"
   ]
  },
  {
   "cell_type": "markdown",
   "id": "7b5c4e02-4628-49da-8b93-dc238b673f09",
   "metadata": {},
   "source": [
    "As expected, 11 % 3 returns a remainder of 2."
   ]
  },
  {
   "cell_type": "code",
   "execution_count": 79,
   "id": "05de4135-b518-4326-bb39-60d7c32d691c",
   "metadata": {},
   "outputs": [
    {
     "data": {
      "text/plain": [
       "2"
      ]
     },
     "execution_count": 79,
     "metadata": {},
     "output_type": "execute_result"
    }
   ],
   "source": [
    "11 % 3"
   ]
  },
  {
   "cell_type": "markdown",
   "id": "346ac77d-c2ba-402d-b70f-8967fb179790",
   "metadata": {},
   "source": [
    "Thus, the `%` operator can be used to determine if one number evenly divides into another. When the remainder of a division is zero, that implies one number must be evenly divisible by the other."
   ]
  },
  {
   "cell_type": "markdown",
   "id": "2f628312-3b90-401c-bef0-ad886c713753",
   "metadata": {},
   "source": [
    "## `Floor()` Function"
   ]
  },
  {
   "cell_type": "code",
   "execution_count": 80,
   "id": "16f0bc5d-0b90-4349-8d80-9f57828be74c",
   "metadata": {},
   "outputs": [],
   "source": [
    "from math import floor"
   ]
  },
  {
   "cell_type": "markdown",
   "id": "e4b942b1-6520-4471-beff-d67d96a2a04c",
   "metadata": {},
   "source": [
    "The floor of a number is the largest integer less than or equal to the number. This can be thought of as “rounding down”."
   ]
  },
  {
   "cell_type": "code",
   "execution_count": 81,
   "id": "18bd0f1c-5d4d-4b51-a6a0-13a9ae63c621",
   "metadata": {},
   "outputs": [
    {
     "data": {
      "text/plain": [
       "3"
      ]
     },
     "execution_count": 81,
     "metadata": {},
     "output_type": "execute_result"
    }
   ],
   "source": [
    "floor(3.4)"
   ]
  },
  {
   "cell_type": "code",
   "execution_count": 82,
   "id": "fec24428-d744-4912-906c-87b19b377b63",
   "metadata": {},
   "outputs": [
    {
     "data": {
      "text/plain": [
       "3"
      ]
     },
     "execution_count": 82,
     "metadata": {},
     "output_type": "execute_result"
    }
   ],
   "source": [
    "floor(3.9)"
   ]
  },
  {
   "cell_type": "code",
   "execution_count": 83,
   "id": "56b98a33-1a3d-4e76-8042-a80f7cb6195c",
   "metadata": {},
   "outputs": [
    {
     "data": {
      "text/plain": [
       "3"
      ]
     },
     "execution_count": 83,
     "metadata": {},
     "output_type": "execute_result"
    }
   ],
   "source": [
    "floor(3)"
   ]
  },
  {
   "cell_type": "markdown",
   "id": "162f4658-1b03-4e0f-8f38-ed4d5db5ac55",
   "metadata": {},
   "source": [
    "## Floor Division"
   ]
  },
  {
   "cell_type": "markdown",
   "id": "27d4e673-b634-4100-beb7-d50f0b0d4bc7",
   "metadata": {},
   "source": [
    "Floor division is an operation in Python that divides two numbers and rounds the result down to the nearest integer\n",
    "We can perform floor division in Python with the double `//` operator. "
   ]
  },
  {
   "cell_type": "code",
   "execution_count": 84,
   "id": "bd297e86-3b42-43c4-b59b-a7bd84302bc6",
   "metadata": {},
   "outputs": [
    {
     "data": {
      "text/plain": [
       "25"
      ]
     },
     "execution_count": 84,
     "metadata": {},
     "output_type": "execute_result"
    }
   ],
   "source": [
    "101 // 4"
   ]
  },
  {
   "cell_type": "markdown",
   "id": "1542d3bf-e582-4c57-b40e-b22b2072c6d3",
   "metadata": {},
   "source": [
    "Note how Floor Division is related to the modulo operator, which returns the remainder of 1."
   ]
  },
  {
   "cell_type": "code",
   "execution_count": 85,
   "id": "870fb237-efbe-45bc-add5-74e318457b85",
   "metadata": {},
   "outputs": [
    {
     "data": {
      "text/plain": [
       "1"
      ]
     },
     "execution_count": 85,
     "metadata": {},
     "output_type": "execute_result"
    }
   ],
   "source": [
    "101 % 25"
   ]
  },
  {
   "cell_type": "markdown",
   "id": "754bde2f-55ed-43dc-a46c-d37688738be4",
   "metadata": {},
   "source": [
    "## Practice"
   ]
  },
  {
   "cell_type": "code",
   "execution_count": 86,
   "id": "4551ab27-9a52-41e5-adca-dec7b6740f70",
   "metadata": {},
   "outputs": [],
   "source": [
    "# Now you try\n",
    "# In a single line of code, divide the sum of ninety plus seventy by the product of twelve and eleven\n",
    "# Order of operations (PEMDAS) matters\n",
    "# Result should be: 1.21212121..."
   ]
  },
  {
   "cell_type": "markdown",
   "id": "125ab088-84c6-429c-ad42-05ea16b26c96",
   "metadata": {},
   "source": [
    "# Comparison Operators"
   ]
  },
  {
   "cell_type": "markdown",
   "id": "6cd4a2ca-8325-4f25-9e27-b9f77530bb79",
   "metadata": {},
   "source": [
    "## Equality (`==`)"
   ]
  },
  {
   "cell_type": "markdown",
   "id": "f0de04f9-238c-430d-9a26-25c231e5c286",
   "metadata": {},
   "source": [
    "You can check if two variables are equal using the double equal sign `==`."
   ]
  },
  {
   "cell_type": "code",
   "execution_count": 87,
   "id": "9fb7bd41-bd07-4ae1-ae1b-04b38625d35f",
   "metadata": {},
   "outputs": [
    {
     "data": {
      "text/plain": [
       "False"
      ]
     },
     "execution_count": 87,
     "metadata": {},
     "output_type": "execute_result"
    }
   ],
   "source": [
    "a = 5\n",
    "b = 10\n",
    "\n",
    "a == b"
   ]
  },
  {
   "cell_type": "markdown",
   "id": "70c63bbb-3242-4e4e-9b66-bdad7d6af780",
   "metadata": {},
   "source": [
    "## Inequality (`!=`)"
   ]
  },
  {
   "cell_type": "markdown",
   "id": "b809b1ac-abd6-4f80-937c-66efbdb0f4db",
   "metadata": {},
   "source": [
    "Conversely, you can check if two variables are *not* equal using the `!=` operator."
   ]
  },
  {
   "cell_type": "code",
   "execution_count": 88,
   "id": "8f28056a-48f3-4a5c-a7ee-2c09254479c4",
   "metadata": {},
   "outputs": [
    {
     "data": {
      "text/plain": [
       "True"
      ]
     },
     "execution_count": 88,
     "metadata": {},
     "output_type": "execute_result"
    }
   ],
   "source": [
    "a = 5\n",
    "b = 10\n",
    "\n",
    "a != b"
   ]
  },
  {
   "cell_type": "markdown",
   "id": "9d3f0bf3-c44a-449d-b1b6-5b5991637afc",
   "metadata": {},
   "source": [
    "## Greater Than (>)"
   ]
  },
  {
   "cell_type": "code",
   "execution_count": 89,
   "id": "1a72150f-83db-467e-ba34-250cda15e136",
   "metadata": {},
   "outputs": [
    {
     "data": {
      "text/plain": [
       "False"
      ]
     },
     "execution_count": 89,
     "metadata": {},
     "output_type": "execute_result"
    }
   ],
   "source": [
    "a = 5\n",
    "b = 10\n",
    "\n",
    "a > b"
   ]
  },
  {
   "cell_type": "markdown",
   "id": "53b322fa-4f97-4ad3-8220-e3348817a5e5",
   "metadata": {},
   "source": [
    "## Less Than (<)"
   ]
  },
  {
   "cell_type": "code",
   "execution_count": 90,
   "id": "d712183d-ae26-432d-9a0c-6e70cb15f715",
   "metadata": {},
   "outputs": [
    {
     "data": {
      "text/plain": [
       "True"
      ]
     },
     "execution_count": 90,
     "metadata": {},
     "output_type": "execute_result"
    }
   ],
   "source": [
    "a = 5\n",
    "b = 10\n",
    "\n",
    "a < b"
   ]
  },
  {
   "cell_type": "markdown",
   "id": "34839060-de18-4449-80ff-8cd084598bad",
   "metadata": {},
   "source": [
    "## Greater Than or Equal To (>=)"
   ]
  },
  {
   "cell_type": "code",
   "execution_count": 91,
   "id": "dffccd58-5b2a-4b04-a6a4-df8f5725f7a8",
   "metadata": {},
   "outputs": [
    {
     "data": {
      "text/plain": [
       "False"
      ]
     },
     "execution_count": 91,
     "metadata": {},
     "output_type": "execute_result"
    }
   ],
   "source": [
    "a = 5\n",
    "b = 10\n",
    "\n",
    "a >= b"
   ]
  },
  {
   "cell_type": "markdown",
   "id": "040c4677-0ed8-43c0-a428-6f6a4e658dd5",
   "metadata": {},
   "source": [
    "## Less Than or Equal To (<=)"
   ]
  },
  {
   "cell_type": "code",
   "execution_count": 92,
   "id": "8b31a9e9-3a18-482b-80ee-24b46cf1a952",
   "metadata": {},
   "outputs": [
    {
     "data": {
      "text/plain": [
       "True"
      ]
     },
     "execution_count": 92,
     "metadata": {},
     "output_type": "execute_result"
    }
   ],
   "source": [
    "a = 5\n",
    "b = 10\n",
    "\n",
    "a <= b"
   ]
  },
  {
   "cell_type": "markdown",
   "id": "95bd13f5-f45a-4c0c-aaaf-1510a4aa7102",
   "metadata": {},
   "source": [
    "# Logical Operators"
   ]
  },
  {
   "cell_type": "markdown",
   "id": "916a2d96-11ff-4333-90c9-99675f302fe0",
   "metadata": {},
   "source": [
    "Logical operators can used to combine conditional statements."
   ]
  },
  {
   "cell_type": "markdown",
   "id": "b7418046-cbbb-4165-ac56-ec4780574592",
   "metadata": {},
   "source": [
    "## `and`\n",
    "\n",
    "`and` returns `True` if both statements are `True`."
   ]
  },
  {
   "cell_type": "code",
   "execution_count": 93,
   "id": "bb42f30d-e9a2-42c1-ab92-d103611f6e01",
   "metadata": {},
   "outputs": [
    {
     "data": {
      "text/plain": [
       "True"
      ]
     },
     "execution_count": 93,
     "metadata": {},
     "output_type": "execute_result"
    }
   ],
   "source": [
    "x = 3\n",
    "\n",
    "x < 5 and x < 10"
   ]
  },
  {
   "cell_type": "markdown",
   "id": "c00476b8-9dab-4ed4-8868-3d54445650c7",
   "metadata": {},
   "source": [
    "## `or`"
   ]
  },
  {
   "cell_type": "markdown",
   "id": "db0705bf-2ddb-4dab-baf1-b8f2ffb330dd",
   "metadata": {},
   "source": [
    "`or` returns `True` if at least one statement is `True`."
   ]
  },
  {
   "cell_type": "code",
   "execution_count": 94,
   "id": "5439d8bb-c01e-43a8-9426-6db171382c2a",
   "metadata": {},
   "outputs": [
    {
     "data": {
      "text/plain": [
       "True"
      ]
     },
     "execution_count": 94,
     "metadata": {},
     "output_type": "execute_result"
    }
   ],
   "source": [
    "x < 2 or x < 5"
   ]
  },
  {
   "cell_type": "markdown",
   "id": "ec65d72f-160c-484d-bcb7-1281900be464",
   "metadata": {},
   "source": [
    "`not` reverses the result, turning `True` to `False` or `False` to `True`."
   ]
  },
  {
   "cell_type": "code",
   "execution_count": 95,
   "id": "f579c326-d3dd-4cca-8be8-f3599c8b1c10",
   "metadata": {},
   "outputs": [
    {
     "data": {
      "text/plain": [
       "False"
      ]
     },
     "execution_count": 95,
     "metadata": {},
     "output_type": "execute_result"
    }
   ],
   "source": [
    "not(x < 5 and x < 10)"
   ]
  },
  {
   "cell_type": "code",
   "execution_count": 96,
   "id": "865d87c3-c799-4342-a9a1-16048f4c5d68",
   "metadata": {},
   "outputs": [
    {
     "data": {
      "text/plain": [
       "False"
      ]
     },
     "execution_count": 96,
     "metadata": {},
     "output_type": "execute_result"
    }
   ],
   "source": [
    "not(x < 2 or x < 5)"
   ]
  },
  {
   "cell_type": "markdown",
   "id": "954d4665-c1a6-4b10-b468-eb642285cf7c",
   "metadata": {},
   "source": [
    "# Membership Operators"
   ]
  },
  {
   "cell_type": "markdown",
   "id": "388665ba-682a-4ffe-966b-1b1bf52ff848",
   "metadata": {},
   "source": [
    "Membership operators are used to test if a variable is contained within another variable."
   ]
  },
  {
   "cell_type": "code",
   "execution_count": 97,
   "id": "e68e95bb-4adc-41c2-88b1-83e71ac7525a",
   "metadata": {},
   "outputs": [
    {
     "data": {
      "text/plain": [
       "True"
      ]
     },
     "execution_count": 97,
     "metadata": {},
     "output_type": "execute_result"
    }
   ],
   "source": [
    "'h' in 'hello'"
   ]
  },
  {
   "cell_type": "code",
   "execution_count": 98,
   "id": "da327c69-792c-4a51-9601-872b122ba5e3",
   "metadata": {},
   "outputs": [
    {
     "data": {
      "text/plain": [
       "False"
      ]
     },
     "execution_count": 98,
     "metadata": {},
     "output_type": "execute_result"
    }
   ],
   "source": [
    "'h' not in 'hello'"
   ]
  },
  {
   "cell_type": "markdown",
   "id": "1a82530b-b958-4bea-b3a5-1508b9a65754",
   "metadata": {},
   "source": [
    "As we will see in the next section, membership operators are particularly relevant with data structures like `lists` and `dictionaries`."
   ]
  },
  {
   "cell_type": "markdown",
   "id": "33ddb3a3",
   "metadata": {},
   "source": [
    "# Data Structures"
   ]
  },
  {
   "cell_type": "markdown",
   "id": "1bc809ef",
   "metadata": {},
   "source": [
    "## Lists"
   ]
  },
  {
   "cell_type": "markdown",
   "id": "928c26a5-1c25-430e-bea3-244d314a5420",
   "metadata": {},
   "source": [
    "Lists are used to store multiple items in a single variable.\n",
    "\n",
    "Lists are created using square brackets."
   ]
  },
  {
   "cell_type": "markdown",
   "id": "26be0e13-1698-42bf-a5c9-3d5f26304c31",
   "metadata": {},
   "source": [
    "### Properties of Lists\n",
    "\n",
    "- Ordered\n",
    "    - Lists have a defined order, and that order will not change (unless we change it)\n",
    "    - If you add new items to a list, the new items will be placed at the end of the list\n",
    "- Indexed\n",
    "    - The first item has index [0], the second item has index [1], etc.\n",
    "- Changeable\n",
    "    - We can change, add, and remove items in a list after it has been created\n",
    "- Allow duplicates\n",
    "    - Since lists are indexed, lists can have multiple items with the same value\n"
   ]
  },
  {
   "cell_type": "markdown",
   "id": "c4ef71e2",
   "metadata": {},
   "source": [
    "### Create a list"
   ]
  },
  {
   "cell_type": "markdown",
   "id": "1d5052bd",
   "metadata": {},
   "source": [
    "Create a list named `food`."
   ]
  },
  {
   "cell_type": "code",
   "execution_count": 99,
   "id": "784fcaf5",
   "metadata": {},
   "outputs": [],
   "source": [
    "food = ['eggs', 'bananas', 'spinach', 'milk', 'bread']"
   ]
  },
  {
   "cell_type": "code",
   "execution_count": 100,
   "id": "342198c2",
   "metadata": {},
   "outputs": [
    {
     "data": {
      "text/plain": [
       "list"
      ]
     },
     "execution_count": 100,
     "metadata": {},
     "output_type": "execute_result"
    }
   ],
   "source": [
    "type(food)"
   ]
  },
  {
   "cell_type": "markdown",
   "id": "f4acaa74",
   "metadata": {},
   "source": [
    "### Accessing items in list"
   ]
  },
  {
   "cell_type": "markdown",
   "id": "c7176296",
   "metadata": {},
   "source": [
    "Select the first item from the list (in position zero)."
   ]
  },
  {
   "cell_type": "code",
   "execution_count": 101,
   "id": "cb420ded",
   "metadata": {},
   "outputs": [
    {
     "data": {
      "text/plain": [
       "'eggs'"
      ]
     },
     "execution_count": 101,
     "metadata": {},
     "output_type": "execute_result"
    }
   ],
   "source": [
    "food[0]"
   ]
  },
  {
   "cell_type": "markdown",
   "id": "bc70dcf1",
   "metadata": {},
   "source": [
    "Select the second item from the list."
   ]
  },
  {
   "cell_type": "code",
   "execution_count": 102,
   "id": "5d1372df",
   "metadata": {},
   "outputs": [
    {
     "data": {
      "text/plain": [
       "'bananas'"
      ]
     },
     "execution_count": 102,
     "metadata": {},
     "output_type": "execute_result"
    }
   ],
   "source": [
    "food[1]"
   ]
  },
  {
   "cell_type": "markdown",
   "id": "df878a6f",
   "metadata": {},
   "source": [
    "Select the third item from the list."
   ]
  },
  {
   "cell_type": "code",
   "execution_count": 103,
   "id": "5034123c",
   "metadata": {},
   "outputs": [
    {
     "data": {
      "text/plain": [
       "'spinach'"
      ]
     },
     "execution_count": 103,
     "metadata": {},
     "output_type": "execute_result"
    }
   ],
   "source": [
    "food[2]"
   ]
  },
  {
   "cell_type": "markdown",
   "id": "5e489a17",
   "metadata": {},
   "source": [
    "Select the last item from the list."
   ]
  },
  {
   "cell_type": "markdown",
   "id": "301e37f4-cee5-4d98-9247-fd6a0bc9aab2",
   "metadata": {},
   "source": [
    "### Using negative indexing"
   ]
  },
  {
   "cell_type": "markdown",
   "id": "d631e79e-27b0-4f68-bc1d-0fa395fd0646",
   "metadata": {},
   "source": [
    "Select the last item in the list using `-1`"
   ]
  },
  {
   "cell_type": "code",
   "execution_count": 104,
   "id": "8c794044",
   "metadata": {},
   "outputs": [
    {
     "data": {
      "text/plain": [
       "'bread'"
      ]
     },
     "execution_count": 104,
     "metadata": {},
     "output_type": "execute_result"
    }
   ],
   "source": [
    "food[-1]"
   ]
  },
  {
   "cell_type": "markdown",
   "id": "c1520bed",
   "metadata": {},
   "source": [
    "Select the second to last item from the list."
   ]
  },
  {
   "cell_type": "code",
   "execution_count": 105,
   "id": "6e82f286",
   "metadata": {},
   "outputs": [
    {
     "data": {
      "text/plain": [
       "'milk'"
      ]
     },
     "execution_count": 105,
     "metadata": {},
     "output_type": "execute_result"
    }
   ],
   "source": [
    "food[-2]"
   ]
  },
  {
   "cell_type": "markdown",
   "id": "222850a8-3513-454c-881b-e1fd91857bc9",
   "metadata": {},
   "source": [
    "### List Slicing\n",
    "\n",
    "You can return a subset or “slice” of a list by specifying where to start and where to end the range"
   ]
  },
  {
   "cell_type": "markdown",
   "id": "fad05f94",
   "metadata": {},
   "source": [
    "Select the first three items from the list."
   ]
  },
  {
   "cell_type": "code",
   "execution_count": 106,
   "id": "c3cae44f",
   "metadata": {},
   "outputs": [
    {
     "data": {
      "text/plain": [
       "['eggs', 'bananas', 'spinach']"
      ]
     },
     "execution_count": 106,
     "metadata": {},
     "output_type": "execute_result"
    }
   ],
   "source": [
    "food[:3]"
   ]
  },
  {
   "cell_type": "markdown",
   "id": "dcb7f729",
   "metadata": {},
   "source": [
    "Select the last two items from the list."
   ]
  },
  {
   "cell_type": "code",
   "execution_count": 107,
   "id": "ea6a991c",
   "metadata": {},
   "outputs": [
    {
     "data": {
      "text/plain": [
       "['milk', 'bread']"
      ]
     },
     "execution_count": 107,
     "metadata": {},
     "output_type": "execute_result"
    }
   ],
   "source": [
    "food[-2:]"
   ]
  },
  {
   "cell_type": "markdown",
   "id": "a016b4f3",
   "metadata": {},
   "source": [
    "Select the middle of the list, excluding the first and last item."
   ]
  },
  {
   "cell_type": "code",
   "execution_count": 108,
   "id": "93abebbf",
   "metadata": {},
   "outputs": [
    {
     "data": {
      "text/plain": [
       "['bananas', 'spinach', 'milk']"
      ]
     },
     "execution_count": 108,
     "metadata": {},
     "output_type": "execute_result"
    }
   ],
   "source": [
    "food[1:-1]"
   ]
  },
  {
   "cell_type": "markdown",
   "id": "f4efece0-110a-485e-8335-8f7c14e48af2",
   "metadata": {},
   "source": [
    "### Changing Items in a List"
   ]
  },
  {
   "cell_type": "markdown",
   "id": "63bc35ee-6259-4a46-8aef-d2ecd33c3612",
   "metadata": {},
   "source": [
    "To change the value of a specific item, refer to the index number.\n",
    "\n",
    "Replace the first list item with something else:"
   ]
  },
  {
   "cell_type": "code",
   "execution_count": 109,
   "id": "6c8bb127-9e0e-4a81-9052-e078d114a8da",
   "metadata": {},
   "outputs": [],
   "source": [
    "food[0] = 'onion'"
   ]
  },
  {
   "cell_type": "code",
   "execution_count": 110,
   "id": "7d6587a7-1aa9-4349-a510-9d63de387417",
   "metadata": {},
   "outputs": [
    {
     "data": {
      "text/plain": [
       "['onion', 'bananas', 'spinach', 'milk', 'bread']"
      ]
     },
     "execution_count": 110,
     "metadata": {},
     "output_type": "execute_result"
    }
   ],
   "source": [
    "food"
   ]
  },
  {
   "cell_type": "markdown",
   "id": "83d3461a-2acd-41ac-b91e-bce8046b4f0f",
   "metadata": {},
   "source": [
    "### Adding Items to a List"
   ]
  },
  {
   "cell_type": "markdown",
   "id": "4934e763-3671-41ef-86c5-b5c15dbabb9e",
   "metadata": {},
   "source": [
    "You can add an item to the end of a list with `.append()`"
   ]
  },
  {
   "cell_type": "code",
   "execution_count": 111,
   "id": "93533e18-d6b6-4d77-a243-eacb40d6f3a0",
   "metadata": {},
   "outputs": [],
   "source": [
    "food.append(\"cheese\")"
   ]
  },
  {
   "cell_type": "code",
   "execution_count": 112,
   "id": "7e9d59cd-9c1d-4a3b-b733-d628d810b47a",
   "metadata": {},
   "outputs": [
    {
     "data": {
      "text/plain": [
       "['onion', 'bananas', 'spinach', 'milk', 'bread', 'cheese']"
      ]
     },
     "execution_count": 112,
     "metadata": {},
     "output_type": "execute_result"
    }
   ],
   "source": [
    "food"
   ]
  },
  {
   "cell_type": "markdown",
   "id": "dbcc9cbc-7817-470d-aa33-1aad53ba468d",
   "metadata": {},
   "source": [
    "You can insert an item into a specific position in a list with `.insert()`"
   ]
  },
  {
   "cell_type": "code",
   "execution_count": 113,
   "id": "ae645ed1-715f-49ef-b814-3a7c47652671",
   "metadata": {},
   "outputs": [],
   "source": [
    "food.insert(1, \"orange\")                                               "
   ]
  },
  {
   "cell_type": "code",
   "execution_count": 114,
   "id": "734e3f69-62e4-46f0-9d4d-b13ebc740968",
   "metadata": {},
   "outputs": [
    {
     "data": {
      "text/plain": [
       "['onion', 'orange', 'bananas', 'spinach', 'milk', 'bread', 'cheese']"
      ]
     },
     "execution_count": 114,
     "metadata": {},
     "output_type": "execute_result"
    }
   ],
   "source": [
    "food"
   ]
  },
  {
   "cell_type": "markdown",
   "id": "2177fae3-6d14-4129-9e0c-faa1822358aa",
   "metadata": {},
   "source": [
    "### Removing Items from a list"
   ]
  },
  {
   "cell_type": "markdown",
   "id": "324f848a-8f33-4f36-a20b-dc879dc60091",
   "metadata": {},
   "source": [
    "There are a few options for removing items from a list."
   ]
  },
  {
   "cell_type": "markdown",
   "id": "a9007ffa-77db-4208-a546-b8d8d8616e35",
   "metadata": {},
   "source": [
    "The `remove()` method removes an item by its specified content."
   ]
  },
  {
   "cell_type": "code",
   "execution_count": 115,
   "id": "edd8cbdb-88cf-4e20-8974-7e52b73b30a3",
   "metadata": {},
   "outputs": [],
   "source": [
    "food.remove('onion')"
   ]
  },
  {
   "cell_type": "code",
   "execution_count": 116,
   "id": "53701b3b-90af-4d32-aa41-6bb14d10af6f",
   "metadata": {},
   "outputs": [
    {
     "data": {
      "text/plain": [
       "['orange', 'bananas', 'spinach', 'milk', 'bread', 'cheese']"
      ]
     },
     "execution_count": 116,
     "metadata": {},
     "output_type": "execute_result"
    }
   ],
   "source": [
    "food"
   ]
  },
  {
   "cell_type": "markdown",
   "id": "4bef955b-2783-4cd8-98fb-ac9efdb0dacf",
   "metadata": {},
   "source": [
    "The `pop()` method removes an item by its index position. It also returns the item that was removed."
   ]
  },
  {
   "cell_type": "code",
   "execution_count": 117,
   "id": "1bf10268-6c54-480f-92e9-39de140d4042",
   "metadata": {},
   "outputs": [
    {
     "data": {
      "text/plain": [
       "'spinach'"
      ]
     },
     "execution_count": 117,
     "metadata": {},
     "output_type": "execute_result"
    }
   ],
   "source": [
    "food.pop(2)"
   ]
  },
  {
   "cell_type": "code",
   "execution_count": 118,
   "id": "85b31825-cab1-407c-8ba7-4e01352898b7",
   "metadata": {},
   "outputs": [
    {
     "data": {
      "text/plain": [
       "['orange', 'bananas', 'milk', 'bread', 'cheese']"
      ]
     },
     "execution_count": 118,
     "metadata": {},
     "output_type": "execute_result"
    }
   ],
   "source": [
    "food"
   ]
  },
  {
   "cell_type": "markdown",
   "id": "740ab596-1122-4263-b902-cc9d6b3e41ad",
   "metadata": {},
   "source": [
    "If you don't specify the index position, `pop()` will remove the last item by default."
   ]
  },
  {
   "cell_type": "code",
   "execution_count": 119,
   "id": "b4a0efa7-44e7-4301-b377-2d992ec6f5e3",
   "metadata": {},
   "outputs": [
    {
     "data": {
      "text/plain": [
       "'cheese'"
      ]
     },
     "execution_count": 119,
     "metadata": {},
     "output_type": "execute_result"
    }
   ],
   "source": [
    "food.pop()"
   ]
  },
  {
   "cell_type": "code",
   "execution_count": 120,
   "id": "4caa1c52-3be5-4610-9613-f9f60db148e6",
   "metadata": {},
   "outputs": [
    {
     "data": {
      "text/plain": [
       "['orange', 'bananas', 'milk', 'bread']"
      ]
     },
     "execution_count": 120,
     "metadata": {},
     "output_type": "execute_result"
    }
   ],
   "source": [
    "food"
   ]
  },
  {
   "cell_type": "markdown",
   "id": "1f4996cb-9460-463e-b24d-971861dfa648",
   "metadata": {},
   "source": [
    "Lastly, you can remove an item by its index position using `del` function. Unlike `pop()`, `del` does not return the item that was removed."
   ]
  },
  {
   "cell_type": "code",
   "execution_count": 121,
   "id": "721275ef-0f52-46ac-bcc1-019df7dacbf9",
   "metadata": {},
   "outputs": [],
   "source": [
    "del food[0]"
   ]
  },
  {
   "cell_type": "code",
   "execution_count": 122,
   "id": "d1c0e2dc-9c34-421a-bf8a-30818be74bc8",
   "metadata": {},
   "outputs": [
    {
     "data": {
      "text/plain": [
       "['bananas', 'milk', 'bread']"
      ]
     },
     "execution_count": 122,
     "metadata": {},
     "output_type": "execute_result"
    }
   ],
   "source": [
    "food"
   ]
  },
  {
   "cell_type": "markdown",
   "id": "d6ee1dc3-9db7-4e55-b672-b15f774149ba",
   "metadata": {},
   "source": [
    "### Sorting a list"
   ]
  },
  {
   "cell_type": "markdown",
   "id": "be383abe-8c25-41f3-8a72-a3764d73b20b",
   "metadata": {},
   "source": [
    "You can sort a list with `sort()`.\n",
    "This will sort the list alphanumerically, ascending, by default."
   ]
  },
  {
   "cell_type": "code",
   "execution_count": 123,
   "id": "23962586-acac-428a-bafa-fda460472c7f",
   "metadata": {},
   "outputs": [],
   "source": [
    "food.sort()"
   ]
  },
  {
   "cell_type": "code",
   "execution_count": 124,
   "id": "17842439-cc8c-4891-98cc-ec5e8207c6f7",
   "metadata": {},
   "outputs": [
    {
     "data": {
      "text/plain": [
       "['bananas', 'bread', 'milk']"
      ]
     },
     "execution_count": 124,
     "metadata": {},
     "output_type": "execute_result"
    }
   ],
   "source": [
    "food"
   ]
  },
  {
   "cell_type": "markdown",
   "id": "dcd03b36-5a13-4050-9006-59e44ec3388a",
   "metadata": {},
   "source": [
    "To sort descending, use the keyword argument `reverse = True`."
   ]
  },
  {
   "cell_type": "code",
   "execution_count": 125,
   "id": "e5f7552e-f212-45b9-8e9b-ec09a6a91f64",
   "metadata": {},
   "outputs": [],
   "source": [
    "food.sort(reverse = True)"
   ]
  },
  {
   "cell_type": "code",
   "execution_count": 126,
   "id": "19de068a-1b9e-4288-a4e8-b49e24fd84ea",
   "metadata": {},
   "outputs": [
    {
     "data": {
      "text/plain": [
       "['milk', 'bread', 'bananas']"
      ]
     },
     "execution_count": 126,
     "metadata": {},
     "output_type": "execute_result"
    }
   ],
   "source": [
    "food"
   ]
  },
  {
   "cell_type": "markdown",
   "id": "ea2d4df8-07d9-46df-b413-28e8215fc42b",
   "metadata": {},
   "source": [
    "### Copying a list"
   ]
  },
  {
   "cell_type": "markdown",
   "id": "a160bddc-23ca-4de0-b33c-25d5a897b0e7",
   "metadata": {},
   "source": [
    "You can make a copy of a list with `.copy()`"
   ]
  },
  {
   "cell_type": "code",
   "execution_count": 127,
   "id": "3d02b3a7-f225-4c72-ad63-51153c6d0824",
   "metadata": {},
   "outputs": [],
   "source": [
    "food_copy = food.copy()"
   ]
  },
  {
   "cell_type": "code",
   "execution_count": 128,
   "id": "006e4cab-1a85-44da-b6a4-e815999cc23a",
   "metadata": {},
   "outputs": [
    {
     "data": {
      "text/plain": [
       "['milk', 'bread', 'bananas']"
      ]
     },
     "execution_count": 128,
     "metadata": {},
     "output_type": "execute_result"
    }
   ],
   "source": [
    "food_copy"
   ]
  },
  {
   "cell_type": "markdown",
   "id": "5a30583b-9878-49a4-80d3-f9f055cb032e",
   "metadata": {},
   "source": [
    "Note that these are now two separate variables. Changes made to one will not impact the other."
   ]
  },
  {
   "cell_type": "code",
   "execution_count": 129,
   "id": "a106101c-4537-46a2-8644-7eb470c34379",
   "metadata": {},
   "outputs": [],
   "source": [
    "food.sort()"
   ]
  },
  {
   "cell_type": "code",
   "execution_count": 130,
   "id": "0024e015-2f33-44aa-8505-80df1f695258",
   "metadata": {},
   "outputs": [
    {
     "data": {
      "text/plain": [
       "['bananas', 'bread', 'milk']"
      ]
     },
     "execution_count": 130,
     "metadata": {},
     "output_type": "execute_result"
    }
   ],
   "source": [
    "food"
   ]
  },
  {
   "cell_type": "code",
   "execution_count": 131,
   "id": "f58da95f-07f8-410c-b911-3b19a2738171",
   "metadata": {},
   "outputs": [
    {
     "data": {
      "text/plain": [
       "['milk', 'bread', 'bananas']"
      ]
     },
     "execution_count": 131,
     "metadata": {},
     "output_type": "execute_result"
    }
   ],
   "source": [
    "food_copy"
   ]
  },
  {
   "cell_type": "markdown",
   "id": "e487d425-68f6-4d29-9889-a58621cd9b26",
   "metadata": {},
   "source": [
    "### Joining lists\n",
    "\n",
    "You can join (or \"concatenate\") two lists with the `+` operator."
   ]
  },
  {
   "cell_type": "code",
   "execution_count": 132,
   "id": "9e1525ac-966c-46c2-826a-5b5f2e087441",
   "metadata": {},
   "outputs": [],
   "source": [
    "more_food = ['kiwi', 'orange', 'lemon', 'grapefruit']"
   ]
  },
  {
   "cell_type": "code",
   "execution_count": 133,
   "id": "4339aae1-8839-4a3d-bfea-fced9b40c751",
   "metadata": {},
   "outputs": [
    {
     "data": {
      "text/plain": [
       "['bananas', 'bread', 'milk', 'kiwi', 'orange', 'lemon', 'grapefruit']"
      ]
     },
     "execution_count": 133,
     "metadata": {},
     "output_type": "execute_result"
    }
   ],
   "source": [
    "food + more_food"
   ]
  },
  {
   "cell_type": "markdown",
   "id": "4603ea8d-4f21-4db4-95ce-11d5c3d70efa",
   "metadata": {},
   "source": [
    "Note that the list join above does not impact the contents of either list."
   ]
  },
  {
   "cell_type": "code",
   "execution_count": 134,
   "id": "41c36100-100b-4d92-9e75-fc4172a66008",
   "metadata": {},
   "outputs": [
    {
     "data": {
      "text/plain": [
       "['bananas', 'bread', 'milk']"
      ]
     },
     "execution_count": 134,
     "metadata": {},
     "output_type": "execute_result"
    }
   ],
   "source": [
    "food"
   ]
  },
  {
   "cell_type": "markdown",
   "id": "bf87a855-4e93-412f-a8da-43a9b5e0ddd5",
   "metadata": {},
   "source": [
    "You can join lists and update the original list to reflect the new contents after joining like this:"
   ]
  },
  {
   "cell_type": "code",
   "execution_count": 135,
   "id": "d9b7f1d3-ece8-41c5-8230-1555e1e09822",
   "metadata": {},
   "outputs": [],
   "source": [
    "food = food + more_food"
   ]
  },
  {
   "cell_type": "code",
   "execution_count": 136,
   "id": "ef5c11a7-b306-439e-9e6a-faf299f120d6",
   "metadata": {},
   "outputs": [
    {
     "data": {
      "text/plain": [
       "['bananas', 'bread', 'milk', 'kiwi', 'orange', 'lemon', 'grapefruit']"
      ]
     },
     "execution_count": 136,
     "metadata": {},
     "output_type": "execute_result"
    }
   ],
   "source": [
    "food"
   ]
  },
  {
   "cell_type": "markdown",
   "id": "74f724cb-59c0-4660-bee5-5035f08756f3",
   "metadata": {},
   "source": [
    "### Clear all items from a list"
   ]
  },
  {
   "cell_type": "markdown",
   "id": "29e35d75-d1b4-440e-93ca-c5f8306ee3d0",
   "metadata": {},
   "source": [
    "The `clear()` method removes all the items from a list."
   ]
  },
  {
   "cell_type": "code",
   "execution_count": 137,
   "id": "71623a51-f258-44b8-ab9d-843f4aa358ad",
   "metadata": {},
   "outputs": [],
   "source": [
    "food.clear()"
   ]
  },
  {
   "cell_type": "code",
   "execution_count": 138,
   "id": "ce452efa-17c7-4cd9-b746-6a6f467af49f",
   "metadata": {},
   "outputs": [
    {
     "data": {
      "text/plain": [
       "[]"
      ]
     },
     "execution_count": 138,
     "metadata": {},
     "output_type": "execute_result"
    }
   ],
   "source": [
    "# The list is now empty\n",
    "food"
   ]
  },
  {
   "cell_type": "markdown",
   "id": "8ab7c1cd",
   "metadata": {},
   "source": [
    "## Dictionaries"
   ]
  },
  {
   "cell_type": "markdown",
   "id": "eb9cc5ea-3d7e-4f71-bbc6-95452140530a",
   "metadata": {},
   "source": [
    "Dictionaries are used to store data values in key : value pairs\n",
    "\n",
    "Dictionaries are written with curly brackets, and have keys and values"
   ]
  },
  {
   "cell_type": "code",
   "execution_count": 139,
   "id": "5268ce93",
   "metadata": {},
   "outputs": [],
   "source": [
    "prices = {\n",
    "    'eggs': 3.50, \n",
    "    'bananas': 0.80,\n",
    "    'spinach': 4.00,\n",
    "    'milk': 2.00, \n",
    "    'bread': 2.00\n",
    "}"
   ]
  },
  {
   "cell_type": "code",
   "execution_count": 140,
   "id": "52eb7372-7510-44f7-ac80-9d397bcd2b01",
   "metadata": {},
   "outputs": [
    {
     "data": {
      "text/plain": [
       "dict"
      ]
     },
     "execution_count": 140,
     "metadata": {},
     "output_type": "execute_result"
    }
   ],
   "source": [
    "type(prices)"
   ]
  },
  {
   "cell_type": "markdown",
   "id": "09b2087a-a3bb-4c6d-a84f-5915882c1411",
   "metadata": {},
   "source": [
    "### Accessing items in a dictionary"
   ]
  },
  {
   "cell_type": "markdown",
   "id": "2e7bd478-2be4-455e-ba70-7b3541de5ac7",
   "metadata": {},
   "source": [
    "Retrieve the value associated with they key `eggs`:"
   ]
  },
  {
   "cell_type": "code",
   "execution_count": 141,
   "id": "e68e8034",
   "metadata": {},
   "outputs": [
    {
     "data": {
      "text/plain": [
       "3.5"
      ]
     },
     "execution_count": 141,
     "metadata": {},
     "output_type": "execute_result"
    }
   ],
   "source": [
    "prices['eggs']"
   ]
  },
  {
   "cell_type": "markdown",
   "id": "fa9b78b1-dfe5-4229-9585-8ec8f21c5676",
   "metadata": {},
   "source": [
    "Retrieve the value associated with they key `bananas`:"
   ]
  },
  {
   "cell_type": "code",
   "execution_count": 142,
   "id": "e8172c29",
   "metadata": {},
   "outputs": [
    {
     "data": {
      "text/plain": [
       "0.8"
      ]
     },
     "execution_count": 142,
     "metadata": {},
     "output_type": "execute_result"
    }
   ],
   "source": [
    "prices['bananas']"
   ]
  },
  {
   "cell_type": "markdown",
   "id": "b13132f1-8e94-4a27-abc6-f81a1598cbef",
   "metadata": {},
   "source": [
    "View all of the keys in this dictionary."
   ]
  },
  {
   "cell_type": "code",
   "execution_count": 143,
   "id": "ad892789",
   "metadata": {},
   "outputs": [
    {
     "data": {
      "text/plain": [
       "dict_keys(['eggs', 'bananas', 'spinach', 'milk', 'bread'])"
      ]
     },
     "execution_count": 143,
     "metadata": {},
     "output_type": "execute_result"
    }
   ],
   "source": [
    "prices.keys()"
   ]
  },
  {
   "cell_type": "markdown",
   "id": "57f4515b-3dea-44ea-9482-5056e164b651",
   "metadata": {},
   "source": [
    "View all of the values in this dictionary."
   ]
  },
  {
   "cell_type": "code",
   "execution_count": 144,
   "id": "31ca9719",
   "metadata": {},
   "outputs": [
    {
     "data": {
      "text/plain": [
       "dict_values([3.5, 0.8, 4.0, 2.0, 2.0])"
      ]
     },
     "execution_count": 144,
     "metadata": {},
     "output_type": "execute_result"
    }
   ],
   "source": [
    "prices.values()"
   ]
  },
  {
   "cell_type": "markdown",
   "id": "87acdab7-320b-4af3-8cae-0ebb34f7653a",
   "metadata": {},
   "source": [
    "### Checking for membership within a dictionary"
   ]
  },
  {
   "cell_type": "markdown",
   "id": "fd952cac-0686-4051-9133-bb5264db1515",
   "metadata": {},
   "source": [
    "Is `eggs` in this dict?"
   ]
  },
  {
   "cell_type": "code",
   "execution_count": 145,
   "id": "9804e1e9",
   "metadata": {},
   "outputs": [
    {
     "data": {
      "text/plain": [
       "True"
      ]
     },
     "execution_count": 145,
     "metadata": {},
     "output_type": "execute_result"
    }
   ],
   "source": [
    "'eggs' in prices"
   ]
  },
  {
   "cell_type": "markdown",
   "id": "f0fcd973-a720-4558-9b42-72fd41678f6e",
   "metadata": {},
   "source": [
    "Is `tomatoes` in this dict?"
   ]
  },
  {
   "cell_type": "code",
   "execution_count": 146,
   "id": "e7503d51",
   "metadata": {},
   "outputs": [
    {
     "data": {
      "text/plain": [
       "False"
      ]
     },
     "execution_count": 146,
     "metadata": {},
     "output_type": "execute_result"
    }
   ],
   "source": [
    "'tomatoes' in prices"
   ]
  },
  {
   "cell_type": "markdown",
   "id": "adcf460f-dd12-418b-b4f8-2ae67cb7e050",
   "metadata": {},
   "source": [
    "### Changing items in a dictionary"
   ]
  },
  {
   "cell_type": "markdown",
   "id": "6f429d56-511d-4ba5-b520-8c5fbe60a779",
   "metadata": {},
   "source": [
    "You can change the value of a specific item by referring to its key name."
   ]
  },
  {
   "cell_type": "code",
   "execution_count": 147,
   "id": "4eab80c9-da26-49c2-aa52-4a2b0a5734aa",
   "metadata": {},
   "outputs": [
    {
     "data": {
      "text/plain": [
       "{'eggs': 3.5, 'bananas': 0.8, 'spinach': 4.0, 'milk': 2.0, 'bread': 2.0}"
      ]
     },
     "execution_count": 147,
     "metadata": {},
     "output_type": "execute_result"
    }
   ],
   "source": [
    "prices"
   ]
  },
  {
   "cell_type": "code",
   "execution_count": 148,
   "id": "dd82d939-951b-4f16-a371-63f7f616c917",
   "metadata": {},
   "outputs": [],
   "source": [
    "prices['bananas'] = 1.0"
   ]
  },
  {
   "cell_type": "code",
   "execution_count": 149,
   "id": "f848c4fb-a9cb-49f4-b357-dd7facc5f65b",
   "metadata": {},
   "outputs": [
    {
     "data": {
      "text/plain": [
       "{'eggs': 3.5, 'bananas': 1.0, 'spinach': 4.0, 'milk': 2.0, 'bread': 2.0}"
      ]
     },
     "execution_count": 149,
     "metadata": {},
     "output_type": "execute_result"
    }
   ],
   "source": [
    "prices"
   ]
  },
  {
   "cell_type": "markdown",
   "id": "a827fffd-d9b1-42e8-8ac5-742ffa41ece9",
   "metadata": {},
   "source": [
    "You can also use the `update()` method to change items in a dictionary with the items from the given argument."
   ]
  },
  {
   "cell_type": "code",
   "execution_count": 150,
   "id": "a076c40f-435c-4871-abba-275ce1dcac01",
   "metadata": {},
   "outputs": [],
   "source": [
    "prices.update({\"bread\": 4.0})"
   ]
  },
  {
   "cell_type": "code",
   "execution_count": 151,
   "id": "6384044b-248d-446f-bbc3-aae8f11c09b3",
   "metadata": {},
   "outputs": [
    {
     "data": {
      "text/plain": [
       "{'eggs': 3.5, 'bananas': 1.0, 'spinach': 4.0, 'milk': 2.0, 'bread': 4.0}"
      ]
     },
     "execution_count": 151,
     "metadata": {},
     "output_type": "execute_result"
    }
   ],
   "source": [
    "prices"
   ]
  },
  {
   "cell_type": "markdown",
   "id": "4d5a6050-e68f-4021-8a7a-0005ac2b595d",
   "metadata": {},
   "source": [
    "### Adding items to a dictionary"
   ]
  },
  {
   "cell_type": "markdown",
   "id": "f8de88aa-899a-4751-8ad3-014e5777289d",
   "metadata": {},
   "source": [
    "You can add an item to a dictionary by referring to its key name."
   ]
  },
  {
   "cell_type": "code",
   "execution_count": 152,
   "id": "e43ecd24-3e32-4a9d-b933-9b96e9d257f0",
   "metadata": {},
   "outputs": [
    {
     "data": {
      "text/plain": [
       "{'eggs': 3.5, 'bananas': 1.0, 'spinach': 4.0, 'milk': 2.0, 'bread': 4.0}"
      ]
     },
     "execution_count": 152,
     "metadata": {},
     "output_type": "execute_result"
    }
   ],
   "source": [
    "prices"
   ]
  },
  {
   "cell_type": "code",
   "execution_count": 153,
   "id": "77d8ac1e-e532-41ef-ade0-d620a5915957",
   "metadata": {},
   "outputs": [],
   "source": [
    "prices['onion'] = 1.20"
   ]
  },
  {
   "cell_type": "code",
   "execution_count": 154,
   "id": "f1408fe7-9f83-4231-9bb1-51c2b26e6f94",
   "metadata": {},
   "outputs": [
    {
     "data": {
      "text/plain": [
       "{'eggs': 3.5,\n",
       " 'bananas': 1.0,\n",
       " 'spinach': 4.0,\n",
       " 'milk': 2.0,\n",
       " 'bread': 4.0,\n",
       " 'onion': 1.2}"
      ]
     },
     "execution_count": 154,
     "metadata": {},
     "output_type": "execute_result"
    }
   ],
   "source": [
    "prices"
   ]
  },
  {
   "cell_type": "markdown",
   "id": "708858ca-3068-4e8c-bfd2-2ff0ef198dae",
   "metadata": {},
   "source": [
    "### Removing items from a dictionary"
   ]
  },
  {
   "cell_type": "markdown",
   "id": "3ad142fb-dc1a-4617-8071-c341765fca62",
   "metadata": {},
   "source": [
    "There are several methods to remove items from a dictionary.\n",
    "\n",
    "The `pop()` method removes the item with the specified key name. Note that `pop()` returns the value that is removed."
   ]
  },
  {
   "cell_type": "code",
   "execution_count": 155,
   "id": "90095900-6fb5-4576-97d8-daa88178802d",
   "metadata": {},
   "outputs": [
    {
     "data": {
      "text/plain": [
       "3.5"
      ]
     },
     "execution_count": 155,
     "metadata": {},
     "output_type": "execute_result"
    }
   ],
   "source": [
    "prices.pop('eggs')"
   ]
  },
  {
   "cell_type": "code",
   "execution_count": 156,
   "id": "e71f710f-afc2-41fd-a020-fb40cb7dda0c",
   "metadata": {},
   "outputs": [
    {
     "data": {
      "text/plain": [
       "{'bananas': 1.0, 'spinach': 4.0, 'milk': 2.0, 'bread': 4.0, 'onion': 1.2}"
      ]
     },
     "execution_count": 156,
     "metadata": {},
     "output_type": "execute_result"
    }
   ],
   "source": [
    "prices"
   ]
  },
  {
   "cell_type": "markdown",
   "id": "68cedcdb-6391-44b7-9441-dcbaa0ae59a1",
   "metadata": {},
   "source": [
    "Alternately, you can use the `del` keyword to delete an item by specified key name. Unlike `pop()`, `del` does not return the value."
   ]
  },
  {
   "cell_type": "code",
   "execution_count": 157,
   "id": "314cbd3a-965d-4f53-85dd-22ec4620ff47",
   "metadata": {},
   "outputs": [],
   "source": [
    "del prices['spinach']"
   ]
  },
  {
   "cell_type": "code",
   "execution_count": 158,
   "id": "28f2444e-5b93-4c56-835e-1030642abc68",
   "metadata": {},
   "outputs": [
    {
     "data": {
      "text/plain": [
       "{'bananas': 1.0, 'milk': 2.0, 'bread': 4.0, 'onion': 1.2}"
      ]
     },
     "execution_count": 158,
     "metadata": {},
     "output_type": "execute_result"
    }
   ],
   "source": [
    "prices"
   ]
  },
  {
   "cell_type": "markdown",
   "id": "084aea87-f17b-4157-8a0b-4644fa56cffa",
   "metadata": {},
   "source": [
    "### Make a copy of a dictionary"
   ]
  },
  {
   "cell_type": "markdown",
   "id": "497db607-e252-414d-993c-43d980a33cb3",
   "metadata": {},
   "source": [
    "Similar to lists, you can make a copy of a dictionary with `.copy()`"
   ]
  },
  {
   "cell_type": "code",
   "execution_count": 159,
   "id": "271f76ab-e8e7-411e-8d39-b3b19f0d2c84",
   "metadata": {},
   "outputs": [],
   "source": [
    "prices_copy = prices.copy()"
   ]
  },
  {
   "cell_type": "code",
   "execution_count": 160,
   "id": "6cc19908-7f07-4a6d-ad78-3f67ba517cf9",
   "metadata": {},
   "outputs": [
    {
     "data": {
      "text/plain": [
       "{'bananas': 1.0, 'milk': 2.0, 'bread': 4.0, 'onion': 1.2}"
      ]
     },
     "execution_count": 160,
     "metadata": {},
     "output_type": "execute_result"
    }
   ],
   "source": [
    "prices_copy"
   ]
  },
  {
   "cell_type": "markdown",
   "id": "b9ffe19e-7f1e-414e-a6c4-db552afd7b68",
   "metadata": {},
   "source": [
    "### `zip()` function"
   ]
  },
  {
   "cell_type": "markdown",
   "id": "5eb540c1-2190-40c7-a9bf-cc9d1f0a1dfd",
   "metadata": {},
   "source": [
    "You may need to merge two lists into a dictionary. This can be done with the `zip()` function.\n",
    "\n",
    "`zip()` takes a list of keys, and a list of values, and merges them together to form a dictionary."
   ]
  },
  {
   "cell_type": "code",
   "execution_count": 161,
   "id": "e1b23e09-83cd-46c4-845b-257b8803b7ce",
   "metadata": {},
   "outputs": [],
   "source": [
    "keys = ['a', 'b', 'c', 'd']\n",
    "values = [0, 1, 2, 3]\n",
    "\n",
    "# zip the two lists together\n",
    "# and construct a dictionary\n",
    "new_dict = dict(zip(keys, values))"
   ]
  },
  {
   "cell_type": "code",
   "execution_count": 162,
   "id": "87105b6c-df14-4a8b-9bbb-fd00224cdddc",
   "metadata": {},
   "outputs": [
    {
     "data": {
      "text/plain": [
       "{'a': 0, 'b': 1, 'c': 2, 'd': 3}"
      ]
     },
     "execution_count": 162,
     "metadata": {},
     "output_type": "execute_result"
    }
   ],
   "source": [
    "new_dict"
   ]
  },
  {
   "cell_type": "markdown",
   "id": "a969bb5d",
   "metadata": {},
   "source": [
    "## Sets"
   ]
  },
  {
   "cell_type": "markdown",
   "id": "c729b43f",
   "metadata": {},
   "source": [
    "Sets are used to store unique items in a single variable. When using a set, all of its elements must be unique."
   ]
  },
  {
   "cell_type": "code",
   "execution_count": 163,
   "id": "49b70144-9b37-4b08-81aa-28559d953ce9",
   "metadata": {},
   "outputs": [
    {
     "data": {
      "text/plain": [
       "{'a', 'b', 'c'}"
      ]
     },
     "execution_count": 163,
     "metadata": {},
     "output_type": "execute_result"
    }
   ],
   "source": [
    "# Duplicates will be dropped from a set\n",
    "set1 = {\"a\", \"b\", \"c\", \"c\", \"c\"}\n",
    "set1"
   ]
  },
  {
   "cell_type": "markdown",
   "id": "634addd9-f4ec-41ba-afd0-513dc38e6a4f",
   "metadata": {},
   "source": [
    "A set is a collection which is:\n",
    "- unordered\n",
    "- unchangeable\n",
    "- unindexed\n",
    "\n",
    "Set items are unchangeable, but you can remove items and add new items."
   ]
  },
  {
   "cell_type": "markdown",
   "id": "37de4bd6-fcd6-4f07-8ea4-384f712c8905",
   "metadata": {},
   "source": [
    "You *cannot* access items in a set by referring to an index or a key. Trying to do so throws an error."
   ]
  },
  {
   "cell_type": "code",
   "execution_count": 164,
   "id": "9366d6ed-7c6a-4eee-b423-c0518bd30b80",
   "metadata": {},
   "outputs": [
    {
     "ename": "TypeError",
     "evalue": "'set' object is not subscriptable",
     "output_type": "error",
     "traceback": [
      "\u001b[0;31m---------------------------------------------------------------------------\u001b[0m",
      "\u001b[0;31mTypeError\u001b[0m                                 Traceback (most recent call last)",
      "Input \u001b[0;32mIn [164]\u001b[0m, in \u001b[0;36m<module>\u001b[0;34m\u001b[0m\n\u001b[1;32m      1\u001b[0m \u001b[38;5;66;03m# Throws an error\u001b[39;00m\n\u001b[0;32m----> 2\u001b[0m \u001b[43mset1\u001b[49m\u001b[43m[\u001b[49m\u001b[38;5;124;43m\"\u001b[39;49m\u001b[38;5;124;43ma\u001b[39;49m\u001b[38;5;124;43m\"\u001b[39;49m\u001b[43m]\u001b[49m\n",
      "\u001b[0;31mTypeError\u001b[0m: 'set' object is not subscriptable"
     ]
    }
   ],
   "source": [
    "# Throws an error\n",
    "set1[\"a\"]"
   ]
  },
  {
   "cell_type": "markdown",
   "id": "99d2485a-de0d-4053-9338-72230cd08d2c",
   "metadata": {},
   "source": [
    "### Checking for membership within a set"
   ]
  },
  {
   "cell_type": "markdown",
   "id": "c3d2da39-6168-4bdb-9f26-1a85f6c14a6c",
   "metadata": {},
   "source": [
    "You can, however, check if an item is present in the set:"
   ]
  },
  {
   "cell_type": "code",
   "execution_count": 165,
   "id": "6c7a2f72-9f5d-442f-9366-ea8f18312c77",
   "metadata": {},
   "outputs": [
    {
     "data": {
      "text/plain": [
       "True"
      ]
     },
     "execution_count": 165,
     "metadata": {},
     "output_type": "execute_result"
    }
   ],
   "source": [
    "\"a\" in set1"
   ]
  },
  {
   "cell_type": "markdown",
   "id": "82ac63d7-2650-4686-a167-4abe82002561",
   "metadata": {},
   "source": [
    "You can check the length of a set with `len()`."
   ]
  },
  {
   "cell_type": "code",
   "execution_count": 166,
   "id": "3f2971b0-be4a-4e77-92c8-ae1316c33750",
   "metadata": {},
   "outputs": [
    {
     "data": {
      "text/plain": [
       "3"
      ]
     },
     "execution_count": 166,
     "metadata": {},
     "output_type": "execute_result"
    }
   ],
   "source": [
    "len(set1)"
   ]
  },
  {
   "cell_type": "markdown",
   "id": "3794ae6a-99bf-4f5e-aad7-53c12639f536",
   "metadata": {},
   "source": [
    "Sets can include any date type, and can even include a mix of data types."
   ]
  },
  {
   "cell_type": "code",
   "execution_count": 167,
   "id": "ae7eb5bc-71bc-4300-acf4-22602fa1f187",
   "metadata": {},
   "outputs": [],
   "source": [
    "set2 = {\"abc\", 34, True, 40, \"male\"}"
   ]
  },
  {
   "cell_type": "code",
   "execution_count": 168,
   "id": "971431c6-08b7-4f20-a650-5cc1aad53874",
   "metadata": {},
   "outputs": [
    {
     "data": {
      "text/plain": [
       "{34, 40, True, 'abc', 'male'}"
      ]
     },
     "execution_count": 168,
     "metadata": {},
     "output_type": "execute_result"
    }
   ],
   "source": [
    "set2"
   ]
  },
  {
   "cell_type": "markdown",
   "id": "09efab17-069a-47c1-98dd-30c8e33a43b3",
   "metadata": {},
   "source": [
    "### Adding items to a set"
   ]
  },
  {
   "cell_type": "markdown",
   "id": "b6c534fd-50b1-4ff9-849e-129cad6d765d",
   "metadata": {},
   "source": [
    "You can add items to a set with `add()`"
   ]
  },
  {
   "cell_type": "code",
   "execution_count": 169,
   "id": "f0baca52-5d15-46dd-85ab-a075c122fc6d",
   "metadata": {},
   "outputs": [],
   "source": [
    "set1 = {\"apple\", \"banana\", \"cherry\"}\n",
    "set1.add(\"orange\")"
   ]
  },
  {
   "cell_type": "code",
   "execution_count": 170,
   "id": "953a3e52-441d-40e8-a2b7-a5634fe7cc93",
   "metadata": {},
   "outputs": [
    {
     "data": {
      "text/plain": [
       "{'apple', 'banana', 'cherry', 'orange'}"
      ]
     },
     "execution_count": 170,
     "metadata": {},
     "output_type": "execute_result"
    }
   ],
   "source": [
    "set1"
   ]
  },
  {
   "cell_type": "markdown",
   "id": "33a2f92d-466b-4b94-b442-8a125d702c18",
   "metadata": {},
   "source": [
    "### Adding one set to another set"
   ]
  },
  {
   "cell_type": "markdown",
   "id": "bcbe1789-d401-4693-af3c-5188a0b79327",
   "metadata": {},
   "source": [
    "You can add items from one set to another with `update()`."
   ]
  },
  {
   "cell_type": "code",
   "execution_count": 171,
   "id": "3e9eccfc-c96c-42c5-92ca-b07666751ec1",
   "metadata": {},
   "outputs": [],
   "source": [
    "set1 = {\"apple\", \"banana\", \"cherry\"}\n",
    "set2 = {\"pineapple\", \"mango\", \"papaya\"}\n",
    "\n",
    "set1.update(set2)"
   ]
  },
  {
   "cell_type": "code",
   "execution_count": 172,
   "id": "9badd9ea-7520-4fa2-922b-1a8dae7a081e",
   "metadata": {},
   "outputs": [
    {
     "data": {
      "text/plain": [
       "{'apple', 'banana', 'cherry', 'mango', 'papaya', 'pineapple'}"
      ]
     },
     "execution_count": 172,
     "metadata": {},
     "output_type": "execute_result"
    }
   ],
   "source": [
    "set1"
   ]
  },
  {
   "cell_type": "markdown",
   "id": "9bff5de3-6046-4924-83e5-8c05fecb7d57",
   "metadata": {},
   "source": [
    "The second object in the `update()` method does not have to be a set, it can be any iterable object (tuples, lists, dictionaries etc.)"
   ]
  },
  {
   "cell_type": "code",
   "execution_count": 173,
   "id": "9d370404-381b-4db8-bb5b-51ab058c913f",
   "metadata": {},
   "outputs": [],
   "source": [
    "set1 = {\"apple\", \"banana\", \"cherry\"}\n",
    "list1 = [\"kiwi\", \"orange\"]\n",
    "\n",
    "set1.update(list1)"
   ]
  },
  {
   "cell_type": "code",
   "execution_count": 174,
   "id": "ad46e2cd-314a-4e24-88cc-551a092ee7b4",
   "metadata": {},
   "outputs": [
    {
     "data": {
      "text/plain": [
       "{'apple', 'banana', 'cherry', 'kiwi', 'orange'}"
      ]
     },
     "execution_count": 174,
     "metadata": {},
     "output_type": "execute_result"
    }
   ],
   "source": [
    "set1"
   ]
  },
  {
   "cell_type": "markdown",
   "id": "6db961ab-f0e2-46ff-ac20-2a63651ff4b2",
   "metadata": {},
   "source": [
    "### Joining two sets with `union()`"
   ]
  },
  {
   "cell_type": "markdown",
   "id": "1faf4dc3-eeb9-4757-92ca-269b35a032c1",
   "metadata": {},
   "source": [
    "You can use the `union()` method tor return a new set containing all items from both sets."
   ]
  },
  {
   "cell_type": "code",
   "execution_count": 175,
   "id": "9f083551-b169-4526-b02c-4ec420618361",
   "metadata": {},
   "outputs": [],
   "source": [
    "set1 = {\"a\", \"b\" , \"c\"}\n",
    "set2 = {1, 2, 3}\n",
    "set3 = set1.union(set2)"
   ]
  },
  {
   "cell_type": "code",
   "execution_count": 176,
   "id": "478fcade-241b-46b6-93f6-3345ec324294",
   "metadata": {},
   "outputs": [
    {
     "data": {
      "text/plain": [
       "{1, 2, 3, 'a', 'b', 'c'}"
      ]
     },
     "execution_count": 176,
     "metadata": {},
     "output_type": "execute_result"
    }
   ],
   "source": [
    "set3"
   ]
  },
  {
   "cell_type": "markdown",
   "id": "f2d35ee5-3e33-4f23-aea7-1c5b6ac38ceb",
   "metadata": {},
   "source": [
    "### Joining two sets with `intersection()`"
   ]
  },
  {
   "cell_type": "markdown",
   "id": "fa1de3cb-aef7-4c41-a2cc-7ccd37578006",
   "metadata": {},
   "source": [
    "The `intersection()` method will return a new set that only contains the items that are present in both sets."
   ]
  },
  {
   "cell_type": "code",
   "execution_count": 177,
   "id": "a5f57fad-c4a1-4d10-8353-2be71ad5ac6c",
   "metadata": {},
   "outputs": [],
   "source": [
    "x = {\"apple\", \"banana\", \"cherry\"}\n",
    "y = {\"google\", \"microsoft\", \"apple\"}\n",
    "\n",
    "z = x.intersection(y) "
   ]
  },
  {
   "cell_type": "code",
   "execution_count": 178,
   "id": "b99bc93b-8b47-430c-8ad5-c66f7a4b6d5a",
   "metadata": {},
   "outputs": [
    {
     "data": {
      "text/plain": [
       "{'apple'}"
      ]
     },
     "execution_count": 178,
     "metadata": {},
     "output_type": "execute_result"
    }
   ],
   "source": [
    "z"
   ]
  },
  {
   "cell_type": "markdown",
   "id": "72300223-d3cd-4432-89d9-0fa5cb90fc1e",
   "metadata": {},
   "source": [
    "### Joining two sets with `symmetric_difference()`"
   ]
  },
  {
   "cell_type": "code",
   "execution_count": 179,
   "id": "657c172d-94b1-4cbb-aab3-7d1c3945c196",
   "metadata": {},
   "outputs": [],
   "source": [
    "x = {\"apple\", \"banana\", \"cherry\"}\n",
    "y = {\"google\", \"microsoft\", \"apple\"}\n",
    "\n",
    "z = x.symmetric_difference(y)"
   ]
  },
  {
   "cell_type": "code",
   "execution_count": 180,
   "id": "35d1dd04-d9d5-4a5b-ad71-3768f2f5b6e8",
   "metadata": {},
   "outputs": [
    {
     "data": {
      "text/plain": [
       "{'banana', 'cherry', 'google', 'microsoft'}"
      ]
     },
     "execution_count": 180,
     "metadata": {},
     "output_type": "execute_result"
    }
   ],
   "source": [
    "z"
   ]
  },
  {
   "cell_type": "markdown",
   "id": "157ed55d-c000-40a6-aa49-951d88306c88",
   "metadata": {},
   "source": [
    "# If / Else Statements"
   ]
  },
  {
   "cell_type": "markdown",
   "id": "c9cefe2e-7420-439d-a6cb-f1409a2d004e",
   "metadata": {},
   "source": [
    "In computer science, control flow is the order in which individual statements, instructions or function calls of an imperative program are executed. A set of statements executed as a group is often called a block."
   ]
  },
  {
   "cell_type": "markdown",
   "id": "6aa1c98c-d965-4143-9000-b38bb2b5662a",
   "metadata": {},
   "source": [
    "The first Python control structure we will learn is the \"if statement\". \n",
    "\n",
    "The \"if statement\" is a decision-making statement that guides a program to make decisions based on whether a provided condition is True of False. \n",
    "\n",
    "An \"if statement\" is written by using the `if` keyword."
   ]
  },
  {
   "cell_type": "markdown",
   "id": "47813455-11a2-49ae-bae1-e77e2f34216f",
   "metadata": {},
   "source": [
    "## Indentation"
   ]
  },
  {
   "cell_type": "markdown",
   "id": "468eafc9-afb0-4fbd-88ba-a62b567ecbd0",
   "metadata": {},
   "source": [
    "Python is unique in that it relies on indentation (whitespace at the beginning of a line) to define scope in the code."
   ]
  },
  {
   "cell_type": "markdown",
   "id": "8f57c2ce-47bd-4eda-b3a3-ab28018a0de7",
   "metadata": {},
   "source": [
    "## The `if` keyword"
   ]
  },
  {
   "cell_type": "markdown",
   "id": "baf24cc8-1d27-47a7-9706-1e09a0e29498",
   "metadata": {},
   "source": [
    "Use an if statement to execute indented code only if some condition is true."
   ]
  },
  {
   "cell_type": "code",
   "execution_count": 181,
   "id": "e92a8552-3e23-40bc-858d-42d0793ffc47",
   "metadata": {},
   "outputs": [
    {
     "name": "stdout",
     "output_type": "stream",
     "text": [
      "9 is less than 10\n"
     ]
    }
   ],
   "source": [
    "x = 9\n",
    "if x < 10:\n",
    "    # Code block following the if must be indented\n",
    "    print(str(x) + \" is less than 10\")"
   ]
  },
  {
   "cell_type": "markdown",
   "id": "57a30ab0-a4fd-4e0a-bd04-7e84161d22b9",
   "metadata": {},
   "source": [
    "You can chain conditions together with and/or group conditions with parentheses for readibility."
   ]
  },
  {
   "cell_type": "code",
   "execution_count": 182,
   "id": "bec7d5e6-7de0-4930-ba3c-60d5ead75008",
   "metadata": {},
   "outputs": [
    {
     "name": "stdout",
     "output_type": "stream",
     "text": [
      "x is between 3 and 6\n"
     ]
    }
   ],
   "source": [
    "x = 3.5\n",
    "if (x >= 3) and (x <= 6):\n",
    "    print(\"x is between 3 and 6\")"
   ]
  },
  {
   "cell_type": "markdown",
   "id": "27674c3c-c19c-4058-b42f-40f6bff7dc1f",
   "metadata": {},
   "source": [
    "## The `else` keyword"
   ]
  },
  {
   "cell_type": "markdown",
   "id": "d130a9a9-0003-4f6e-9932-79aa6b3d2b4b",
   "metadata": {},
   "source": [
    "If / Else statements allow us to write branching conditional statements of the form: “If X then do Y, otherwise do Z”."
   ]
  },
  {
   "cell_type": "code",
   "execution_count": 183,
   "id": "a9f078f7-352f-4cf2-9b3a-12324ce16dcf",
   "metadata": {},
   "outputs": [
    {
     "name": "stdout",
     "output_type": "stream",
     "text": [
      "Yes\n"
     ]
    }
   ],
   "source": [
    "# if/else statement to handle different branches of execution\n",
    "sentence = \"Today is Wednesday.\"\n",
    "if \"Wed\" in sentence:\n",
    "    print(\"Yes\")\n",
    "else:\n",
    "    print(\"No\")"
   ]
  },
  {
   "cell_type": "markdown",
   "id": "4b0049ef-6b32-457a-b9d6-1f034c750b93",
   "metadata": {},
   "source": [
    "## The `elif` keyword\n",
    "\n",
    "The `elif` keyword is pythons way of saying \"if the previous conditions were not true, then try this condition\"."
   ]
  },
  {
   "cell_type": "markdown",
   "id": "cb1fb816-8c54-47f8-a91c-9c2918956d51",
   "metadata": {},
   "source": [
    "If the first if statement evaluates to false, `elif` (i.e., \"else if\") executes a code block if its condition is true.\n",
    "\n",
    "`else` executes a code block if no preceding block evaluated to true."
   ]
  },
  {
   "cell_type": "code",
   "execution_count": 184,
   "id": "8a45ec16-e736-4915-8894-a74583f1af7d",
   "metadata": {},
   "outputs": [
    {
     "name": "stdout",
     "output_type": "stream",
     "text": [
      "x equals 10\n"
     ]
    }
   ],
   "source": [
    "x = 10\n",
    "if x < 10:\n",
    "    print(\"x is less than 10\")\n",
    "elif x == 10:\n",
    "    print(\"x equals 10\")\n",
    "else:\n",
    "    print(\"x is greater than 10\")"
   ]
  },
  {
   "cell_type": "markdown",
   "id": "38b78d7d-db95-4be0-8358-a7bf122d215a",
   "metadata": {},
   "source": [
    "# For Loops"
   ]
  },
  {
   "cell_type": "markdown",
   "id": "60c4586f-0785-44f3-8435-e7d5b07f1b93",
   "metadata": {},
   "source": [
    "Loops let us iterate over a container of elements, handling each element in sequence, one at a time."
   ]
  },
  {
   "cell_type": "markdown",
   "id": "a980ebe0-a54b-4c13-8c6c-955a8c482b82",
   "metadata": {},
   "source": [
    "## Loop through a list"
   ]
  },
  {
   "cell_type": "code",
   "execution_count": 185,
   "id": "34a01606-fea9-47aa-80ad-90601ffc510f",
   "metadata": {},
   "outputs": [
    {
     "name": "stdout",
     "output_type": "stream",
     "text": [
      "a\n",
      "b\n",
      "c\n",
      "d\n"
     ]
    }
   ],
   "source": [
    "letters = [\"a\", \"b\", \"c\", \"d\"]\n",
    "\n",
    "for letter in letters:\n",
    "    print(letter)"
   ]
  },
  {
   "cell_type": "code",
   "execution_count": 186,
   "id": "6a450571-8e47-4101-853f-3824e694b0e8",
   "metadata": {},
   "outputs": [],
   "source": [
    "sentence = \"This is INFO615\""
   ]
  },
  {
   "cell_type": "code",
   "execution_count": 187,
   "id": "15eeb957-80e3-4464-80cd-e18cf62e3cbb",
   "metadata": {},
   "outputs": [
    {
     "name": "stdout",
     "output_type": "stream",
     "text": [
      "This\n",
      "is\n",
      "INFO615\n"
     ]
    }
   ],
   "source": [
    "# loop through list of words in string\n",
    "for word in sentence.split():\n",
    "    print(word)"
   ]
  },
  {
   "cell_type": "code",
   "execution_count": 188,
   "id": "a2032d06-1cdb-4d10-b170-3b1988eb6c2b",
   "metadata": {},
   "outputs": [
    {
     "name": "stdout",
     "output_type": "stream",
     "text": [
      "True\n",
      "True\n",
      "False\n"
     ]
    }
   ],
   "source": [
    "for word in sentence.split():\n",
    "    print(\"s\" in word)"
   ]
  },
  {
   "cell_type": "markdown",
   "id": "be063887-bfb0-4723-a16c-89c9c02ef233",
   "metadata": {},
   "source": [
    "## Count with `enumerate()`"
   ]
  },
  {
   "cell_type": "code",
   "execution_count": 189,
   "id": "43de493f-203d-4817-9c5f-fe153cc18280",
   "metadata": {},
   "outputs": [
    {
     "name": "stdout",
     "output_type": "stream",
     "text": [
      "0 a\n",
      "1 b\n",
      "2 c\n",
      "3 d\n"
     ]
    }
   ],
   "source": [
    "# enumerate lets you loop through a list and count along\n",
    "# this function returns a tuple\n",
    "for count, letter in enumerate(letters):\n",
    "    print(count, letter)"
   ]
  },
  {
   "cell_type": "markdown",
   "id": "96cb12d7-0b72-450a-a267-29ab8f00c5a2",
   "metadata": {},
   "source": [
    "## The `range()` function"
   ]
  },
  {
   "cell_type": "markdown",
   "id": "4b459d6a-46a4-436d-af65-a952a3729410",
   "metadata": {},
   "source": [
    "`range()` produces a range of integer values."
   ]
  },
  {
   "cell_type": "code",
   "execution_count": 190,
   "id": "dc25d16b-5469-4a30-ae00-3e6413e2ce8f",
   "metadata": {},
   "outputs": [
    {
     "data": {
      "text/plain": [
       "range(0, 9)"
      ]
     },
     "execution_count": 190,
     "metadata": {},
     "output_type": "execute_result"
    }
   ],
   "source": [
    "range(9)"
   ]
  },
  {
   "cell_type": "markdown",
   "id": "b50141f9-59b0-4e0c-a504-cc9d7ba452cd",
   "metadata": {},
   "source": [
    "Convert it to list to explicitly see what's in the range."
   ]
  },
  {
   "cell_type": "code",
   "execution_count": 191,
   "id": "d376db09-e30d-4694-86e0-55fa255faa45",
   "metadata": {},
   "outputs": [
    {
     "data": {
      "text/plain": [
       "[0, 1, 2, 3, 4, 5, 6, 7, 8]"
      ]
     },
     "execution_count": 191,
     "metadata": {},
     "output_type": "execute_result"
    }
   ],
   "source": [
    "list(range(9))"
   ]
  },
  {
   "cell_type": "markdown",
   "id": "1029eec1-0b59-4d84-a96d-751f0ca714b2",
   "metadata": {},
   "source": [
    "You can loop through a range."
   ]
  },
  {
   "cell_type": "code",
   "execution_count": 192,
   "id": "6f8c7d16-4dd4-441b-a238-7331e63e7ddf",
   "metadata": {},
   "outputs": [
    {
     "name": "stdout",
     "output_type": "stream",
     "text": [
      "0 0\n",
      "1 1\n",
      "2 4\n",
      "3 9\n",
      "4 16\n",
      "5 25\n",
      "6 36\n",
      "7 49\n",
      "8 64\n"
     ]
    }
   ],
   "source": [
    "for x in range(9):\n",
    "    print(x, x ** 2)"
   ]
  },
  {
   "cell_type": "markdown",
   "id": "7d178979-1826-4ff0-9673-f22df9acb5d3",
   "metadata": {},
   "source": [
    "Because range goes up to but does **not** include the ending number, you must add 1 to include it."
   ]
  },
  {
   "cell_type": "code",
   "execution_count": 193,
   "id": "fcfa3756-46c1-478b-bc53-b03407fb20ca",
   "metadata": {},
   "outputs": [
    {
     "data": {
      "text/plain": [
       "[0, 1, 2, 3, 4, 5, 6, 7, 8, 9, 10]"
      ]
     },
     "execution_count": 193,
     "metadata": {},
     "output_type": "execute_result"
    }
   ],
   "source": [
    "n = 10\n",
    "list(range(n + 1))"
   ]
  },
  {
   "cell_type": "markdown",
   "id": "bf3ebabb-1cf6-4808-91c8-d396e4142767",
   "metadata": {},
   "source": [
    "The `range()` function optionally takes start, end, and step arguments.\n",
    "\n",
    "Step sets the size of the increment used in range (default is a step value of 1)."
   ]
  },
  {
   "cell_type": "markdown",
   "id": "9ece3bff-0d99-4f87-8ce2-74011c5d718e",
   "metadata": {},
   "source": [
    "See what happens when you set the step value to 2."
   ]
  },
  {
   "cell_type": "code",
   "execution_count": 194,
   "id": "589661ec-41f4-466a-8c6e-fe3bf0b3e94d",
   "metadata": {},
   "outputs": [
    {
     "data": {
      "text/plain": [
       "[10, 12, 14, 16, 18]"
      ]
     },
     "execution_count": 194,
     "metadata": {},
     "output_type": "execute_result"
    }
   ],
   "source": [
    "list(range(10, 20, 2))"
   ]
  },
  {
   "cell_type": "markdown",
   "id": "db3e6480-4efd-45ed-897f-f9a2c020f5b7",
   "metadata": {},
   "source": [
    "## Practicing for loops"
   ]
  },
  {
   "cell_type": "markdown",
   "id": "837f19f9-7d25-4f72-bdf7-493a236de55d",
   "metadata": {},
   "source": [
    "Now it's your turn. \n",
    "\n",
    "1) Loop through the numbers 1 through 15, using modulo to print 'even' if each is evenly divisible by 2, and 'odd' if not"
   ]
  },
  {
   "cell_type": "code",
   "execution_count": 195,
   "id": "c940cf14-a399-44dd-abd2-374a67c1677d",
   "metadata": {},
   "outputs": [],
   "source": [
    "# Your code below\n"
   ]
  },
  {
   "cell_type": "markdown",
   "id": "4352a633-5f49-4d68-96cb-4c1e8b4a9dde",
   "metadata": {},
   "source": [
    "2. Print out only the integers in the following list"
   ]
  },
  {
   "cell_type": "code",
   "execution_count": 196,
   "id": "14f13d23-8227-4d26-b599-d38f7aea7cc1",
   "metadata": {},
   "outputs": [],
   "source": [
    "my_list = [3.3, 19.75, 6, 3.3, 8]\n",
    "\n",
    "# Your code below"
   ]
  },
  {
   "cell_type": "markdown",
   "id": "996d95e0-2642-4501-8002-3aff4cebcd01",
   "metadata": {},
   "source": [
    "# While Loops"
   ]
  },
  {
   "cell_type": "markdown",
   "id": "89dcca5b-998e-4a28-b845-0da654b05fd0",
   "metadata": {},
   "source": [
    "With the while loop we can execute a set of statements as long as a condition is True.\n",
    "\n",
    "**Warning**: If a condition continues to be True, the while loop will run forever in an infinite loop\n"
   ]
  },
  {
   "cell_type": "code",
   "execution_count": 197,
   "id": "d166aec5-b2c4-45bf-9de3-373d7d329c24",
   "metadata": {},
   "outputs": [
    {
     "name": "stdout",
     "output_type": "stream",
     "text": [
      "5\n",
      "4\n",
      "3\n",
      "2\n",
      "1\n",
      "blast off!\n"
     ]
    }
   ],
   "source": [
    "# a while loop repeats as long as some condition is True\n",
    "# beware infinite loops!\n",
    "x = 5\n",
    "while x > 0:\n",
    "    print(x)\n",
    "    x = x - 1\n",
    "print(\"blast off!\")"
   ]
  },
  {
   "cell_type": "code",
   "execution_count": 198,
   "id": "401917af-01cd-4811-86ac-85a150f2c183",
   "metadata": {},
   "outputs": [
    {
     "data": {
      "text/plain": [
       "[1, 2, 3, 4, 5, 6, 7, 8, 9]"
      ]
     },
     "execution_count": 198,
     "metadata": {},
     "output_type": "execute_result"
    }
   ],
   "source": [
    "# add the numbers 1 through 9 to a list\n",
    "my_list = []\n",
    "x = 1\n",
    "while x <= 9:\n",
    "    my_list.append(x)\n",
    "    x = x + 1\n",
    "my_list"
   ]
  },
  {
   "cell_type": "markdown",
   "id": "89814ae3-378c-449d-a243-6850d19ac4f1",
   "metadata": {},
   "source": [
    "# Functions"
   ]
  },
  {
   "cell_type": "markdown",
   "id": "07207a47-4fee-4b04-8a40-e44d4ac20616",
   "metadata": {},
   "source": [
    "A function is a reusable block of code which only runs when it is called.\n",
    "\n",
    "You can pass data, known as parameters, into a function.\n",
    "\n",
    "A function can return data as a result.\n",
    "\n",
    "Like with for-loops, indentation matters. The block of code contained within a function must be indented."
   ]
  },
  {
   "cell_type": "code",
   "execution_count": 199,
   "id": "22206723-bcb4-42bc-9ab6-abdc7309ea20",
   "metadata": {},
   "outputs": [],
   "source": [
    "def hello_world():\n",
    "    print(\"Hello, world!\")"
   ]
  },
  {
   "cell_type": "code",
   "execution_count": 200,
   "id": "555508c8-b450-4b7d-bf0e-a5a81768a031",
   "metadata": {},
   "outputs": [
    {
     "name": "stdout",
     "output_type": "stream",
     "text": [
      "Hello, world!\n"
     ]
    }
   ],
   "source": [
    "hello_world()"
   ]
  },
  {
   "cell_type": "markdown",
   "id": "6858a3d2-8b3d-4282-aa58-e58fbe36294a",
   "metadata": {},
   "source": [
    "## Function Arguments"
   ]
  },
  {
   "cell_type": "markdown",
   "id": "dd73a9b5-7cf2-4b03-ab62-03d40820120b",
   "metadata": {},
   "source": [
    "Information can be passed into functions as arguments.\n",
    "\n",
    "Arguments are specified after the function name, inside the parentheses.\n",
    "\n",
    "You can add as many arguments as you want, just separate them with a comma.\n"
   ]
  },
  {
   "cell_type": "markdown",
   "id": "6025969c-b205-48a7-8828-dedb3a6de70b",
   "metadata": {},
   "source": [
    "Let's create a simple example function."
   ]
  },
  {
   "cell_type": "code",
   "execution_count": 201,
   "id": "2c487a50-a205-4487-ba1f-836d48809fa9",
   "metadata": {},
   "outputs": [],
   "source": [
    "def full_name(first_name, last_name):\n",
    "    print(first_name + \" \" + last_name)"
   ]
  },
  {
   "cell_type": "code",
   "execution_count": 202,
   "id": "06df3700-7604-4034-9ed8-15f26d58b9c2",
   "metadata": {},
   "outputs": [
    {
     "name": "stdout",
     "output_type": "stream",
     "text": [
      "Will Geary\n"
     ]
    }
   ],
   "source": [
    "full_name(\"Will\", \"Geary\")"
   ]
  },
  {
   "cell_type": "markdown",
   "id": "96c20cc1-71a0-4a24-b390-b424ae52517c",
   "metadata": {},
   "source": [
    "Let's create a more complicated function involving comparison operators and if/else statements."
   ]
  },
  {
   "cell_type": "code",
   "execution_count": 203,
   "id": "bb68c5e8-cdfd-4224-8277-997a5f032916",
   "metadata": {},
   "outputs": [],
   "source": [
    "def my_function(value):\n",
    "    if value < 10:\n",
    "        print(value, \"is less than 10\")\n",
    "    elif value == 10:\n",
    "        print(value, \"equals 10\")\n",
    "    else:\n",
    "        print(value, \"is greater than 10\")"
   ]
  },
  {
   "cell_type": "code",
   "execution_count": 204,
   "id": "88fc0a1f-e7ec-43ae-8d86-5382c2d45341",
   "metadata": {},
   "outputs": [
    {
     "name": "stdout",
     "output_type": "stream",
     "text": [
      "7 is less than 10\n"
     ]
    }
   ],
   "source": [
    "my_function(7)"
   ]
  },
  {
   "cell_type": "markdown",
   "id": "f1f31d32-99e1-43c2-8ec3-aefff665eee1",
   "metadata": {},
   "source": [
    "## `print()` versus `return`"
   ]
  },
  {
   "cell_type": "markdown",
   "id": "17205fb5-6da1-41fb-887a-dc64399332ca",
   "metadata": {},
   "source": [
    "As we have seen, we can use `print()` to print something to the console."
   ]
  },
  {
   "cell_type": "code",
   "execution_count": 205,
   "id": "e8413180-aa63-4590-a706-99b5b73554dd",
   "metadata": {},
   "outputs": [],
   "source": [
    "def my_function(x):\n",
    "    print(5 * x)"
   ]
  },
  {
   "cell_type": "code",
   "execution_count": 206,
   "id": "11343276-1211-473c-aa81-5d790c2351c3",
   "metadata": {},
   "outputs": [
    {
     "name": "stdout",
     "output_type": "stream",
     "text": [
      "50\n"
     ]
    }
   ],
   "source": [
    "my_function(10)"
   ]
  },
  {
   "cell_type": "markdown",
   "id": "bb001c0d-80e1-43a0-ad74-5ea59bf71b11",
   "metadata": {},
   "source": [
    "`print()` is useful as we are developing and debugging Python code. However, `print()` doesn't actually give us the value itself.\n",
    "\n",
    "For example:"
   ]
  },
  {
   "cell_type": "code",
   "execution_count": 207,
   "id": "927383ba-9961-422a-ae0d-1ff8eb8be246",
   "metadata": {},
   "outputs": [
    {
     "name": "stdout",
     "output_type": "stream",
     "text": [
      "50\n"
     ]
    }
   ],
   "source": [
    "result = my_function(10)"
   ]
  },
  {
   "cell_type": "markdown",
   "id": "0a0e708c-ccbf-444b-80b7-fe705c9377c4",
   "metadata": {},
   "source": [
    "See what's in the result variable:"
   ]
  },
  {
   "cell_type": "code",
   "execution_count": 208,
   "id": "6f5ee819-c3cf-489c-96d8-248a0dca4c2a",
   "metadata": {},
   "outputs": [],
   "source": [
    "result"
   ]
  },
  {
   "cell_type": "markdown",
   "id": "03387569-39c0-4c05-a684-15b784328a98",
   "metadata": {},
   "source": [
    "The result variable doesn't contain anything!"
   ]
  },
  {
   "cell_type": "code",
   "execution_count": 209,
   "id": "0c38bc6b-ff11-4446-a803-b5cde834220c",
   "metadata": {},
   "outputs": [
    {
     "data": {
      "text/plain": [
       "NoneType"
      ]
     },
     "execution_count": 209,
     "metadata": {},
     "output_type": "execute_result"
    }
   ],
   "source": [
    "type(result)"
   ]
  },
  {
   "cell_type": "markdown",
   "id": "e0c5607d-8197-440e-8e81-0aa961bb29c1",
   "metadata": {},
   "source": [
    "In order to actually get the result of a function, use `return` rather than `print`.\n",
    "\n",
    "`return` causes the function to exit, so it must be the very last line of a function.\n",
    "\n",
    "Note that `return` does not use parenthesis like `print()` does."
   ]
  },
  {
   "cell_type": "code",
   "execution_count": 210,
   "id": "beb64e83-ec44-400b-b21d-acc1d3e7ce76",
   "metadata": {},
   "outputs": [],
   "source": [
    "def another_function(x):\n",
    "    return 5 * x"
   ]
  },
  {
   "cell_type": "code",
   "execution_count": 211,
   "id": "6753e41b-20d2-4c87-9d48-689679a406a1",
   "metadata": {},
   "outputs": [],
   "source": [
    "result = another_function(10)"
   ]
  },
  {
   "cell_type": "markdown",
   "id": "f332b20a-5387-40b0-bd62-26fc4afd1926",
   "metadata": {},
   "source": [
    "Now the result variable actually stores the value."
   ]
  },
  {
   "cell_type": "code",
   "execution_count": 212,
   "id": "24a39741-32a4-4cfc-9597-c4dbff9c4a2c",
   "metadata": {},
   "outputs": [
    {
     "data": {
      "text/plain": [
       "50"
      ]
     },
     "execution_count": 212,
     "metadata": {},
     "output_type": "execute_result"
    }
   ],
   "source": [
    "result"
   ]
  }
 ],
 "metadata": {
  "kernelspec": {
   "display_name": "info615",
   "language": "python",
   "name": "info615"
  },
  "language_info": {
   "codemirror_mode": {
    "name": "ipython",
    "version": 3
   },
   "file_extension": ".py",
   "mimetype": "text/x-python",
   "name": "python",
   "nbconvert_exporter": "python",
   "pygments_lexer": "ipython3",
   "version": "3.10.2"
  },
  "toc-autonumbering": false,
  "toc-showmarkdowntxt": false
 },
 "nbformat": 4,
 "nbformat_minor": 5
}
