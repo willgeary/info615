{
 "cells": [
  {
   "cell_type": "markdown",
   "id": "3f95980f",
   "metadata": {
    "toc-hr-collapsed": true
   },
   "source": [
    "# Introduction to Python"
   ]
  },
  {
   "cell_type": "markdown",
   "id": "cf8d94a8",
   "metadata": {},
   "source": [
    "\n",
    "Today we will cover the basics of Python and get familiar with interactive computing in a *Jupyter notebook*.\n",
    "\n",
    "Notebooks allow text and graphics to be combined with code that can be run interactively, with the results appearing inline.\n",
    "\n",
    "This is a notebook that you are looking at right now.\n",
    "\n",
    "Some of the content in this tutorial was adapted from Geoff Boeing's [Coding Bootcamp](https://github.com/gboeing/ppd430/blob/main/modules/03-coding-bootcamp-i/lecture.ipynb) lecture as part of his Urban Informatics course."
   ]
  },
  {
   "cell_type": "markdown",
   "id": "723731fb",
   "metadata": {},
   "source": [
    "## First Line of Code"
   ]
  },
  {
   "cell_type": "markdown",
   "id": "72bafcbb",
   "metadata": {},
   "source": [
    "The first bit of code that is usually demonstrated when you are learning a programming language is usually to make the computer print \"Hello world!\"\n",
    "\n",
    "In Python, we can do this using the `print` command. Click into the cell bellow and hit `Shift + Enter` to run the cell."
   ]
  },
  {
   "cell_type": "code",
   "execution_count": 1,
   "id": "806837b7",
   "metadata": {},
   "outputs": [
    {
     "name": "stdout",
     "output_type": "stream",
     "text": [
      "Hello world!\n"
     ]
    }
   ],
   "source": [
    "print(\"Hello world!\")"
   ]
  },
  {
   "cell_type": "markdown",
   "id": "1447c867",
   "metadata": {},
   "source": [
    "Congrats, you just wrote your first line of Python code!"
   ]
  },
  {
   "cell_type": "markdown",
   "id": "8c78a315",
   "metadata": {},
   "source": [
    "Note how a `[1]` appears to the left of the code cell. This number indicates the order in which cells have been executed. \n",
    "\n",
    "Try running the above cell again and see what happens."
   ]
  },
  {
   "cell_type": "markdown",
   "id": "7f8d8c44",
   "metadata": {},
   "source": [
    "## Writing Comments"
   ]
  },
  {
   "cell_type": "markdown",
   "id": "d90409ee",
   "metadata": {},
   "source": [
    "It is a good practice to write comments in your code documenting what the code does. This is helpful so that someone else can more easily follow your code, and also for yourself to remember what you were doing (this can be surprisingly helpful!).\n",
    "\n",
    "In Python, comments are preceded by the `#` symbol."
   ]
  },
  {
   "cell_type": "code",
   "execution_count": 2,
   "id": "b948ea45",
   "metadata": {},
   "outputs": [
    {
     "name": "stdout",
     "output_type": "stream",
     "text": [
      "Hello again!\n"
     ]
    }
   ],
   "source": [
    "# This is a comment\n",
    "# It is readable by humans\n",
    "# But ignored by the computer\n",
    "print(\"Hello again!\")"
   ]
  },
  {
   "cell_type": "markdown",
   "id": "98e8bd1e",
   "metadata": {},
   "source": [
    "Before we learn any more Python, let's get familiar with the Jupyter Notebook that we are currently using."
   ]
  },
  {
   "cell_type": "markdown",
   "id": "73b73280",
   "metadata": {
    "toc-hr-collapsed": true
   },
   "source": [
    "## Jupyter Notebook Interface"
   ]
  },
  {
   "cell_type": "markdown",
   "id": "fe3b8404",
   "metadata": {},
   "source": [
    "### Cells\n",
    "\n",
    "A cell is a container for text to be displayed in the notebook or code to be executed by the notebook’s kernel.\n",
    "\n",
    "There are two types of cells:\n",
    "\n",
    "1) **Code cell**: contains code to be executed in the kernel. When the code is run, the notebook displays the output below the code cell that generated it.\n",
    "\n",
    "2) **Markdown cell**: contains text formatted using Markdown and displays its output in-place when the Markdown cell is run\n",
    "\n",
    "There is always one **active** cell highlighted by a blue bar on the left. This indicates your current location in the notebook.\n",
    "\n",
    "Any selected cell can exist in two modes:\n",
    "\n",
    "1) **Edit mode**: when the cell is ready for us to type something into the cell. This is indicated by the cursor blinking.\n",
    "\n",
    "2) **Command mode**: when the cell is ready for us to perform a command, like running the cell or inserting a new one.\n",
    "\n",
    "In order to enter edit mode, simply click into a cell or hit `Enter` on the currently selected cell.\n",
    "\n",
    "In order to enter command mode, hit the `esc` key. You will see that the cursor stops blinking upon entering command mode."
   ]
  },
  {
   "cell_type": "markdown",
   "id": "bf9ddd77",
   "metadata": {},
   "source": [
    "### Jupyter Keyboard Shortcuts\n",
    "\n",
    "When you are in command mode, you can use keyboard shortcuts to run commands. Below is a list of some of Jupyter's keyboard shortcuts. You don't need to memorize them immediately, but this should give you a good idea of what's possible.\n",
    "\n",
    "- Toggle between edit and command mode with `Esc` and `Enter`, respectively\n",
    "- Once in command mode:\n",
    "    - Scroll up and down your cells with your `Up` and `Down` arrows\n",
    "    - `Shift + Enter` to run a cell and move to the next cell\n",
    "    - `Control + Enter` to run a cell and remain on that cell\n",
    "    - Press `A` or `B` to insert a new cell above or below the active cell\n",
    "    - Press `M` to transform the active cell to a Markdown cell\n",
    "    - Press `Y` to transform the active cell to a code cell\n",
    "    - Press `D + D` (`D` twice) to delete the active cell\n",
    "    - Press `Z` to undo cell deletion\n",
    "    - Hold `Shift` and press `Up` or `Down` to select multiple cells at once\n",
    "    - With multiple cells selected, `Shift + M` will merge your selection\n",
    "    - `Ctrl + Shift + -` will split the active cell at the cursor"
   ]
  },
  {
   "cell_type": "markdown",
   "id": "9246bd4c",
   "metadata": {},
   "source": [
    "### Practice"
   ]
  },
  {
   "cell_type": "markdown",
   "id": "1f21e114",
   "metadata": {},
   "source": [
    "Let's do some exercises to get used keyboard shortcuts in Jupyter."
   ]
  },
  {
   "cell_type": "code",
   "execution_count": 3,
   "id": "755dd0c5",
   "metadata": {},
   "outputs": [],
   "source": [
    "# Practice adding a cell above this one using the A shortcut"
   ]
  },
  {
   "cell_type": "code",
   "execution_count": 4,
   "id": "651cb784",
   "metadata": {},
   "outputs": [],
   "source": [
    "# Practice adding a cell below this one using the B shortcut"
   ]
  },
  {
   "cell_type": "code",
   "execution_count": 5,
   "id": "59528452",
   "metadata": {},
   "outputs": [],
   "source": [
    "# Practice converting this cell to a Markdown cell"
   ]
  },
  {
   "cell_type": "markdown",
   "id": "96df0546",
   "metadata": {},
   "source": [
    "Practice converting this cell to a code cell"
   ]
  },
  {
   "cell_type": "code",
   "execution_count": 6,
   "id": "26b0f8d1",
   "metadata": {},
   "outputs": [],
   "source": [
    "# Practice deleting this cell with D + D"
   ]
  },
  {
   "cell_type": "code",
   "execution_count": 7,
   "id": "3547aab1",
   "metadata": {},
   "outputs": [],
   "source": [
    "# Practice undoing a cell deletion with Z"
   ]
  },
  {
   "cell_type": "code",
   "execution_count": 8,
   "id": "b4f4fcf2",
   "metadata": {},
   "outputs": [],
   "source": [
    "# Practice selecting multiple cells at once with Shift + Up or Shift + Down"
   ]
  },
  {
   "cell_type": "code",
   "execution_count": 9,
   "id": "f4282297",
   "metadata": {},
   "outputs": [],
   "source": [
    "# Practice merging multiple selected cells with Shift + M"
   ]
  },
  {
   "cell_type": "code",
   "execution_count": 10,
   "id": "0f08119b",
   "metadata": {},
   "outputs": [],
   "source": [
    "# Practice splitting the below code into two cells with Ctrl + Shift + -\n",
    "x = 1\n",
    "y = 2"
   ]
  },
  {
   "cell_type": "markdown",
   "id": "f2749ddf",
   "metadata": {
    "toc-hr-collapsed": true
   },
   "source": [
    "## Markdown\n",
    "\n",
    "Markdown is a lightweight, easy to learn language for formatting plain text.\n"
   ]
  },
  {
   "cell_type": "markdown",
   "id": "a80988cc",
   "metadata": {},
   "source": [
    "Below is some example markdown text. Select the cell and enter into edit mode to see the raw markdown."
   ]
  },
  {
   "cell_type": "markdown",
   "id": "7bc1bcf2",
   "metadata": {},
   "source": [
    "This is some plain text that forms a paragraph. You can add emphasis via **bold** and __bold__, or *italic* and _italic_. \n",
    "\n",
    "Paragraphs must be separated by an empty line. \n",
    "\n",
    "* Sometimes we want to include lists. \n",
    "* Which can be bulleted using asterisks. \n",
    "\n",
    "1. Lists can also be numbered. \n",
    "2. If we want an ordered list.\n",
    "\n",
    "We can embed hyperlinks like [this](https://google.com/)."
   ]
  },
  {
   "cell_type": "markdown",
   "id": "83788ddb",
   "metadata": {
    "toc-hr-collapsed": true
   },
   "source": [
    "# Variables"
   ]
  },
  {
   "cell_type": "markdown",
   "id": "1f05a8a9",
   "metadata": {},
   "source": [
    "Variables are containers for storing data values. A variable is created the moment you first assign a value to it."
   ]
  },
  {
   "cell_type": "markdown",
   "id": "8142badf",
   "metadata": {},
   "source": [
    "Create a variable called x and populate it with the number 5:"
   ]
  },
  {
   "cell_type": "code",
   "execution_count": 11,
   "id": "93ec3c8d",
   "metadata": {},
   "outputs": [],
   "source": [
    "x = 5"
   ]
  },
  {
   "cell_type": "code",
   "execution_count": 12,
   "id": "1bd2de73",
   "metadata": {},
   "outputs": [
    {
     "data": {
      "text/plain": [
       "10"
      ]
     },
     "execution_count": 12,
     "metadata": {},
     "output_type": "execute_result"
    }
   ],
   "source": [
    "x * 2"
   ]
  },
  {
   "cell_type": "markdown",
   "id": "7f2549da",
   "metadata": {},
   "source": [
    "You can store text in a variable, too. In Python, text (or `strings`) must be enclosed by quotation marks (single and double are both fine)."
   ]
  },
  {
   "cell_type": "markdown",
   "id": "95d2eef9",
   "metadata": {},
   "source": [
    "Overwrite that variable x and populate it with a string."
   ]
  },
  {
   "cell_type": "code",
   "execution_count": 13,
   "id": "2ab4bb17",
   "metadata": {},
   "outputs": [],
   "source": [
    "x = 'hello'"
   ]
  },
  {
   "cell_type": "code",
   "execution_count": 14,
   "id": "99aaffca",
   "metadata": {},
   "outputs": [
    {
     "data": {
      "text/plain": [
       "'hello'"
      ]
     },
     "execution_count": 14,
     "metadata": {},
     "output_type": "execute_result"
    }
   ],
   "source": [
    "x"
   ]
  },
  {
   "cell_type": "code",
   "execution_count": 15,
   "id": "4189e1ea",
   "metadata": {},
   "outputs": [
    {
     "data": {
      "text/plain": [
       "'hellohello'"
      ]
     },
     "execution_count": 15,
     "metadata": {},
     "output_type": "execute_result"
    }
   ],
   "source": [
    "x * 2"
   ]
  },
  {
   "cell_type": "markdown",
   "id": "50044c86",
   "metadata": {},
   "source": [
    "Notice how the multiplication operator performs a different function when used on a string, versus a number."
   ]
  },
  {
   "cell_type": "markdown",
   "id": "9cecf9ca",
   "metadata": {},
   "source": [
    "Clearly, variables can store data of different types. And different data types do different things."
   ]
  },
  {
   "cell_type": "markdown",
   "id": "5f2e8209",
   "metadata": {},
   "source": [
    "## Numeric Variables"
   ]
  },
  {
   "cell_type": "code",
   "execution_count": 16,
   "id": "c4ef28ed",
   "metadata": {},
   "outputs": [],
   "source": [
    "# variables contain values and those values can vary\n",
    "x = 5"
   ]
  },
  {
   "cell_type": "code",
   "execution_count": 17,
   "id": "75de9868",
   "metadata": {},
   "outputs": [
    {
     "data": {
      "text/plain": [
       "5"
      ]
     },
     "execution_count": 17,
     "metadata": {},
     "output_type": "execute_result"
    }
   ],
   "source": [
    "# what is the value of x?\n",
    "x"
   ]
  },
  {
   "cell_type": "code",
   "execution_count": 18,
   "id": "7c8c55ae",
   "metadata": {},
   "outputs": [
    {
     "data": {
      "text/plain": [
       "8"
      ]
     },
     "execution_count": 18,
     "metadata": {},
     "output_type": "execute_result"
    }
   ],
   "source": [
    "# you can perform operations on variables, just like you can with numbers\n",
    "x + 3"
   ]
  },
  {
   "cell_type": "code",
   "execution_count": 19,
   "id": "e1b7a352",
   "metadata": {},
   "outputs": [
    {
     "data": {
      "text/plain": [
       "5"
      ]
     },
     "execution_count": 19,
     "metadata": {},
     "output_type": "execute_result"
    }
   ],
   "source": [
    "# what is the value of x, now?\n",
    "x"
   ]
  },
  {
   "cell_type": "code",
   "execution_count": 20,
   "id": "08ac15e0",
   "metadata": {},
   "outputs": [],
   "source": [
    "# create a new variable y from an operation on x\n",
    "y = x * 2"
   ]
  },
  {
   "cell_type": "code",
   "execution_count": 21,
   "id": "8618bfba",
   "metadata": {},
   "outputs": [
    {
     "data": {
      "text/plain": [
       "10"
      ]
     },
     "execution_count": 21,
     "metadata": {},
     "output_type": "execute_result"
    }
   ],
   "source": [
    "# what is the value of y?\n",
    "y"
   ]
  },
  {
   "cell_type": "code",
   "execution_count": 22,
   "id": "f16ea6f4",
   "metadata": {},
   "outputs": [
    {
     "data": {
      "text/plain": [
       "10"
      ]
     },
     "execution_count": 22,
     "metadata": {},
     "output_type": "execute_result"
    }
   ],
   "source": [
    "# outputting values only displays the last thing output\n",
    "# this is different from printing! it is kinda confusing!\n",
    "x\n",
    "y"
   ]
  },
  {
   "cell_type": "code",
   "execution_count": 23,
   "id": "0b7eb348",
   "metadata": {},
   "outputs": [
    {
     "name": "stdout",
     "output_type": "stream",
     "text": [
      "5\n",
      "10\n"
     ]
    }
   ],
   "source": [
    "# use print to write multiple value(s) to the \"console\"\n",
    "print(x)\n",
    "print(y)"
   ]
  },
  {
   "cell_type": "code",
   "execution_count": 24,
   "id": "69f1fb8b",
   "metadata": {},
   "outputs": [
    {
     "name": "stdout",
     "output_type": "stream",
     "text": [
      "5 10\n"
     ]
    }
   ],
   "source": [
    "# you can comma-separate values to print multiple values to the console on one line\n",
    "print(x, y)"
   ]
  },
  {
   "cell_type": "code",
   "execution_count": 25,
   "id": "3defc130",
   "metadata": {},
   "outputs": [
    {
     "name": "stdout",
     "output_type": "stream",
     "text": [
      "50\n"
     ]
    }
   ],
   "source": [
    "# you can also print the result of an expression\n",
    "print(x * y)"
   ]
  },
  {
   "cell_type": "code",
   "execution_count": 26,
   "id": "9069771d",
   "metadata": {},
   "outputs": [],
   "source": [
    "# now it's your turn\n",
    "# in a single line, create a new variable z and set it equal to x divided the sum of x plus y\n"
   ]
  },
  {
   "cell_type": "markdown",
   "id": "18943524",
   "metadata": {
    "tags": [],
    "toc-hr-collapsed": true
   },
   "source": [
    "## String Variables"
   ]
  },
  {
   "cell_type": "markdown",
   "id": "4777c787",
   "metadata": {},
   "source": [
    "We can also do operations on text. Pieces of text are called `strings` in Python (and in programming generally).\n",
    "\n",
    "Strings must be contained within quotation marks (single `'` or double`\"` both work)."
   ]
  },
  {
   "cell_type": "markdown",
   "id": "553d2a74",
   "metadata": {},
   "source": [
    "Create a variable called `name` and populate it with your name. Be sure to wrap your name in quotation marks."
   ]
  },
  {
   "cell_type": "code",
   "execution_count": 27,
   "id": "c1a19908",
   "metadata": {},
   "outputs": [],
   "source": [
    "name = \"Will\""
   ]
  },
  {
   "cell_type": "code",
   "execution_count": 28,
   "id": "9724cb36",
   "metadata": {},
   "outputs": [
    {
     "name": "stdout",
     "output_type": "stream",
     "text": [
      "Hello world! My name is Will\n"
     ]
    }
   ],
   "source": [
    "print(\"Hello world! My name is\", name)"
   ]
  },
  {
   "cell_type": "markdown",
   "id": "55fcbad8",
   "metadata": {},
   "source": [
    "We can use some numeric functions on strings."
   ]
  },
  {
   "cell_type": "code",
   "execution_count": 29,
   "id": "4ecd6f72",
   "metadata": {},
   "outputs": [
    {
     "name": "stdout",
     "output_type": "stream",
     "text": [
      "Hello world! My name is WillGeary\n"
     ]
    }
   ],
   "source": [
    "first_name = \"Will\"\n",
    "last_name = \"Geary\"\n",
    "\n",
    "# you can \"concatenate\" strings with the + operator\n",
    "print(\"Hello world! My name is\", first_name + last_name)"
   ]
  },
  {
   "cell_type": "markdown",
   "id": "f83c6020",
   "metadata": {},
   "source": [
    "Let's format this output by add a space between the first and last name."
   ]
  },
  {
   "cell_type": "code",
   "execution_count": 30,
   "id": "fb5a8211",
   "metadata": {},
   "outputs": [
    {
     "name": "stdout",
     "output_type": "stream",
     "text": [
      "Hello world! My name is Will Geary\n"
     ]
    }
   ],
   "source": [
    "print(\"Hello world! My name is\", first_name + \" \" + last_name)"
   ]
  },
  {
   "cell_type": "markdown",
   "id": "dcfa2535",
   "metadata": {},
   "source": [
    "We can even multiply string by a number, though we may never need to do this."
   ]
  },
  {
   "cell_type": "code",
   "execution_count": 31,
   "id": "7d00ea2c",
   "metadata": {},
   "outputs": [
    {
     "data": {
      "text/plain": [
       "'WillWillWillWillWillWillWillWillWillWillWillWillWillWillWillWillWillWillWillWillWillWillWillWillWillWillWillWillWillWillWillWillWillWillWillWillWillWillWillWillWillWillWillWillWillWillWillWillWillWillWillWillWillWillWillWillWillWillWillWillWillWillWillWillWillWillWillWillWillWillWillWillWillWillWillWillWillWillWillWillWillWillWillWillWillWillWillWillWillWillWillWillWillWillWillWillWillWillWillWill'"
      ]
     },
     "execution_count": 31,
     "metadata": {},
     "output_type": "execute_result"
    }
   ],
   "source": [
    "# Multiple a string and a number\n",
    "name * 100"
   ]
  },
  {
   "cell_type": "markdown",
   "id": "13aa17c7",
   "metadata": {},
   "source": [
    "We cannot divide a string by a number though, and doing so will throw a `TypeError`. We will discuss `types` and `Error`s later in this tutorial."
   ]
  },
  {
   "cell_type": "code",
   "execution_count": 32,
   "id": "1205131a",
   "metadata": {},
   "outputs": [
    {
     "ename": "TypeError",
     "evalue": "unsupported operand type(s) for /: 'str' and 'int'",
     "output_type": "error",
     "traceback": [
      "\u001b[0;31m---------------------------------------------------------------------------\u001b[0m",
      "\u001b[0;31mTypeError\u001b[0m                                 Traceback (most recent call last)",
      "\u001b[0;32m<ipython-input-32-3db9851d27b1>\u001b[0m in \u001b[0;36m<module>\u001b[0;34m\u001b[0m\n\u001b[1;32m      1\u001b[0m \u001b[0;31m# Try to divide a string by a number\u001b[0m\u001b[0;34m\u001b[0m\u001b[0;34m\u001b[0m\u001b[0;34m\u001b[0m\u001b[0m\n\u001b[1;32m      2\u001b[0m \u001b[0;31m# Throws an error\u001b[0m\u001b[0;34m\u001b[0m\u001b[0;34m\u001b[0m\u001b[0;34m\u001b[0m\u001b[0m\n\u001b[0;32m----> 3\u001b[0;31m \u001b[0mname\u001b[0m \u001b[0;34m/\u001b[0m \u001b[0;36m2\u001b[0m\u001b[0;34m\u001b[0m\u001b[0;34m\u001b[0m\u001b[0m\n\u001b[0m",
      "\u001b[0;31mTypeError\u001b[0m: unsupported operand type(s) for /: 'str' and 'int'"
     ]
    }
   ],
   "source": [
    "# Try to divide a string by a number\n",
    "# Throws an error\n",
    "name / 2"
   ]
  },
  {
   "cell_type": "code",
   "execution_count": 33,
   "id": "10a11b7c",
   "metadata": {},
   "outputs": [
    {
     "name": "stdout",
     "output_type": "stream",
     "text": [
      "Brooklyn, NY 11225\n"
     ]
    }
   ],
   "source": [
    "# let's try concatenating multiple strings\n",
    "city = \"Brooklyn\"\n",
    "sep = \", \"\n",
    "state = \"NY\"\n",
    "zip_code = \"11225\"\n",
    "\n",
    "# you can \"concatenate\" strings with the + operator\n",
    "location = city + sep + state + \" \" + zip_code\n",
    "print(location)"
   ]
  },
  {
   "cell_type": "markdown",
   "id": "0cdc9aba",
   "metadata": {},
   "source": [
    "Let's investigate some more things we can do with lists."
   ]
  },
  {
   "cell_type": "code",
   "execution_count": 34,
   "id": "0d95f2a6",
   "metadata": {},
   "outputs": [],
   "source": [
    "# create a new string to work with\n",
    "sentence = \"This is INFO 615.\""
   ]
  },
  {
   "cell_type": "code",
   "execution_count": 35,
   "id": "46cc3f16",
   "metadata": {},
   "outputs": [
    {
     "data": {
      "text/plain": [
       "'This is INFO 615.'"
      ]
     },
     "execution_count": 35,
     "metadata": {},
     "output_type": "execute_result"
    }
   ],
   "source": [
    "sentence"
   ]
  },
  {
   "cell_type": "markdown",
   "id": "477dc1cc",
   "metadata": {},
   "source": [
    "### `len()` function"
   ]
  },
  {
   "cell_type": "markdown",
   "id": "d0657277",
   "metadata": {},
   "source": [
    "`len` is a built-in Python function that tells us the length of an object.\n",
    "\n",
    "When you use `len` with a `string`, it tells you how many characters are in that string."
   ]
  },
  {
   "cell_type": "code",
   "execution_count": 36,
   "id": "33f933fe",
   "metadata": {},
   "outputs": [
    {
     "data": {
      "text/plain": [
       "4"
      ]
     },
     "execution_count": 36,
     "metadata": {},
     "output_type": "execute_result"
    }
   ],
   "source": [
    "# how many characters are in your name? use len function\n",
    "len(name)"
   ]
  },
  {
   "cell_type": "code",
   "execution_count": 37,
   "id": "75dc2e4d",
   "metadata": {},
   "outputs": [
    {
     "data": {
      "text/plain": [
       "17"
      ]
     },
     "execution_count": 37,
     "metadata": {},
     "output_type": "execute_result"
    }
   ],
   "source": [
    "# what is the length of the string?\n",
    "len(sentence)"
   ]
  },
  {
   "cell_type": "markdown",
   "id": "a83fdbd2",
   "metadata": {},
   "source": [
    "### `strip()` method"
   ]
  },
  {
   "cell_type": "markdown",
   "id": "d39a94e3",
   "metadata": {},
   "source": [
    "Use the strip method to remove characters from the beginning and end of a string."
   ]
  },
  {
   "cell_type": "code",
   "execution_count": 38,
   "id": "91230557",
   "metadata": {},
   "outputs": [
    {
     "data": {
      "text/plain": [
       "'This is INFO 615'"
      ]
     },
     "execution_count": 38,
     "metadata": {},
     "output_type": "execute_result"
    }
   ],
   "source": [
    "sentence.strip(\".\")"
   ]
  },
  {
   "cell_type": "code",
   "execution_count": 39,
   "id": "6328b067",
   "metadata": {},
   "outputs": [
    {
     "data": {
      "text/plain": [
       "'INFO 615.'"
      ]
     },
     "execution_count": 39,
     "metadata": {},
     "output_type": "execute_result"
    }
   ],
   "source": [
    "sentence.strip(\"This is \")"
   ]
  },
  {
   "cell_type": "markdown",
   "id": "9fabef34",
   "metadata": {},
   "source": [
    "Notice, `strip()` only for removing characters at the beginning or end of a string. It does not work with characters in the middle."
   ]
  },
  {
   "cell_type": "code",
   "execution_count": 40,
   "id": "d3d85797",
   "metadata": {},
   "outputs": [
    {
     "data": {
      "text/plain": [
       "'This is INFO 615.'"
      ]
     },
     "execution_count": 40,
     "metadata": {},
     "output_type": "execute_result"
    }
   ],
   "source": [
    "sentence.strip(\"is\")"
   ]
  },
  {
   "cell_type": "code",
   "execution_count": 41,
   "id": "4fb00ca7",
   "metadata": {},
   "outputs": [
    {
     "data": {
      "text/plain": [
       "'This is INFO 615.'"
      ]
     },
     "execution_count": 41,
     "metadata": {},
     "output_type": "execute_result"
    }
   ],
   "source": [
    "sentence"
   ]
  },
  {
   "cell_type": "code",
   "execution_count": 42,
   "id": "636eadc3",
   "metadata": {},
   "outputs": [],
   "source": [
    "# create a new string to contain the stripped version of our string\n",
    "new_sentence = sentence.strip(\"This is\")"
   ]
  },
  {
   "cell_type": "code",
   "execution_count": 43,
   "id": "6b0e698f",
   "metadata": {},
   "outputs": [
    {
     "data": {
      "text/plain": [
       "'INFO 615.'"
      ]
     },
     "execution_count": 43,
     "metadata": {},
     "output_type": "execute_result"
    }
   ],
   "source": [
    "new_sentence"
   ]
  },
  {
   "cell_type": "code",
   "execution_count": 44,
   "id": "c55e27bf",
   "metadata": {},
   "outputs": [
    {
     "data": {
      "text/plain": [
       "'This is'"
      ]
     },
     "execution_count": 44,
     "metadata": {},
     "output_type": "execute_result"
    }
   ],
   "source": [
    "# you can create a string variable and pass it into the strip method as an argument\n",
    "to_strip = \"INFO 615.\"\n",
    "sentence.strip(to_strip)"
   ]
  },
  {
   "cell_type": "markdown",
   "id": "1312455a",
   "metadata": {},
   "source": [
    "### `replace()` method"
   ]
  },
  {
   "cell_type": "markdown",
   "id": "183b353d",
   "metadata": {},
   "source": [
    "`replace()` returns a string where a specified value is replaced with a specified value"
   ]
  },
  {
   "cell_type": "code",
   "execution_count": 45,
   "id": "5508c473",
   "metadata": {},
   "outputs": [
    {
     "data": {
      "text/plain": [
       "'ThXX XX INFO 615.'"
      ]
     },
     "execution_count": 45,
     "metadata": {},
     "output_type": "execute_result"
    }
   ],
   "source": [
    "sentence.replace(\"is\", \"XX\")"
   ]
  },
  {
   "cell_type": "markdown",
   "id": "d0a142e2",
   "metadata": {},
   "source": [
    "If there are multple matching values, they will all be replaced."
   ]
  },
  {
   "cell_type": "code",
   "execution_count": 46,
   "id": "3ae3cd62",
   "metadata": {},
   "outputs": [
    {
     "data": {
      "text/plain": [
       "'Thi$$ i$$ INFO 615.'"
      ]
     },
     "execution_count": 46,
     "metadata": {},
     "output_type": "execute_result"
    }
   ],
   "source": [
    "sentence.replace(\"s\", \"$$\")"
   ]
  },
  {
   "cell_type": "markdown",
   "id": "fd536478",
   "metadata": {},
   "source": [
    "### `split()` method"
   ]
  },
  {
   "cell_type": "markdown",
   "id": "0937ffdf",
   "metadata": {},
   "source": [
    "Use `split()` to break a string into chunks (sometimes called \"tokens\")."
   ]
  },
  {
   "cell_type": "code",
   "execution_count": 47,
   "id": "b66e6f75",
   "metadata": {},
   "outputs": [
    {
     "data": {
      "text/plain": [
       "['This', 'is', 'INFO', '615.']"
      ]
     },
     "execution_count": 47,
     "metadata": {},
     "output_type": "execute_result"
    }
   ],
   "source": [
    "sentence.split()"
   ]
  },
  {
   "cell_type": "markdown",
   "id": "ffa4b8f8",
   "metadata": {},
   "source": [
    "By default, `split()` breaks up a string based on spaces, but you can pass other substrings to split on."
   ]
  },
  {
   "cell_type": "code",
   "execution_count": 48,
   "id": "6c678b52",
   "metadata": {},
   "outputs": [
    {
     "data": {
      "text/plain": [
       "['Th', 's ', 's INFO 615.']"
      ]
     },
     "execution_count": 48,
     "metadata": {},
     "output_type": "execute_result"
    }
   ],
   "source": [
    "sentence.split(\"i\")"
   ]
  },
  {
   "cell_type": "code",
   "execution_count": 49,
   "id": "9e7b0254",
   "metadata": {},
   "outputs": [
    {
     "data": {
      "text/plain": [
       "['This is INFO 615.']"
      ]
     },
     "execution_count": 49,
     "metadata": {},
     "output_type": "execute_result"
    }
   ],
   "source": [
    "sentence.split(\"-\")"
   ]
  },
  {
   "cell_type": "markdown",
   "id": "5a6c3ee1",
   "metadata": {},
   "source": [
    "### `join()` method"
   ]
  },
  {
   "cell_type": "markdown",
   "id": "2c270ca4",
   "metadata": {},
   "source": [
    "Use the string join method to turn a list into a string."
   ]
  },
  {
   "cell_type": "code",
   "execution_count": 50,
   "id": "723ea5a2",
   "metadata": {},
   "outputs": [
    {
     "data": {
      "text/plain": [
       "['This', 'is', 'INFO', '615.']"
      ]
     },
     "execution_count": 50,
     "metadata": {},
     "output_type": "execute_result"
    }
   ],
   "source": [
    "sentence.split()"
   ]
  },
  {
   "cell_type": "code",
   "execution_count": 51,
   "id": "6627d535",
   "metadata": {},
   "outputs": [
    {
     "data": {
      "text/plain": [
       "'This ^-_-^ is ^-_-^ INFO ^-_-^ 615.'"
      ]
     },
     "execution_count": 51,
     "metadata": {},
     "output_type": "execute_result"
    }
   ],
   "source": [
    "join_string = ' ^-_-^ '\n",
    "join_string.join(sentence.split())"
   ]
  },
  {
   "cell_type": "markdown",
   "id": "ea97c465",
   "metadata": {},
   "source": [
    "### `find()` method"
   ]
  },
  {
   "cell_type": "markdown",
   "id": "19fe2435",
   "metadata": {},
   "source": [
    "Use the find method to return the index of the first instance of some substring within another string."
   ]
  },
  {
   "cell_type": "code",
   "execution_count": 52,
   "id": "0d802608",
   "metadata": {},
   "outputs": [
    {
     "data": {
      "text/plain": [
       "8"
      ]
     },
     "execution_count": 52,
     "metadata": {},
     "output_type": "execute_result"
    }
   ],
   "source": [
    "sentence.find(\"INFO\")"
   ]
  },
  {
   "cell_type": "markdown",
   "id": "f35f58d3",
   "metadata": {
    "toc-hr-collapsed": true
   },
   "source": [
    "# Data Types"
   ]
  },
  {
   "cell_type": "markdown",
   "id": "7b21d4ea",
   "metadata": {},
   "source": [
    "There are four basic types of data in Python:\n",
    "\n",
    "- Numeric\n",
    "    - Integers (`int`)\n",
    "    - Decimals (`float`)\n",
    "- Text\n",
    "    - Strings (`str`)\n",
    "    - Must be surrounded by either single quotes or double quotes, i.e. “hello”\n",
    "- Boolean (`bool`)\n",
    "    - Booleans represent one of two values: True or False\n",
    "\n",
    "There are other data types in Python, but we will focus on these three first."
   ]
  },
  {
   "cell_type": "markdown",
   "id": "0b1325c3",
   "metadata": {},
   "source": [
    "## `Type()` Function"
   ]
  },
  {
   "cell_type": "markdown",
   "id": "fdba2ade",
   "metadata": {},
   "source": [
    "You can see what data type a variable is by using the `type()` function."
   ]
  },
  {
   "cell_type": "code",
   "execution_count": 53,
   "id": "c983f07a",
   "metadata": {},
   "outputs": [
    {
     "data": {
      "text/plain": [
       "int"
      ]
     },
     "execution_count": 53,
     "metadata": {},
     "output_type": "execute_result"
    }
   ],
   "source": [
    "type(3)"
   ]
  },
  {
   "cell_type": "code",
   "execution_count": 54,
   "id": "cb2cdd3f",
   "metadata": {},
   "outputs": [
    {
     "data": {
      "text/plain": [
       "float"
      ]
     },
     "execution_count": 54,
     "metadata": {},
     "output_type": "execute_result"
    }
   ],
   "source": [
    "type(3.0)"
   ]
  },
  {
   "cell_type": "code",
   "execution_count": 55,
   "id": "ac28567a",
   "metadata": {},
   "outputs": [
    {
     "data": {
      "text/plain": [
       "str"
      ]
     },
     "execution_count": 55,
     "metadata": {},
     "output_type": "execute_result"
    }
   ],
   "source": [
    "type(\"3.0\")"
   ]
  },
  {
   "cell_type": "code",
   "execution_count": 56,
   "id": "1d48aec8",
   "metadata": {},
   "outputs": [
    {
     "data": {
      "text/plain": [
       "bool"
      ]
     },
     "execution_count": 56,
     "metadata": {},
     "output_type": "execute_result"
    }
   ],
   "source": [
    "type(True)"
   ]
  },
  {
   "cell_type": "markdown",
   "id": "f3dc08ca",
   "metadata": {},
   "source": [
    "## Casting"
   ]
  },
  {
   "cell_type": "markdown",
   "id": "601aff6d",
   "metadata": {},
   "source": [
    "Sometimes you will need to convert a variable from one type to another. This is called ✨ casting ✨"
   ]
  },
  {
   "cell_type": "markdown",
   "id": "40845c35",
   "metadata": {},
   "source": [
    "Casting in python is done using constructor functions:\n",
    "\n",
    "- `int()` constructs an integer number from an integer, a float (by removing all decimals), or a string (providing the string represents an integer number)\n",
    "- `float()` constructs a float number from an integer, a float, or a string (if the string represents a float or an integer)\n",
    "- `str()` constructs a string from a variety of data types, including strings, integers and floats\n",
    "\n"
   ]
  },
  {
   "cell_type": "markdown",
   "id": "1fcdc68b",
   "metadata": {},
   "source": [
    "Cast a `float` to an `int`."
   ]
  },
  {
   "cell_type": "code",
   "execution_count": 57,
   "id": "cc490972",
   "metadata": {},
   "outputs": [],
   "source": [
    "x = int(2.8)"
   ]
  },
  {
   "cell_type": "code",
   "execution_count": 58,
   "id": "197bb980",
   "metadata": {},
   "outputs": [
    {
     "data": {
      "text/plain": [
       "2"
      ]
     },
     "execution_count": 58,
     "metadata": {},
     "output_type": "execute_result"
    }
   ],
   "source": [
    "x"
   ]
  },
  {
   "cell_type": "markdown",
   "id": "3cb99dcf",
   "metadata": {},
   "source": [
    "Cast a `str` to an `int`."
   ]
  },
  {
   "cell_type": "code",
   "execution_count": 59,
   "id": "04c4d828",
   "metadata": {},
   "outputs": [],
   "source": [
    "x = int(\"3\")"
   ]
  },
  {
   "cell_type": "code",
   "execution_count": 60,
   "id": "25bdce11",
   "metadata": {},
   "outputs": [
    {
     "data": {
      "text/plain": [
       "3"
      ]
     },
     "execution_count": 60,
     "metadata": {},
     "output_type": "execute_result"
    }
   ],
   "source": [
    "x"
   ]
  },
  {
   "cell_type": "markdown",
   "id": "591c3503",
   "metadata": {},
   "source": [
    "Cast an `int` to a `float`."
   ]
  },
  {
   "cell_type": "code",
   "execution_count": 61,
   "id": "801d9558",
   "metadata": {},
   "outputs": [],
   "source": [
    "x = float(3)"
   ]
  },
  {
   "cell_type": "code",
   "execution_count": 62,
   "id": "b760897c",
   "metadata": {},
   "outputs": [
    {
     "data": {
      "text/plain": [
       "3.0"
      ]
     },
     "execution_count": 62,
     "metadata": {},
     "output_type": "execute_result"
    }
   ],
   "source": [
    "x"
   ]
  },
  {
   "cell_type": "markdown",
   "id": "a16348ff",
   "metadata": {
    "toc-hr-collapsed": true
   },
   "source": [
    "# Arithmetic Operators\n",
    "\n",
    "Let's review the basic mathematical operations that we can perform with Python."
   ]
  },
  {
   "cell_type": "code",
   "execution_count": 63,
   "id": "3696a26b",
   "metadata": {},
   "outputs": [
    {
     "data": {
      "text/plain": [
       "4"
      ]
     },
     "execution_count": 63,
     "metadata": {},
     "output_type": "execute_result"
    }
   ],
   "source": [
    "# Add two integers\n",
    "2 + 2"
   ]
  },
  {
   "cell_type": "code",
   "execution_count": 64,
   "id": "111bebbb",
   "metadata": {},
   "outputs": [
    {
     "data": {
      "text/plain": [
       "6"
      ]
     },
     "execution_count": 64,
     "metadata": {},
     "output_type": "execute_result"
    }
   ],
   "source": [
    "# Multiply two integers\n",
    "2 * 3"
   ]
  },
  {
   "cell_type": "code",
   "execution_count": 65,
   "id": "7cbb1d53",
   "metadata": {},
   "outputs": [
    {
     "data": {
      "text/plain": [
       "2.0"
      ]
     },
     "execution_count": 65,
     "metadata": {},
     "output_type": "execute_result"
    }
   ],
   "source": [
    "# Divide two integers\n",
    "10 / 5"
   ]
  },
  {
   "cell_type": "code",
   "execution_count": 66,
   "id": "f4ffe068",
   "metadata": {},
   "outputs": [
    {
     "data": {
      "text/plain": [
       "16"
      ]
     },
     "execution_count": 66,
     "metadata": {},
     "output_type": "execute_result"
    }
   ],
   "source": [
    "# Raise 2 to the 4th power\n",
    "2 ** 4"
   ]
  },
  {
   "cell_type": "code",
   "execution_count": 67,
   "id": "c70d0e81",
   "metadata": {},
   "outputs": [
    {
     "data": {
      "text/plain": [
       "3.0"
      ]
     },
     "execution_count": 67,
     "metadata": {},
     "output_type": "execute_result"
    }
   ],
   "source": [
    "# take the square root of 9 (by raising it to the power of 1/2)\n",
    "9 ** (1 / 2)"
   ]
  },
  {
   "cell_type": "markdown",
   "id": "7d31ed3d",
   "metadata": {},
   "source": [
    "## Incrementation"
   ]
  },
  {
   "cell_type": "markdown",
   "id": "24e1f025",
   "metadata": {},
   "source": [
    "We can increment a variable using the + operator. Increment means to increase a number by another number, usually 1 but not necessarily 1."
   ]
  },
  {
   "cell_type": "code",
   "execution_count": 68,
   "id": "cd10139c",
   "metadata": {},
   "outputs": [],
   "source": [
    "x = 4\n",
    "x = x + 1"
   ]
  },
  {
   "cell_type": "code",
   "execution_count": 69,
   "id": "751d15bd",
   "metadata": {},
   "outputs": [
    {
     "data": {
      "text/plain": [
       "5"
      ]
     },
     "execution_count": 69,
     "metadata": {},
     "output_type": "execute_result"
    }
   ],
   "source": [
    "x"
   ]
  },
  {
   "cell_type": "code",
   "execution_count": 70,
   "id": "b7a1a42c",
   "metadata": {},
   "outputs": [],
   "source": [
    "x = x + 1"
   ]
  },
  {
   "cell_type": "code",
   "execution_count": 71,
   "id": "fc9b4b31",
   "metadata": {},
   "outputs": [
    {
     "data": {
      "text/plain": [
       "6"
      ]
     },
     "execution_count": 71,
     "metadata": {},
     "output_type": "execute_result"
    }
   ],
   "source": [
    "x"
   ]
  },
  {
   "cell_type": "markdown",
   "id": "c0e01fbe",
   "metadata": {},
   "source": [
    "We can accomplish the same thing (incrementation) using `+=` operator, which is a bit cleaner."
   ]
  },
  {
   "cell_type": "code",
   "execution_count": 72,
   "id": "674d9d91",
   "metadata": {},
   "outputs": [],
   "source": [
    "x = 4\n",
    "x += 1"
   ]
  },
  {
   "cell_type": "code",
   "execution_count": 73,
   "id": "f7dbee8b",
   "metadata": {},
   "outputs": [
    {
     "data": {
      "text/plain": [
       "5"
      ]
     },
     "execution_count": 73,
     "metadata": {},
     "output_type": "execute_result"
    }
   ],
   "source": [
    "x"
   ]
  },
  {
   "cell_type": "code",
   "execution_count": 74,
   "id": "c5362738",
   "metadata": {},
   "outputs": [],
   "source": [
    "x += 1"
   ]
  },
  {
   "cell_type": "code",
   "execution_count": 75,
   "id": "062e4b7d",
   "metadata": {},
   "outputs": [
    {
     "data": {
      "text/plain": [
       "6"
      ]
     },
     "execution_count": 75,
     "metadata": {},
     "output_type": "execute_result"
    }
   ],
   "source": [
    "x"
   ]
  },
  {
   "cell_type": "markdown",
   "id": "8719d02a",
   "metadata": {},
   "source": [
    "## Modulo Operator"
   ]
  },
  {
   "cell_type": "markdown",
   "id": "7b52aa53",
   "metadata": {},
   "source": [
    "The `%` symbol in Python is called the Modulo Operator. The Modulo returns the remainder of a division problem"
   ]
  },
  {
   "cell_type": "markdown",
   "id": "7b3c2644",
   "metadata": {},
   "source": [
    "Let's try it. 12 is evenly divisible by 3, so 12 % 3 equals zero."
   ]
  },
  {
   "cell_type": "code",
   "execution_count": 76,
   "id": "8972e8b6",
   "metadata": {},
   "outputs": [
    {
     "data": {
      "text/plain": [
       "0"
      ]
     },
     "execution_count": 76,
     "metadata": {},
     "output_type": "execute_result"
    }
   ],
   "source": [
    "12 % 3"
   ]
  },
  {
   "cell_type": "markdown",
   "id": "b4dd380c",
   "metadata": {},
   "source": [
    "10, on the other hand, is not evenly divisible by 3. 9 is evenly divisible by 3, and then there is 1 remaining to get to 10. This is why 10 % 3 returns a value of 1."
   ]
  },
  {
   "cell_type": "code",
   "execution_count": 77,
   "id": "6046225e",
   "metadata": {},
   "outputs": [
    {
     "data": {
      "text/plain": [
       "1"
      ]
     },
     "execution_count": 77,
     "metadata": {},
     "output_type": "execute_result"
    }
   ],
   "source": [
    "10 % 3"
   ]
  },
  {
   "cell_type": "markdown",
   "id": "b1ecf558",
   "metadata": {},
   "source": [
    "As expected, 11 % 3 returns a remainder of 2."
   ]
  },
  {
   "cell_type": "code",
   "execution_count": 78,
   "id": "cfa82df2",
   "metadata": {},
   "outputs": [
    {
     "data": {
      "text/plain": [
       "2"
      ]
     },
     "execution_count": 78,
     "metadata": {},
     "output_type": "execute_result"
    }
   ],
   "source": [
    "11 % 3"
   ]
  },
  {
   "cell_type": "markdown",
   "id": "9bcd8340",
   "metadata": {},
   "source": [
    "Thus, the `%` operator can be used to determine if one number evenly divides into another. When the remainder of a division is zero, that implies one number must be evenly divisible by the other."
   ]
  },
  {
   "cell_type": "markdown",
   "id": "d6685183",
   "metadata": {},
   "source": [
    "## `Floor()` Function"
   ]
  },
  {
   "cell_type": "code",
   "execution_count": 79,
   "id": "864c85c0",
   "metadata": {},
   "outputs": [],
   "source": [
    "from math import floor"
   ]
  },
  {
   "cell_type": "markdown",
   "id": "31fe0867",
   "metadata": {},
   "source": [
    "The floor of a number is the largest integer less than or equal to the number. This can be thought of as “rounding down”."
   ]
  },
  {
   "cell_type": "code",
   "execution_count": 80,
   "id": "2f0504a6",
   "metadata": {},
   "outputs": [
    {
     "data": {
      "text/plain": [
       "3"
      ]
     },
     "execution_count": 80,
     "metadata": {},
     "output_type": "execute_result"
    }
   ],
   "source": [
    "floor(3.4)"
   ]
  },
  {
   "cell_type": "code",
   "execution_count": 81,
   "id": "09c1691a",
   "metadata": {},
   "outputs": [
    {
     "data": {
      "text/plain": [
       "3"
      ]
     },
     "execution_count": 81,
     "metadata": {},
     "output_type": "execute_result"
    }
   ],
   "source": [
    "floor(3.9)"
   ]
  },
  {
   "cell_type": "code",
   "execution_count": 82,
   "id": "6bbaaa69",
   "metadata": {},
   "outputs": [
    {
     "data": {
      "text/plain": [
       "3"
      ]
     },
     "execution_count": 82,
     "metadata": {},
     "output_type": "execute_result"
    }
   ],
   "source": [
    "floor(3)"
   ]
  },
  {
   "cell_type": "markdown",
   "id": "92e51cd2",
   "metadata": {},
   "source": [
    "## Floor Division"
   ]
  },
  {
   "cell_type": "markdown",
   "id": "5599ea91",
   "metadata": {},
   "source": [
    "Floor division is an operation in Python that divides two numbers and rounds the result down to the nearest integer\n",
    "We can perform floor division in Python with the double `//` operator. "
   ]
  },
  {
   "cell_type": "code",
   "execution_count": 83,
   "id": "18615a6b",
   "metadata": {},
   "outputs": [
    {
     "data": {
      "text/plain": [
       "25"
      ]
     },
     "execution_count": 83,
     "metadata": {},
     "output_type": "execute_result"
    }
   ],
   "source": [
    "101 // 4"
   ]
  },
  {
   "cell_type": "markdown",
   "id": "5106e5fd",
   "metadata": {},
   "source": [
    "Note how Floor Division is related to the modulo operator, which returns the remainder of 1."
   ]
  },
  {
   "cell_type": "code",
   "execution_count": 84,
   "id": "3cbf7e51",
   "metadata": {},
   "outputs": [
    {
     "data": {
      "text/plain": [
       "1"
      ]
     },
     "execution_count": 84,
     "metadata": {},
     "output_type": "execute_result"
    }
   ],
   "source": [
    "101 % 25"
   ]
  },
  {
   "cell_type": "markdown",
   "id": "7ac5aa6a",
   "metadata": {},
   "source": [
    "## Practice"
   ]
  },
  {
   "cell_type": "code",
   "execution_count": 85,
   "id": "d728a27c",
   "metadata": {},
   "outputs": [],
   "source": [
    "# Now you try\n",
    "# In a single line of code, divide the sum of ninety plus seventy by the product of twelve and eleven\n",
    "# Order of operations (PEMDAS) matters\n",
    "# Result should be: 1.21212121..."
   ]
  },
  {
   "cell_type": "markdown",
   "id": "a649e522",
   "metadata": {
    "toc-hr-collapsed": true
   },
   "source": [
    "# Comparison Operators"
   ]
  },
  {
   "cell_type": "markdown",
   "id": "72deaa7d",
   "metadata": {},
   "source": [
    "## Equality (`==`)"
   ]
  },
  {
   "cell_type": "markdown",
   "id": "6d383d45",
   "metadata": {},
   "source": [
    "You can check if two variables are equal using the double equal sign `==`."
   ]
  },
  {
   "cell_type": "code",
   "execution_count": 86,
   "id": "92476f80",
   "metadata": {},
   "outputs": [
    {
     "data": {
      "text/plain": [
       "False"
      ]
     },
     "execution_count": 86,
     "metadata": {},
     "output_type": "execute_result"
    }
   ],
   "source": [
    "a = 5\n",
    "b = 10\n",
    "\n",
    "a == b"
   ]
  },
  {
   "cell_type": "markdown",
   "id": "9eb8ac3d",
   "metadata": {},
   "source": [
    "## Inequality (`!=`)"
   ]
  },
  {
   "cell_type": "markdown",
   "id": "db1176fd",
   "metadata": {},
   "source": [
    "Conversely, you can check if two variables are *not* equal using the `!=` operator."
   ]
  },
  {
   "cell_type": "code",
   "execution_count": 87,
   "id": "c0da7962",
   "metadata": {},
   "outputs": [
    {
     "data": {
      "text/plain": [
       "True"
      ]
     },
     "execution_count": 87,
     "metadata": {},
     "output_type": "execute_result"
    }
   ],
   "source": [
    "a = 5\n",
    "b = 10\n",
    "\n",
    "a != b"
   ]
  },
  {
   "cell_type": "markdown",
   "id": "40bc54b5",
   "metadata": {},
   "source": [
    "## Greater Than (>)"
   ]
  },
  {
   "cell_type": "code",
   "execution_count": 88,
   "id": "6e1cd112",
   "metadata": {},
   "outputs": [
    {
     "data": {
      "text/plain": [
       "False"
      ]
     },
     "execution_count": 88,
     "metadata": {},
     "output_type": "execute_result"
    }
   ],
   "source": [
    "a = 5\n",
    "b = 10\n",
    "\n",
    "a > b"
   ]
  },
  {
   "cell_type": "markdown",
   "id": "e3ee1405",
   "metadata": {},
   "source": [
    "## Less Than (<)"
   ]
  },
  {
   "cell_type": "code",
   "execution_count": 89,
   "id": "71e9d4c3",
   "metadata": {},
   "outputs": [
    {
     "data": {
      "text/plain": [
       "True"
      ]
     },
     "execution_count": 89,
     "metadata": {},
     "output_type": "execute_result"
    }
   ],
   "source": [
    "a = 5\n",
    "b = 10\n",
    "\n",
    "a < b"
   ]
  },
  {
   "cell_type": "markdown",
   "id": "dde73c83",
   "metadata": {},
   "source": [
    "## Greater Than or Equal To (>=)"
   ]
  },
  {
   "cell_type": "code",
   "execution_count": 90,
   "id": "3664a45c",
   "metadata": {},
   "outputs": [
    {
     "data": {
      "text/plain": [
       "False"
      ]
     },
     "execution_count": 90,
     "metadata": {},
     "output_type": "execute_result"
    }
   ],
   "source": [
    "a = 5\n",
    "b = 10\n",
    "\n",
    "a >= b"
   ]
  },
  {
   "cell_type": "markdown",
   "id": "e7ceab8a",
   "metadata": {},
   "source": [
    "## Less Than or Equal To (<=)"
   ]
  },
  {
   "cell_type": "code",
   "execution_count": 91,
   "id": "1991eb1d",
   "metadata": {},
   "outputs": [
    {
     "data": {
      "text/plain": [
       "True"
      ]
     },
     "execution_count": 91,
     "metadata": {},
     "output_type": "execute_result"
    }
   ],
   "source": [
    "a = 5\n",
    "b = 10\n",
    "\n",
    "a <= b"
   ]
  },
  {
   "cell_type": "markdown",
   "id": "5075598d",
   "metadata": {
    "tags": [],
    "toc-hr-collapsed": true
   },
   "source": [
    "# Logical Operators"
   ]
  },
  {
   "cell_type": "markdown",
   "id": "89cc2fa5",
   "metadata": {},
   "source": [
    "Logical operators can used to combine conditional statements."
   ]
  },
  {
   "cell_type": "markdown",
   "id": "3312c235",
   "metadata": {},
   "source": [
    "## `and`\n",
    "\n",
    "`and` returns `True` if both statements are `True`."
   ]
  },
  {
   "cell_type": "code",
   "execution_count": 92,
   "id": "94232f44",
   "metadata": {},
   "outputs": [
    {
     "data": {
      "text/plain": [
       "True"
      ]
     },
     "execution_count": 92,
     "metadata": {},
     "output_type": "execute_result"
    }
   ],
   "source": [
    "x = 3\n",
    "\n",
    "x < 5 and x < 10"
   ]
  },
  {
   "cell_type": "markdown",
   "id": "9d3cc1fe",
   "metadata": {},
   "source": [
    "## `or`"
   ]
  },
  {
   "cell_type": "markdown",
   "id": "ee9c73f9",
   "metadata": {},
   "source": [
    "`or` returns `True` if at least one statement is `True`."
   ]
  },
  {
   "cell_type": "code",
   "execution_count": 93,
   "id": "4cb4ab0a",
   "metadata": {},
   "outputs": [
    {
     "data": {
      "text/plain": [
       "True"
      ]
     },
     "execution_count": 93,
     "metadata": {},
     "output_type": "execute_result"
    }
   ],
   "source": [
    "x < 2 or x < 5"
   ]
  },
  {
   "cell_type": "markdown",
   "id": "0490cbb8",
   "metadata": {},
   "source": [
    "`not` reverses the result, turning `True` to `False` or `False` to `True`."
   ]
  },
  {
   "cell_type": "code",
   "execution_count": 94,
   "id": "fa986dee",
   "metadata": {},
   "outputs": [
    {
     "data": {
      "text/plain": [
       "False"
      ]
     },
     "execution_count": 94,
     "metadata": {},
     "output_type": "execute_result"
    }
   ],
   "source": [
    "not(x < 5 and x < 10)"
   ]
  },
  {
   "cell_type": "code",
   "execution_count": 95,
   "id": "5683af1f",
   "metadata": {},
   "outputs": [
    {
     "data": {
      "text/plain": [
       "False"
      ]
     },
     "execution_count": 95,
     "metadata": {},
     "output_type": "execute_result"
    }
   ],
   "source": [
    "not(x < 2 or x < 5)"
   ]
  },
  {
   "cell_type": "markdown",
   "id": "1053993b",
   "metadata": {},
   "source": [
    "# Membership Operators"
   ]
  },
  {
   "cell_type": "markdown",
   "id": "dd1474bd",
   "metadata": {},
   "source": [
    "Membership operators are used to test if a variable is contained within another variable."
   ]
  },
  {
   "cell_type": "code",
   "execution_count": 96,
   "id": "7e279b99",
   "metadata": {},
   "outputs": [
    {
     "data": {
      "text/plain": [
       "True"
      ]
     },
     "execution_count": 96,
     "metadata": {},
     "output_type": "execute_result"
    }
   ],
   "source": [
    "'h' in 'hello'"
   ]
  },
  {
   "cell_type": "code",
   "execution_count": 97,
   "id": "57a69724",
   "metadata": {},
   "outputs": [
    {
     "data": {
      "text/plain": [
       "False"
      ]
     },
     "execution_count": 97,
     "metadata": {},
     "output_type": "execute_result"
    }
   ],
   "source": [
    "'h' not in 'hello'"
   ]
  },
  {
   "cell_type": "markdown",
   "id": "17dba97b",
   "metadata": {},
   "source": [
    "As we will see in the next section, membership operators are particularly relevant with data structures like `lists` and `dictionaries`."
   ]
  },
  {
   "cell_type": "markdown",
   "id": "52e3de66",
   "metadata": {
    "toc-hr-collapsed": true
   },
   "source": [
    "# Data Structures"
   ]
  },
  {
   "cell_type": "markdown",
   "id": "2c59d0a2",
   "metadata": {
    "toc-hr-collapsed": true
   },
   "source": [
    "## Lists"
   ]
  },
  {
   "cell_type": "markdown",
   "id": "9708a08f",
   "metadata": {},
   "source": [
    "Lists are used to store multiple items in a single variable.\n",
    "\n",
    "Lists are created using square brackets."
   ]
  },
  {
   "cell_type": "markdown",
   "id": "78ae1bca",
   "metadata": {},
   "source": [
    "### Properties of Lists\n",
    "\n",
    "- Ordered\n",
    "    - Lists have a defined order, and that order will not change (unless we change it)\n",
    "    - If you add new items to a list, the new items will be placed at the end of the list\n",
    "- Indexed\n",
    "    - The first item has index [0], the second item has index [1], etc.\n",
    "- Changeable\n",
    "    - We can change, add, and remove items in a list after it has been created\n",
    "- Allow duplicates\n",
    "    - Since lists are indexed, lists can have multiple items with the same value\n"
   ]
  },
  {
   "cell_type": "markdown",
   "id": "52a702a6",
   "metadata": {},
   "source": [
    "### Create a list"
   ]
  },
  {
   "cell_type": "markdown",
   "id": "2af63dfb",
   "metadata": {},
   "source": [
    "Create a list named `food`."
   ]
  },
  {
   "cell_type": "code",
   "execution_count": 98,
   "id": "9f3be579",
   "metadata": {},
   "outputs": [],
   "source": [
    "food = ['eggs', 'bananas', 'spinach', 'milk', 'bread']"
   ]
  },
  {
   "cell_type": "code",
   "execution_count": 99,
   "id": "195fec7b",
   "metadata": {},
   "outputs": [
    {
     "data": {
      "text/plain": [
       "list"
      ]
     },
     "execution_count": 99,
     "metadata": {},
     "output_type": "execute_result"
    }
   ],
   "source": [
    "type(food)"
   ]
  },
  {
   "cell_type": "markdown",
   "id": "8235deed",
   "metadata": {},
   "source": [
    "### Accessing items in list"
   ]
  },
  {
   "cell_type": "markdown",
   "id": "26222316",
   "metadata": {},
   "source": [
    "Select the first item from the list (in position zero)."
   ]
  },
  {
   "cell_type": "code",
   "execution_count": 100,
   "id": "1ee54c8e",
   "metadata": {},
   "outputs": [
    {
     "data": {
      "text/plain": [
       "'eggs'"
      ]
     },
     "execution_count": 100,
     "metadata": {},
     "output_type": "execute_result"
    }
   ],
   "source": [
    "food[0]"
   ]
  },
  {
   "cell_type": "markdown",
   "id": "51079a08",
   "metadata": {},
   "source": [
    "Select the second item from the list."
   ]
  },
  {
   "cell_type": "code",
   "execution_count": 101,
   "id": "48061ff2",
   "metadata": {},
   "outputs": [
    {
     "data": {
      "text/plain": [
       "'bananas'"
      ]
     },
     "execution_count": 101,
     "metadata": {},
     "output_type": "execute_result"
    }
   ],
   "source": [
    "food[1]"
   ]
  },
  {
   "cell_type": "markdown",
   "id": "f4d98eb9",
   "metadata": {},
   "source": [
    "Select the third item from the list."
   ]
  },
  {
   "cell_type": "code",
   "execution_count": 102,
   "id": "975c37dc",
   "metadata": {},
   "outputs": [
    {
     "data": {
      "text/plain": [
       "'spinach'"
      ]
     },
     "execution_count": 102,
     "metadata": {},
     "output_type": "execute_result"
    }
   ],
   "source": [
    "food[2]"
   ]
  },
  {
   "cell_type": "markdown",
   "id": "b625017e",
   "metadata": {},
   "source": [
    "Select the last item from the list."
   ]
  },
  {
   "cell_type": "markdown",
   "id": "4746aef8",
   "metadata": {},
   "source": [
    "### Using negative indexing"
   ]
  },
  {
   "cell_type": "markdown",
   "id": "df99f28a",
   "metadata": {},
   "source": [
    "Select the last item in the list using `-1`"
   ]
  },
  {
   "cell_type": "code",
   "execution_count": 103,
   "id": "24bbab55",
   "metadata": {},
   "outputs": [
    {
     "data": {
      "text/plain": [
       "'bread'"
      ]
     },
     "execution_count": 103,
     "metadata": {},
     "output_type": "execute_result"
    }
   ],
   "source": [
    "food[-1]"
   ]
  },
  {
   "cell_type": "markdown",
   "id": "3d1408e6",
   "metadata": {},
   "source": [
    "Select the second to last item from the list."
   ]
  },
  {
   "cell_type": "code",
   "execution_count": 104,
   "id": "fab981d8",
   "metadata": {},
   "outputs": [
    {
     "data": {
      "text/plain": [
       "'milk'"
      ]
     },
     "execution_count": 104,
     "metadata": {},
     "output_type": "execute_result"
    }
   ],
   "source": [
    "food[-2]"
   ]
  },
  {
   "cell_type": "markdown",
   "id": "bc7b85ba",
   "metadata": {},
   "source": [
    "### List Slicing\n",
    "\n",
    "You can return a subset or “slice” of a list by specifying where to start and where to end the range"
   ]
  },
  {
   "cell_type": "markdown",
   "id": "59fa4fc6",
   "metadata": {},
   "source": [
    "Select the first three items from the list."
   ]
  },
  {
   "cell_type": "code",
   "execution_count": 105,
   "id": "fc6cb9a7",
   "metadata": {},
   "outputs": [
    {
     "data": {
      "text/plain": [
       "['eggs', 'bananas', 'spinach']"
      ]
     },
     "execution_count": 105,
     "metadata": {},
     "output_type": "execute_result"
    }
   ],
   "source": [
    "food[:3]"
   ]
  },
  {
   "cell_type": "markdown",
   "id": "194e837f",
   "metadata": {},
   "source": [
    "Select the last two items from the list."
   ]
  },
  {
   "cell_type": "code",
   "execution_count": 106,
   "id": "5ddb0b78",
   "metadata": {},
   "outputs": [
    {
     "data": {
      "text/plain": [
       "['milk', 'bread']"
      ]
     },
     "execution_count": 106,
     "metadata": {},
     "output_type": "execute_result"
    }
   ],
   "source": [
    "food[-2:]"
   ]
  },
  {
   "cell_type": "markdown",
   "id": "4d2d727a",
   "metadata": {},
   "source": [
    "Select the middle of the list, excluding the first and last item."
   ]
  },
  {
   "cell_type": "code",
   "execution_count": 107,
   "id": "c5fcc2da",
   "metadata": {},
   "outputs": [
    {
     "data": {
      "text/plain": [
       "['bananas', 'spinach', 'milk']"
      ]
     },
     "execution_count": 107,
     "metadata": {},
     "output_type": "execute_result"
    }
   ],
   "source": [
    "food[1:-1]"
   ]
  },
  {
   "cell_type": "markdown",
   "id": "c421719a",
   "metadata": {},
   "source": [
    "### Changing Items in a List"
   ]
  },
  {
   "cell_type": "markdown",
   "id": "88ae45fc",
   "metadata": {},
   "source": [
    "To change the value of a specific item, refer to the index number.\n",
    "\n",
    "Replace the first list item with something else:"
   ]
  },
  {
   "cell_type": "code",
   "execution_count": 108,
   "id": "f3a470b3",
   "metadata": {},
   "outputs": [],
   "source": [
    "food[0] = 'onion'"
   ]
  },
  {
   "cell_type": "code",
   "execution_count": 109,
   "id": "42fc0410",
   "metadata": {},
   "outputs": [
    {
     "data": {
      "text/plain": [
       "['onion', 'bananas', 'spinach', 'milk', 'bread']"
      ]
     },
     "execution_count": 109,
     "metadata": {},
     "output_type": "execute_result"
    }
   ],
   "source": [
    "food"
   ]
  },
  {
   "cell_type": "markdown",
   "id": "0e8a85b7",
   "metadata": {},
   "source": [
    "### Adding Items to a List"
   ]
  },
  {
   "cell_type": "markdown",
   "id": "17ad0a8f",
   "metadata": {},
   "source": [
    "You can add an item to the end of a list with `.append()`"
   ]
  },
  {
   "cell_type": "code",
   "execution_count": 110,
   "id": "779aa064",
   "metadata": {},
   "outputs": [],
   "source": [
    "food.append(\"cheese\")"
   ]
  },
  {
   "cell_type": "code",
   "execution_count": 111,
   "id": "a105a545",
   "metadata": {},
   "outputs": [
    {
     "data": {
      "text/plain": [
       "['onion', 'bananas', 'spinach', 'milk', 'bread', 'cheese']"
      ]
     },
     "execution_count": 111,
     "metadata": {},
     "output_type": "execute_result"
    }
   ],
   "source": [
    "food"
   ]
  },
  {
   "cell_type": "markdown",
   "id": "e7e307b4",
   "metadata": {},
   "source": [
    "You can insert an item into a specific position in a list with `.insert()`"
   ]
  },
  {
   "cell_type": "code",
   "execution_count": 112,
   "id": "86a9f5d4",
   "metadata": {},
   "outputs": [],
   "source": [
    "food.insert(1, \"orange\")                                               "
   ]
  },
  {
   "cell_type": "code",
   "execution_count": 113,
   "id": "41877a7a",
   "metadata": {},
   "outputs": [
    {
     "data": {
      "text/plain": [
       "['onion', 'orange', 'bananas', 'spinach', 'milk', 'bread', 'cheese']"
      ]
     },
     "execution_count": 113,
     "metadata": {},
     "output_type": "execute_result"
    }
   ],
   "source": [
    "food"
   ]
  },
  {
   "cell_type": "markdown",
   "id": "b225d6dc",
   "metadata": {},
   "source": [
    "### Removing Items from a list"
   ]
  },
  {
   "cell_type": "markdown",
   "id": "3641973f",
   "metadata": {},
   "source": [
    "There are a few options for removing items from a list."
   ]
  },
  {
   "cell_type": "markdown",
   "id": "c90aacbe",
   "metadata": {},
   "source": [
    "The `remove()` method removes an item by its specified content."
   ]
  },
  {
   "cell_type": "code",
   "execution_count": 114,
   "id": "b9ab805c",
   "metadata": {},
   "outputs": [],
   "source": [
    "food.remove('onion')"
   ]
  },
  {
   "cell_type": "code",
   "execution_count": 115,
   "id": "fbcff3f9",
   "metadata": {},
   "outputs": [
    {
     "data": {
      "text/plain": [
       "['orange', 'bananas', 'spinach', 'milk', 'bread', 'cheese']"
      ]
     },
     "execution_count": 115,
     "metadata": {},
     "output_type": "execute_result"
    }
   ],
   "source": [
    "food"
   ]
  },
  {
   "cell_type": "markdown",
   "id": "9862b25a",
   "metadata": {},
   "source": [
    "The `pop()` method removes an item by its index position. It also returns the item that was removed."
   ]
  },
  {
   "cell_type": "code",
   "execution_count": 116,
   "id": "a7e51b00",
   "metadata": {},
   "outputs": [
    {
     "data": {
      "text/plain": [
       "'spinach'"
      ]
     },
     "execution_count": 116,
     "metadata": {},
     "output_type": "execute_result"
    }
   ],
   "source": [
    "food.pop(2)"
   ]
  },
  {
   "cell_type": "code",
   "execution_count": 117,
   "id": "4bd8c127",
   "metadata": {},
   "outputs": [
    {
     "data": {
      "text/plain": [
       "['orange', 'bananas', 'milk', 'bread', 'cheese']"
      ]
     },
     "execution_count": 117,
     "metadata": {},
     "output_type": "execute_result"
    }
   ],
   "source": [
    "food"
   ]
  },
  {
   "cell_type": "markdown",
   "id": "8bfee5ae",
   "metadata": {},
   "source": [
    "If you don't specify the index position, `pop()` will remove the last item by default."
   ]
  },
  {
   "cell_type": "code",
   "execution_count": 118,
   "id": "274047e4",
   "metadata": {},
   "outputs": [
    {
     "data": {
      "text/plain": [
       "'cheese'"
      ]
     },
     "execution_count": 118,
     "metadata": {},
     "output_type": "execute_result"
    }
   ],
   "source": [
    "food.pop()"
   ]
  },
  {
   "cell_type": "code",
   "execution_count": 119,
   "id": "c5bec977",
   "metadata": {},
   "outputs": [
    {
     "data": {
      "text/plain": [
       "['orange', 'bananas', 'milk', 'bread']"
      ]
     },
     "execution_count": 119,
     "metadata": {},
     "output_type": "execute_result"
    }
   ],
   "source": [
    "food"
   ]
  },
  {
   "cell_type": "markdown",
   "id": "40bc6486",
   "metadata": {},
   "source": [
    "Lastly, you can remove an item by its index position using `del` function. Unlike `pop()`, `del` does not return the item that was removed."
   ]
  },
  {
   "cell_type": "code",
   "execution_count": 120,
   "id": "daecdcf8",
   "metadata": {},
   "outputs": [],
   "source": [
    "del food[0]"
   ]
  },
  {
   "cell_type": "code",
   "execution_count": 121,
   "id": "a039b271",
   "metadata": {},
   "outputs": [
    {
     "data": {
      "text/plain": [
       "['bananas', 'milk', 'bread']"
      ]
     },
     "execution_count": 121,
     "metadata": {},
     "output_type": "execute_result"
    }
   ],
   "source": [
    "food"
   ]
  },
  {
   "cell_type": "markdown",
   "id": "ae2ea92c",
   "metadata": {},
   "source": [
    "### Sorting a list"
   ]
  },
  {
   "cell_type": "markdown",
   "id": "9a8be3e3",
   "metadata": {},
   "source": [
    "You can sort a list with `sort()`.\n",
    "This will sort the list alphanumerically, ascending, by default."
   ]
  },
  {
   "cell_type": "code",
   "execution_count": 122,
   "id": "321718b6",
   "metadata": {},
   "outputs": [],
   "source": [
    "food.sort()"
   ]
  },
  {
   "cell_type": "code",
   "execution_count": 123,
   "id": "2a2aa2f9",
   "metadata": {},
   "outputs": [
    {
     "data": {
      "text/plain": [
       "['bananas', 'bread', 'milk']"
      ]
     },
     "execution_count": 123,
     "metadata": {},
     "output_type": "execute_result"
    }
   ],
   "source": [
    "food"
   ]
  },
  {
   "cell_type": "markdown",
   "id": "0ca98a87",
   "metadata": {},
   "source": [
    "To sort descending, use the keyword argument `reverse = True`."
   ]
  },
  {
   "cell_type": "code",
   "execution_count": 124,
   "id": "3393c1e1",
   "metadata": {},
   "outputs": [],
   "source": [
    "food.sort(reverse = True)"
   ]
  },
  {
   "cell_type": "code",
   "execution_count": 125,
   "id": "ee22c514",
   "metadata": {},
   "outputs": [
    {
     "data": {
      "text/plain": [
       "['milk', 'bread', 'bananas']"
      ]
     },
     "execution_count": 125,
     "metadata": {},
     "output_type": "execute_result"
    }
   ],
   "source": [
    "food"
   ]
  },
  {
   "cell_type": "markdown",
   "id": "dbd8e39f",
   "metadata": {},
   "source": [
    "### Copying a list"
   ]
  },
  {
   "cell_type": "markdown",
   "id": "9c753495",
   "metadata": {},
   "source": [
    "You can make a copy of a list with `.copy()`"
   ]
  },
  {
   "cell_type": "code",
   "execution_count": 126,
   "id": "7a08e3cc",
   "metadata": {},
   "outputs": [],
   "source": [
    "food_copy = food.copy()"
   ]
  },
  {
   "cell_type": "code",
   "execution_count": 127,
   "id": "8b782a04",
   "metadata": {},
   "outputs": [
    {
     "data": {
      "text/plain": [
       "['milk', 'bread', 'bananas']"
      ]
     },
     "execution_count": 127,
     "metadata": {},
     "output_type": "execute_result"
    }
   ],
   "source": [
    "food_copy"
   ]
  },
  {
   "cell_type": "markdown",
   "id": "2f814d8a",
   "metadata": {},
   "source": [
    "Note that these are now two separate variables. Changes made to one will not impact the other."
   ]
  },
  {
   "cell_type": "code",
   "execution_count": 128,
   "id": "14e6c29f",
   "metadata": {},
   "outputs": [],
   "source": [
    "food.sort()"
   ]
  },
  {
   "cell_type": "code",
   "execution_count": 129,
   "id": "ec56b037",
   "metadata": {},
   "outputs": [
    {
     "data": {
      "text/plain": [
       "['bananas', 'bread', 'milk']"
      ]
     },
     "execution_count": 129,
     "metadata": {},
     "output_type": "execute_result"
    }
   ],
   "source": [
    "food"
   ]
  },
  {
   "cell_type": "code",
   "execution_count": 130,
   "id": "94288453",
   "metadata": {},
   "outputs": [
    {
     "data": {
      "text/plain": [
       "['milk', 'bread', 'bananas']"
      ]
     },
     "execution_count": 130,
     "metadata": {},
     "output_type": "execute_result"
    }
   ],
   "source": [
    "food_copy"
   ]
  },
  {
   "cell_type": "markdown",
   "id": "7b98e9c7",
   "metadata": {},
   "source": [
    "### Joining lists\n",
    "\n",
    "You can join (or \"concatenate\") two lists with the `+` operator."
   ]
  },
  {
   "cell_type": "code",
   "execution_count": 131,
   "id": "6e5e7e94",
   "metadata": {},
   "outputs": [],
   "source": [
    "more_food = ['kiwi', 'orange', 'lemon', 'grapefruit']"
   ]
  },
  {
   "cell_type": "code",
   "execution_count": 132,
   "id": "afe773ec",
   "metadata": {},
   "outputs": [
    {
     "data": {
      "text/plain": [
       "['bananas', 'bread', 'milk', 'kiwi', 'orange', 'lemon', 'grapefruit']"
      ]
     },
     "execution_count": 132,
     "metadata": {},
     "output_type": "execute_result"
    }
   ],
   "source": [
    "food + more_food"
   ]
  },
  {
   "cell_type": "markdown",
   "id": "3bfbe8c5",
   "metadata": {},
   "source": [
    "Note that the list join above does not impact the contents of either list."
   ]
  },
  {
   "cell_type": "code",
   "execution_count": 133,
   "id": "56be551f",
   "metadata": {},
   "outputs": [
    {
     "data": {
      "text/plain": [
       "['bananas', 'bread', 'milk']"
      ]
     },
     "execution_count": 133,
     "metadata": {},
     "output_type": "execute_result"
    }
   ],
   "source": [
    "food"
   ]
  },
  {
   "cell_type": "markdown",
   "id": "c4dc1b0d",
   "metadata": {},
   "source": [
    "You can join lists and update the original list to reflect the new contents after joining like this:"
   ]
  },
  {
   "cell_type": "code",
   "execution_count": 134,
   "id": "d352581b",
   "metadata": {},
   "outputs": [],
   "source": [
    "food = food + more_food"
   ]
  },
  {
   "cell_type": "code",
   "execution_count": 135,
   "id": "43472b1e",
   "metadata": {},
   "outputs": [
    {
     "data": {
      "text/plain": [
       "['bananas', 'bread', 'milk', 'kiwi', 'orange', 'lemon', 'grapefruit']"
      ]
     },
     "execution_count": 135,
     "metadata": {},
     "output_type": "execute_result"
    }
   ],
   "source": [
    "food"
   ]
  },
  {
   "cell_type": "markdown",
   "id": "982c8053",
   "metadata": {},
   "source": [
    "### Clear all items from a list"
   ]
  },
  {
   "cell_type": "markdown",
   "id": "eae85ef6",
   "metadata": {},
   "source": [
    "The `clear()` method removes all the items from a list."
   ]
  },
  {
   "cell_type": "code",
   "execution_count": 136,
   "id": "f3b2a9c8",
   "metadata": {},
   "outputs": [],
   "source": [
    "food.clear()"
   ]
  },
  {
   "cell_type": "code",
   "execution_count": 137,
   "id": "da5d8215",
   "metadata": {},
   "outputs": [
    {
     "data": {
      "text/plain": [
       "[]"
      ]
     },
     "execution_count": 137,
     "metadata": {},
     "output_type": "execute_result"
    }
   ],
   "source": [
    "# The list is now empty\n",
    "food"
   ]
  },
  {
   "cell_type": "markdown",
   "id": "127cfb7d",
   "metadata": {
    "tags": [],
    "toc-hr-collapsed": true
   },
   "source": [
    "## Dictionaries"
   ]
  },
  {
   "cell_type": "markdown",
   "id": "442b8670",
   "metadata": {},
   "source": [
    "Dictionaries are used to store data values in key : value pairs\n",
    "\n",
    "Dictionaries are written with curly brackets, and have keys and values"
   ]
  },
  {
   "cell_type": "code",
   "execution_count": 138,
   "id": "f7d85b3d",
   "metadata": {},
   "outputs": [],
   "source": [
    "prices = {\n",
    "    'eggs': 3.50, \n",
    "    'bananas': 0.80,\n",
    "    'spinach': 4.00,\n",
    "    'milk': 2.00, \n",
    "    'bread': 2.00\n",
    "}"
   ]
  },
  {
   "cell_type": "code",
   "execution_count": 139,
   "id": "bb8c2e88",
   "metadata": {},
   "outputs": [
    {
     "data": {
      "text/plain": [
       "dict"
      ]
     },
     "execution_count": 139,
     "metadata": {},
     "output_type": "execute_result"
    }
   ],
   "source": [
    "type(prices)"
   ]
  },
  {
   "cell_type": "markdown",
   "id": "09befd7d",
   "metadata": {},
   "source": [
    "### Accessing items in a dictionary"
   ]
  },
  {
   "cell_type": "markdown",
   "id": "4ff35272",
   "metadata": {},
   "source": [
    "Retrieve the value associated with they key `eggs`:"
   ]
  },
  {
   "cell_type": "code",
   "execution_count": 140,
   "id": "a5b04e27",
   "metadata": {},
   "outputs": [
    {
     "data": {
      "text/plain": [
       "3.5"
      ]
     },
     "execution_count": 140,
     "metadata": {},
     "output_type": "execute_result"
    }
   ],
   "source": [
    "prices['eggs']"
   ]
  },
  {
   "cell_type": "markdown",
   "id": "3fe4cff7",
   "metadata": {},
   "source": [
    "Retrieve the value associated with they key `bananas`:"
   ]
  },
  {
   "cell_type": "code",
   "execution_count": 141,
   "id": "6f6c91a0",
   "metadata": {},
   "outputs": [
    {
     "data": {
      "text/plain": [
       "0.8"
      ]
     },
     "execution_count": 141,
     "metadata": {},
     "output_type": "execute_result"
    }
   ],
   "source": [
    "prices['bananas']"
   ]
  },
  {
   "cell_type": "markdown",
   "id": "704903d3",
   "metadata": {},
   "source": [
    "View all of the keys in this dictionary."
   ]
  },
  {
   "cell_type": "code",
   "execution_count": 142,
   "id": "1e03b522",
   "metadata": {},
   "outputs": [
    {
     "data": {
      "text/plain": [
       "dict_keys(['eggs', 'bananas', 'spinach', 'milk', 'bread'])"
      ]
     },
     "execution_count": 142,
     "metadata": {},
     "output_type": "execute_result"
    }
   ],
   "source": [
    "prices.keys()"
   ]
  },
  {
   "cell_type": "markdown",
   "id": "adaab9b9",
   "metadata": {},
   "source": [
    "View all of the values in this dictionary."
   ]
  },
  {
   "cell_type": "code",
   "execution_count": 143,
   "id": "cc556ec0",
   "metadata": {},
   "outputs": [
    {
     "data": {
      "text/plain": [
       "dict_values([3.5, 0.8, 4.0, 2.0, 2.0])"
      ]
     },
     "execution_count": 143,
     "metadata": {},
     "output_type": "execute_result"
    }
   ],
   "source": [
    "prices.values()"
   ]
  },
  {
   "cell_type": "markdown",
   "id": "31417d2a",
   "metadata": {},
   "source": [
    "### Checking for membership within a dictionary"
   ]
  },
  {
   "cell_type": "markdown",
   "id": "b96e30d9",
   "metadata": {},
   "source": [
    "Is `eggs` in this dict?"
   ]
  },
  {
   "cell_type": "code",
   "execution_count": 144,
   "id": "ca22b549",
   "metadata": {},
   "outputs": [
    {
     "data": {
      "text/plain": [
       "True"
      ]
     },
     "execution_count": 144,
     "metadata": {},
     "output_type": "execute_result"
    }
   ],
   "source": [
    "'eggs' in prices"
   ]
  },
  {
   "cell_type": "markdown",
   "id": "934c9945",
   "metadata": {},
   "source": [
    "Is `tomatoes` in this dict?"
   ]
  },
  {
   "cell_type": "code",
   "execution_count": 145,
   "id": "b08695c2",
   "metadata": {},
   "outputs": [
    {
     "data": {
      "text/plain": [
       "False"
      ]
     },
     "execution_count": 145,
     "metadata": {},
     "output_type": "execute_result"
    }
   ],
   "source": [
    "'tomatoes' in prices"
   ]
  },
  {
   "cell_type": "markdown",
   "id": "fd630643",
   "metadata": {},
   "source": [
    "### Changing items in a dictionary"
   ]
  },
  {
   "cell_type": "markdown",
   "id": "323d1059",
   "metadata": {},
   "source": [
    "You can change the value of a specific item by referring to its key name."
   ]
  },
  {
   "cell_type": "code",
   "execution_count": 146,
   "id": "6a4fb2fc",
   "metadata": {},
   "outputs": [
    {
     "data": {
      "text/plain": [
       "{'eggs': 3.5, 'bananas': 0.8, 'spinach': 4.0, 'milk': 2.0, 'bread': 2.0}"
      ]
     },
     "execution_count": 146,
     "metadata": {},
     "output_type": "execute_result"
    }
   ],
   "source": [
    "prices"
   ]
  },
  {
   "cell_type": "code",
   "execution_count": 147,
   "id": "a1adeda0",
   "metadata": {},
   "outputs": [],
   "source": [
    "prices['bananas'] = 1.0"
   ]
  },
  {
   "cell_type": "code",
   "execution_count": 148,
   "id": "1f61288c",
   "metadata": {},
   "outputs": [
    {
     "data": {
      "text/plain": [
       "{'eggs': 3.5, 'bananas': 1.0, 'spinach': 4.0, 'milk': 2.0, 'bread': 2.0}"
      ]
     },
     "execution_count": 148,
     "metadata": {},
     "output_type": "execute_result"
    }
   ],
   "source": [
    "prices"
   ]
  },
  {
   "cell_type": "markdown",
   "id": "032a6d55",
   "metadata": {},
   "source": [
    "You can also use the `update()` method to change items in a dictionary with the items from the given argument."
   ]
  },
  {
   "cell_type": "code",
   "execution_count": 149,
   "id": "112f91f2",
   "metadata": {},
   "outputs": [],
   "source": [
    "prices.update({\"bread\": 4.0})"
   ]
  },
  {
   "cell_type": "code",
   "execution_count": 150,
   "id": "e1bff9c4",
   "metadata": {},
   "outputs": [
    {
     "data": {
      "text/plain": [
       "{'eggs': 3.5, 'bananas': 1.0, 'spinach': 4.0, 'milk': 2.0, 'bread': 4.0}"
      ]
     },
     "execution_count": 150,
     "metadata": {},
     "output_type": "execute_result"
    }
   ],
   "source": [
    "prices"
   ]
  },
  {
   "cell_type": "markdown",
   "id": "a0d2aa85",
   "metadata": {},
   "source": [
    "### Adding items to a dictionary"
   ]
  },
  {
   "cell_type": "markdown",
   "id": "fa2215d8",
   "metadata": {},
   "source": [
    "You can add an item to a dictionary by referring to its key name."
   ]
  },
  {
   "cell_type": "code",
   "execution_count": 151,
   "id": "0a763d8f",
   "metadata": {},
   "outputs": [
    {
     "data": {
      "text/plain": [
       "{'eggs': 3.5, 'bananas': 1.0, 'spinach': 4.0, 'milk': 2.0, 'bread': 4.0}"
      ]
     },
     "execution_count": 151,
     "metadata": {},
     "output_type": "execute_result"
    }
   ],
   "source": [
    "prices"
   ]
  },
  {
   "cell_type": "code",
   "execution_count": 152,
   "id": "39f52fc1",
   "metadata": {},
   "outputs": [],
   "source": [
    "prices['onion'] = 1.20"
   ]
  },
  {
   "cell_type": "code",
   "execution_count": 153,
   "id": "03b64e1a",
   "metadata": {},
   "outputs": [
    {
     "data": {
      "text/plain": [
       "{'eggs': 3.5,\n",
       " 'bananas': 1.0,\n",
       " 'spinach': 4.0,\n",
       " 'milk': 2.0,\n",
       " 'bread': 4.0,\n",
       " 'onion': 1.2}"
      ]
     },
     "execution_count": 153,
     "metadata": {},
     "output_type": "execute_result"
    }
   ],
   "source": [
    "prices"
   ]
  },
  {
   "cell_type": "markdown",
   "id": "732a20fc",
   "metadata": {},
   "source": [
    "### Removing items from a dictionary"
   ]
  },
  {
   "cell_type": "markdown",
   "id": "eca2232e",
   "metadata": {},
   "source": [
    "There are several methods to remove items from a dictionary.\n",
    "\n",
    "The `pop()` method removes the item with the specified key name. Note that `pop()` returns the value that is removed."
   ]
  },
  {
   "cell_type": "code",
   "execution_count": 154,
   "id": "ff207436",
   "metadata": {},
   "outputs": [
    {
     "data": {
      "text/plain": [
       "3.5"
      ]
     },
     "execution_count": 154,
     "metadata": {},
     "output_type": "execute_result"
    }
   ],
   "source": [
    "prices.pop('eggs')"
   ]
  },
  {
   "cell_type": "code",
   "execution_count": 155,
   "id": "2e3bfa1f",
   "metadata": {},
   "outputs": [
    {
     "data": {
      "text/plain": [
       "{'bananas': 1.0, 'spinach': 4.0, 'milk': 2.0, 'bread': 4.0, 'onion': 1.2}"
      ]
     },
     "execution_count": 155,
     "metadata": {},
     "output_type": "execute_result"
    }
   ],
   "source": [
    "prices"
   ]
  },
  {
   "cell_type": "markdown",
   "id": "b50fa172",
   "metadata": {},
   "source": [
    "Alternately, you can use the `del` keyword to delete an item by specified key name. Unlike `pop()`, `del` does not return the value."
   ]
  },
  {
   "cell_type": "code",
   "execution_count": 156,
   "id": "bbfeb377",
   "metadata": {},
   "outputs": [],
   "source": [
    "del prices['spinach']"
   ]
  },
  {
   "cell_type": "code",
   "execution_count": 157,
   "id": "ca3c77b9",
   "metadata": {},
   "outputs": [
    {
     "data": {
      "text/plain": [
       "{'bananas': 1.0, 'milk': 2.0, 'bread': 4.0, 'onion': 1.2}"
      ]
     },
     "execution_count": 157,
     "metadata": {},
     "output_type": "execute_result"
    }
   ],
   "source": [
    "prices"
   ]
  },
  {
   "cell_type": "markdown",
   "id": "3b2d194c",
   "metadata": {},
   "source": [
    "### Make a copy of a dictionary"
   ]
  },
  {
   "cell_type": "markdown",
   "id": "18ce0f6f",
   "metadata": {},
   "source": [
    "Similar to lists, you can make a copy of a dictionary with `.copy()`"
   ]
  },
  {
   "cell_type": "code",
   "execution_count": 158,
   "id": "f1f07571",
   "metadata": {},
   "outputs": [],
   "source": [
    "prices_copy = prices.copy()"
   ]
  },
  {
   "cell_type": "code",
   "execution_count": 159,
   "id": "e719e7d0",
   "metadata": {},
   "outputs": [
    {
     "data": {
      "text/plain": [
       "{'bananas': 1.0, 'milk': 2.0, 'bread': 4.0, 'onion': 1.2}"
      ]
     },
     "execution_count": 159,
     "metadata": {},
     "output_type": "execute_result"
    }
   ],
   "source": [
    "prices_copy"
   ]
  },
  {
   "cell_type": "markdown",
   "id": "9a73e17c",
   "metadata": {},
   "source": [
    "### `zip()` function"
   ]
  },
  {
   "cell_type": "markdown",
   "id": "4514c013",
   "metadata": {},
   "source": [
    "You may need to merge two lists into a dictionary. This can be done with the `zip()` function.\n",
    "\n",
    "`zip()` takes a list of keys, and a list of values, and merges them together to form a dictionary."
   ]
  },
  {
   "cell_type": "code",
   "execution_count": 160,
   "id": "f3a6544d",
   "metadata": {},
   "outputs": [],
   "source": [
    "keys = ['a', 'b', 'c', 'd']\n",
    "values = [0, 1, 2, 3]\n",
    "\n",
    "# zip the two lists together\n",
    "# and construct a dictionary\n",
    "new_dict = dict(zip(keys, values))"
   ]
  },
  {
   "cell_type": "code",
   "execution_count": 161,
   "id": "33e9f903",
   "metadata": {},
   "outputs": [
    {
     "data": {
      "text/plain": [
       "{'a': 0, 'b': 1, 'c': 2, 'd': 3}"
      ]
     },
     "execution_count": 161,
     "metadata": {},
     "output_type": "execute_result"
    }
   ],
   "source": [
    "new_dict"
   ]
  },
  {
   "cell_type": "markdown",
   "id": "a145e3d3",
   "metadata": {
    "toc-hr-collapsed": true
   },
   "source": [
    "## Sets"
   ]
  },
  {
   "cell_type": "markdown",
   "id": "ee5f4ef5",
   "metadata": {},
   "source": [
    "Sets are used to store unique items in a single variable. When using a set, all of its elements must be unique."
   ]
  },
  {
   "cell_type": "code",
   "execution_count": 162,
   "id": "0032210d",
   "metadata": {},
   "outputs": [
    {
     "data": {
      "text/plain": [
       "{'a', 'b', 'c'}"
      ]
     },
     "execution_count": 162,
     "metadata": {},
     "output_type": "execute_result"
    }
   ],
   "source": [
    "# Duplicates will be dropped from a set\n",
    "set1 = {\"a\", \"b\", \"c\", \"c\", \"c\"}\n",
    "set1"
   ]
  },
  {
   "cell_type": "markdown",
   "id": "6da3c18a",
   "metadata": {},
   "source": [
    "A set is a collection which is:\n",
    "- unordered\n",
    "- unchangeable\n",
    "- unindexed\n",
    "\n",
    "Set items are unchangeable, but you can remove items and add new items."
   ]
  },
  {
   "cell_type": "markdown",
   "id": "c56f705e",
   "metadata": {},
   "source": [
    "You *cannot* access items in a set by referring to an index or a key. Trying to do so throws an error."
   ]
  },
  {
   "cell_type": "code",
   "execution_count": 163,
   "id": "96750ccf",
   "metadata": {},
   "outputs": [
    {
     "ename": "TypeError",
     "evalue": "'set' object is not subscriptable",
     "output_type": "error",
     "traceback": [
      "\u001b[0;31m---------------------------------------------------------------------------\u001b[0m",
      "\u001b[0;31mTypeError\u001b[0m                                 Traceback (most recent call last)",
      "\u001b[0;32m<ipython-input-163-083958240061>\u001b[0m in \u001b[0;36m<module>\u001b[0;34m\u001b[0m\n\u001b[1;32m      1\u001b[0m \u001b[0;31m# Throws an error\u001b[0m\u001b[0;34m\u001b[0m\u001b[0;34m\u001b[0m\u001b[0;34m\u001b[0m\u001b[0m\n\u001b[0;32m----> 2\u001b[0;31m \u001b[0mset1\u001b[0m\u001b[0;34m[\u001b[0m\u001b[0;34m\"a\"\u001b[0m\u001b[0;34m]\u001b[0m\u001b[0;34m\u001b[0m\u001b[0;34m\u001b[0m\u001b[0m\n\u001b[0m",
      "\u001b[0;31mTypeError\u001b[0m: 'set' object is not subscriptable"
     ]
    }
   ],
   "source": [
    "# Throws an error\n",
    "set1[\"a\"]"
   ]
  },
  {
   "cell_type": "markdown",
   "id": "3c36184c",
   "metadata": {},
   "source": [
    "### Checking for membership within a set"
   ]
  },
  {
   "cell_type": "markdown",
   "id": "6e84ecfe",
   "metadata": {},
   "source": [
    "You can, however, check if an item is present in the set:"
   ]
  },
  {
   "cell_type": "code",
   "execution_count": 164,
   "id": "4d9c7124",
   "metadata": {},
   "outputs": [
    {
     "data": {
      "text/plain": [
       "True"
      ]
     },
     "execution_count": 164,
     "metadata": {},
     "output_type": "execute_result"
    }
   ],
   "source": [
    "\"a\" in set1"
   ]
  },
  {
   "cell_type": "markdown",
   "id": "b2e99c38",
   "metadata": {},
   "source": [
    "You can check the length of a set with `len()`."
   ]
  },
  {
   "cell_type": "code",
   "execution_count": 165,
   "id": "e06329ad",
   "metadata": {},
   "outputs": [
    {
     "data": {
      "text/plain": [
       "3"
      ]
     },
     "execution_count": 165,
     "metadata": {},
     "output_type": "execute_result"
    }
   ],
   "source": [
    "len(set1)"
   ]
  },
  {
   "cell_type": "markdown",
   "id": "ebb8c5ee",
   "metadata": {},
   "source": [
    "Sets can include any date type, and can even include a mix of data types."
   ]
  },
  {
   "cell_type": "code",
   "execution_count": 166,
   "id": "f78eeb4c",
   "metadata": {},
   "outputs": [],
   "source": [
    "set2 = {\"abc\", 34, True, 40, \"male\"}"
   ]
  },
  {
   "cell_type": "code",
   "execution_count": 167,
   "id": "2080db6f",
   "metadata": {},
   "outputs": [
    {
     "data": {
      "text/plain": [
       "{34, 40, True, 'abc', 'male'}"
      ]
     },
     "execution_count": 167,
     "metadata": {},
     "output_type": "execute_result"
    }
   ],
   "source": [
    "set2"
   ]
  },
  {
   "cell_type": "markdown",
   "id": "2ca2e169",
   "metadata": {},
   "source": [
    "### Adding items to a set"
   ]
  },
  {
   "cell_type": "markdown",
   "id": "e36fce78",
   "metadata": {},
   "source": [
    "You can add items to a set with `add()`"
   ]
  },
  {
   "cell_type": "code",
   "execution_count": 168,
   "id": "3ca8cb65",
   "metadata": {},
   "outputs": [],
   "source": [
    "set1 = {\"apple\", \"banana\", \"cherry\"}\n",
    "set1.add(\"orange\")"
   ]
  },
  {
   "cell_type": "code",
   "execution_count": 169,
   "id": "43711f5d",
   "metadata": {},
   "outputs": [
    {
     "data": {
      "text/plain": [
       "{'apple', 'banana', 'cherry', 'orange'}"
      ]
     },
     "execution_count": 169,
     "metadata": {},
     "output_type": "execute_result"
    }
   ],
   "source": [
    "set1"
   ]
  },
  {
   "cell_type": "markdown",
   "id": "70f2f886",
   "metadata": {},
   "source": [
    "### Adding one set to another set"
   ]
  },
  {
   "cell_type": "markdown",
   "id": "2264d59d",
   "metadata": {},
   "source": [
    "You can add items from one set to another with `update()`."
   ]
  },
  {
   "cell_type": "code",
   "execution_count": 170,
   "id": "a9da411e",
   "metadata": {},
   "outputs": [],
   "source": [
    "set1 = {\"apple\", \"banana\", \"cherry\"}\n",
    "set2 = {\"pineapple\", \"mango\", \"papaya\"}\n",
    "\n",
    "set1.update(set2)"
   ]
  },
  {
   "cell_type": "code",
   "execution_count": 171,
   "id": "ce16513c",
   "metadata": {},
   "outputs": [
    {
     "data": {
      "text/plain": [
       "{'apple', 'banana', 'cherry', 'mango', 'papaya', 'pineapple'}"
      ]
     },
     "execution_count": 171,
     "metadata": {},
     "output_type": "execute_result"
    }
   ],
   "source": [
    "set1"
   ]
  },
  {
   "cell_type": "markdown",
   "id": "0e3adc05",
   "metadata": {},
   "source": [
    "The second object in the `update()` method does not have to be a set, it can be any iterable object (tuples, lists, dictionaries etc.)"
   ]
  },
  {
   "cell_type": "code",
   "execution_count": 172,
   "id": "20de8a7f",
   "metadata": {},
   "outputs": [],
   "source": [
    "set1 = {\"apple\", \"banana\", \"cherry\"}\n",
    "list1 = [\"kiwi\", \"orange\"]\n",
    "\n",
    "set1.update(list1)"
   ]
  },
  {
   "cell_type": "code",
   "execution_count": 173,
   "id": "4f40f2d5",
   "metadata": {},
   "outputs": [
    {
     "data": {
      "text/plain": [
       "{'apple', 'banana', 'cherry', 'kiwi', 'orange'}"
      ]
     },
     "execution_count": 173,
     "metadata": {},
     "output_type": "execute_result"
    }
   ],
   "source": [
    "set1"
   ]
  },
  {
   "cell_type": "markdown",
   "id": "b77dc01a",
   "metadata": {},
   "source": [
    "### Joining two sets with `union()`"
   ]
  },
  {
   "cell_type": "markdown",
   "id": "8d773931",
   "metadata": {},
   "source": [
    "You can use the `union()` method tor return a new set containing all items from both sets."
   ]
  },
  {
   "cell_type": "code",
   "execution_count": 174,
   "id": "c86767c9",
   "metadata": {},
   "outputs": [],
   "source": [
    "set1 = {\"a\", \"b\" , \"c\"}\n",
    "set2 = {1, 2, 3}\n",
    "set3 = set1.union(set2)"
   ]
  },
  {
   "cell_type": "code",
   "execution_count": 175,
   "id": "fbe95fb6",
   "metadata": {},
   "outputs": [
    {
     "data": {
      "text/plain": [
       "{1, 2, 3, 'a', 'b', 'c'}"
      ]
     },
     "execution_count": 175,
     "metadata": {},
     "output_type": "execute_result"
    }
   ],
   "source": [
    "set3"
   ]
  },
  {
   "cell_type": "markdown",
   "id": "f823e2c8",
   "metadata": {},
   "source": [
    "### Joining two sets with `intersection()`"
   ]
  },
  {
   "cell_type": "markdown",
   "id": "1fdd2454",
   "metadata": {},
   "source": [
    "The `intersection()` method will return a new set that only contains the items that are present in both sets."
   ]
  },
  {
   "cell_type": "code",
   "execution_count": 176,
   "id": "d95b34bc",
   "metadata": {},
   "outputs": [],
   "source": [
    "x = {\"apple\", \"banana\", \"cherry\"}\n",
    "y = {\"google\", \"microsoft\", \"apple\"}\n",
    "\n",
    "z = x.intersection(y) "
   ]
  },
  {
   "cell_type": "code",
   "execution_count": 177,
   "id": "fbdf9c1e",
   "metadata": {},
   "outputs": [
    {
     "data": {
      "text/plain": [
       "{'apple'}"
      ]
     },
     "execution_count": 177,
     "metadata": {},
     "output_type": "execute_result"
    }
   ],
   "source": [
    "z"
   ]
  },
  {
   "cell_type": "markdown",
   "id": "0b4f3d4f",
   "metadata": {},
   "source": [
    "### Joining two sets with `symmetric_difference()`"
   ]
  },
  {
   "cell_type": "code",
   "execution_count": 178,
   "id": "8aeef5c8",
   "metadata": {},
   "outputs": [],
   "source": [
    "x = {\"apple\", \"banana\", \"cherry\"}\n",
    "y = {\"google\", \"microsoft\", \"apple\"}\n",
    "\n",
    "z = x.symmetric_difference(y)"
   ]
  },
  {
   "cell_type": "code",
   "execution_count": 179,
   "id": "cc8d40fd",
   "metadata": {},
   "outputs": [
    {
     "data": {
      "text/plain": [
       "{'banana', 'cherry', 'google', 'microsoft'}"
      ]
     },
     "execution_count": 179,
     "metadata": {},
     "output_type": "execute_result"
    }
   ],
   "source": [
    "z"
   ]
  },
  {
   "cell_type": "markdown",
   "id": "ae04823c",
   "metadata": {
    "tags": [],
    "toc-hr-collapsed": true
   },
   "source": [
    "# If / Else Statements"
   ]
  },
  {
   "cell_type": "markdown",
   "id": "b10b341d",
   "metadata": {},
   "source": [
    "In computer science, control flow is the order in which individual statements, instructions or function calls of an imperative program are executed. A set of statements executed as a group is often called a block."
   ]
  },
  {
   "cell_type": "markdown",
   "id": "a8790510",
   "metadata": {},
   "source": [
    "The first Python control structure we will learn is the \"if statement\". \n",
    "\n",
    "The \"if statement\" is a decision-making statement that guides a program to make decisions based on whether a provided condition is True of False. \n",
    "\n",
    "An \"if statement\" is written by using the `if` keyword."
   ]
  },
  {
   "cell_type": "markdown",
   "id": "3a5d68f4",
   "metadata": {},
   "source": [
    "## Indentation"
   ]
  },
  {
   "cell_type": "markdown",
   "id": "40065683",
   "metadata": {},
   "source": [
    "Python is unique in that it relies on indentation (whitespace at the beginning of a line) to define scope in the code."
   ]
  },
  {
   "cell_type": "markdown",
   "id": "27230984",
   "metadata": {},
   "source": [
    "## The `if` keyword"
   ]
  },
  {
   "cell_type": "markdown",
   "id": "010eb3c8",
   "metadata": {},
   "source": [
    "Use an if statement to execute indented code only if some condition is true."
   ]
  },
  {
   "cell_type": "code",
   "execution_count": 180,
   "id": "ded0583f",
   "metadata": {},
   "outputs": [
    {
     "name": "stdout",
     "output_type": "stream",
     "text": [
      "9 is less than 10\n"
     ]
    }
   ],
   "source": [
    "x = 9\n",
    "if x < 10:\n",
    "    # Code block following the if must be indented\n",
    "    print(str(x) + \" is less than 10\")"
   ]
  },
  {
   "cell_type": "markdown",
   "id": "7c0b2387",
   "metadata": {},
   "source": [
    "You can chain conditions together with and/or group conditions with parentheses for readibility."
   ]
  },
  {
   "cell_type": "code",
   "execution_count": 181,
   "id": "a21683a6",
   "metadata": {},
   "outputs": [
    {
     "name": "stdout",
     "output_type": "stream",
     "text": [
      "x is between 3 and 6\n"
     ]
    }
   ],
   "source": [
    "x = 3.5\n",
    "if (x >= 3) and (x <= 6):\n",
    "    print(\"x is between 3 and 6\")"
   ]
  },
  {
   "cell_type": "markdown",
   "id": "ed758b4c",
   "metadata": {},
   "source": [
    "## The `else` keyword"
   ]
  },
  {
   "cell_type": "markdown",
   "id": "1405bc35",
   "metadata": {},
   "source": [
    "If / Else statements allow us to write branching conditional statements of the form: “If X then do Y, otherwise do Z”."
   ]
  },
  {
   "cell_type": "code",
   "execution_count": 182,
   "id": "8393de36",
   "metadata": {},
   "outputs": [
    {
     "name": "stdout",
     "output_type": "stream",
     "text": [
      "Yes\n"
     ]
    }
   ],
   "source": [
    "# if/else statement to handle different branches of execution\n",
    "sentence = \"Today is Wednesday.\"\n",
    "if \"Wed\" in sentence:\n",
    "    print(\"Yes\")\n",
    "else:\n",
    "    print(\"No\")"
   ]
  },
  {
   "cell_type": "markdown",
   "id": "c74e275f",
   "metadata": {},
   "source": [
    "## The `elif` keyword\n",
    "\n",
    "The `elif` keyword is pythons way of saying \"if the previous conditions were not true, then try this condition\"."
   ]
  },
  {
   "cell_type": "markdown",
   "id": "c4c314b3",
   "metadata": {},
   "source": [
    "If the first if statement evaluates to false, `elif` (i.e., \"else if\") executes a code block if its condition is true.\n",
    "\n",
    "`else` executes a code block if no preceding block evaluated to true."
   ]
  },
  {
   "cell_type": "code",
   "execution_count": 183,
   "id": "1b32e566",
   "metadata": {},
   "outputs": [
    {
     "name": "stdout",
     "output_type": "stream",
     "text": [
      "x equals 10\n"
     ]
    }
   ],
   "source": [
    "x = 10\n",
    "if x < 10:\n",
    "    print(\"x is less than 10\")\n",
    "elif x == 10:\n",
    "    print(\"x equals 10\")\n",
    "else:\n",
    "    print(\"x is greater than 10\")"
   ]
  },
  {
   "cell_type": "markdown",
   "id": "d41b78f0",
   "metadata": {
    "toc-hr-collapsed": true
   },
   "source": [
    "# For Loops"
   ]
  },
  {
   "cell_type": "markdown",
   "id": "052e3ac0",
   "metadata": {},
   "source": [
    "Loops let us iterate over a container of elements, handling each element in sequence, one at a time."
   ]
  },
  {
   "cell_type": "markdown",
   "id": "e245d3d1",
   "metadata": {},
   "source": [
    "## Loop through a list"
   ]
  },
  {
   "cell_type": "code",
   "execution_count": 184,
   "id": "67e1ed99",
   "metadata": {},
   "outputs": [],
   "source": [
    "sentence = \"This is INFO 615\""
   ]
  },
  {
   "cell_type": "code",
   "execution_count": 185,
   "id": "145ab8e9",
   "metadata": {},
   "outputs": [
    {
     "name": "stdout",
     "output_type": "stream",
     "text": [
      "This\n",
      "is\n",
      "INFO\n",
      "615\n"
     ]
    }
   ],
   "source": [
    "# loop through list of words in string\n",
    "for word in sentence.split():\n",
    "    print(word)"
   ]
  },
  {
   "cell_type": "code",
   "execution_count": 186,
   "id": "c01c2b81",
   "metadata": {},
   "outputs": [
    {
     "name": "stdout",
     "output_type": "stream",
     "text": [
      "True\n",
      "True\n",
      "False\n",
      "False\n"
     ]
    }
   ],
   "source": [
    "for word in sentence.split():\n",
    "    print(\"s\" in word)"
   ]
  },
  {
   "cell_type": "markdown",
   "id": "5c4efb81",
   "metadata": {},
   "source": [
    "## Count with `enumerate()`"
   ]
  },
  {
   "cell_type": "code",
   "execution_count": 187,
   "id": "3596b776",
   "metadata": {},
   "outputs": [
    {
     "name": "stdout",
     "output_type": "stream",
     "text": [
      "0 T\n",
      "1 h\n",
      "2 i\n",
      "3 s\n",
      "4  \n",
      "5 i\n",
      "6 s\n",
      "7  \n",
      "8 I\n",
      "9 N\n",
      "10 F\n",
      "11 O\n",
      "12  \n",
      "13 6\n",
      "14 1\n",
      "15 5\n"
     ]
    }
   ],
   "source": [
    "# enumerate lets you loop through a list and count along\n",
    "# this function returns a tuple\n",
    "for count, letter in enumerate(sentence):\n",
    "    print(count, letter)"
   ]
  },
  {
   "cell_type": "markdown",
   "id": "ac5d2aa7",
   "metadata": {},
   "source": [
    "## The `range()` function"
   ]
  },
  {
   "cell_type": "markdown",
   "id": "0dd2bd4f",
   "metadata": {},
   "source": [
    "`range()` produces a range of integer values."
   ]
  },
  {
   "cell_type": "code",
   "execution_count": 188,
   "id": "120633f3",
   "metadata": {},
   "outputs": [
    {
     "data": {
      "text/plain": [
       "range(0, 9)"
      ]
     },
     "execution_count": 188,
     "metadata": {},
     "output_type": "execute_result"
    }
   ],
   "source": [
    "range(9)"
   ]
  },
  {
   "cell_type": "markdown",
   "id": "2b1714cf",
   "metadata": {},
   "source": [
    "Convert it to list to explicitly see what's in the range."
   ]
  },
  {
   "cell_type": "code",
   "execution_count": 189,
   "id": "9ef08708",
   "metadata": {},
   "outputs": [
    {
     "data": {
      "text/plain": [
       "[0, 1, 2, 3, 4, 5, 6, 7, 8]"
      ]
     },
     "execution_count": 189,
     "metadata": {},
     "output_type": "execute_result"
    }
   ],
   "source": [
    "list(range(9))"
   ]
  },
  {
   "cell_type": "markdown",
   "id": "d63e2ca7",
   "metadata": {},
   "source": [
    "You can loop through a range."
   ]
  },
  {
   "cell_type": "code",
   "execution_count": 190,
   "id": "c398a020",
   "metadata": {},
   "outputs": [
    {
     "name": "stdout",
     "output_type": "stream",
     "text": [
      "0 0\n",
      "1 1\n",
      "2 4\n",
      "3 9\n",
      "4 16\n",
      "5 25\n",
      "6 36\n",
      "7 49\n",
      "8 64\n"
     ]
    }
   ],
   "source": [
    "for x in range(9):\n",
    "    print(x, x ** 2)"
   ]
  },
  {
   "cell_type": "markdown",
   "id": "efa7c664",
   "metadata": {},
   "source": [
    "Because range goes up to but does **not** include the ending number, you must add 1 to include it."
   ]
  },
  {
   "cell_type": "code",
   "execution_count": 191,
   "id": "52a05d0f",
   "metadata": {},
   "outputs": [
    {
     "data": {
      "text/plain": [
       "[0, 1, 2, 3, 4, 5, 6, 7, 8, 9, 10]"
      ]
     },
     "execution_count": 191,
     "metadata": {},
     "output_type": "execute_result"
    }
   ],
   "source": [
    "n = 10\n",
    "list(range(n + 1))"
   ]
  },
  {
   "cell_type": "markdown",
   "id": "95c531f4",
   "metadata": {},
   "source": [
    "The `range()` function optionally takes start, end, and step arguments.\n",
    "\n",
    "Step sets the size of the increment used in range (default is a step value of 1)."
   ]
  },
  {
   "cell_type": "markdown",
   "id": "fb6f83c9",
   "metadata": {},
   "source": [
    "See what happens when you set the step value to 2."
   ]
  },
  {
   "cell_type": "code",
   "execution_count": 192,
   "id": "fae19e03",
   "metadata": {},
   "outputs": [
    {
     "data": {
      "text/plain": [
       "[10, 12, 14, 16, 18]"
      ]
     },
     "execution_count": 192,
     "metadata": {},
     "output_type": "execute_result"
    }
   ],
   "source": [
    "list(range(10, 20, 2))"
   ]
  },
  {
   "cell_type": "markdown",
   "id": "686e043f",
   "metadata": {},
   "source": [
    "## Practicing for loops"
   ]
  },
  {
   "cell_type": "markdown",
   "id": "dc1547ef",
   "metadata": {},
   "source": [
    "Now it's your turn. \n",
    "\n",
    "1) Loop through the numbers 1 through 15, using modulo to print 'even' if each is evenly divisible by 2, and 'odd' if not"
   ]
  },
  {
   "cell_type": "code",
   "execution_count": 193,
   "id": "44c707d1",
   "metadata": {},
   "outputs": [],
   "source": [
    "# Your code below\n"
   ]
  },
  {
   "cell_type": "markdown",
   "id": "2e5a20bd",
   "metadata": {},
   "source": [
    "2. Print out only the integers in the following list"
   ]
  },
  {
   "cell_type": "code",
   "execution_count": 194,
   "id": "a4c5269e",
   "metadata": {},
   "outputs": [],
   "source": [
    "my_list = [3.3, 19.75, 6, 3.3, 8]\n",
    "\n",
    "# Your code below"
   ]
  },
  {
   "cell_type": "markdown",
   "id": "914b059a",
   "metadata": {},
   "source": [
    "# While Loops"
   ]
  },
  {
   "cell_type": "markdown",
   "id": "2de2ad48",
   "metadata": {},
   "source": [
    "With the while loop we can execute a set of statements as long as a condition is True.\n",
    "\n",
    "**Warning**: If a condition continues to be True, the while loop will run forever in an infinite loop\n"
   ]
  },
  {
   "cell_type": "code",
   "execution_count": 195,
   "id": "9b61335f",
   "metadata": {},
   "outputs": [
    {
     "name": "stdout",
     "output_type": "stream",
     "text": [
      "5\n",
      "4\n",
      "3\n",
      "2\n",
      "1\n",
      "blast off!\n"
     ]
    }
   ],
   "source": [
    "# a while loop repeats as long as some condition is True\n",
    "# beware infinite loops!\n",
    "x = 5\n",
    "while x > 0:\n",
    "    print(x)\n",
    "    x = x - 1\n",
    "print(\"blast off!\")"
   ]
  },
  {
   "cell_type": "code",
   "execution_count": 196,
   "id": "218e1fe7",
   "metadata": {},
   "outputs": [
    {
     "data": {
      "text/plain": [
       "[1, 2, 3, 4, 5, 6, 7, 8, 9]"
      ]
     },
     "execution_count": 196,
     "metadata": {},
     "output_type": "execute_result"
    }
   ],
   "source": [
    "# add the numbers 1 through 9 to a list\n",
    "my_list = []\n",
    "x = 1\n",
    "while x <= 9:\n",
    "    my_list.append(x)\n",
    "    x = x + 1\n",
    "my_list"
   ]
  },
  {
   "cell_type": "markdown",
   "id": "c0af383f",
   "metadata": {
    "toc-hr-collapsed": true
   },
   "source": [
    "# Functions"
   ]
  },
  {
   "cell_type": "markdown",
   "id": "ff6a30a3",
   "metadata": {},
   "source": [
    "A function is a reusable block of code which only runs when it is called.\n",
    "\n",
    "You can pass data, known as parameters, into a function.\n",
    "\n",
    "A function can return data as a result.\n",
    "\n",
    "Like with for-loops, indentation matters. The block of code contained within a function must be indented."
   ]
  },
  {
   "cell_type": "code",
   "execution_count": 197,
   "id": "daa8e7c3",
   "metadata": {},
   "outputs": [],
   "source": [
    "def hello_world():\n",
    "    print(\"Hello, world!\")"
   ]
  },
  {
   "cell_type": "code",
   "execution_count": 198,
   "id": "a8433aed",
   "metadata": {},
   "outputs": [
    {
     "name": "stdout",
     "output_type": "stream",
     "text": [
      "Hello, world!\n"
     ]
    }
   ],
   "source": [
    "hello_world()"
   ]
  },
  {
   "cell_type": "markdown",
   "id": "db484a59",
   "metadata": {},
   "source": [
    "## Function arguments"
   ]
  },
  {
   "cell_type": "markdown",
   "id": "2817c4c1",
   "metadata": {},
   "source": [
    "Information can be passed into functions as arguments.\n",
    "\n",
    "Arguments are specified after the function name, inside the parentheses.\n",
    "\n",
    "You can add as many arguments as you want, just separate them with a comma.\n"
   ]
  },
  {
   "cell_type": "markdown",
   "id": "082413a4",
   "metadata": {},
   "source": [
    "Let's create a simple example function."
   ]
  },
  {
   "cell_type": "code",
   "execution_count": 199,
   "id": "311671e0",
   "metadata": {},
   "outputs": [],
   "source": [
    "def full_name(first_name, last_name):\n",
    "    print(first_name + \" \" + last_name)"
   ]
  },
  {
   "cell_type": "code",
   "execution_count": 200,
   "id": "66332151",
   "metadata": {},
   "outputs": [
    {
     "name": "stdout",
     "output_type": "stream",
     "text": [
      "Will Geary\n"
     ]
    }
   ],
   "source": [
    "full_name(\"Will\", \"Geary\")"
   ]
  },
  {
   "cell_type": "markdown",
   "id": "ca55827b",
   "metadata": {},
   "source": [
    "Let's create a more complicated function involving comparison operators and if/else statements."
   ]
  },
  {
   "cell_type": "code",
   "execution_count": 201,
   "id": "8fc4971b",
   "metadata": {},
   "outputs": [],
   "source": [
    "def my_function(value):\n",
    "    if value < 10:\n",
    "        print(value, \"is less than 10\")\n",
    "    elif value == 10:\n",
    "        print(value, \"equals 10\")\n",
    "    else:\n",
    "        print(value, \"is greater than 10\")"
   ]
  },
  {
   "cell_type": "code",
   "execution_count": 202,
   "id": "bbaef3ea",
   "metadata": {},
   "outputs": [
    {
     "name": "stdout",
     "output_type": "stream",
     "text": [
      "7 is less than 10\n"
     ]
    }
   ],
   "source": [
    "my_function(7)"
   ]
  },
  {
   "cell_type": "markdown",
   "id": "2b86335a",
   "metadata": {},
   "source": [
    "## `print()` versus `return`"
   ]
  },
  {
   "cell_type": "markdown",
   "id": "c98ee5ac",
   "metadata": {},
   "source": [
    "As we have seen, we can use `print()` to print something to the console."
   ]
  },
  {
   "cell_type": "code",
   "execution_count": 203,
   "id": "39436161",
   "metadata": {},
   "outputs": [],
   "source": [
    "def my_function(x):\n",
    "    print(5 * x)"
   ]
  },
  {
   "cell_type": "code",
   "execution_count": 204,
   "id": "6e712a0c",
   "metadata": {},
   "outputs": [
    {
     "name": "stdout",
     "output_type": "stream",
     "text": [
      "50\n"
     ]
    }
   ],
   "source": [
    "my_function(10)"
   ]
  },
  {
   "cell_type": "markdown",
   "id": "b4787385",
   "metadata": {},
   "source": [
    "`print()` is useful as we are developing and debugging Python code. However, `print()` doesn't actually give us the value itself.\n",
    "\n",
    "For example:"
   ]
  },
  {
   "cell_type": "code",
   "execution_count": 205,
   "id": "82a8248e",
   "metadata": {},
   "outputs": [
    {
     "name": "stdout",
     "output_type": "stream",
     "text": [
      "50\n"
     ]
    }
   ],
   "source": [
    "result = my_function(10)"
   ]
  },
  {
   "cell_type": "markdown",
   "id": "6ffa78fa",
   "metadata": {},
   "source": [
    "See what's in the result variable:"
   ]
  },
  {
   "cell_type": "code",
   "execution_count": 206,
   "id": "12b469b0",
   "metadata": {},
   "outputs": [],
   "source": [
    "result"
   ]
  },
  {
   "cell_type": "markdown",
   "id": "bb0c5fae",
   "metadata": {},
   "source": [
    "The result variable doesn't contain anything!"
   ]
  },
  {
   "cell_type": "code",
   "execution_count": 207,
   "id": "8d4bdba3",
   "metadata": {},
   "outputs": [
    {
     "data": {
      "text/plain": [
       "NoneType"
      ]
     },
     "execution_count": 207,
     "metadata": {},
     "output_type": "execute_result"
    }
   ],
   "source": [
    "type(result)"
   ]
  },
  {
   "cell_type": "markdown",
   "id": "9d51c3a5",
   "metadata": {},
   "source": [
    "In order to actually get the result of a function, use `return` rather than `print`.\n",
    "\n",
    "`return` causes the function to exit, so it must be the very last line of a function.\n",
    "\n",
    "Note that `return` does not use parenthesis like `print()` does."
   ]
  },
  {
   "cell_type": "code",
   "execution_count": 208,
   "id": "7f804d39",
   "metadata": {},
   "outputs": [],
   "source": [
    "def another_function(x):\n",
    "    # Use return instead of print\n",
    "    return 5 * x"
   ]
  },
  {
   "cell_type": "code",
   "execution_count": 209,
   "id": "5ac093ba",
   "metadata": {},
   "outputs": [],
   "source": [
    "result = another_function(10)"
   ]
  },
  {
   "cell_type": "markdown",
   "id": "4b5d186a",
   "metadata": {},
   "source": [
    "Now the result variable actually stores the value."
   ]
  },
  {
   "cell_type": "code",
   "execution_count": 210,
   "id": "ae37fc42",
   "metadata": {},
   "outputs": [
    {
     "data": {
      "text/plain": [
       "50"
      ]
     },
     "execution_count": 210,
     "metadata": {},
     "output_type": "execute_result"
    }
   ],
   "source": [
    "result"
   ]
  },
  {
   "cell_type": "markdown",
   "id": "921311be",
   "metadata": {},
   "source": [
    "## Call one function inside another"
   ]
  },
  {
   "cell_type": "markdown",
   "id": "f0cfb4a0",
   "metadata": {},
   "source": [
    "We can use one function inside another."
   ]
  },
  {
   "cell_type": "code",
   "execution_count": 211,
   "id": "3e5369d5",
   "metadata": {},
   "outputs": [],
   "source": [
    "def square(x):\n",
    "    return x**2"
   ]
  },
  {
   "cell_type": "code",
   "execution_count": 212,
   "id": "465ee430",
   "metadata": {},
   "outputs": [],
   "source": [
    "def square_and_divide_by(x, n):\n",
    "    res1 = square(x)\n",
    "    output = res1 / n\n",
    "    return output"
   ]
  },
  {
   "cell_type": "code",
   "execution_count": 213,
   "id": "5211cbad",
   "metadata": {},
   "outputs": [
    {
     "data": {
      "text/plain": [
       "40.5"
      ]
     },
     "execution_count": 213,
     "metadata": {},
     "output_type": "execute_result"
    }
   ],
   "source": [
    "square_and_divide_by(9, 2)"
   ]
  },
  {
   "cell_type": "markdown",
   "id": "7f80dd26",
   "metadata": {
    "toc-hr-collapsed": true
   },
   "source": [
    "# Exercises\n",
    "\n",
    "## Decompose an Address"
   ]
  },
  {
   "cell_type": "markdown",
   "id": "7ddc13f6",
   "metadata": {},
   "source": [
    "Let's say we have a bunch of street address locations and the data is a bit messy. Some addresses contain zip codes within the text, some don't. Let's write a function that will search for a zip code in a piece of text."
   ]
  },
  {
   "cell_type": "markdown",
   "id": "d5e1784a",
   "metadata": {},
   "source": [
    "We know that a U.S. ZIP Codes are always five digits long. If we are working with addresses within the U.S., we can use this fact to search for a five digit long string at the end of an address. We need to be careful though, some addresses may have five digit or possibly even longer numbers at the beginning of the address. So we only want to look to the right of the last character of the address that is not numeric."
   ]
  },
  {
   "cell_type": "markdown",
   "id": "7c6a2f7a",
   "metadata": {},
   "source": [
    "In practice, we would use a geocoding tool to geocode an address. Just to give you a preview of how handy this is:"
   ]
  },
  {
   "cell_type": "code",
   "execution_count": 214,
   "id": "5b0bf41b",
   "metadata": {},
   "outputs": [],
   "source": [
    "from geopy.geocoders import Nominatim\n",
    "geolocator = Nominatim(user_agent=\"my_app\")"
   ]
  },
  {
   "cell_type": "code",
   "execution_count": 215,
   "id": "6b9e6ff9",
   "metadata": {},
   "outputs": [],
   "source": [
    "address = \"175 W 25th St New York, NY 10001\""
   ]
  },
  {
   "cell_type": "code",
   "execution_count": 216,
   "id": "fe3bc2a1",
   "metadata": {},
   "outputs": [],
   "source": [
    "result = geolocator.geocode(address)"
   ]
  },
  {
   "cell_type": "code",
   "execution_count": 217,
   "id": "87739162",
   "metadata": {},
   "outputs": [
    {
     "data": {
      "text/plain": [
       "Location(175, West 25th Street, Chelsea District, Manhattan, New York County, New York, 10001, United States, (40.74513124489796, -73.99388853061224, 0.0))"
      ]
     },
     "execution_count": 217,
     "metadata": {},
     "output_type": "execute_result"
    }
   ],
   "source": [
    "result"
   ]
  },
  {
   "cell_type": "code",
   "execution_count": 218,
   "id": "ad97ce6f",
   "metadata": {},
   "outputs": [
    {
     "data": {
      "text/plain": [
       "{'place_id': 292383544,\n",
       " 'licence': 'Data © OpenStreetMap contributors, ODbL 1.0. https://osm.org/copyright',\n",
       " 'osm_type': 'way',\n",
       " 'osm_id': 483704512,\n",
       " 'boundingbox': ['40.745081244898',\n",
       "  '40.745181244898',\n",
       "  '-73.993938530612',\n",
       "  '-73.993838530612'],\n",
       " 'lat': '40.74513124489796',\n",
       " 'lon': '-73.99388853061224',\n",
       " 'display_name': '175, West 25th Street, Chelsea District, Manhattan, New York County, New York, 10001, United States',\n",
       " 'class': 'place',\n",
       " 'type': 'house',\n",
       " 'importance': 0.721}"
      ]
     },
     "execution_count": 218,
     "metadata": {},
     "output_type": "execute_result"
    }
   ],
   "source": [
    "result.raw"
   ]
  },
  {
   "cell_type": "code",
   "execution_count": 219,
   "id": "575298b5",
   "metadata": {},
   "outputs": [
    {
     "data": {
      "text/plain": [
       "'10001'"
      ]
     },
     "execution_count": 219,
     "metadata": {},
     "output_type": "execute_result"
    }
   ],
   "source": [
    "result.raw['display_name'].split(\",\")[-2].strip()"
   ]
  },
  {
   "cell_type": "markdown",
   "id": "1a242fe7",
   "metadata": {},
   "source": [
    "However, let's ignore that for the time being as we acquire these skills."
   ]
  },
  {
   "cell_type": "markdown",
   "id": "ed662ac9",
   "metadata": {},
   "source": [
    "Use `split()` to break up the address on each space, and grab the last chunk."
   ]
  },
  {
   "cell_type": "code",
   "execution_count": 220,
   "id": "df4a206e",
   "metadata": {},
   "outputs": [],
   "source": [
    "last_chunk = address.split(\" \")[-1]"
   ]
  },
  {
   "cell_type": "code",
   "execution_count": 221,
   "id": "a19e06ff",
   "metadata": {},
   "outputs": [
    {
     "data": {
      "text/plain": [
       "'10001'"
      ]
     },
     "execution_count": 221,
     "metadata": {},
     "output_type": "execute_result"
    }
   ],
   "source": [
    "last_chunk"
   ]
  },
  {
   "cell_type": "code",
   "execution_count": 222,
   "id": "b06c4e3e",
   "metadata": {},
   "outputs": [
    {
     "data": {
      "text/plain": [
       "True"
      ]
     },
     "execution_count": 222,
     "metadata": {},
     "output_type": "execute_result"
    }
   ],
   "source": [
    "len(last_chunk) == 5"
   ]
  },
  {
   "cell_type": "code",
   "execution_count": 223,
   "id": "dd664dc5",
   "metadata": {},
   "outputs": [
    {
     "data": {
      "text/plain": [
       "True"
      ]
     },
     "execution_count": 223,
     "metadata": {},
     "output_type": "execute_result"
    }
   ],
   "source": [
    "last_chunk.isnumeric()"
   ]
  },
  {
   "cell_type": "markdown",
   "id": "596257ed",
   "metadata": {},
   "source": [
    "First, let's write a small function which returns True if a string is a five digit number, False otherwise:"
   ]
  },
  {
   "cell_type": "code",
   "execution_count": 224,
   "id": "f7e93fa9",
   "metadata": {},
   "outputs": [],
   "source": [
    "def could_be_a_zip_code(x):\n",
    "    if len(x) == 5 and x.isnumeric():\n",
    "        return True\n",
    "    else:\n",
    "        return False"
   ]
  },
  {
   "cell_type": "code",
   "execution_count": 225,
   "id": "5d07b1b0",
   "metadata": {},
   "outputs": [
    {
     "data": {
      "text/plain": [
       "True"
      ]
     },
     "execution_count": 225,
     "metadata": {},
     "output_type": "execute_result"
    }
   ],
   "source": [
    "could_be_a_zip_code('11225')"
   ]
  },
  {
   "cell_type": "markdown",
   "id": "b4953512",
   "metadata": {},
   "source": [
    "Try running the zip code on a integer:"
   ]
  },
  {
   "cell_type": "code",
   "execution_count": 226,
   "id": "68b28307",
   "metadata": {},
   "outputs": [
    {
     "ename": "TypeError",
     "evalue": "object of type 'int' has no len()",
     "output_type": "error",
     "traceback": [
      "\u001b[0;31m---------------------------------------------------------------------------\u001b[0m",
      "\u001b[0;31mTypeError\u001b[0m                                 Traceback (most recent call last)",
      "\u001b[0;32m<ipython-input-226-f772da3f12b8>\u001b[0m in \u001b[0;36m<module>\u001b[0;34m\u001b[0m\n\u001b[0;32m----> 1\u001b[0;31m \u001b[0mcould_be_a_zip_code\u001b[0m\u001b[0;34m(\u001b[0m\u001b[0;36m11225\u001b[0m\u001b[0;34m)\u001b[0m\u001b[0;34m\u001b[0m\u001b[0;34m\u001b[0m\u001b[0m\n\u001b[0m",
      "\u001b[0;32m<ipython-input-224-867856db22e8>\u001b[0m in \u001b[0;36mcould_be_a_zip_code\u001b[0;34m(x)\u001b[0m\n\u001b[1;32m      1\u001b[0m \u001b[0;32mdef\u001b[0m \u001b[0mcould_be_a_zip_code\u001b[0m\u001b[0;34m(\u001b[0m\u001b[0mx\u001b[0m\u001b[0;34m)\u001b[0m\u001b[0;34m:\u001b[0m\u001b[0;34m\u001b[0m\u001b[0;34m\u001b[0m\u001b[0m\n\u001b[0;32m----> 2\u001b[0;31m     \u001b[0;32mif\u001b[0m \u001b[0mlen\u001b[0m\u001b[0;34m(\u001b[0m\u001b[0mx\u001b[0m\u001b[0;34m)\u001b[0m \u001b[0;34m==\u001b[0m \u001b[0;36m5\u001b[0m \u001b[0;32mand\u001b[0m \u001b[0mx\u001b[0m\u001b[0;34m.\u001b[0m\u001b[0misnumeric\u001b[0m\u001b[0;34m(\u001b[0m\u001b[0;34m)\u001b[0m\u001b[0;34m:\u001b[0m\u001b[0;34m\u001b[0m\u001b[0;34m\u001b[0m\u001b[0m\n\u001b[0m\u001b[1;32m      3\u001b[0m         \u001b[0;32mreturn\u001b[0m \u001b[0;32mTrue\u001b[0m\u001b[0;34m\u001b[0m\u001b[0;34m\u001b[0m\u001b[0m\n\u001b[1;32m      4\u001b[0m     \u001b[0;32melse\u001b[0m\u001b[0;34m:\u001b[0m\u001b[0;34m\u001b[0m\u001b[0;34m\u001b[0m\u001b[0m\n\u001b[1;32m      5\u001b[0m         \u001b[0;32mreturn\u001b[0m \u001b[0;32mFalse\u001b[0m\u001b[0;34m\u001b[0m\u001b[0;34m\u001b[0m\u001b[0m\n",
      "\u001b[0;31mTypeError\u001b[0m: object of type 'int' has no len()"
     ]
    }
   ],
   "source": [
    "could_be_a_zip_code(11225)"
   ]
  },
  {
   "cell_type": "markdown",
   "id": "cee3786e",
   "metadata": {},
   "source": [
    "Why does this fail? How can we fix this issue in the function?"
   ]
  },
  {
   "cell_type": "code",
   "execution_count": 227,
   "id": "0ce6d327",
   "metadata": {},
   "outputs": [],
   "source": [
    "# Optional\n",
    "# Write an improved version of the function above\n",
    "# Which handles different data types"
   ]
  },
  {
   "cell_type": "markdown",
   "id": "25b545dd",
   "metadata": {},
   "source": [
    "Let's write an address cleaner function which plucks out the zip code and returns both the cleaned address and the zip code separately."
   ]
  },
  {
   "cell_type": "code",
   "execution_count": 228,
   "id": "d276a8fb",
   "metadata": {},
   "outputs": [],
   "source": [
    "def address_cleaner(address):\n",
    "    \n",
    "    # Initialize an output dictionary\n",
    "    # That we will populate with the results\n",
    "    # And return at the end of the function\n",
    "    output = {}\n",
    "    \n",
    "    # Get the last chunk of text\n",
    "    last_chunk = address.split(\" \")[-1]\n",
    "\n",
    "    # Use the function that we just created in the cell above\n",
    "    if could_be_a_zip_code(last_chunk):\n",
    "        \n",
    "        # Let's clean the address\n",
    "        # By replacing the zip zode characters\n",
    "        # in the input address with nothing\n",
    "        clean_address = address.replace(last_chunk,\"\")\n",
    "        \n",
    "        # Remove any remaining extra white space\n",
    "        clean_address = clean_address.strip()\n",
    "        \n",
    "        # Populate the output dictionary\n",
    "        output['zip_code'] = last_chunk\n",
    "        output['clean_address'] = clean_address\n",
    "        output['raw_address'] = address\n",
    "    \n",
    "    # If not, populate with output with None values\n",
    "    else:\n",
    "        output['zip_code'] = None\n",
    "        output['clean_address'] = None\n",
    "        output['raw_address'] = address\n",
    "\n",
    "    # Return the output    \n",
    "    return output"
   ]
  },
  {
   "cell_type": "code",
   "execution_count": 229,
   "id": "f44ee2f7",
   "metadata": {},
   "outputs": [],
   "source": [
    "results = address_cleaner(address)"
   ]
  },
  {
   "cell_type": "code",
   "execution_count": 230,
   "id": "75894551",
   "metadata": {},
   "outputs": [
    {
     "data": {
      "text/plain": [
       "{'zip_code': '10001',\n",
       " 'clean_address': '175 W 25th St New York, NY',\n",
       " 'raw_address': '175 W 25th St New York, NY 10001'}"
      ]
     },
     "execution_count": 230,
     "metadata": {},
     "output_type": "execute_result"
    }
   ],
   "source": [
    "results"
   ]
  }
 ],
 "metadata": {
  "kernelspec": {
   "display_name": "gis",
   "language": "python",
   "name": "gis"
  },
  "language_info": {
   "codemirror_mode": {
    "name": "ipython",
    "version": 3
   },
   "file_extension": ".py",
   "mimetype": "text/x-python",
   "name": "python",
   "nbconvert_exporter": "python",
   "pygments_lexer": "ipython3",
   "version": "3.8.12"
  },
  "toc-autonumbering": false,
  "toc-showmarkdowntxt": false
 },
 "nbformat": 4,
 "nbformat_minor": 5
}
